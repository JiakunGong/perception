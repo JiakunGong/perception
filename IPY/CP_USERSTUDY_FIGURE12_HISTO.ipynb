{
 "cells": [
  {
   "cell_type": "code",
   "execution_count": 1,
   "metadata": {},
   "outputs": [
    {
     "name": "stdout",
     "output_type": "stream",
     "text": [
      "Populating the interactive namespace from numpy and matplotlib\n"
     ]
    }
   ],
   "source": [
    "import cPickle as pickle\n",
    "%pylab inline"
   ]
  },
  {
   "cell_type": "code",
   "execution_count": 2,
   "metadata": {
    "collapsed": true
   },
   "outputs": [],
   "source": [
    "import os"
   ]
  },
  {
   "cell_type": "code",
   "execution_count": 3,
   "metadata": {
    "collapsed": true
   },
   "outputs": [],
   "source": [
    "import sklearn.metrics\n"
   ]
  },
  {
   "cell_type": "code",
   "execution_count": 4,
   "metadata": {
    "collapsed": true
   },
   "outputs": [],
   "source": [
    "def grab(which, values=1):\n",
    "\n",
    "#     which = 'bars'\n",
    "    # values = 2\n",
    "\n",
    "    RESULTS_DIR = '/n/regal/pfister_lab/PERCEPTION/CP_USERSTUDY/RESULTS/'\n",
    "    \n",
    "    results = [None]*13\n",
    "\n",
    "    with open(RESULTS_DIR + which + '.csv', 'r') as f:\n",
    "        lines = f.readlines()\n",
    "\n",
    "    rej_cnt = 0\n",
    "    for l in lines[1:]:\n",
    "        if l.find('Rejected') != -1:\n",
    "            rej_cnt += 1\n",
    "            continue\n",
    "        l_split = l.strip(\"\\r\\n\").split(',')\n",
    "#         print l_split\n",
    "#         print l_split[-1-values]\n",
    "        stimuli = int(l_split[-1 - values].split('/')[-1].split('.')[0])\n",
    "        answer = [int(l_split[-1 -x].strip('\\r\\n').strip('\"')) for x in range(values)]\n",
    "        answer.reverse()\n",
    "\n",
    "        if not results[stimuli]:\n",
    "            results[stimuli] = []\n",
    "        results[stimuli].append(answer)\n",
    "    #         print stimuli, answer\n",
    "\n",
    "#     print 'Rejected', rej_cnt\n",
    "    \n",
    "    return results\n",
    "\n",
    "def merge(a1, a2):\n",
    "    \n",
    "    results = []\n",
    "    for i,a in enumerate(a1):\n",
    "        \n",
    "         results.append(a1[i]+a2[i])\n",
    "            \n",
    "    assert len(results) == 13\n",
    "\n",
    "    return results\n",
    "\n",
    "def grabbygrab(which, values=1, GT_DIR='/n/regal/pfister_lab/PERCEPTION/CP_USERSTUDY/Figure1/', give_results=False):\n",
    "    \n",
    "    merged = merge(grab(which, values), grab(which+'2', values))\n",
    "#     print merged\n",
    "    if which == 'bars' or which == 'framed':\n",
    "        gt_file = GT_DIR  + '/labels.p' \n",
    "    else:\n",
    "        gt_file = GT_DIR + which + '/labels.p' \n",
    "    with open(gt_file, 'r') as f:\n",
    "        labels = pickle.load(f)\n",
    "        \n",
    "#     print labels\n",
    "    labels = np.array(labels).astype(np.float)\n",
    "    \n",
    "#     if values == 1:\n",
    "    max_label = labels.max()\n",
    "    min_label = labels.min()\n",
    "#     print min_label, max_label\n",
    "#     elif values == 2:\n",
    "#         max_label1 = max(labels)\n",
    "        \n",
    "    if which=='bars' or which=='framed':\n",
    "        labels == labels.ravel()\n",
    "#         min_label = 0\n",
    "        \n",
    "\n",
    "    no_users = len(merged[0])\n",
    "    user_results = []\n",
    "    for u in range(no_users):\n",
    "        \n",
    "        # grab samples for this user\n",
    "        samples = []\n",
    "        for stimuli in merged[3:]:\n",
    "            \n",
    "            user_val = stimuli[u]\n",
    "            \n",
    "            samples.append(user_val)\n",
    "            \n",
    "        if values == 1:\n",
    "            user_results.append(np.array(samples).astype(np.float).ravel())\n",
    "        elif values == 2:\n",
    "            user_results.append(np.array(samples).astype(np.float))\n",
    "        \n",
    "    #\n",
    "    # now normalize our samples\n",
    "    #\n",
    "    \n",
    "\n",
    "    if give_results:\n",
    "        return user_results\n",
    "    \n",
    "    \n",
    "    max_labels = {\n",
    "        'position_common_scale': [0,60],\n",
    "        'position_non_aligned_scale': [0,60],\n",
    "        'length': [1, 60],\n",
    "        'direction': [0,359],\n",
    "        'angle': [1,90],\n",
    "        'area': [3.1415, 5026.4],\n",
    "        'volume': [1, 8000],\n",
    "        'curvature': [0,.3],\n",
    "        'shading': [0,100],\n",
    "        'bars': [1,60],\n",
    "        'framed': [1,60],\n",
    "        'weber10': [1,10],\n",
    "        'weber100': [1,10],\n",
    "        'weber1000': [1,10]\n",
    "    }\n",
    "    \n",
    "    min_label = max_labels[which][0]\n",
    "    max_label = max_labels[which][1]\n",
    "    \n",
    "#     min_label = 0\n",
    "#     max_label = 100\n",
    "    for u in range(no_users):\n",
    "        \n",
    "        \n",
    "        user_results[u] -= min_label\n",
    "        user_results[u] /= (max_label - min_label)\n",
    "        \n",
    "    # also normalize the labels\n",
    "    labels -= min_label\n",
    "    labels /= (max_label - min_label)\n",
    "\n",
    "\n",
    "        \n",
    "    \n",
    "    #\n",
    "    # now calculate MLAE\n",
    "    #\n",
    "    MLAES = []\n",
    "    AES = []\n",
    "    for u in range(no_users):\n",
    "        \n",
    "        if which == 'curvature':\n",
    "            user_results[u] /= 100\n",
    "        \n",
    "#         MLAE = sklearn.metrics.mean_absolute_error(user_results[u], labels)#np.log2(sklearn.metrics.mean_absolute_error(user_results[u]/100.*100, labels*100)+.125)\n",
    "        MLAE = np.log2(sklearn.metrics.mean_absolute_error(user_results[u]*100, labels[3:]*100)+.125)\n",
    "        MLAES.append(MLAE)\n",
    "        AE = sklearn.metrics.mean_absolute_error(user_results[u]*100, labels[3:]*100)\n",
    "        AES.append(AE)\n",
    "\n",
    "#     print labels[0:5], user_results[0][0:5]\n",
    "    \n",
    "        \n",
    "    return MLAES, AES\n",
    "#     print labels, min(labels), max(labels)"
   ]
  },
  {
   "cell_type": "code",
   "execution_count": 41,
   "metadata": {},
   "outputs": [
    {
     "name": "stderr",
     "output_type": "stream",
     "text": [
      "/n/home05/haehn/.conda/envs/CP/lib/python2.7/site-packages/ipykernel_launcher.py:67: DeprecationWarning: elementwise == comparison failed; this will raise an error in the future.\n"
     ]
    }
   ],
   "source": [
    "which = ['bars', 'framed']\n",
    "\n",
    "\n",
    "u_results = []\n",
    "\n",
    "for w in which:\n",
    "    res = grabbygrab(w,values=2, GT_DIR='/n/regal/pfister_lab/PERCEPTION/CP_USERSTUDY/Figure12/', give_results=True)\n",
    "    diffs_for_all_u = []\n",
    "    for u in res:\n",
    "        # loop through users\n",
    "         \n",
    "        # only store difference between the two\n",
    "        diffs = []\n",
    "        for t in u:\n",
    "            diffs.append(int(np.abs(t[0]-t[1])))\n",
    "        diffs_for_all_u.append(diffs)\n",
    "        \n",
    "    u_results.append(diffs_for_all_u)\n",
    "\n"
   ]
  },
  {
   "cell_type": "code",
   "execution_count": 42,
   "metadata": {},
   "outputs": [
    {
     "data": {
      "text/plain": [
       "2"
      ]
     },
     "execution_count": 42,
     "metadata": {},
     "output_type": "execute_result"
    }
   ],
   "source": [
    "len(u_results)"
   ]
  },
  {
   "cell_type": "code",
   "execution_count": 44,
   "metadata": {},
   "outputs": [
    {
     "data": {
      "text/plain": [
       "array([[15,  3,  5,  3, 10,  2,  5,  2,  5,  1],\n",
       "       [16, 45, 12,  5,  5,  2, 15, 10, 16, 10],\n",
       "       [10, 20, 20, 10,  3, 10,  5, 10,  0,  5],\n",
       "       [12, 10, 13,  0,  0, 56, 20,  0,  2,  0],\n",
       "       [11,  4, 20,  5,  3,  2,  8,  2, 10,  1],\n",
       "       [ 0,  4, 20,  2, 10,  2, 10, 28, 10,  0],\n",
       "       [ 4, 10, 43, 10, 10, 10, 15, 15, 25,  5],\n",
       "       [ 3, 20, 20,  1,  5, 10,  0, 15, 10,  1],\n",
       "       [10, 20,  5,  5, 15, 10,  0, 50, 10,  5],\n",
       "       [10, 10, 10, 10,  5, 10,  9, 20,  8,  5],\n",
       "       [12,  8, 13,  4,  2,  2,  9,  9, 17,  1],\n",
       "       [ 3,  1, 11,  2, 10,  2,  6, 10,  3,  1],\n",
       "       [ 7,  8, 10,  1,  8,  1,  4,  6, 10,  2],\n",
       "       [ 6,  6,  7,  2,  7,  1,  5, 10, 13,  1],\n",
       "       [ 4,  5, 10,  2,  3,  3,  5,  5,  2,  1],\n",
       "       [ 4,  5, 13,  3,  3,  2,  3,  4,  8,  3],\n",
       "       [10, 12,  4,  2,  6,  1,  7,  4,  4,  4],\n",
       "       [ 2,  2,  3, 10,  3,  3,  7, 10,  2,  2],\n",
       "       [10,  0, 10,  1,  5,  5,  5,  7,  4,  2],\n",
       "       [ 7,  0, 49,  1,  2, 10, 15,  3,  8,  1],\n",
       "       [ 8,  5, 14,  5,  4,  2,  2,  4,  0,  1],\n",
       "       [ 5, 15,  6,  2,  5, 56,  4, 12,  0,  2],\n",
       "       [ 8,  7,  6,  3,  6,  2,  3,  2,  4,  2],\n",
       "       [12, 45, 12,  4,  2,  4,  0, 47,  4,  1],\n",
       "       [13,  6,  6,  5,  8,  2, 15, 14,  6,  0]])"
      ]
     },
     "execution_count": 44,
     "metadata": {},
     "output_type": "execute_result"
    }
   ],
   "source": [
    "np.array(u_results[1])"
   ]
  },
  {
   "cell_type": "code",
   "execution_count": null,
   "metadata": {
    "collapsed": true
   },
   "outputs": [],
   "source": []
  },
  {
   "cell_type": "code",
   "execution_count": 35,
   "metadata": {},
   "outputs": [
    {
     "data": {
      "text/plain": [
       "array([[ 13.,  12.],\n",
       "       [  8.,  50.],\n",
       "       [  5.,  12.],\n",
       "       [  6.,   4.],\n",
       "       [  5.,  10.],\n",
       "       [  2.,   2.],\n",
       "       [ 12.,  22.],\n",
       "       [ 50.,  42.],\n",
       "       [ 10.,   1.],\n",
       "       [ 18.,   9.]])"
      ]
     },
     "execution_count": 35,
     "metadata": {},
     "output_type": "execute_result"
    }
   ],
   "source": [
    "for u in u_results[0]:\n",
    "    "
   ]
  },
  {
   "cell_type": "code",
   "execution_count": 50,
   "metadata": {},
   "outputs": [
    {
     "data": {
      "image/png": "[encoded data removed]",
      "text/plain": [
       "<matplotlib.figure.Figure at 0x2ac205251c10>"
      ]
     },
     "metadata": {},
     "output_type": "display_data"
    }
   ],
   "source": [
    "import matplotlib.gridspec as gridspec\n",
    "plt.figure(figsize(9,3))\n",
    "gs = gridspec.GridSpec(1, 3)\n",
    "gs.update(wspace=0.5)\n",
    "\n",
    "\n",
    "for i,w in enumerate(['Bars', 'Framed Rect.']):\n",
    "    ax1 = plt.subplot(gs[0, i], )\n",
    "\n",
    "    unique, counts = numpy.unique(u_results[i], return_counts=True)\n",
    "    plt.bar(unique, counts) # remove rejects > 10\n",
    "    plt.xticks(range(0,61,10))\n",
    "    plt.ylim(0,60)\n",
    "    plt.title(w)\n",
    "    \n",
    "plt.savefig('../PAPER/gfx/figure12_hist.pdf')"
   ]
  },
  {
   "cell_type": "code",
   "execution_count": 29,
   "metadata": {},
   "outputs": [
    {
     "data": {
      "text/plain": [
       "(array([  1.,   2.,   4.,   5.,   6.,   8.,   9.,  10.,  12.,  13.,  18.,\n",
       "         22.,  42.,  50.]), array([1, 2, 1, 2, 1, 1, 1, 2, 3, 1, 1, 1, 1, 2]))"
      ]
     },
     "execution_count": 29,
     "metadata": {},
     "output_type": "execute_result"
    }
   ],
   "source": [
    "unique, counts"
   ]
  },
  {
   "cell_type": "code",
   "execution_count": null,
   "metadata": {
    "collapsed": true
   },
   "outputs": [],
   "source": []
  }
 ],
 "metadata": {
  "kernelspec": {
   "display_name": "Python 2",
   "language": "python",
   "name": "python2"
  },
  "language_info": {
   "codemirror_mode": {
    "name": "ipython",
    "version": 2
   },
   "file_extension": ".py",
   "mimetype": "text/x-python",
   "name": "python",
   "nbconvert_exporter": "python",
   "pygments_lexer": "ipython2",
   "version": "2.7.14"
  }
 },
 "nbformat": 4,
 "nbformat_minor": 2
}
