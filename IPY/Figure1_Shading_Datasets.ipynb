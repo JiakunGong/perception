{
 "cells": [
  {
   "cell_type": "code",
   "execution_count": 1,
   "metadata": {},
   "outputs": [
    {
     "name": "stdout",
     "output_type": "stream",
     "text": [
      "Populating the interactive namespace from numpy and matplotlib\n"
     ]
    }
   ],
   "source": [
    "%pylab inline\n",
    "%load_ext autoreload\n",
    "%autoreload 2\n",
    "\n",
    "from jupyterthemes import jtplot\n",
    "jtplot.style()"
   ]
  },
  {
   "cell_type": "code",
   "execution_count": 2,
   "metadata": {
    "collapsed": true
   },
   "outputs": [],
   "source": [
    "import os, sys, time\n",
    "import cPickle as pickle\n",
    "sys.path.append('../EXP/')\n",
    "import ClevelandMcGill as C\n",
    "reload(C)\n",
    "\n",
    "OUTPUT_DIR = '/n/regal/pfister_lab/PERCEPTION/DATA/Figure1_Direction/'\n",
    "if not os.path.exists(OUTPUT_DIR):\n",
    "  os.makedirs(OUTPUT_DIR)"
   ]
  },
  {
   "cell_type": "code",
   "execution_count": 3,
   "metadata": {
    "collapsed": true
   },
   "outputs": [],
   "source": [
    "\n",
    "def get_rect(x, y, width, height, angle):\n",
    "    rect = np.array([(0, 0), (width, 0), (width, height), (0, height), (0, 0)])\n",
    "    theta = (np.pi / 180.0) * angle\n",
    "    R = np.array([[np.cos(theta), -np.sin(theta)],\n",
    "                  [np.sin(theta), np.cos(theta)]])\n",
    "    offset = np.array([x, y])\n",
    "    transformed_rect = np.dot(rect, R) + offset\n",
    "    return transformed_rect"
   ]
  },
  {
   "cell_type": "code",
   "execution_count": 28,
   "metadata": {
    "collapsed": true
   },
   "outputs": [],
   "source": [
    "import mahotas as mh"
   ]
  },
  {
   "cell_type": "code",
   "execution_count": 46,
   "metadata": {},
   "outputs": [
    {
     "data": {
      "text/plain": [
       "<matplotlib.image.AxesImage at 0x2b42cc4b6f50>"
      ]
     },
     "execution_count": 46,
     "metadata": {},
     "output_type": "execute_result"
    },
    {
     "data": {
      "image/png": "[encoded data removed]",
      "text/plain": [
       "<matplotlib.figure.Figure at 0x2b42cc7c4750>"
      ]
     },
     "metadata": {},
     "output_type": "display_data"
    }
   ],
   "source": [
    "import skimage.draw\n",
    "\n",
    "img = np.zeros((100,100), dtype=np.bool)\n",
    "\n",
    "offsetX = 0\n",
    "offsetY = 0\n",
    "step = 6\n",
    "for i in range(0,100):\n",
    "    for j in range(0,100):\n",
    "    \n",
    "        if (i+j+offsetX) % step == 0: #or i == 100-step:\n",
    "            img[i,j] = True\n",
    "        if (i-j+offsetY) % step == 0: #or i == 100-step:\n",
    "            img[i,j] = True\n",
    "\n",
    "\n",
    "plt.figure()\n",
    "imshow(img)#[0:100,0:100])\n",
    "# plt.savefig('/tmp/a.png')"
   ]
  },
  {
   "cell_type": "code",
   "execution_count": 33,
   "metadata": {},
   "outputs": [],
   "source": [
    "mh.imsave('/n/home05/haehn/a.png', img.astype(np.uint8)*255)"
   ]
  },
  {
   "cell_type": "code",
   "execution_count": 21,
   "metadata": {},
   "outputs": [
    {
     "data": {
      "text/plain": [
       "<matplotlib.image.AxesImage at 0x2b42caae0650>"
      ]
     },
     "execution_count": 21,
     "metadata": {},
     "output_type": "execute_result"
    },
    {
     "data": {
      "image/png": "[encoded data removed]",
      "text/plain": [
       "<matplotlib.figure.Figure at 0x2b42ca9d3390>"
      ]
     },
     "metadata": {},
     "output_type": "display_data"
    }
   ],
   "source": [
    "import skimage.draw\n",
    "\n",
    "img = np.zeros((200,200), dtype=np.bool)\n",
    "\n",
    "step = 20\n",
    "for i in range(0,200):\n",
    "\n",
    "  if i % step == 0: #or i == 100-step:\n",
    "    \n",
    "    \n",
    "    #rr, cc = skimage.draw.line(i, 0, 0, i)\n",
    "    #img[rr, cc] = 1\n",
    "    \n",
    "#     rr, cc = skimage.draw.line(199, i, i, 0)\n",
    "# #     img[rr, cc] = 2\n",
    "#     rr, cc = skimage.draw.line(i, 0, 199, 199-i)\n",
    "#     img[rr, cc] = 3\n",
    "    \n",
    "#     rr, cc = skimage.draw.line(0, i, 199-i,199)\n",
    "#     img[rr, cc] = 4\n",
    "# #     y, x, y, x\n",
    "\n",
    "\n",
    "plt.figure()\n",
    "imshow(img)#[0:100,0:100])"
   ]
  },
  {
   "cell_type": "code",
   "execution_count": 74,
   "metadata": {
    "collapsed": true
   },
   "outputs": [],
   "source": [
    "import skimage.draw\n",
    "\n",
    "start = (50,50)\n",
    "angle = 233\n",
    "theta = -(np.pi / 180.0) * angle\n",
    "length = 30\n",
    "end = (start[0] - length * np.cos(theta), start[1] - length * np.sin(theta))"
   ]
  },
  {
   "cell_type": "code",
   "execution_count": 75,
   "metadata": {},
   "outputs": [
    {
     "data": {
      "text/plain": [
       "<matplotlib.image.AxesImage at 0x7fa623d6bb10>"
      ]
     },
     "execution_count": 75,
     "metadata": {},
     "output_type": "execute_result"
    },
    {
     "data": {
      "image/png": "[encoded data removed]",
      "text/plain": [
       "<matplotlib.figure.Figure at 0x7fa623dee210>"
      ]
     },
     "metadata": {},
     "output_type": "display_data"
    }
   ],
   "source": [
    "rr, cc = skimage.draw.line(start[0], start[1], int(np.round(end[0])), int(np.round(end[1])))\n",
    "img[rr, cc] = 1\n",
    "imshow(img)"
   ]
  },
  {
   "cell_type": "code",
   "execution_count": 4,
   "metadata": {},
   "outputs": [
    {
     "data": {
      "text/plain": [
       "array([[ 10.        ,  10.        ],\n",
       "       [ 18.66025404,   5.        ],\n",
       "       [ 23.66025404,  13.66025404],\n",
       "       [ 15.        ,  18.66025404],\n",
       "       [ 10.        ,  10.        ]])"
      ]
     },
     "execution_count": 4,
     "metadata": {},
     "output_type": "execute_result"
    }
   ],
   "source": [
    "get_rect(10,10,10,10,30)"
   ]
  },
  {
   "cell_type": "code",
   "execution_count": 5,
   "metadata": {},
   "outputs": [
    {
     "ename": "ImportError",
     "evalue": "No module named Image",
     "output_type": "error",
     "traceback": [
      "\u001b[0;31m---------------------------------------------------------------------------\u001b[0m",
      "\u001b[0;31mImportError\u001b[0m                               Traceback (most recent call last)",
      "\u001b[0;32m<ipython-input-5-eee83bc54ad8>\u001b[0m in \u001b[0;36m<module>\u001b[0;34m()\u001b[0m\n\u001b[0;32m----> 1\u001b[0;31m \u001b[0;32mimport\u001b[0m \u001b[0mImage\u001b[0m\u001b[0;34m\u001b[0m\u001b[0m\n\u001b[0m\u001b[1;32m      2\u001b[0m \u001b[0;32mimport\u001b[0m \u001b[0mImageDraw\u001b[0m\u001b[0;34m\u001b[0m\u001b[0m\n",
      "\u001b[0;31mImportError\u001b[0m: No module named Image"
     ]
    }
   ],
   "source": [
    "import Image\n",
    "import ImageDraw"
   ]
  },
  {
   "cell_type": "code",
   "execution_count": 9,
   "metadata": {
    "collapsed": true
   },
   "outputs": [],
   "source": []
  },
  {
   "cell_type": "code",
   "execution_count": null,
   "metadata": {
    "collapsed": true
   },
   "outputs": [],
   "source": []
  },
  {
   "cell_type": "code",
   "execution_count": null,
   "metadata": {
    "collapsed": true
   },
   "outputs": [],
   "source": []
  },
  {
   "cell_type": "markdown",
   "metadata": {},
   "source": [
    "# Dataset 1\n",
    "\n",
    "We create a very simple dataset with a random length."
   ]
  },
  {
   "cell_type": "code",
   "execution_count": 61,
   "metadata": {
    "scrolled": false
   },
   "outputs": [
    {
     "name": "stdout",
     "output_type": "stream",
     "text": [
      "# Parameters 40\n",
      "Creating Datapoints done in 1.1266849041 seconds\n",
      "Image Generation done in 1.1853749752 seconds\n"
     ]
    }
   ],
   "source": [
    "#\n",
    "# CREATE SINGLE DATAPOINT\n",
    "#\n",
    "fig = C.Figure1_Length()\n",
    "fig.create(verbose=True)\n",
    "\n",
    "#\n",
    "# Make many datapoints\n",
    "#\n",
    "t0 = time.time()\n",
    "datapoints, labels = fig.make_many(N=100000)\n",
    "print 'Creating Datapoints done in', time.time()-t0, 'seconds'\n",
    "\n",
    "#\n",
    "# Generate images without frame.\n",
    "#\n",
    "t0 = time.time()\n",
    "images, labels = fig.render_many(datapoints)\n",
    "print 'Image Generation done in', time.time()-t0, 'seconds'"
   ]
  },
  {
   "cell_type": "code",
   "execution_count": 62,
   "metadata": {},
   "outputs": [
    {
     "data": {
      "text/plain": [
       "([50, 50, 33, 1], 33)"
      ]
     },
     "execution_count": 62,
     "metadata": {},
     "output_type": "execute_result"
    }
   ],
   "source": [
    "fig.to_sparse()"
   ]
  },
  {
   "cell_type": "code",
   "execution_count": 73,
   "metadata": {},
   "outputs": [
    {
     "name": "stdout",
     "output_type": "stream",
     "text": [
      "Datapoint 41419\n",
      "Label 29 ( 29 )\n"
     ]
    },
    {
     "data": {
      "image/png": "[encoded data removed]",
      "text/plain": [
       "<matplotlib.figure.Figure at 0x7f601f2fb5d0>"
      ]
     },
     "metadata": {},
     "output_type": "display_data"
    }
   ],
   "source": [
    "#\n",
    "# RANDOM VISUALIZATION\n",
    "#\n",
    "INDEX = np.random.randint(len(datapoints))\n",
    "print 'Datapoint', INDEX\n",
    "print 'Label', labels[INDEX], '(', datapoints[INDEX][2], ')'\n",
    "\n",
    "im = plt.imshow(images[INDEX])\n",
    "\n"
   ]
  },
  {
   "cell_type": "code",
   "execution_count": 74,
   "metadata": {},
   "outputs": [
    {
     "data": {
      "text/plain": [
       "<matplotlib.image.AxesImage at 0x7f5fdb43b790>"
      ]
     },
     "execution_count": 74,
     "metadata": {},
     "output_type": "execute_result"
    },
    {
     "data": {
      "image/png": "[encoded data removed]",
      "text/plain": [
       "<matplotlib.figure.Figure at 0x7f5fdb254850>"
      ]
     },
     "metadata": {},
     "output_type": "display_data"
    }
   ],
   "source": [
    "#\n",
    "# DATA AS RAVELED NUMPY 2D ARRAY\n",
    "#\n",
    "images_raveled = images.reshape(100000,100*100).astype(np.float32)\n",
    "images_raveled -= .5\n",
    "\n",
    "a = images_raveled.reshape(100000,100,100)\n",
    "imshow(a[16387])"
   ]
  },
  {
   "cell_type": "code",
   "execution_count": 6,
   "metadata": {},
   "outputs": [
    {
     "data": {
      "text/plain": [
       "<matplotlib.image.AxesImage at 0x7fe3b8c09390>"
      ]
     },
     "execution_count": 6,
     "metadata": {},
     "output_type": "execute_result"
    },
    {
     "data": {
      "image/png": "[encoded data removed]",
      "text/plain": [
       "<matplotlib.figure.Figure at 0x7fe86ce8edd0>"
      ]
     },
     "metadata": {},
     "output_type": "display_data"
    }
   ],
   "source": [
    "#\n",
    "# WE ALSO NEED THE DATA AS A 3D NUMPY ARRAY (RAVELED)\n",
    "#\n",
    "images_3d = np.stack((images,)*3, -1)\n",
    "images_3d_raveled = images_3d.reshape(100000, 100*100*3).astype(np.float32)\n",
    "images_3d_raveled -= .5\n",
    "\n",
    "a = images_3d_raveled.reshape(100000,100,100,3)\n",
    "imshow(a[16387]+.5) # .5 for RGB visualization required"
   ]
  },
  {
   "cell_type": "code",
   "execution_count": 7,
   "metadata": {},
   "outputs": [
    {
     "name": "stdout",
     "output_type": "stream",
     "text": [
      "stored datapoints\n",
      "stored labels\n",
      "storeds image arrays 2d/3d numpy\n"
     ]
    },
    {
     "name": "stderr",
     "output_type": "stream",
     "text": [
      "Using TensorFlow backend.\n"
     ]
    },
    {
     "name": "stdout",
     "output_type": "stream",
     "text": [
      "100000/100000 [==============================] - 275s 3ms/step\n",
      "VGG19 features done after 275.396472931\n",
      "100000/100000 [==============================] - 219s 2ms/step\n",
      "Xception features done after 219.240185022\n"
     ]
    }
   ],
   "source": [
    "INDEX = 1\n",
    "\n",
    "# let's store the datapoints\n",
    "with open(OUTPUT_DIR+'datapoints_'+str(INDEX)+'.p', 'w') as f:\n",
    "  pickle.dump(datapoints, f)\n",
    "print 'stored datapoints'\n",
    "with open(OUTPUT_DIR+'labels_'+str(INDEX)+'.p', 'w') as f:\n",
    "  pickle.dump(labels, f)\n",
    "print 'stored labels'\n",
    "  \n",
    "# Then, let's store the vanilla image data\n",
    "#\n",
    "# This data is randomized but matches the labels\n",
    "# and is normalized to -.5 .. .5\n",
    "np.save(OUTPUT_DIR+'images_'+str(INDEX)+'.npy', images_raveled, allow_pickle=False)\n",
    "# .. now the vanilla images 3D\n",
    "#np.save(OUTPUT_DIR+'images_rgb_'+str(INDEX)+'.npy', images_3d_raveled, allow_pickle=False)\n",
    "\n",
    "print 'storeds image arrays 2d/3d numpy'\n",
    "\n",
    "#\n",
    "#\n",
    "# OTHER CLASSIFIERS AS FEATURE GENERATORS\n",
    "#\n",
    "#\n",
    "import keras.applications\n",
    "X = images_3d_raveled.reshape(100000,100,100,3)\n",
    "\n",
    "\n",
    "VGG19 = keras.applications.VGG19(include_top=False, weights='imagenet', input_shape=(100,100,3))\n",
    "\n",
    "t0 = time.time()\n",
    "features = VGG19.predict(X, verbose=True)\n",
    "print 'VGG19 features done after', time.time()-t0\n",
    "\n",
    "np.save(OUTPUT_DIR+'vgg19_features'+str(INDEX)+'.npy', features, allow_pickle=False)\n",
    "\n",
    "Xception = keras.applications.Xception(include_top=False, weights='imagenet', input_shape=(100,100,3))\n",
    "\n",
    "t0 = time.time()\n",
    "features = Xception.predict(X, verbose=True)\n",
    "print 'Xception features done after', time.time()-t0\n",
    "\n",
    "np.save(OUTPUT_DIR+'xception_features'+str(INDEX)+'.npy', features, allow_pickle=False)\n"
   ]
  },
  {
   "cell_type": "code",
   "execution_count": null,
   "metadata": {
    "collapsed": true
   },
   "outputs": [],
   "source": []
  },
  {
   "cell_type": "markdown",
   "metadata": {},
   "source": [
    "# Dataset 2\n",
    "We add Y variability.\n",
    "\n",
    "This means, we not only vary the origin but also the Y coordinate."
   ]
  },
  {
   "cell_type": "code",
   "execution_count": 4,
   "metadata": {},
   "outputs": [
    {
     "name": "stdout",
     "output_type": "stream",
     "text": [
      "# Parameters 610\n",
      "Creating Datapoints done in 1.58408117294 seconds\n",
      "Image Generation done in 1.31741404533 seconds\n"
     ]
    }
   ],
   "source": [
    "#\n",
    "# CREATE SINGLE DATAPOINT\n",
    "#\n",
    "fig = C.Figure1_Position_Nonaligned_Scale(variable_y=True)\n",
    "fig.create(verbose=True)\n",
    "\n",
    "#\n",
    "# Make many datapoints\n",
    "#\n",
    "t0 = time.time()\n",
    "datapoints, labels = fig.make_many(N=100000)\n",
    "print 'Creating Datapoints done in', time.time()-t0, 'seconds'\n",
    "\n",
    "#\n",
    "# Generate images without frame.\n",
    "#\n",
    "t0 = time.time()\n",
    "images, labels = fig.render_many(datapoints)\n",
    "print 'Image Generation done in', time.time()-t0, 'seconds'"
   ]
  },
  {
   "cell_type": "code",
   "execution_count": 7,
   "metadata": {},
   "outputs": [
    {
     "name": "stdout",
     "output_type": "stream",
     "text": [
      "Datapoint 58286\n",
      "Label 54 ( [7, 0] )\n"
     ]
    },
    {
     "data": {
      "text/plain": [
       "<matplotlib.image.AxesImage at 0x7f53f06c5390>"
      ]
     },
     "execution_count": 7,
     "metadata": {},
     "output_type": "execute_result"
    },
    {
     "data": {
      "image/png": "[encoded data removed]",
      "text/plain": [
       "<matplotlib.figure.Figure at 0x7f54381dcc50>"
      ]
     },
     "metadata": {},
     "output_type": "display_data"
    }
   ],
   "source": [
    "#\n",
    "# RANDOM VISUALIZATION\n",
    "#\n",
    "INDEX = np.random.randint(len(datapoints))\n",
    "print 'Datapoint', INDEX\n",
    "print 'Label', labels[INDEX], '(', datapoints[INDEX][2], ')'\n",
    "\n",
    "imshow(images[INDEX])"
   ]
  },
  {
   "cell_type": "code",
   "execution_count": 21,
   "metadata": {},
   "outputs": [
    {
     "data": {
      "text/plain": [
       "<matplotlib.image.AxesImage at 0x7f57b135ac50>"
      ]
     },
     "execution_count": 21,
     "metadata": {},
     "output_type": "execute_result"
    },
    {
     "data": {
      "image/png": "[encoded data removed]",
      "text/plain": [
       "<matplotlib.figure.Figure at 0x7f57b1282c90>"
      ]
     },
     "metadata": {},
     "output_type": "display_data"
    }
   ],
   "source": [
    "#\n",
    "# DATA AS RAVELED NUMPY 2D ARRAY\n",
    "#\n",
    "images_raveled = images.reshape(100000,100*100).astype(np.float32)\n",
    "images_raveled -= .5\n",
    "\n",
    "a = images_raveled.reshape(100000,100,100)\n",
    "imshow(a[16387])"
   ]
  },
  {
   "cell_type": "code",
   "execution_count": 11,
   "metadata": {},
   "outputs": [
    {
     "data": {
      "text/plain": [
       "<matplotlib.image.AxesImage at 0x7fe34a1804d0>"
      ]
     },
     "execution_count": 11,
     "metadata": {},
     "output_type": "execute_result"
    },
    {
     "data": {
      "image/png": "[encoded data removed]",
      "text/plain": [
       "<matplotlib.figure.Figure at 0x7fe34a373fd0>"
      ]
     },
     "metadata": {},
     "output_type": "display_data"
    }
   ],
   "source": [
    "#\n",
    "# WE ALSO NEED THE DATA AS A 3D NUMPY ARRAY (RAVELED)\n",
    "#\n",
    "images_3d = np.stack((images,)*3, -1)\n",
    "images_3d_raveled = images_3d.reshape(100000, 100*100*3).astype(np.float32)\n",
    "images_3d_raveled -= .5\n",
    "\n",
    "a = images_3d_raveled.reshape(100000,100,100,3)\n",
    "imshow(a[16387]+.5) # .5 for RGB visualization required"
   ]
  },
  {
   "cell_type": "code",
   "execution_count": 12,
   "metadata": {},
   "outputs": [
    {
     "name": "stdout",
     "output_type": "stream",
     "text": [
      "stored datapoints\n",
      "stored labels\n",
      "storeds image arrays 2d/3d numpy\n",
      "100000/100000 [==============================] - 279s 3ms/step\n",
      "VGG19 features done after 278.567987919\n",
      "100000/100000 [==============================] - 221s 2ms/step\n",
      "Xception features done after 220.780169964\n"
     ]
    }
   ],
   "source": [
    "INDEX = 2\n",
    "\n",
    "# let's store the datapoints\n",
    "with open(OUTPUT_DIR+'datapoints_'+str(INDEX)+'.p', 'w') as f:\n",
    "  pickle.dump(datapoints, f)\n",
    "print 'stored datapoints'\n",
    "with open(OUTPUT_DIR+'labels_'+str(INDEX)+'.p', 'w') as f:\n",
    "  pickle.dump(labels, f)\n",
    "print 'stored labels'\n",
    "  \n",
    "# Then, let's store the vanilla image data\n",
    "#\n",
    "# This data is randomized but matches the labels\n",
    "# and is normalized to -.5 .. .5\n",
    "np.save(OUTPUT_DIR+'images_'+str(INDEX)+'.npy', images_raveled, allow_pickle=False)\n",
    "# .. now the vanilla images 3D\n",
    "#np.save(OUTPUT_DIR+'images_rgb_'+str(INDEX)+'.npy', images_3d_raveled, allow_pickle=False)\n",
    "\n",
    "print 'storeds image arrays 2d/3d numpy'\n",
    "\n",
    "#\n",
    "#\n",
    "# OTHER CLASSIFIERS AS FEATURE GENERATORS\n",
    "#\n",
    "#\n",
    "import keras.applications\n",
    "X = images_3d_raveled.reshape(100000,100,100,3)\n",
    "\n",
    "\n",
    "VGG19 = keras.applications.VGG19(include_top=False, weights='imagenet', input_shape=(100,100,3))\n",
    "\n",
    "t0 = time.time()\n",
    "features = VGG19.predict(X, verbose=True)\n",
    "print 'VGG19 features done after', time.time()-t0\n",
    "\n",
    "np.save(OUTPUT_DIR+'vgg19_features'+str(INDEX)+'.npy', features, allow_pickle=False)\n",
    "\n",
    "Xception = keras.applications.Xception(include_top=False, weights='imagenet', input_shape=(100,100,3))\n",
    "\n",
    "t0 = time.time()\n",
    "features = Xception.predict(X, verbose=True)\n",
    "print 'Xception features done after', time.time()-t0\n",
    "\n",
    "np.save(OUTPUT_DIR+'xception_features'+str(INDEX)+'.npy', features, allow_pickle=False)\n"
   ]
  },
  {
   "cell_type": "markdown",
   "metadata": {},
   "source": [
    "# Dataset 3\n",
    "We add also variable X in addition to origin and Y variability."
   ]
  },
  {
   "cell_type": "code",
   "execution_count": 11,
   "metadata": {},
   "outputs": [
    {
     "name": "stdout",
     "output_type": "stream",
     "text": [
      "# Parameters 37210\n",
      "Creating Datapoints done in 2.16928505898 seconds\n",
      "Image Generation done in 1.32499599457 seconds\n"
     ]
    }
   ],
   "source": [
    "#\n",
    "# CREATE SINGLE DATAPOINT\n",
    "#\n",
    "fig = C.Figure1_Position_Nonaligned_Scale(variable_y=True,variable_x=True)\n",
    "fig.create(verbose=True)\n",
    "\n",
    "#\n",
    "# Make many datapoints\n",
    "#\n",
    "t0 = time.time()\n",
    "datapoints, labels = fig.make_many(N=100000)\n",
    "print 'Creating Datapoints done in', time.time()-t0, 'seconds'\n",
    "\n",
    "#\n",
    "# Generate images without frame.\n",
    "#\n",
    "t0 = time.time()\n",
    "images, labels = fig.render_many(datapoints)\n",
    "print 'Image Generation done in', time.time()-t0, 'seconds'"
   ]
  },
  {
   "cell_type": "code",
   "execution_count": 12,
   "metadata": {},
   "outputs": [
    {
     "name": "stdout",
     "output_type": "stream",
     "text": [
      "Datapoint 80494\n",
      "Label 61\n"
     ]
    },
    {
     "data": {
      "text/plain": [
       "<matplotlib.image.AxesImage at 0x7f53ef6518d0>"
      ]
     },
     "execution_count": 12,
     "metadata": {},
     "output_type": "execute_result"
    },
    {
     "data": {
      "image/png": "[encoded data removed]",
      "text/plain": [
       "<matplotlib.figure.Figure at 0x7f53f06c5ad0>"
      ]
     },
     "metadata": {},
     "output_type": "display_data"
    }
   ],
   "source": [
    "#\n",
    "# RANDOM VISUALIZATION\n",
    "#\n",
    "INDEX = np.random.randint(len(datapoints))\n",
    "print 'Datapoint', INDEX\n",
    "print 'Label', labels[INDEX]\n",
    "\n",
    "imshow(images[INDEX])"
   ]
  },
  {
   "cell_type": "code",
   "execution_count": null,
   "metadata": {
    "collapsed": true
   },
   "outputs": [],
   "source": [
    "#\n",
    "# DATA AS RAVELED NUMPY 2D ARRAY\n",
    "#\n",
    "images_raveled = images.reshape(100000,100*100).astype(np.float32)\n",
    "images_raveled -= .5\n",
    "\n",
    "a = images_raveled.reshape(100000,100,100)\n",
    "imshow(a[16387])"
   ]
  },
  {
   "cell_type": "code",
   "execution_count": null,
   "metadata": {
    "collapsed": true
   },
   "outputs": [],
   "source": [
    "#\n",
    "# WE ALSO NEED THE DATA AS A 3D NUMPY ARRAY (RAVELED)\n",
    "#\n",
    "images_3d = np.stack((images,)*3, -1)\n",
    "images_3d_raveled = images_3d.reshape(100000, 100*100*3).astype(np.float32)\n",
    "images_3d_raveled -= .5\n",
    "\n",
    "a = images_3d_raveled.reshape(100000,100,100,3)\n",
    "imshow(a[16387]+.5) # .5 for RGB visualization required"
   ]
  },
  {
   "cell_type": "code",
   "execution_count": null,
   "metadata": {
    "collapsed": true
   },
   "outputs": [],
   "source": [
    "INDEX = 3\n",
    "\n",
    "# let's store the datapoints\n",
    "with open(OUTPUT_DIR+'datapoints_'+str(INDEX)+'.p', 'w') as f:\n",
    "  pickle.dump(datapoints, f)\n",
    "print 'stored datapoints'\n",
    "with open(OUTPUT_DIR+'labels_'+str(INDEX)+'.p', 'w') as f:\n",
    "  pickle.dump(labels, f)\n",
    "print 'stored labels'\n",
    "  \n",
    "# Then, let's store the vanilla image data\n",
    "#\n",
    "# This data is randomized but matches the labels\n",
    "# and is normalized to -.5 .. .5\n",
    "np.save(OUTPUT_DIR+'images_'+str(INDEX)+'.npy', images_raveled, allow_pickle=False)\n",
    "# .. now the vanilla images 3D\n",
    "#np.save(OUTPUT_DIR+'images_rgb_'+str(INDEX)+'.npy', images_3d_raveled, allow_pickle=False)\n",
    "\n",
    "print 'storeds image arrays 2d/3d numpy'\n",
    "\n",
    "#\n",
    "#\n",
    "# OTHER CLASSIFIERS AS FEATURE GENERATORS\n",
    "#\n",
    "#\n",
    "import keras.applications\n",
    "X = images_3d_raveled.reshape(100000,100,100,3)\n",
    "\n",
    "\n",
    "VGG19 = keras.applications.VGG19(include_top=False, weights='imagenet', input_shape=(100,100,3))\n",
    "\n",
    "t0 = time.time()\n",
    "features = VGG19.predict(X, verbose=True)\n",
    "print 'VGG19 features done after', time.time()-t0\n",
    "\n",
    "np.save(OUTPUT_DIR+'vgg19_features'+str(INDEX)+'.npy', features, allow_pickle=False)\n",
    "\n",
    "Xception = keras.applications.Xception(include_top=False, weights='imagenet', input_shape=(100,100,3))\n",
    "\n",
    "t0 = time.time()\n",
    "features = Xception.predict(X, verbose=True)\n",
    "print 'Xception features done after', time.time()-t0\n",
    "\n",
    "np.save(OUTPUT_DIR+'xception_features'+str(INDEX)+'.npy', features, allow_pickle=False)\n"
   ]
  },
  {
   "cell_type": "code",
   "execution_count": null,
   "metadata": {
    "collapsed": true
   },
   "outputs": [],
   "source": []
  },
  {
   "cell_type": "markdown",
   "metadata": {},
   "source": [
    "# Dataset 4\n",
    "We add also variable spot size in addition to X and Y variability.\n",
    "\n",
    "This means, we not only vary the X and the Y coordinates, but also the spot size. And of course the origin."
   ]
  },
  {
   "cell_type": "code",
   "execution_count": 9,
   "metadata": {},
   "outputs": [
    {
     "name": "stdout",
     "output_type": "stream",
     "text": [
      "# Parameters 223260\n",
      "Creating Datapoints done in 3.00513100624 seconds\n",
      "Image Generation done in 1.48831892014 seconds\n"
     ]
    }
   ],
   "source": [
    "#\n",
    "# CREATE SINGLE DATAPOINT\n",
    "#\n",
    "fig = C.Figure1_Position_Nonaligned_Scale(variable_y=True,variable_x=True, variable_spot_size=True)\n",
    "fig.create(verbose=True)\n",
    "\n",
    "#\n",
    "# Make many datapoints\n",
    "#\n",
    "t0 = time.time()\n",
    "datapoints, labels = fig.make_many(N=100000)\n",
    "print 'Creating Datapoints done in', time.time()-t0, 'seconds'\n",
    "\n",
    "#\n",
    "# Generate images without frame.\n",
    "#\n",
    "t0 = time.time()\n",
    "images, labels = fig.render_many(datapoints)\n",
    "print 'Image Generation done in', time.time()-t0, 'seconds'"
   ]
  },
  {
   "cell_type": "code",
   "execution_count": 10,
   "metadata": {},
   "outputs": [
    {
     "name": "stdout",
     "output_type": "stream",
     "text": [
      "Datapoint 66736\n",
      "Label 73\n"
     ]
    },
    {
     "data": {
      "text/plain": [
       "<matplotlib.image.AxesImage at 0x7f53ef62f4d0>"
      ]
     },
     "execution_count": 10,
     "metadata": {},
     "output_type": "execute_result"
    },
    {
     "data": {
      "image/png": "[encoded data removed]",
      "text/plain": [
       "<matplotlib.figure.Figure at 0x7f5438145210>"
      ]
     },
     "metadata": {},
     "output_type": "display_data"
    }
   ],
   "source": [
    "#\n",
    "# RANDOM VISUALIZATION\n",
    "#\n",
    "INDEX = np.random.randint(len(datapoints))\n",
    "print 'Datapoint', INDEX\n",
    "print 'Label', labels[INDEX]\n",
    "\n",
    "imshow(images[INDEX])"
   ]
  },
  {
   "cell_type": "code",
   "execution_count": 15,
   "metadata": {},
   "outputs": [
    {
     "data": {
      "text/plain": [
       "<matplotlib.image.AxesImage at 0x7fe866254110>"
      ]
     },
     "execution_count": 15,
     "metadata": {},
     "output_type": "execute_result"
    },
    {
     "data": {
      "image/png": "[encoded data removed]",
      "text/plain": [
       "<matplotlib.figure.Figure at 0x7fe34a85f590>"
      ]
     },
     "metadata": {},
     "output_type": "display_data"
    }
   ],
   "source": [
    "#\n",
    "# DATA AS RAVELED NUMPY 2D ARRAY\n",
    "#\n",
    "images_raveled = images.reshape(100000,100*100).astype(np.float32)\n",
    "images_raveled -= .5\n",
    "\n",
    "a = images_raveled.reshape(100000,100,100)\n",
    "imshow(a[16387])"
   ]
  },
  {
   "cell_type": "code",
   "execution_count": 16,
   "metadata": {},
   "outputs": [
    {
     "data": {
      "text/plain": [
       "<matplotlib.image.AxesImage at 0x7fe866110f90>"
      ]
     },
     "execution_count": 16,
     "metadata": {},
     "output_type": "execute_result"
    },
    {
     "data": {
      "image/png": "[encoded data removed]",
      "text/plain": [
       "<matplotlib.figure.Figure at 0x7fe34a85f610>"
      ]
     },
     "metadata": {},
     "output_type": "display_data"
    }
   ],
   "source": [
    "#\n",
    "# WE ALSO NEED THE DATA AS A 3D NUMPY ARRAY (RAVELED)\n",
    "#\n",
    "images_3d = np.stack((images,)*3, -1)\n",
    "images_3d_raveled = images_3d.reshape(100000, 100*100*3).astype(np.float32)\n",
    "images_3d_raveled -= .5\n",
    "\n",
    "a = images_3d_raveled.reshape(100000,100,100,3)\n",
    "imshow(a[16387]+.5) # .5 for RGB visualization required"
   ]
  },
  {
   "cell_type": "code",
   "execution_count": 17,
   "metadata": {},
   "outputs": [
    {
     "name": "stdout",
     "output_type": "stream",
     "text": [
      "stored datapoints\n",
      "stored labels\n",
      "storeds image arrays 2d/3d numpy\n",
      "100000/100000 [==============================] - 279s 3ms/step\n",
      "VGG19 features done after 279.325987101\n",
      "100000/100000 [==============================] - 221s 2ms/step\n",
      "Xception features done after 220.716153145\n"
     ]
    }
   ],
   "source": [
    "INDEX = 4\n",
    "\n",
    "# let's store the datapoints\n",
    "with open(OUTPUT_DIR+'datapoints_'+str(INDEX)+'.p', 'w') as f:\n",
    "  pickle.dump(datapoints, f)\n",
    "print 'stored datapoints'\n",
    "with open(OUTPUT_DIR+'labels_'+str(INDEX)+'.p', 'w') as f:\n",
    "  pickle.dump(labels, f)\n",
    "print 'stored labels'\n",
    "  \n",
    "# Then, let's store the vanilla image data\n",
    "#\n",
    "# This data is randomized but matches the labels\n",
    "# and is normalized to -.5 .. .5\n",
    "np.save(OUTPUT_DIR+'images_'+str(INDEX)+'.npy', images_raveled, allow_pickle=False)\n",
    "# .. now the vanilla images 3D\n",
    "#np.save(OUTPUT_DIR+'images_rgb_'+str(INDEX)+'.npy', images_3d_raveled, allow_pickle=False)\n",
    "\n",
    "print 'storeds image arrays 2d/3d numpy'\n",
    "\n",
    "#\n",
    "#\n",
    "# OTHER CLASSIFIERS AS FEATURE GENERATORS\n",
    "#\n",
    "#\n",
    "import keras.applications\n",
    "X = images_3d_raveled.reshape(100000,100,100,3)\n",
    "\n",
    "\n",
    "VGG19 = keras.applications.VGG19(include_top=False, weights='imagenet', input_shape=(100,100,3))\n",
    "\n",
    "t0 = time.time()\n",
    "features = VGG19.predict(X, verbose=True)\n",
    "print 'VGG19 features done after', time.time()-t0\n",
    "\n",
    "np.save(OUTPUT_DIR+'vgg19_features'+str(INDEX)+'.npy', features, allow_pickle=False)\n",
    "\n",
    "Xception = keras.applications.Xception(include_top=False, weights='imagenet', input_shape=(100,100,3))\n",
    "\n",
    "t0 = time.time()\n",
    "features = Xception.predict(X, verbose=True)\n",
    "print 'Xception features done after', time.time()-t0\n",
    "\n",
    "np.save(OUTPUT_DIR+'xception_features'+str(INDEX)+'.npy', features, allow_pickle=False)\n"
   ]
  },
  {
   "cell_type": "code",
   "execution_count": null,
   "metadata": {
    "collapsed": true
   },
   "outputs": [],
   "source": []
  }
 ],
 "metadata": {
  "kernelspec": {
   "display_name": "Python 2",
   "language": "python",
   "name": "python2"
  },
  "language_info": {
   "codemirror_mode": {
    "name": "ipython",
    "version": 2
   },
   "file_extension": ".py",
   "mimetype": "text/x-python",
   "name": "python",
   "nbconvert_exporter": "python",
   "pygments_lexer": "ipython2",
   "version": "2.7.14"
  }
 },
 "nbformat": 4,
 "nbformat_minor": 2
}
