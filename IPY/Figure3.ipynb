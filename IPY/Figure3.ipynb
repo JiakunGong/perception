{
 "cells": [
  {
   "cell_type": "code",
   "execution_count": 1,
   "metadata": {},
   "outputs": [
    {
     "name": "stdout",
     "output_type": "stream",
     "text": [
      "Populating the interactive namespace from numpy and matplotlib\n"
     ]
    }
   ],
   "source": [
    "%pylab inline\n",
    "%load_ext autoreload\n",
    "%autoreload 2\n",
    "\n",
    "from jupyterthemes import jtplot\n",
    "jtplot.style()"
   ]
  },
  {
   "cell_type": "code",
   "execution_count": 37,
   "metadata": {},
   "outputs": [
    {
     "name": "stdout",
     "output_type": "stream",
     "text": [
      "[ 15.  15.  35.   4.  31.] 100.0\n",
      "35.0\n"
     ]
    }
   ],
   "source": [
    "# from https://stackoverflow.com/a/7289357/1183453\n",
    "no_groups = 5\n",
    "sumto = 100\n",
    "\n",
    "groups = np.zeros(5)\n",
    "group = 0\n",
    "\n",
    "while(np.sum(groups) != sumto):\n",
    "  groups[group] = np.random.randint(0, sumto / np.random.randint(1,5))\n",
    "  \n",
    "  group += 1\n",
    "  if (group == no_groups):\n",
    "    group = 0\n",
    "    \n",
    "print groups, groups.sum()\n",
    "print max(groups)"
   ]
  },
  {
   "cell_type": "code",
   "execution_count": 53,
   "metadata": {},
   "outputs": [],
   "source": [
    "# from codementum.org/cleveland-mcgill/\n",
    "# randomize data according to Cleveland84\n",
    "# specifically:\n",
    "#  - 5 numbers\n",
    "#  - add to 100\n",
    "#  - none less than 3\n",
    "#  - none greater than 39\n",
    "#  - differences greater than .1\n",
    "#\n",
    "def randomize_data():\n",
    "  max = 36;\n",
    "  min = 3;\n",
    "  diff = 0.1;\n",
    "\n",
    "  d = [];\n",
    "\n",
    "  while len(d) < 5:\n",
    "    randomnumber=ceil(np.random.random()*36 + 3);\n",
    "    found=False;\n",
    "    for i in range(len(d)):\n",
    "      if not ensure_difference(d, randomnumber):\n",
    "        found = True\n",
    "        break\n",
    "        \n",
    "    if not found:\n",
    "      d.append(randomnumber)\n",
    "\n",
    "\n",
    "  return d;\n",
    "\n",
    "\n",
    "def ensure_difference(A, c):\n",
    "  result = True;\n",
    "  for i in range(len(A)):\n",
    "    if c > (A[i] - 3) and c < (A[i] + 3):\n",
    "      result = False\n",
    "\n",
    "  return result\n"
   ]
  },
  {
   "cell_type": "code",
   "execution_count": 54,
   "metadata": {},
   "outputs": [],
   "source": [
    "sum = -1\n",
    "while(sum != 100):\n",
    "  data = randomize_data()\n",
    "  sum = data[0] + data[1] + data[2] + data[3] + data[4]"
   ]
  },
  {
   "cell_type": "code",
   "execution_count": 55,
   "metadata": {},
   "outputs": [
    {
     "data": {
      "text/plain": [
       "([18.0, 25.0, 9.0, 15.0, 33.0], 100.0)"
      ]
     },
     "execution_count": 55,
     "metadata": {},
     "output_type": "execute_result"
    }
   ],
   "source": [
    "data, np.sum(data)"
   ]
  },
  {
   "cell_type": "code",
   "execution_count": null,
   "metadata": {
    "collapsed": true
   },
   "outputs": [],
   "source": []
  }
 ],
 "metadata": {
  "kernelspec": {
   "display_name": "Python 2",
   "language": "python",
   "name": "python2"
  },
  "language_info": {
   "codemirror_mode": {
    "name": "ipython",
    "version": 2
   },
   "file_extension": ".py",
   "mimetype": "text/x-python",
   "name": "python",
   "nbconvert_exporter": "python",
   "pygments_lexer": "ipython2",
   "version": "2.7.14"
  }
 },
 "nbformat": 4,
 "nbformat_minor": 2
}
