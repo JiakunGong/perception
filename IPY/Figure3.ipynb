{
 "cells": [
  {
   "cell_type": "code",
   "execution_count": 1,
   "metadata": {},
   "outputs": [
    {
     "name": "stdout",
     "output_type": "stream",
     "text": [
      "Populating the interactive namespace from numpy and matplotlib\n"
     ]
    }
   ],
   "source": [
    "%pylab inline\n",
    "%load_ext autoreload\n",
    "%autoreload 2\n",
    "\n",
    "from jupyterthemes import jtplot\n",
    "jtplot.style()"
   ]
  },
  {
   "cell_type": "code",
   "execution_count": 2,
   "metadata": {},
   "outputs": [
    {
     "data": {
      "text/plain": [
       "<module 'ClevelandMcGill' from '../EXP/ClevelandMcGill/__init__.pyc'>"
      ]
     },
     "execution_count": 2,
     "metadata": {},
     "output_type": "execute_result"
    }
   ],
   "source": [
    "import os, sys, time\n",
    "import cPickle as pickle\n",
    "sys.path.append('../EXP/')\n",
    "import ClevelandMcGill as C\n",
    "reload(C)"
   ]
  },
  {
   "cell_type": "code",
   "execution_count": 3,
   "metadata": {},
   "outputs": [
    {
     "name": "stdout",
     "output_type": "stream",
     "text": [
      "Data [17.0, 39.0, 6.0, 28.0, 10.0]\n",
      "Labels without Rolling [ 0.43589744  1.          0.15384616  0.71794873  0.25641027]\n",
      "Labels [1.0, 0.15384616, 0.71794873, 0.25641027, 0.43589744]\n"
     ]
    }
   ],
   "source": [
    "data, labels = C.Figure3.generate_datapoint()\n",
    "print 'Data', data\n",
    "print 'Labels without Rolling', np.roll(labels, np.where(data==np.max(data))[0])\n",
    "print 'Labels', labels"
   ]
  },
  {
   "cell_type": "code",
   "execution_count": 4,
   "metadata": {},
   "outputs": [
    {
     "data": {
      "text/plain": [
       "<matplotlib.image.AxesImage at 0x7f7fc590be50>"
      ]
     },
     "execution_count": 4,
     "metadata": {},
     "output_type": "execute_result"
    },
    {
     "data": {
      "image/png": "[encoded data removed]",
      "text/plain": [
       "<matplotlib.figure.Figure at 0x7f7fcca89450>"
      ]
     },
     "metadata": {},
     "output_type": "display_data"
    }
   ],
   "source": [
    "imshow(C.Figure3.data_to_barchart(data))"
   ]
  },
  {
   "cell_type": "code",
   "execution_count": 5,
   "metadata": {},
   "outputs": [
    {
     "data": {
      "text/plain": [
       "<matplotlib.image.AxesImage at 0x7f7fc58b19d0>"
      ]
     },
     "execution_count": 5,
     "metadata": {},
     "output_type": "execute_result"
    },
    {
     "data": {
      "image/png": "[encoded data removed]",
      "text/plain": [
       "<matplotlib.figure.Figure at 0x7f7fc593a610>"
      ]
     },
     "metadata": {},
     "output_type": "display_data"
    }
   ],
   "source": [
    "imshow(C.Figure3.data_to_piechart(data))"
   ]
  },
  {
   "cell_type": "code",
   "execution_count": 11,
   "metadata": {},
   "outputs": [
    {
     "data": {
      "text/plain": [
       "<matplotlib.image.AxesImage at 0x7f7fc54d6b90>"
      ]
     },
     "execution_count": 11,
     "metadata": {},
     "output_type": "execute_result"
    },
    {
     "data": {
      "image/png": "[encoded data removed]",
      "text/plain": [
       "<matplotlib.figure.Figure at 0x7f7fc5637d50>"
      ]
     },
     "metadata": {},
     "output_type": "display_data"
    }
   ],
   "source": [
    "imshow(C.Figure3.data_to_piechart_aa(data), cmap='gray')"
   ]
  },
  {
   "cell_type": "code",
   "execution_count": 18,
   "metadata": {},
   "outputs": [
    {
     "name": "stdout",
     "output_type": "stream",
     "text": [
      "Done 687.970980167\n"
     ]
    }
   ],
   "source": [
    "#\n",
    "# create many\n",
    "#\n",
    "\n",
    "DATATYPE = eval('C.Figure3.data_to_piechart')\n",
    "NOISE = True\n",
    "\n",
    "train_counter = 0\n",
    "val_counter = 0\n",
    "test_counter = 0\n",
    "train_target = 60000\n",
    "val_target = 20000\n",
    "test_target = 20000\n",
    "\n",
    "train_labels = []\n",
    "val_labels = []\n",
    "test_labels = []\n",
    "\n",
    "\n",
    "X_train = np.zeros((train_target, 100, 100), dtype=np.float32)\n",
    "y_train = np.zeros((train_target, 5), dtype=np.float32)\n",
    "\n",
    "X_val = np.zeros((val_target, 100, 100), dtype=np.float32)\n",
    "y_val = np.zeros((val_target, 5), dtype=np.float32)\n",
    "\n",
    "X_test = np.zeros((test_target, 100, 100), dtype=np.float32)\n",
    "y_test = np.zeros((test_target, 5), dtype=np.float32)\n",
    "\n",
    "t0 = time.time()\n",
    "\n",
    "all_counter = 0\n",
    "while train_counter < train_target or val_counter < val_target or test_counter < test_target:\n",
    "  \n",
    "  all_counter += 1\n",
    "  \n",
    "  data, label = C.Figure3.generate_datapoint()\n",
    "  \n",
    "  pot = np.random.choice(3)\n",
    "  \n",
    "  # sometimes we know which pot is right\n",
    "  if label in train_labels:\n",
    "    pot = 0\n",
    "  if label in val_labels:\n",
    "    pot = 1\n",
    "  if label in test_labels:\n",
    "    pot = 2\n",
    "  \n",
    "  if pot == 0 and train_counter < train_target:\n",
    "\n",
    "    if label not in train_labels:\n",
    "      train_labels.append(label)\n",
    "    \n",
    "    #\n",
    "    image = DATATYPE(data)\n",
    "    image = image.astype(np.float32)\n",
    "      \n",
    "    # add noise?\n",
    "    if NOISE:\n",
    "      image += np.random.uniform(0, 0.05,(100,100))\n",
    "      \n",
    "    # safe to add to training\n",
    "    X_train[train_counter] = image\n",
    "    y_train[train_counter] = label\n",
    "    train_counter += 1\n",
    "    \n",
    "  elif pot == 1 and val_counter < val_target:\n",
    "\n",
    "    if label not in val_labels:\n",
    "      val_labels.append(label)\n",
    "      \n",
    "    image = DATATYPE(data)\n",
    "    image = image.astype(np.float32)\n",
    "      \n",
    "    # add noise?\n",
    "    if NOISE:\n",
    "      image += np.random.uniform(0, 0.05,(100,100))\n",
    "      \n",
    "    # safe to add to training\n",
    "    X_val[val_counter] = image\n",
    "    y_val[val_counter] = label\n",
    "    val_counter += 1\n",
    "    \n",
    "  elif pot == 2 and test_counter < test_target:\n",
    "\n",
    "    if label not in test_labels:\n",
    "      test_labels.append(label)\n",
    "      \n",
    "    image = DATATYPE(data)\n",
    "    image = image.astype(np.float32)\n",
    "      \n",
    "    # add noise?\n",
    "    if NOISE:\n",
    "      image += np.random.uniform(0, 0.05,(100,100))\n",
    "      \n",
    "    # safe to add to training\n",
    "    X_test[test_counter] = image\n",
    "    y_test[test_counter] = label\n",
    "    test_counter += 1\n",
    "    \n",
    "print 'Done', time.time()-t0\n"
   ]
  },
  {
   "cell_type": "code",
   "execution_count": 19,
   "metadata": {},
   "outputs": [
    {
     "data": {
      "text/plain": [
       "162724"
      ]
     },
     "execution_count": 19,
     "metadata": {},
     "output_type": "execute_result"
    }
   ],
   "source": [
    "all_counter"
   ]
  },
  {
   "cell_type": "code",
   "execution_count": 20,
   "metadata": {},
   "outputs": [
    {
     "data": {
      "text/plain": [
       "11584"
      ]
     },
     "execution_count": 20,
     "metadata": {},
     "output_type": "execute_result"
    }
   ],
   "source": [
    "len(val_labels)"
   ]
  },
  {
   "cell_type": "code",
   "execution_count": 21,
   "metadata": {},
   "outputs": [
    {
     "data": {
      "text/plain": [
       "60000"
      ]
     },
     "execution_count": 21,
     "metadata": {},
     "output_type": "execute_result"
    }
   ],
   "source": [
    "train_counter"
   ]
  },
  {
   "cell_type": "code",
   "execution_count": 23,
   "metadata": {},
   "outputs": [
    {
     "data": {
      "text/plain": [
       "[1.0, 0.92307693, 0.30769232, 0.1025641, 0.23076923]"
      ]
     },
     "execution_count": 23,
     "metadata": {},
     "output_type": "execute_result"
    }
   ],
   "source": [
    "max(val_labels)"
   ]
  },
  {
   "cell_type": "code",
   "execution_count": null,
   "metadata": {
    "collapsed": true
   },
   "outputs": [],
   "source": []
  }
 ],
 "metadata": {
  "kernelspec": {
   "display_name": "Python 2",
   "language": "python",
   "name": "python2"
  },
  "language_info": {
   "codemirror_mode": {
    "name": "ipython",
    "version": 2
   },
   "file_extension": ".py",
   "mimetype": "text/x-python",
   "name": "python",
   "nbconvert_exporter": "python",
   "pygments_lexer": "ipython2",
   "version": "2.7.14"
  }
 },
 "nbformat": 4,
 "nbformat_minor": 2
}
