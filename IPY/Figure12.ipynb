{
 "cells": [
  {
   "cell_type": "code",
   "execution_count": 1,
   "metadata": {},
   "outputs": [
    {
     "name": "stdout",
     "output_type": "stream",
     "text": [
      "Populating the interactive namespace from numpy and matplotlib\n"
     ]
    }
   ],
   "source": [
    "%pylab inline\n",
    "%load_ext autoreload\n",
    "%autoreload 2\n",
    "\n",
    "from jupyterthemes import jtplot\n",
    "jtplot.style()"
   ]
  },
  {
   "cell_type": "code",
   "execution_count": 2,
   "metadata": {},
   "outputs": [
    {
     "data": {
      "text/plain": [
       "<module 'ClevelandMcGill' from '../EXP/ClevelandMcGill/__init__.pyc'>"
      ]
     },
     "execution_count": 2,
     "metadata": {},
     "output_type": "execute_result"
    }
   ],
   "source": [
    "import os, sys, time\n",
    "import cPickle as pickle\n",
    "sys.path.append('../EXP/')\n",
    "import ClevelandMcGill as C\n",
    "reload(C)"
   ]
  },
  {
   "cell_type": "code",
   "execution_count": 3,
   "metadata": {},
   "outputs": [
    {
     "name": "stdout",
     "output_type": "stream",
     "text": [
      "Data [20, 18, 56, 60, 16, 54]\n",
      "Labels [56, 54]\n",
      "Parameters 57600\n"
     ]
    }
   ],
   "source": [
    "data, labels, parameters = C.Figure12.generate_datapoint()\n",
    "print 'Data', data\n",
    "print 'Labels', labels\n",
    "print 'Parameters', parameters"
   ]
  },
  {
   "cell_type": "code",
   "execution_count": 4,
   "metadata": {},
   "outputs": [
    {
     "data": {
      "text/plain": [
       "<matplotlib.image.AxesImage at 0x7fdd4e8e2210>"
      ]
     },
     "execution_count": 4,
     "metadata": {},
     "output_type": "execute_result"
    },
    {
     "data": {
      "image/png": "[encoded data removed]",
      "text/plain": [
       "<matplotlib.figure.Figure at 0x7fdd55a59310>"
      ]
     },
     "metadata": {},
     "output_type": "display_data"
    }
   ],
   "source": [
    "imshow(C.Figure12.data_to_image(data))"
   ]
  },
  {
   "cell_type": "code",
   "execution_count": 5,
   "metadata": {},
   "outputs": [
    {
     "data": {
      "text/plain": [
       "<matplotlib.image.AxesImage at 0x7fdd4e881a90>"
      ]
     },
     "execution_count": 5,
     "metadata": {},
     "output_type": "execute_result"
    },
    {
     "data": {
      "image/png": "[encoded data removed]",
      "text/plain": [
       "<matplotlib.figure.Figure at 0x7fdd4e8aa050>"
      ]
     },
     "metadata": {},
     "output_type": "display_data"
    }
   ],
   "source": [
    "imshow(C.Figure12.data_to_image(data, framed=False))"
   ]
  },
  {
   "cell_type": "code",
   "execution_count": 136,
   "metadata": {},
   "outputs": [
    {
     "name": "stdout",
     "output_type": "stream",
     "text": [
      "Done 27.7907910347\n"
     ]
    }
   ],
   "source": [
    "#\n",
    "# create many\n",
    "#\n",
    "\n",
    "DATATYPE = eval('C.Figure12.data_to_framed_rectangles')\n",
    "NOISE = True\n",
    "\n",
    "train_counter = 0\n",
    "val_counter = 0\n",
    "test_counter = 0\n",
    "train_target = 60000\n",
    "val_target = 20000\n",
    "test_target = 20000\n",
    "\n",
    "train_labels = []\n",
    "val_labels = []\n",
    "test_labels = []\n",
    "\n",
    "\n",
    "X_train = np.zeros((train_target, 100, 100), dtype=np.float32)\n",
    "y_train = np.zeros((train_target, 2), dtype=np.float32)\n",
    "\n",
    "X_val = np.zeros((val_target, 100, 100), dtype=np.float32)\n",
    "y_val = np.zeros((val_target, 2), dtype=np.float32)\n",
    "\n",
    "X_test = np.zeros((test_target, 100, 100), dtype=np.float32)\n",
    "y_test = np.zeros((test_target, 2), dtype=np.float32)\n",
    "\n",
    "t0 = time.time()\n",
    "\n",
    "all_counter = 0\n",
    "while train_counter < train_target or val_counter < val_target or test_counter < test_target:\n",
    "  \n",
    "  all_counter += 1\n",
    "  \n",
    "  data, label, parameters = C.Figure12.generate_datapoint()\n",
    "  \n",
    "  pot = np.random.choice(3)\n",
    "  \n",
    "  # sometimes we know which pot is right\n",
    "  if label in train_labels:\n",
    "    pot = 0\n",
    "  if label in val_labels:\n",
    "    pot = 1\n",
    "  if label in test_labels:\n",
    "    pot = 2\n",
    "  \n",
    "  if pot == 0 and train_counter < train_target:\n",
    "\n",
    "    if label not in train_labels:\n",
    "      train_labels.append(label)\n",
    "    \n",
    "    #\n",
    "    image = DATATYPE(data)\n",
    "    image = image.astype(np.float32)\n",
    "      \n",
    "    # add noise?\n",
    "    if NOISE:\n",
    "      image += np.random.uniform(0, 0.05,(100,100))\n",
    "      \n",
    "    # safe to add to training\n",
    "    X_train[train_counter] = image\n",
    "    y_train[train_counter] = label\n",
    "    train_counter += 1\n",
    "    \n",
    "  elif pot == 1 and val_counter < val_target:\n",
    "\n",
    "    if label not in val_labels:\n",
    "      val_labels.append(label)\n",
    "      \n",
    "    image = DATATYPE(data)\n",
    "    image = image.astype(np.float32)\n",
    "      \n",
    "    # add noise?\n",
    "    if NOISE:\n",
    "      image += np.random.uniform(0, 0.05,(100,100))\n",
    "      \n",
    "    # safe to add to training\n",
    "    X_val[val_counter] = image\n",
    "    y_val[val_counter] = label\n",
    "    val_counter += 1\n",
    "    \n",
    "  elif pot == 2 and test_counter < test_target:\n",
    "\n",
    "    if label not in test_labels:\n",
    "      test_labels.append(label)\n",
    "      \n",
    "    image = DATATYPE(data)\n",
    "    image = image.astype(np.float32)\n",
    "      \n",
    "    # add noise?\n",
    "    if NOISE:\n",
    "      image += np.random.uniform(0, 0.05,(100,100))\n",
    "      \n",
    "    # safe to add to training\n",
    "    X_test[test_counter] = image\n",
    "    y_test[test_counter] = label\n",
    "    test_counter += 1\n",
    "    \n",
    "print 'Done', time.time()-t0\n"
   ]
  },
  {
   "cell_type": "code",
   "execution_count": 137,
   "metadata": {},
   "outputs": [
    {
     "name": "stdout",
     "output_type": "stream",
     "text": [
      "31997 [ 57.  58.]\n"
     ]
    },
    {
     "data": {
      "image/png": "[encoded data removed]",
      "text/plain": [
       "<matplotlib.figure.Figure at 0x7fdd4e514210>"
      ]
     },
     "metadata": {},
     "output_type": "display_data"
    }
   ],
   "source": [
    "which = np.random.randint(len(X_train))\n",
    "imshow(X_train[which])\n",
    "print which, y_train[which]"
   ]
  },
  {
   "cell_type": "code",
   "execution_count": 144,
   "metadata": {},
   "outputs": [
    {
     "name": "stdout",
     "output_type": "stream",
     "text": [
      "12003 [ 52.  50.]\n"
     ]
    },
    {
     "data": {
      "image/png": "[encoded data removed]",
      "text/plain": [
       "<matplotlib.figure.Figure at 0x7fdd36331510>"
      ]
     },
     "metadata": {},
     "output_type": "display_data"
    }
   ],
   "source": [
    "which = np.random.randint(len(X_val))\n",
    "imshow(X_val[which])\n",
    "print which, y_val[which]"
   ]
  },
  {
   "cell_type": "code",
   "execution_count": 138,
   "metadata": {},
   "outputs": [
    {
     "data": {
      "text/plain": [
       "(49.0, 60.0)"
      ]
     },
     "execution_count": 138,
     "metadata": {},
     "output_type": "execute_result"
    }
   ],
   "source": [
    "y_train.min(), y_train.max()"
   ]
  },
  {
   "cell_type": "code",
   "execution_count": 103,
   "metadata": {},
   "outputs": [
    {
     "data": {
      "text/plain": [
       "0.9803921568627451"
      ]
     },
     "execution_count": 103,
     "metadata": {},
     "output_type": "execute_result"
    }
   ],
   "source": [
    "50/51."
   ]
  },
  {
   "cell_type": "code",
   "execution_count": 142,
   "metadata": {},
   "outputs": [
    {
     "data": {
      "text/plain": [
       "12"
      ]
     },
     "execution_count": 142,
     "metadata": {},
     "output_type": "execute_result"
    }
   ],
   "source": [
    "len(range(y_train.min(),int(y_train.max()+1)))"
   ]
  },
  {
   "cell_type": "code",
   "execution_count": 135,
   "metadata": {},
   "outputs": [
    {
     "data": {
      "text/plain": [
       "67600"
      ]
     },
     "execution_count": 135,
     "metadata": {},
     "output_type": "execute_result"
    }
   ],
   "source": [
    "parameters"
   ]
  },
  {
   "cell_type": "code",
   "execution_count": 33,
   "metadata": {},
   "outputs": [
    {
     "name": "stdout",
     "output_type": "stream",
     "text": [
      "another 1000\n",
      "another 1000\n",
      "another 1000\n",
      "another 1000\n",
      "another 1000\n",
      "another 1000\n",
      "another 1000\n",
      "another 1000\n",
      "another 1000\n",
      "another 1000\n",
      "another 1000\n",
      "another 1000\n",
      "another 1000\n",
      "another 1000\n",
      "another 1000\n"
     ]
    },
    {
     "ename": "KeyboardInterrupt",
     "evalue": "",
     "output_type": "error",
     "traceback": [
      "\u001b[0;31m---------------------------------------------------------------------------\u001b[0m",
      "\u001b[0;31mKeyboardInterrupt\u001b[0m                         Traceback (most recent call last)",
      "\u001b[0;32m<ipython-input-33-0190284a9919>\u001b[0m in \u001b[0;36m<module>\u001b[0;34m()\u001b[0m\n\u001b[1;32m     67\u001b[0m \u001b[0;34m\u001b[0m\u001b[0m\n\u001b[1;32m     68\u001b[0m   \u001b[0;31m# adjust pot in case we already know where it goes\u001b[0m\u001b[0;34m\u001b[0m\u001b[0;34m\u001b[0m\u001b[0m\n\u001b[0;32m---> 69\u001b[0;31m   \u001b[0;32mif\u001b[0m \u001b[0min_array\u001b[0m\u001b[0;34m(\u001b[0m\u001b[0my_train\u001b[0m\u001b[0;34m,\u001b[0m \u001b[0mlabel\u001b[0m\u001b[0;34m)\u001b[0m\u001b[0;34m:\u001b[0m\u001b[0;34m\u001b[0m\u001b[0m\n\u001b[0m\u001b[1;32m     70\u001b[0m     \u001b[0;31m# this must be pot 0\u001b[0m\u001b[0;34m\u001b[0m\u001b[0;34m\u001b[0m\u001b[0m\n\u001b[1;32m     71\u001b[0m     \u001b[0mpot\u001b[0m \u001b[0;34m=\u001b[0m \u001b[0;36m0\u001b[0m\u001b[0;34m\u001b[0m\u001b[0m\n",
      "\u001b[0;32m<ipython-input-33-0190284a9919>\u001b[0m in \u001b[0;36min_array\u001b[0;34m(haystack, needle)\u001b[0m\n\u001b[1;32m     13\u001b[0m \u001b[0;32mdef\u001b[0m \u001b[0min_array\u001b[0m\u001b[0;34m(\u001b[0m\u001b[0mhaystack\u001b[0m\u001b[0;34m,\u001b[0m \u001b[0mneedle\u001b[0m\u001b[0;34m)\u001b[0m\u001b[0;34m:\u001b[0m\u001b[0;34m\u001b[0m\u001b[0m\n\u001b[1;32m     14\u001b[0m   \u001b[0;32mfor\u001b[0m \u001b[0mh\u001b[0m \u001b[0;32min\u001b[0m \u001b[0mhaystack\u001b[0m\u001b[0;34m:\u001b[0m\u001b[0;34m\u001b[0m\u001b[0m\n\u001b[0;32m---> 15\u001b[0;31m     \u001b[0;32mif\u001b[0m \u001b[0mnp\u001b[0m\u001b[0;34m.\u001b[0m\u001b[0marray_equal\u001b[0m\u001b[0;34m(\u001b[0m\u001b[0mneedle\u001b[0m\u001b[0;34m,\u001b[0m \u001b[0mh\u001b[0m\u001b[0;34m)\u001b[0m\u001b[0;34m:\u001b[0m\u001b[0;34m\u001b[0m\u001b[0m\n\u001b[0m\u001b[1;32m     16\u001b[0m       \u001b[0;32mreturn\u001b[0m \u001b[0mTrue\u001b[0m\u001b[0;34m\u001b[0m\u001b[0m\n\u001b[1;32m     17\u001b[0m   \u001b[0;32mreturn\u001b[0m \u001b[0mFalse\u001b[0m\u001b[0;34m\u001b[0m\u001b[0m\n",
      "\u001b[0;32m/home/d/anaconda2/envs/CP/lib/python2.7/site-packages/numpy/core/numeric.pyc\u001b[0m in \u001b[0;36marray_equal\u001b[0;34m(a1, a2)\u001b[0m\n\u001b[1;32m   2602\u001b[0m     \u001b[0;32mif\u001b[0m \u001b[0ma1\u001b[0m\u001b[0;34m.\u001b[0m\u001b[0mshape\u001b[0m \u001b[0;34m!=\u001b[0m \u001b[0ma2\u001b[0m\u001b[0;34m.\u001b[0m\u001b[0mshape\u001b[0m\u001b[0;34m:\u001b[0m\u001b[0;34m\u001b[0m\u001b[0m\n\u001b[1;32m   2603\u001b[0m         \u001b[0;32mreturn\u001b[0m \u001b[0mFalse\u001b[0m\u001b[0;34m\u001b[0m\u001b[0m\n\u001b[0;32m-> 2604\u001b[0;31m     \u001b[0;32mreturn\u001b[0m \u001b[0mbool\u001b[0m\u001b[0;34m(\u001b[0m\u001b[0masarray\u001b[0m\u001b[0;34m(\u001b[0m\u001b[0ma1\u001b[0m \u001b[0;34m==\u001b[0m \u001b[0ma2\u001b[0m\u001b[0;34m)\u001b[0m\u001b[0;34m.\u001b[0m\u001b[0mall\u001b[0m\u001b[0;34m(\u001b[0m\u001b[0;34m)\u001b[0m\u001b[0;34m)\u001b[0m\u001b[0;34m\u001b[0m\u001b[0m\n\u001b[0m\u001b[1;32m   2605\u001b[0m \u001b[0;34m\u001b[0m\u001b[0m\n\u001b[1;32m   2606\u001b[0m \u001b[0;34m\u001b[0m\u001b[0m\n",
      "\u001b[0;31mKeyboardInterrupt\u001b[0m: "
     ]
    }
   ],
   "source": [
    "#\n",
    "# create many\n",
    "#\n",
    "\n",
    "DATATYPE = eval('C.Figure12.data_to_bars')\n",
    "NOISE = True\n",
    "\n",
    "#\n",
    "#\n",
    "# DATA GENERATION\n",
    "#\n",
    "#\n",
    "def in_array(haystack, needle):\n",
    "  for h in haystack:\n",
    "    if np.array_equal(needle, h):\n",
    "      return True\n",
    "  return False\n",
    "\n",
    "train_target = 6000\n",
    "val_target = 2000\n",
    "test_target = 2000\n",
    "\n",
    "\n",
    "# # get global min and max\n",
    "# global_min = np.inf\n",
    "# global_max = -np.inf\n",
    "# for N in range(train_target+val_target+test_target):\n",
    "  \n",
    "#   data, label, parameters = C.Figure12.generate_datapoint()\n",
    "  \n",
    "#   global_min = min(label, global_min)\n",
    "#   global_max = max(label, global_max)\n",
    "  \n",
    "#   print label, global_min, global_max\n",
    "# # end of global min max\n",
    "\n",
    "\n",
    "X_train = np.zeros((train_target, 100, 100), dtype=np.float32)\n",
    "y_train = np.zeros((train_target, 2), dtype=np.float32)\n",
    "train_counter = 0\n",
    "\n",
    "X_val = np.zeros((val_target, 100, 100), dtype=np.float32)\n",
    "y_val = np.zeros((val_target, 2), dtype=np.float32)\n",
    "val_counter = 0\n",
    "\n",
    "X_test = np.zeros((test_target, 100, 100), dtype=np.float32)\n",
    "y_test = np.zeros((test_target, 2), dtype=np.float32)\n",
    "test_counter = 0\n",
    "\n",
    "t0 = time.time()\n",
    "\n",
    "all_counter = 0\n",
    "while train_counter < train_target or val_counter < val_target or test_counter < test_target:\n",
    "  \n",
    "  if (all_counter % 1000) == 0:\n",
    "    print 'another 1000'\n",
    "  \n",
    "  all_counter += 1\n",
    "  \n",
    "  data, label, parameters = C.Figure12.generate_datapoint()\n",
    "  \n",
    "  \n",
    "\n",
    "  \n",
    "  \n",
    "  pot = np.random.choice(3)\n",
    "  \n",
    "  # adjust pot in case we already know where it goes\n",
    "  if in_array(y_train, label):\n",
    "    # this must be pot 0\n",
    "    pot = 0\n",
    "  elif in_array(y_val, label):\n",
    "    # this must be pot 1\n",
    "    pot = 1\n",
    "  elif in_array(y_test, label):\n",
    "    # this must be pot 2\n",
    "    pot = 2\n",
    "\n",
    "  if pot == 0 and train_counter < train_target:\n",
    "    # a training candidate\n",
    "#     if in_array(y_val, label) or in_array(y_test, label):\n",
    "#       # no thank you\n",
    "#       continue\n",
    "      \n",
    "    #\n",
    "    image = DATATYPE(data)\n",
    "    image = image.astype(np.float32)\n",
    "      \n",
    "    # add noise?\n",
    "    if NOISE:\n",
    "      image += np.random.uniform(0, 0.05,(100,100))\n",
    "      \n",
    "    # safe to add to training\n",
    "    X_train[train_counter] = image\n",
    "    y_train[train_counter] = label\n",
    "    train_counter += 1\n",
    "    \n",
    "  elif pot == 1 and val_counter < val_target:\n",
    "    # a validation candidate\n",
    "#     if in_array(y_test, label) or in_array(y_train, label):\n",
    "#       # no thank you\n",
    "#       continue\n",
    "      \n",
    "    #\n",
    "    image = DATATYPE(data)\n",
    "    image = image.astype(np.float32)\n",
    "      \n",
    "    # add noise?\n",
    "    if NOISE:\n",
    "      image += np.random.uniform(0, 0.05,(100,100))\n",
    "      \n",
    "    # safe to add to validation\n",
    "    X_val[val_counter] = image\n",
    "    y_val[val_counter] = label\n",
    "    val_counter += 1\n",
    "  \n",
    "  elif pot == 2 and test_counter < test_target:\n",
    "    # a test candidate\n",
    "#     if in_array(y_val, label) or in_array(y_train, label):\n",
    "#       # no thank you\n",
    "#       continue\n",
    "      \n",
    "    #\n",
    "    image = DATATYPE(data)\n",
    "    image = image.astype(np.float32)\n",
    "      \n",
    "    # add noise?\n",
    "    if NOISE:\n",
    "      image += np.random.uniform(0, 0.05,(100,100))\n",
    "      \n",
    "    # safe to add to test\n",
    "    X_test[test_counter] = image\n",
    "    y_test[test_counter] = label\n",
    "    test_counter += 1\n",
    "  \n",
    "  \n",
    "  \n",
    "print 'Done', time.time()-t0, 'seconds (', all_counter, 'iterations)'\n",
    "\n",
    "\n",
    "#"
   ]
  },
  {
   "cell_type": "code",
   "execution_count": 34,
   "metadata": {},
   "outputs": [
    {
     "data": {
      "text/plain": [
       "4183"
      ]
     },
     "execution_count": 34,
     "metadata": {},
     "output_type": "execute_result"
    }
   ],
   "source": [
    "train_counter"
   ]
  },
  {
   "cell_type": "code",
   "execution_count": 35,
   "metadata": {},
   "outputs": [
    {
     "data": {
      "text/plain": [
       "14288"
      ]
     },
     "execution_count": 35,
     "metadata": {},
     "output_type": "execute_result"
    }
   ],
   "source": [
    "all_counter"
   ]
  },
  {
   "cell_type": "code",
   "execution_count": 36,
   "metadata": {},
   "outputs": [
    {
     "data": {
      "text/plain": [
       "2000"
      ]
     },
     "execution_count": 36,
     "metadata": {},
     "output_type": "execute_result"
    }
   ],
   "source": [
    "val_counter"
   ]
  },
  {
   "cell_type": "code",
   "execution_count": 37,
   "metadata": {},
   "outputs": [
    {
     "data": {
      "text/plain": [
       "2000"
      ]
     },
     "execution_count": 37,
     "metadata": {},
     "output_type": "execute_result"
    }
   ],
   "source": [
    "test_counter"
   ]
  },
  {
   "cell_type": "code",
   "execution_count": 28,
   "metadata": {},
   "outputs": [
    {
     "data": {
      "text/plain": [
       "array([[ 52.,  54.],\n",
       "       [ 53.,  51.],\n",
       "       [ 58.,  59.],\n",
       "       [ 53.,  51.],\n",
       "       [ 50.,  56.],\n",
       "       [ 50.,  57.],\n",
       "       [ 59.,  59.],\n",
       "       [ 53.,  58.],\n",
       "       [ 53.,  58.],\n",
       "       [ 50.,  54.],\n",
       "       [ 58.,  52.],\n",
       "       [ 49.,  51.],\n",
       "       [ 53.,  59.],\n",
       "       [ 50.,  55.],\n",
       "       [ 53.,  48.],\n",
       "       [ 52.,  53.],\n",
       "       [ 50.,  58.],\n",
       "       [ 53.,  51.],\n",
       "       [ 56.,  52.],\n",
       "       [ 55.,  58.],\n",
       "       [ 52.,  50.],\n",
       "       [ 58.,  59.],\n",
       "       [ 53.,  48.],\n",
       "       [ 56.,  52.],\n",
       "       [ 50.,  54.],\n",
       "       [ 52.,  50.],\n",
       "       [ 56.,  56.],\n",
       "       [ 55.,  53.],\n",
       "       [ 52.,  54.],\n",
       "       [ 50.,  58.],\n",
       "       [ 49.,  51.],\n",
       "       [ 52.,  54.],\n",
       "       [ 55.,  49.],\n",
       "       [ 49.,  48.],\n",
       "       [ 57.,  49.],\n",
       "       [ 57.,  49.],\n",
       "       [ 58.,  54.],\n",
       "       [ 57.,  55.],\n",
       "       [ 52.,  53.],\n",
       "       [ 59.,  58.],\n",
       "       [ 52.,  49.],\n",
       "       [ 55.,  58.],\n",
       "       [ 55.,  54.],\n",
       "       [ 57.,  53.],\n",
       "       [ 53.,  51.],\n",
       "       [ 50.,  55.],\n",
       "       [ 53.,  48.],\n",
       "       [ 59.,  59.],\n",
       "       [ 58.,  59.],\n",
       "       [ 58.,  52.],\n",
       "       [ 53.,  56.],\n",
       "       [ 55.,  57.],\n",
       "       [ 56.,  49.],\n",
       "       [ 56.,  52.],\n",
       "       [ 49.,  53.],\n",
       "       [ 56.,  55.],\n",
       "       [ 58.,  59.],\n",
       "       [ 50.,  50.],\n",
       "       [ 56.,  56.],\n",
       "       [ 53.,  59.],\n",
       "       [ 49.,  56.],\n",
       "       [ 59.,  59.],\n",
       "       [ 55.,  53.],\n",
       "       [ 55.,  49.],\n",
       "       [ 58.,  56.],\n",
       "       [ 59.,  58.],\n",
       "       [ 57.,  53.],\n",
       "       [ 50.,  57.],\n",
       "       [ 57.,  55.],\n",
       "       [ 48.,  56.],\n",
       "       [ 52.,  49.],\n",
       "       [ 53.,  51.],\n",
       "       [ 50.,  55.],\n",
       "       [ 52.,  53.],\n",
       "       [ 48.,  55.],\n",
       "       [ 49.,  53.],\n",
       "       [ 53.,  51.],\n",
       "       [ 53.,  51.],\n",
       "       [ 52.,  52.],\n",
       "       [ 53.,  50.],\n",
       "       [ 59.,  58.],\n",
       "       [ 53.,  50.],\n",
       "       [ 56.,  49.],\n",
       "       [ 50.,  49.],\n",
       "       [ 48.,  55.],\n",
       "       [ 53.,  48.],\n",
       "       [ 58.,  56.],\n",
       "       [ 51.,  54.],\n",
       "       [ 56.,  52.],\n",
       "       [ 58.,  52.],\n",
       "       [ 50.,  57.],\n",
       "       [ 53.,  51.],\n",
       "       [ 58.,  59.],\n",
       "       [ 49.,  56.],\n",
       "       [ 49.,  48.],\n",
       "       [ 53.,  48.],\n",
       "       [ 49.,  51.],\n",
       "       [ 56.,  53.],\n",
       "       [ 52.,  48.],\n",
       "       [ 50.,  54.],\n",
       "       [ 50.,  54.],\n",
       "       [ 52.,  58.],\n",
       "       [ 48.,  56.],\n",
       "       [ 49.,  56.],\n",
       "       [ 55.,  57.],\n",
       "       [ 58.,  56.],\n",
       "       [ 59.,  59.],\n",
       "       [ 55.,  54.],\n",
       "       [ 49.,  53.],\n",
       "       [ 49.,  48.],\n",
       "       [ 49.,  51.],\n",
       "       [ 53.,  55.],\n",
       "       [ 52.,  50.],\n",
       "       [ 52.,  54.],\n",
       "       [ 49.,  51.],\n",
       "       [ 56.,  49.],\n",
       "       [ 49.,  56.],\n",
       "       [ 58.,  53.],\n",
       "       [ 50.,  50.],\n",
       "       [ 50.,  58.],\n",
       "       [ 50.,  49.],\n",
       "       [ 53.,  59.],\n",
       "       [ 53.,  48.],\n",
       "       [ 53.,  50.],\n",
       "       [ 53.,  56.],\n",
       "       [ 50.,  49.],\n",
       "       [ 52.,  50.],\n",
       "       [ 55.,  57.],\n",
       "       [ 55.,  53.],\n",
       "       [ 57.,  53.],\n",
       "       [ 54.,  53.],\n",
       "       [ 58.,  59.],\n",
       "       [ 48.,  56.],\n",
       "       [ 58.,  56.],\n",
       "       [ 55.,  53.],\n",
       "       [ 53.,  55.],\n",
       "       [ 53.,  51.],\n",
       "       [ 55.,  49.],\n",
       "       [ 52.,  50.],\n",
       "       [ 50.,  55.],\n",
       "       [ 57.,  49.],\n",
       "       [ 53.,  55.],\n",
       "       [ 49.,  58.],\n",
       "       [ 50.,  57.],\n",
       "       [ 52.,  52.],\n",
       "       [ 55.,  49.],\n",
       "       [ 56.,  56.],\n",
       "       [ 59.,  59.],\n",
       "       [ 51.,  54.],\n",
       "       [ 50.,  57.],\n",
       "       [ 57.,  58.],\n",
       "       [ 58.,  54.],\n",
       "       [ 48.,  56.],\n",
       "       [ 53.,  50.],\n",
       "       [ 58.,  53.],\n",
       "       [ 58.,  56.],\n",
       "       [ 53.,  55.],\n",
       "       [ 58.,  49.],\n",
       "       [ 57.,  55.],\n",
       "       [ 55.,  58.],\n",
       "       [ 49.,  50.],\n",
       "       [ 55.,  49.],\n",
       "       [ 50.,  50.],\n",
       "       [ 53.,  50.],\n",
       "       [ 53.,  55.],\n",
       "       [ 49.,  50.],\n",
       "       [ 53.,  59.],\n",
       "       [ 52.,  48.],\n",
       "       [ 49.,  58.],\n",
       "       [ 55.,  53.],\n",
       "       [ 56.,  49.],\n",
       "       [ 59.,  59.],\n",
       "       [ 59.,  59.],\n",
       "       [ 53.,  50.],\n",
       "       [ 54.,  53.],\n",
       "       [ 52.,  48.],\n",
       "       [ 58.,  52.],\n",
       "       [ 51.,  54.],\n",
       "       [ 52.,  53.],\n",
       "       [ 52.,  52.],\n",
       "       [ 53.,  48.],\n",
       "       [ 50.,  55.],\n",
       "       [ 52.,  58.],\n",
       "       [ 56.,  55.],\n",
       "       [ 50.,  54.],\n",
       "       [ 58.,  59.],\n",
       "       [ 56.,  55.],\n",
       "       [ 50.,  58.],\n",
       "       [ 53.,  59.],\n",
       "       [ 52.,  58.],\n",
       "       [ 50.,  54.],\n",
       "       [ 57.,  53.],\n",
       "       [ 55.,  58.],\n",
       "       [ 53.,  55.],\n",
       "       [ 58.,  56.],\n",
       "       [ 56.,  56.],\n",
       "       [ 50.,  49.],\n",
       "       [ 52.,  50.],\n",
       "       [ 56.,  49.],\n",
       "       [ 50.,  49.]], dtype=float32)"
      ]
     },
     "execution_count": 28,
     "metadata": {},
     "output_type": "execute_result"
    }
   ],
   "source": [
    "y_val"
   ]
  },
  {
   "cell_type": "code",
   "execution_count": null,
   "metadata": {
    "collapsed": true
   },
   "outputs": [],
   "source": []
  }
 ],
 "metadata": {
  "kernelspec": {
   "display_name": "Python 2",
   "language": "python",
   "name": "python2"
  },
  "language_info": {
   "codemirror_mode": {
    "name": "ipython",
    "version": 2
   },
   "file_extension": ".py",
   "mimetype": "text/x-python",
   "name": "python",
   "nbconvert_exporter": "python",
   "pygments_lexer": "ipython2",
   "version": "2.7.14"
  }
 },
 "nbformat": 4,
 "nbformat_minor": 2
}
