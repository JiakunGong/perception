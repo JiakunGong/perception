{
 "cells": [
  {
   "cell_type": "code",
   "execution_count": 6,
   "metadata": {},
   "outputs": [
    {
     "name": "stdout",
     "output_type": "stream",
     "text": [
      "Populating the interactive namespace from numpy and matplotlib\n"
     ]
    }
   ],
   "source": [
    "%pylab inline\n",
    "%load_ext autoreload\n",
    "%autoreload 2\n",
    "\n",
    "from jupyterthemes import jtplot\n",
    "jtplot.style()"
   ]
  },
  {
   "cell_type": "code",
   "execution_count": 95,
   "metadata": {},
   "outputs": [
    {
     "data": {
      "text/plain": [
       "<module 'ClevelandMcGill' from '../EXP/ClevelandMcGill/__init__.pyc'>"
      ]
     },
     "execution_count": 95,
     "metadata": {},
     "output_type": "execute_result"
    }
   ],
   "source": [
    "import os, sys, time\n",
    "import cPickle as pickle\n",
    "sys.path.append('../EXP/')\n",
    "import ClevelandMcGill as C\n",
    "reload(C)"
   ]
  },
  {
   "cell_type": "code",
   "execution_count": 96,
   "metadata": {},
   "outputs": [
    {
     "name": "stdout",
     "output_type": "stream",
     "text": [
      "Data [20, 16, 57, 60, 13, 54]\n",
      "Labels [57, 54]\n",
      "Parameters 57600\n"
     ]
    }
   ],
   "source": [
    "data, labels, parameters = C.Figure12.generate_datapoint()\n",
    "print 'Data', data\n",
    "print 'Labels', labels\n",
    "print 'Parameters', parameters"
   ]
  },
  {
   "cell_type": "code",
   "execution_count": 97,
   "metadata": {},
   "outputs": [
    {
     "data": {
      "text/plain": [
       "<matplotlib.image.AxesImage at 0x7f65ad64e450>"
      ]
     },
     "execution_count": 97,
     "metadata": {},
     "output_type": "execute_result"
    },
    {
     "data": {
      "image/png": "[encoded data removed]",
      "text/plain": [
       "<matplotlib.figure.Figure at 0x7f65ad709110>"
      ]
     },
     "metadata": {},
     "output_type": "display_data"
    }
   ],
   "source": [
    "imshow(C.Figure12.data_to_image(data))"
   ]
  },
  {
   "cell_type": "code",
   "execution_count": 98,
   "metadata": {},
   "outputs": [
    {
     "data": {
      "text/plain": [
       "<matplotlib.image.AxesImage at 0x7f65ad5c0850>"
      ]
     },
     "execution_count": 98,
     "metadata": {},
     "output_type": "execute_result"
    },
    {
     "data": {
      "image/png": "[encoded data removed]",
      "text/plain": [
       "<matplotlib.figure.Figure at 0x7f65ad61f250>"
      ]
     },
     "metadata": {},
     "output_type": "display_data"
    }
   ],
   "source": [
    "imshow(C.Figure12.data_to_image(data, framed=False))"
   ]
  },
  {
   "cell_type": "code",
   "execution_count": null,
   "metadata": {
    "collapsed": true
   },
   "outputs": [],
   "source": []
  },
  {
   "cell_type": "code",
   "execution_count": null,
   "metadata": {},
   "outputs": [],
   "source": [
    "#\n",
    "# create many\n",
    "#\n",
    "\n",
    "DATATYPE = eval('C.Figure12.data_to_bars')\n",
    "NOISE = True\n",
    "\n",
    "#\n",
    "#\n",
    "# DATA GENERATION\n",
    "#\n",
    "#\n",
    "def in_array(haystack, needle):\n",
    "  for h in haystack:\n",
    "    if np.array_equal(needle, h):\n",
    "      return True\n",
    "  return False\n",
    "\n",
    "train_target = 60000\n",
    "val_target = 20000\n",
    "test_target = 20000\n",
    "\n",
    "\n",
    "# # get global min and max\n",
    "# global_min = np.inf\n",
    "# global_max = -np.inf\n",
    "# for N in range(train_target+val_target+test_target):\n",
    "  \n",
    "#   data, label, parameters = C.Figure12.generate_datapoint()\n",
    "  \n",
    "#   global_min = min(label, global_min)\n",
    "#   global_max = max(label, global_max)\n",
    "  \n",
    "#   print label, global_min, global_max\n",
    "# # end of global min max\n",
    "\n",
    "\n",
    "X_train = np.zeros((train_target, 100, 100), dtype=np.float32)\n",
    "y_train = np.zeros((train_target, 2), dtype=np.float32)\n",
    "train_counter = 0\n",
    "\n",
    "X_val = np.zeros((val_target, 100, 100), dtype=np.float32)\n",
    "y_val = np.zeros((val_target, 2), dtype=np.float32)\n",
    "val_counter = 0\n",
    "\n",
    "X_test = np.zeros((test_target, 100, 100), dtype=np.float32)\n",
    "y_test = np.zeros((test_target, 2), dtype=np.float32)\n",
    "test_counter = 0\n",
    "\n",
    "t0 = time.time()\n",
    "\n",
    "all_counter = 0\n",
    "while train_counter < train_target or val_counter < val_target or test_counter < test_target:\n",
    "  \n",
    "  all_counter += 1\n",
    "  \n",
    "  data, label, parameters = C.Figure12.generate_datapoint()\n",
    "  \n",
    "  \n",
    "\n",
    "  \n",
    "  \n",
    "  pot = np.random.choice(3)\n",
    "\n",
    "  if pot == 0 and train_counter < train_target:\n",
    "    # a training candidate\n",
    "    if in_array(y_val, label) or in_array(y_test, label):\n",
    "      # no thank you\n",
    "      continue\n",
    "      \n",
    "    #\n",
    "    image = DATATYPE(data)\n",
    "    image = image.astype(np.float32)\n",
    "      \n",
    "    # add noise?\n",
    "    if NOISE:\n",
    "      image += np.random.uniform(0, 0.05,(100,100))\n",
    "      \n",
    "    # safe to add to training\n",
    "    X_train[train_counter] = image\n",
    "    y_train[train_counter] = label\n",
    "    train_counter += 1\n",
    "    \n",
    "  elif pot == 1 and val_counter < val_target:\n",
    "    # a validation candidate\n",
    "    if in_array(y_test, label) or in_array(y_train, label):\n",
    "      # no thank you\n",
    "      continue\n",
    "      \n",
    "    #\n",
    "    image = DATATYPE(data)\n",
    "    image = image.astype(np.float32)\n",
    "      \n",
    "    # add noise?\n",
    "    if NOISE:\n",
    "      image += np.random.uniform(0, 0.05,(100,100))\n",
    "      \n",
    "    # safe to add to validation\n",
    "    X_val[val_counter] = image\n",
    "    y_val[val_counter] = label\n",
    "    val_counter += 1\n",
    "  \n",
    "  elif pot == 2 and test_counter < test_target:\n",
    "    # a test candidate\n",
    "    if in_array(y_val, label) or in_array(y_train, label):\n",
    "      # no thank you\n",
    "      continue\n",
    "      \n",
    "    #\n",
    "    image = DATATYPE(data)\n",
    "    image = image.astype(np.float32)\n",
    "      \n",
    "    # add noise?\n",
    "    if NOISE:\n",
    "      image += np.random.uniform(0, 0.05,(100,100))\n",
    "      \n",
    "    # safe to add to test\n",
    "    X_test[test_counter] = image\n",
    "    y_test[test_counter] = label\n",
    "    test_counter += 1\n",
    "  \n",
    "  \n",
    "  \n",
    "print 'Done', time.time()-t0, 'seconds (', all_counter, 'iterations)'\n",
    "\n",
    "\n",
    "#"
   ]
  },
  {
   "cell_type": "code",
   "execution_count": null,
   "metadata": {
    "collapsed": true
   },
   "outputs": [],
   "source": []
  }
 ],
 "metadata": {
  "kernelspec": {
   "display_name": "Python 2",
   "language": "python",
   "name": "python2"
  },
  "language_info": {
   "codemirror_mode": {
    "name": "ipython",
    "version": 2
   },
   "file_extension": ".py",
   "mimetype": "text/x-python",
   "name": "python",
   "nbconvert_exporter": "python",
   "pygments_lexer": "ipython2",
   "version": "2.7.14"
  }
 },
 "nbformat": 4,
 "nbformat_minor": 2
}
