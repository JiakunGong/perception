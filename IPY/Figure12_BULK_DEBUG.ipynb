{
 "cells": [
  {
   "cell_type": "code",
   "execution_count": 14,
   "metadata": {},
   "outputs": [
    {
     "name": "stdout",
     "output_type": "stream",
     "text": [
      "Running Figure12 on dataset 1 Framed with LeNet\n"
     ]
    }
   ],
   "source": [
    "from sklearn.model_selection import RepeatedStratifiedKFold \n",
    "from keras import models\n",
    "from keras import layers\n",
    "from keras import optimizers\n",
    "import keras.applications\n",
    "from keras.utils.np_utils import to_categorical\n",
    "\n",
    "import cPickle as pickle\n",
    "import numpy as np\n",
    "import os\n",
    "import sys\n",
    "import time\n",
    "\n",
    "sys.path.append('../EXP/')\n",
    "import ClevelandMcGill as C\n",
    "\n",
    "\n",
    "EXPERIMENT = 'Figure12'\n",
    "DATASET = 1\n",
    "FEATUREGENERATOR = 'LeNet'\n",
    "FRAMED = 'Framed'\n",
    "\n",
    "#\n",
    "#\n",
    "#\n",
    "print 'Running', EXPERIMENT, 'on dataset', DATASET, FRAMED, 'with', FEATUREGENERATOR\n",
    "\n",
    "\n",
    "EPOCHS = 10\n",
    "FRAMED_BOOL = (FRAMED == 'Framed')\n",
    "NO_SPLITS = 10\n",
    "NO_REPEATS = 4\n",
    "BATCH_SIZE = 32\n",
    "\n",
    "FEATUREGENERATORS = {'MLP': 'Just MLP',\n",
    "                     'LeNet': 'LeNet',\n",
    "                     'VGG19': keras.applications.VGG19,\n",
    "                     'Xception': keras.applications.Xception,\n",
    "                     'DenseNet201': keras.applications.DenseNet201}\n",
    "\n",
    "\n",
    "#\n",
    "#\n",
    "# We store now a folder structure:\n",
    "#   RESULTS/Experiment/Dataset/FeatureGenerator/Framed/EPOCHS_NOSPLITS_NOREPEATS_INDEX.p\n",
    "#\n",
    "# INDEX is the index of the current run\n",
    "#\n",
    "OUTPUT_DIRECTORY = os.path.join('../RESULTS_NEW/', EXPERIMENT, str(DATASET), FEATUREGENERATOR, FRAMED)\n",
    "if not os.path.exists(OUTPUT_DIRECTORY):\n",
    "  os.makedirs(OUTPUT_DIRECTORY)\n",
    "\n",
    "\n",
    "#\n",
    "#\n",
    "# LOAD DATA\n",
    "#\n",
    "#\n",
    "if EXPERIMENT == 'Figure12':\n",
    "  images, framed_images, labels = C.Figure12.load(dataset=int(DATASET),preview=False)\n",
    "\n",
    "  if FRAMED_BOOL:\n",
    "    X = framed_images\n",
    "  else:\n",
    "    X = images\n",
    "\n",
    "  X = np.stack((X,)*3, -1) # make sure we have RGB\n",
    "  X = X.astype(np.float32)-.5 # normalize\n",
    "  y = labels\n"
   ]
  },
  {
   "cell_type": "code",
   "execution_count": 15,
   "metadata": {},
   "outputs": [
    {
     "data": {
      "text/plain": [
       "(100000, 100, 100, 3)"
      ]
     },
     "execution_count": 15,
     "metadata": {},
     "output_type": "execute_result"
    }
   ],
   "source": [
    "X.shape"
   ]
  },
  {
   "cell_type": "code",
   "execution_count": 19,
   "metadata": {},
   "outputs": [
    {
     "name": "stdout",
     "output_type": "stream",
     "text": [
      "[  4  24  27  32  40  52  81  85  88 122 161 164 166 176 195 200 201 212\n",
      " 222 224] (10001,)\n",
      "[  2   3  45  51  60  71  83  94  99 100 128 137 150 154 175 178 179 182\n",
      " 185 206] (10001,)\n",
      "[ 31  56  76 109 111 115 123 140 144 151 170 171 173 177 188 189 208 215\n",
      " 219 238] (10001,)\n",
      "[ 11  25  26  29  30  33  41  42  48  54  55  57  59  63  65  70  77  97\n",
      " 116 117] (10001,)\n",
      "[  6  13  22  34  36  38  39  64  67  84 104 112 120 132 157 180 186 190\n",
      " 191 196] (10000,)\n",
      "[  0  10  16  44 103 113 127 129 134 149 184 205 211 225 236 245 250 251\n",
      " 255 280] (10000,)\n",
      "[  5   8  18  20  21  50  66  69  72  74  92  93  95 107 126 135 136 138\n",
      " 155 163] (9999,)\n",
      "[  7  17  58  61  68  73  87 105 125 131 142 168 169 174 193 213 232 243\n",
      " 249 258] (9999,)\n",
      "[  1   9  14  15  19  35  46  49  53  62  75  78  79  80  86  90 102 106\n",
      " 108 114] (9999,)\n",
      "[ 12  23  28  37  43  47  82  89  91  96  98 101 110 118 119 139 143 153\n",
      " 158 160] (9999,)\n",
      "[  8  12  19  28  29  34  47  53  60  61  67  89 124 140 141 143 154 157\n",
      " 181 208] (10001,)\n",
      "[  9  15  16  39  40  57  72  86 107 113 116 134 142 144 150 161 167 175\n",
      " 192 204] (10001,)\n",
      "[ 13  22  56  69  79  81  87 103 130 146 147 153 179 180 182 188 193 216\n",
      " 219 231] (10001,)\n",
      "[ 11  24  30  32  38  42  44  55  68  75  77  90  99 102 109 114 133 136\n",
      " 138 145] (10001,)\n",
      "[  0  27  37  43  62  66  76  78  92 125 127 152 171 172 183 184 186 194\n",
      " 195 199] (10000,)\n",
      "[  1  10  17  26  50  51  83  88  98 110 115 117 129 131 137 139 158 190\n",
      " 203 228] (10000,)\n",
      "[  7  31  46  58  65  95 108 111 120 122 123 166 169 173 187 197 211 217\n",
      " 234 244] (9999,)\n",
      "[  2   3   6  14  20  23  35  36  45  48  59  63  74  91  94  96 100 101\n",
      " 118 119] (9999,)\n",
      "[ 18  21  33  54  73  84 104 105 121 132 148 155 164 165 185 205 226 233\n",
      " 256 285] (9999,)\n",
      "[  4   5  25  41  49  52  64  70  71  80  82  85  93  97 106 112 126 149\n",
      " 159 162] (9999,)\n",
      "[  4   9  11  20  29  30  31  40  59  63  90  91  94 111 127 158 165 167\n",
      " 189 197] (10001,)\n",
      "[  3  17  23  37  41  45  95  97 108 122 123 124 162 169 176 177 203 205\n",
      " 253 266] (10001,)\n",
      "[  6  12  22  24  25  28  47  53  57  64  65  67  69  73  76  78  85  99\n",
      " 101 109] (10001,)\n",
      "[ 13  19  33  44  55  61  62  79  89  92 113 118 126 129 130 147 149 155\n",
      " 163 178] (10001,)\n",
      "[  5   7  15  32  48  50  60  66 115 119 136 139 140 152 159 161 211 221\n",
      " 225 226] (10000,)\n",
      "[  1   8  10  21  42  51  52  68  71  74  81  87  96 104 105 120 121 128\n",
      " 132 138] (10000,)\n",
      "[  2  38  46  54  70 107 110 135 144 146 151 183 185 192 193 196 198 209\n",
      " 218 223] (9999,)\n",
      "[ 14  26  27  34  39  43  56  75  77  80  82  84  86 102 112 114 116 117\n",
      " 134 141] (9999,)\n",
      "[ 18  35  72  83 103 106 131 137 143 180 181 187 195 206 222 230 242 245\n",
      " 246 257] (9999,)\n",
      "[  0  16  36  49  58  88  93  98 100 125 154 157 170 194 200 201 227 258\n",
      " 263 267] (9999,)\n",
      "[  0   7  12  21  31  33  34  72  94  97 113 128 131 134 135 141 147 151\n",
      " 156 158] (10001,)\n",
      "[  2  14  27  43  77  78  91 102 110 116 133 146 157 162 165 173 176 198\n",
      " 209 212] (10001,)\n",
      "[ 24  59  73  76  95  98 108 119 122 126 138 140 164 174 179 188 229 312\n",
      " 317 320] (10001,)\n",
      "[  3   4   6  26  37  39  41  49  52  54  71  82  84  88 106 127 144 152\n",
      " 154 155] (10001,)\n",
      "[  5  11  13  23  57  61  63  65  83  86 101 107 111 123 180 186 190 193\n",
      " 196 230] (10000,)\n",
      "[  1  10  15  18  22  35  38  53  55  56  62  79  87  92  93  99 103 104\n",
      " 129 145] (10000,)\n",
      "[ 19  29  42  48  51  64  81  85 117 143 187 199 204 205 211 214 219 221\n",
      " 237 260] (9999,)\n",
      "[  9  58  60  66  67  68  89  90 109 112 115 121 136 142 148 160 163 171\n",
      " 172 178] (9999,)\n",
      "[ 16  20  25  32  40  44  45  50  70 118 124 125 132 181 183 194 203 213\n",
      " 218 243] (9999,)\n",
      "[  8  17  28  30  36  46  47  69  74  75  80  96 100 105 114 120 130 137\n",
      " 139 149] (9999,)\n"
     ]
    }
   ],
   "source": [
    "kfold = RepeatedStratifiedKFold(n_splits=NO_SPLITS, n_repeats=NO_REPEATS)\n",
    "for train, test in kfold.split(X, y):\n",
    "#   print train[0:20], train.shape\n",
    "  print test[0:20], test.shape"
   ]
  },
  {
   "cell_type": "code",
   "execution_count": 21,
   "metadata": {},
   "outputs": [
    {
     "name": "stdout",
     "output_type": "stream",
     "text": [
      "/home/d/Projects/CP/RESULTS_NEW/Figure12/4/RandomForest/Framed\n",
      "/home/d/Projects/CP/RESULTS_NEW/Figure12/4/RandomForestSparse/Framed\n",
      "/home/d/Projects/CP/RESULTS_NEW/Figure12/3/LeNet/NotFramed\n",
      "/home/d/Projects/CP/RESULTS_NEW/Figure12/3/LeNet/Framed\n",
      "/home/d/Projects/CP/RESULTS_NEW/Figure12/3/MLP/NotFramed\n",
      "/home/d/Projects/CP/RESULTS_NEW/Figure12/3/MLP/Framed\n",
      "/home/d/Projects/CP/RESULTS_NEW/Figure12/1/LeNet/Framed\n",
      "/home/d/Projects/CP/RESULTS_NEW/Figure12/1/RandomForestSparse/Framed\n",
      "/home/d/Projects/CP/RESULTS_NEW/Figure12/2/Xception/NotFramed\n",
      "/home/d/Projects/CP/RESULTS_NEW/Figure12/2/Xception/Framed\n"
     ]
    }
   ],
   "source": [
    "for subdir, dirs, files in os.walk('/n/regal/pfister_lab/PERCEPTION/RESULTS_NEW/'):\n",
    "    if subdir.endswith('Framed') and len(os.listdir(subdir)) < 80:\n",
    "      print subdir"
   ]
  },
  {
   "cell_type": "code",
   "execution_count": null,
   "metadata": {
    "collapsed": true
   },
   "outputs": [],
   "source": []
  }
 ],
 "metadata": {
  "kernelspec": {
   "display_name": "Python 2",
   "language": "python",
   "name": "python2"
  },
  "language_info": {
   "codemirror_mode": {
    "name": "ipython",
    "version": 2
   },
   "file_extension": ".py",
   "mimetype": "text/x-python",
   "name": "python",
   "nbconvert_exporter": "python",
   "pygments_lexer": "ipython2",
   "version": "2.7.14"
  }
 },
 "nbformat": 4,
 "nbformat_minor": 2
}
