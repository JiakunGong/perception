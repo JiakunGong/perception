{
 "cells": [
  {
   "cell_type": "code",
   "execution_count": 23,
   "metadata": {},
   "outputs": [
    {
     "name": "stdout",
     "output_type": "stream",
     "text": [
      "Populating the interactive namespace from numpy and matplotlib\n"
     ]
    },
    {
     "name": "stderr",
     "output_type": "stream",
     "text": [
      "/n/home05/haehn/.conda/envs/CP/lib/python2.7/site-packages/IPython/core/magics/pylab.py:161: UserWarning: pylab import has clobbered these variables: ['f']\n",
      "`%matplotlib` prevents importing * from pylab and numpy\n",
      "  \"\\n`%matplotlib` prevents importing * from pylab and numpy\"\n"
     ]
    }
   ],
   "source": [
    "import cPickle as pickle\n",
    "%pylab inline"
   ]
  },
  {
   "cell_type": "code",
   "execution_count": 24,
   "metadata": {},
   "outputs": [
    {
     "data": {
      "text/plain": [
       "<module 'ClevelandMcGill' from '../EXP/ClevelandMcGill/__init__.pyc'>"
      ]
     },
     "execution_count": 24,
     "metadata": {},
     "output_type": "execute_result"
    }
   ],
   "source": [
    "import os, sys, time\n",
    "import cPickle as pickle\n",
    "sys.path.append('../EXP/')\n",
    "import ClevelandMcGill as C\n",
    "from util import Util\n",
    "reload(C)"
   ]
  },
  {
   "cell_type": "code",
   "execution_count": 25,
   "metadata": {
    "collapsed": true
   },
   "outputs": [],
   "source": [
    "import glob\n",
    "import cPickle as pickle"
   ]
  },
  {
   "cell_type": "code",
   "execution_count": 26,
   "metadata": {
    "collapsed": true
   },
   "outputs": [],
   "source": [
    "RESULTS_DIR2 = '/n/regal/pfister_lab/PERCEPTION/RESULTS_FROM_SCRATCH/'"
   ]
  },
  {
   "cell_type": "code",
   "execution_count": 27,
   "metadata": {
    "collapsed": true
   },
   "outputs": [],
   "source": [
    "RESULTS_DIR = '/n/regal/pfister_lab/PERCEPTION/RESULTS/'"
   ]
  },
  {
   "cell_type": "code",
   "execution_count": 28,
   "metadata": {
    "collapsed": true
   },
   "outputs": [],
   "source": [
    "experiments = ['C.Figure1.position_common_scale', \\\n",
    "               'C.Figure1.position_non_aligned_scale', \\\n",
    "               'C.Figure1.length', \\\n",
    "               'C.Figure1.direction', \\\n",
    "               'C.Figure1.angle', \\\n",
    "               'C.Figure1.area', \\\n",
    "               'C.Figure1.volume', \\\n",
    "               'C.Figure1.curvature', \\\n",
    "               'C.Figure1.shading']\n",
    "all_labels = {'C.Figure1.position_common_scale': ['Position Y', '+ Position X', '+ Spotsize'], \\\n",
    "              'C.Figure1.position_non_aligned_scale': ['Position Y', '+ Position X', '+ Spotsize'],\\\n",
    "              'C.Figure1.length': ['Length', '+ Position Y', '+ Position X', '+ Width'], \\\n",
    "              'C.Figure1.direction': ['Direction', '+ Position Y', '+ Position X'], \\\n",
    "              'C.Figure1.angle': ['Angle', '+ Position Y', '+ Position X'], \\\n",
    "              'C.Figure1.area': ['Area', '+ Position Y', '+ Position X'], \\\n",
    "              'C.Figure1.volume': ['Volume', '+ Position Y', '+ Position X'], \\\n",
    "              'C.Figure1.curvature': ['Curvature', '+ Position Y', '+ Position X'], \\\n",
    "              'C.Figure1.shading': ['Shading', '+ Position Y', '+ Position X']\n",
    "              }\n"
   ]
  },
  {
   "cell_type": "code",
   "execution_count": 31,
   "metadata": {
    "scrolled": false
   },
   "outputs": [
    {
     "name": "stdout",
     "output_type": "stream",
     "text": [
      "Loaded C.Figure1.position_common_scale\n",
      "Loaded C.Figure1.position_non_aligned_scale\n",
      "Loaded C.Figure1.length\n",
      "Loaded C.Figure1.direction\n",
      "Loaded C.Figure1.angle\n",
      "Loaded C.Figure1.area\n",
      "Loaded C.Figure1.volume\n",
      "Loaded C.Figure1.curvature\n",
      "Loaded C.Figure1.shading\n"
     ]
    }
   ],
   "source": [
    "all_results = {}\n",
    "\n",
    "normals = []\n",
    "not_normals = []\n",
    "\n",
    "for experiment in experiments:\n",
    "\n",
    "    e_dir = os.path.join(RESULTS_DIR, experiment)\n",
    "    datasets = sorted(os.listdir(e_dir))\n",
    "#     print datasets\n",
    "    results = [None]*4\n",
    "    \n",
    "    e_dir2 = os.path.join(RESULTS_DIR2, experiment)\n",
    "\n",
    "    classifiers = ['MLP', 'LeNet', 'VGG19', 'XCEPTION']\n",
    "    for i,c in enumerate(classifiers):\n",
    "\n",
    "        results[i] = []\n",
    "        for d in datasets:\n",
    "            d_dir = os.path.join(e_dir, d)\n",
    "\n",
    "#             stats_files = ['01_noise.p', '02_noise.p', '03_noise.p', '04_noise.p']#glob.glob(os.path.join(d_dir, c)+'/*.p')\n",
    "            stats_files = glob.glob(os.path.join(d_dir, c)+'/*.p')\n",
    "#             print stats_files\n",
    "#             break\n",
    "            MLAEs = []\n",
    "\n",
    "            for s in stats_files:\n",
    "#                 stats_file = os.path.join(d_dir, c)+'/'+s\n",
    "                stats_file = s\n",
    "#                 print s\n",
    "                if os.path.exists(stats_file):\n",
    "                    with open(stats_file, 'r') as f:\n",
    "                        stats = pickle.load(f)\n",
    "                    MLAEs.append(stats['MLAE'])\n",
    "                    k2, p = st.normaltest(stats['y_test'].ravel() - stats['y_pred'].ravel())\n",
    "                    if p < 0.05:\n",
    "                        normals.append([experiment, c, p])\n",
    "                    else:\n",
    "                        not_normals.append([experiment, c, p])\n",
    "#                     print experiment, c, p\n",
    "\n",
    "\n",
    "            results[i].append(MLAEs)\n",
    "            \n",
    "            \n",
    "    results2 = [None]*2\n",
    "    classifiers2 = ['VGG19', 'XCEPTION']\n",
    "    for i,c in enumerate(classifiers2):\n",
    "\n",
    "        results2[i] = []\n",
    "        for d in datasets:\n",
    "            d_dir = os.path.join(e_dir2, d)\n",
    "\n",
    "#             stats_files = ['01_noise.p', '02_noise.p', '03_noise.p', '04_noise.p']#glob.glob(os.path.join(d_dir, c)+'/*.p')\n",
    "            stats_files = glob.glob(os.path.join(d_dir, c)+'/*.p')\n",
    "#             print stats_files\n",
    "#             break\n",
    "            MLAEs = []\n",
    "\n",
    "            for s in stats_files:\n",
    "#                 stats_file = os.path.join(d_dir, c)+'/'+s\n",
    "                stats_file = s\n",
    "#                 print c,s\n",
    "                if os.path.exists(stats_file):\n",
    "                    with open(stats_file, 'r') as f:\n",
    "                        stats = pickle.load(f)\n",
    "                    \n",
    "                    MLAEs.append(stats['MLAE'])\n",
    "                    k2, p = st.normaltest(stats['y_test'].ravel() - stats['y_pred'].ravel())\n",
    "                    if p < 0.05:\n",
    "                        normals.append([experiment, c, p])\n",
    "                    else:\n",
    "                        not_normals.append([experiment, c, p])\n",
    "\n",
    "            results2[i].append(MLAEs)\n",
    "            \n",
    "            \n",
    "    print 'Loaded', experiment\n",
    "            \n",
    "    all_results[experiment] = results + results2\n",
    "            \n",
    "#         print d, c, np.mean([stats1['MLAE'], stats2['MLAE']])"
   ]
  },
  {
   "cell_type": "code",
   "execution_count": 32,
   "metadata": {},
   "outputs": [
    {
     "data": {
      "text/plain": [
       "1665"
      ]
     },
     "execution_count": 32,
     "metadata": {},
     "output_type": "execute_result"
    }
   ],
   "source": [
    "len(normals)"
   ]
  },
  {
   "cell_type": "code",
   "execution_count": 33,
   "metadata": {},
   "outputs": [
    {
     "data": {
      "text/plain": [
       "19"
      ]
     },
     "execution_count": 33,
     "metadata": {},
     "output_type": "execute_result"
    }
   ],
   "source": [
    "len(not_normals)"
   ]
  },
  {
   "cell_type": "code",
   "execution_count": 34,
   "metadata": {},
   "outputs": [
    {
     "data": {
      "text/plain": [
       "[['C.Figure1.position_common_scale', 'LeNet', 0.37581704328097293],\n",
       " ['C.Figure1.position_common_scale', 'VGG19', 0.200327014937799],\n",
       " ['C.Figure1.position_non_aligned_scale', 'MLP', 0.42941004478380829],\n",
       " ['C.Figure1.position_non_aligned_scale', 'MLP', 0.77167585668885752],\n",
       " ['C.Figure1.position_non_aligned_scale', 'VGG19', 0.13047210940440104],\n",
       " ['C.Figure1.length', 'MLP', 0.072395612091982336],\n",
       " ['C.Figure1.length', 'MLP', 0.28486342146112703],\n",
       " ['C.Figure1.length', 'VGG19', 0.3500985982278717],\n",
       " ['C.Figure1.length', 'VGG19', 0.92637863921890895],\n",
       " ['C.Figure1.length', 'VGG19', 0.97811254158479],\n",
       " ['C.Figure1.angle', 'VGG19', 0.10120133852650161],\n",
       " ['C.Figure1.angle', 'VGG19', 0.22735364746575892],\n",
       " ['C.Figure1.angle', 'VGG19', 0.11030028617552237],\n",
       " ['C.Figure1.angle', 'VGG19', 0.23679109876547177],\n",
       " ['C.Figure1.angle', 'XCEPTION', 0.15498054317635598],\n",
       " ['C.Figure1.area', 'LeNet', 0.050187325465384493],\n",
       " ['C.Figure1.area', 'XCEPTION', 0.39625937254379295],\n",
       " ['C.Figure1.volume', 'LeNet', 0.67911133713137295],\n",
       " ['C.Figure1.curvature', 'VGG19', 0.72393625678688001]]"
      ]
     },
     "execution_count": 34,
     "metadata": {},
     "output_type": "execute_result"
    }
   ],
   "source": [
    "not_normals"
   ]
  },
  {
   "cell_type": "code",
   "execution_count": null,
   "metadata": {
    "collapsed": true
   },
   "outputs": [],
   "source": []
  },
  {
   "cell_type": "code",
   "execution_count": null,
   "metadata": {
    "collapsed": true
   },
   "outputs": [],
   "source": []
  },
  {
   "cell_type": "code",
   "execution_count": null,
   "metadata": {
    "collapsed": true
   },
   "outputs": [],
   "source": []
  }
 ],
 "metadata": {
  "kernelspec": {
   "display_name": "Python 2",
   "language": "python",
   "name": "python2"
  },
  "language_info": {
   "codemirror_mode": {
    "name": "ipython",
    "version": 2
   },
   "file_extension": ".py",
   "mimetype": "text/x-python",
   "name": "python",
   "nbconvert_exporter": "python",
   "pygments_lexer": "ipython2",
   "version": "2.7.14"
  }
 },
 "nbformat": 4,
 "nbformat_minor": 2
}
