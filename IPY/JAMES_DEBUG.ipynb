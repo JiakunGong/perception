{
 "cells": [
  {
   "cell_type": "code",
   "execution_count": 1,
   "metadata": {},
   "outputs": [
    {
     "name": "stdout",
     "output_type": "stream",
     "text": [
      "Populating the interactive namespace from numpy and matplotlib\n"
     ]
    }
   ],
   "source": [
    "%pylab inline\n",
    "%load_ext autoreload\n",
    "%autoreload 2\n",
    "\n",
    "import os, glob\n",
    "import cPickle as pickle"
   ]
  },
  {
   "cell_type": "code",
   "execution_count": null,
   "metadata": {
    "collapsed": true
   },
   "outputs": [],
   "source": []
  },
  {
   "cell_type": "code",
   "execution_count": 10,
   "metadata": {},
   "outputs": [
    {
     "data": {
      "text/plain": [
       "<module 'ClevelandMcGill' from '../EXP/ClevelandMcGill/__init__.pyc'>"
      ]
     },
     "execution_count": 10,
     "metadata": {},
     "output_type": "execute_result"
    }
   ],
   "source": [
    "import os, sys, time\n",
    "import cPickle as pickle\n",
    "sys.path.append('../EXP/')\n",
    "import ClevelandMcGill as C\n",
    "from util import Util\n",
    "reload(C)"
   ]
  },
  {
   "cell_type": "code",
   "execution_count": 19,
   "metadata": {
    "collapsed": true
   },
   "outputs": [],
   "source": [
    "import skimage.draw"
   ]
  },
  {
   "cell_type": "code",
   "execution_count": 265,
   "metadata": {
    "collapsed": true
   },
   "outputs": [],
   "source": [
    "DELTA_MIN = 20\n",
    "DELTA_MAX = 80\n",
    "SIZE = (100, 100)\n",
    "    \n",
    "def curvature(flags=[False,False,False]):\n",
    "\n",
    "    var_y = flags[0]\n",
    "    var_x = flags[1]\n",
    "    var_width = flags[2]\n",
    "\n",
    "    sparse = None\n",
    "    img = None\n",
    "    label = None\n",
    "    parameters = 1\n",
    "\n",
    "    DOF = 80\n",
    "    DEPTH = np.random.randint(1, DOF+1)\n",
    "    DEPTH = 80\n",
    "    parameters *= DOF\n",
    "\n",
    "    Y_RANGE = (DELTA_MAX-20, DELTA_MAX)\n",
    "    X_RANGE = (0, DELTA_MIN*2)\n",
    "\n",
    "    X = DELTA_MIN\n",
    "    if var_x:\n",
    "      X, p = Util.parameter(X_RANGE[0], X_RANGE[1])\n",
    "      parameters *= p\n",
    "\n",
    "    Y = DELTA_MAX\n",
    "    if var_y:\n",
    "      Y, p = Util.parameter(Y_RANGE[0], Y_RANGE[1])\n",
    "      parameters *= p\n",
    "\n",
    "    WIDTH = 60\n",
    "    if var_width:\n",
    "      WIDTH, p = Util.parameter(20, 60)\n",
    "      parameters *= p\n",
    "\n",
    "    start = (Y, X)\n",
    "    mid = (DEPTH, X+WIDTH/2)\n",
    "    end = (Y, X+WIDTH)\n",
    "\n",
    "    img = np.zeros(SIZE, dtype=np.bool)\n",
    "\n",
    "    rr, cc = skimage.draw.bezier_curve(start[0], start[1], mid[0], mid[1], end[0], end[1], 1)\n",
    "    img[rr, cc] = 1\n",
    "    t = 0.5\n",
    "\n",
    "    P10 = (mid[0] - start[0], mid[1] - start[1])\n",
    "    P21 = (end[0] - mid[0], end[1] - mid[1])\n",
    "    dBt_x = 2*(1-t)*P10[1] + 2*t*P21[1]\n",
    "    dBt_y = 2*(1-t)*P10[0] + 2*t*P21[0]\n",
    "    dBt2_x = 2*(end[1] - 2*mid[1] + start[1])\n",
    "    dBt2_y = 2*(end[0] - 2*mid[0] + start[0])\n",
    "    curvature = np.abs((dBt_x*dBt2_y - dBt_y*dBt2_x) / ((dBt_x**2 + dBt_y**2)**(3/2.)))\n",
    "\n",
    "    sparse = [Y, X, DEPTH, WIDTH]\n",
    "\n",
    "    label = curvature\n",
    "\n",
    "    return sparse, img, label, parameters\n"
   ]
  },
  {
   "cell_type": "code",
   "execution_count": 32,
   "metadata": {
    "collapsed": true
   },
   "outputs": [],
   "source": [
    "sparse, img, label, parameters = curvature([True, True, True])"
   ]
  },
  {
   "cell_type": "code",
   "execution_count": 256,
   "metadata": {},
   "outputs": [
    {
     "name": "stdout",
     "output_type": "stream",
     "text": [
      "[68, 32, 68, 60]\n",
      "0.0\n"
     ]
    },
    {
     "data": {
      "image/png": "[encoded data removed]",
      "text/plain": [
       "<matplotlib.figure.Figure at 0x2b4924622ad0>"
      ]
     },
     "metadata": {},
     "output_type": "display_data"
    }
   ],
   "source": [
    "sparse, img, label, parameters = curvature([True, True, False])\n",
    "imshow(img)\n",
    "print sparse\n",
    "print label"
   ]
  },
  {
   "cell_type": "code",
   "execution_count": 266,
   "metadata": {},
   "outputs": [
    {
     "name": "stdout",
     "output_type": "stream",
     "text": [
      "[69, 4, 80, 60]\n",
      "0.0122222222222\n"
     ]
    },
    {
     "data": {
      "image/png": "[encoded data removed]",
      "text/plain": [
       "<matplotlib.figure.Figure at 0x2b492497b590>"
      ]
     },
     "metadata": {},
     "output_type": "display_data"
    }
   ],
   "source": [
    "sparse, img, label, parameters = curvature([True, True, False])\n",
    "imshow(img)\n",
    "print sparse\n",
    "print label"
   ]
  },
  {
   "cell_type": "code",
   "execution_count": null,
   "metadata": {
    "collapsed": true
   },
   "outputs": [],
   "source": []
  }
 ],
 "metadata": {
  "kernelspec": {
   "display_name": "Python 2",
   "language": "python",
   "name": "python2"
  },
  "language_info": {
   "codemirror_mode": {
    "name": "ipython",
    "version": 2
   },
   "file_extension": ".py",
   "mimetype": "text/x-python",
   "name": "python",
   "nbconvert_exporter": "python",
   "pygments_lexer": "ipython2",
   "version": "2.7.14"
  }
 },
 "nbformat": 4,
 "nbformat_minor": 2
}
