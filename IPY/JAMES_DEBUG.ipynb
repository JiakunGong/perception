{
 "cells": [
  {
   "cell_type": "code",
   "execution_count": 2,
   "metadata": {},
   "outputs": [
    {
     "name": "stdout",
     "output_type": "stream",
     "text": [
      "Populating the interactive namespace from numpy and matplotlib\n"
     ]
    }
   ],
   "source": [
    "%pylab inline\n",
    "%load_ext autoreload\n",
    "%autoreload 2\n",
    "\n",
    "import os, glob\n",
    "import cPickle as pickle"
   ]
  },
  {
   "cell_type": "code",
   "execution_count": null,
   "metadata": {
    "collapsed": true
   },
   "outputs": [],
   "source": []
  },
  {
   "cell_type": "code",
   "execution_count": 10,
   "metadata": {},
   "outputs": [
    {
     "data": {
      "text/plain": [
       "<module 'ClevelandMcGill' from '../EXP/ClevelandMcGill/__init__.pyc'>"
      ]
     },
     "execution_count": 10,
     "metadata": {},
     "output_type": "execute_result"
    }
   ],
   "source": [
    "import os, sys, time\n",
    "import cPickle as pickle\n",
    "sys.path.append('../EXP/')\n",
    "import ClevelandMcGill as C\n",
    "from util import Util\n",
    "reload(C)"
   ]
  },
  {
   "cell_type": "code",
   "execution_count": null,
   "metadata": {
    "collapsed": true
   },
   "outputs": [],
   "source": [
    "# vary curvature, Y, X, width\n",
    "sparse, image, label, parameters = C.Figure1.curvature([True, True, True])\n",
    "print 'Label', label, 'Parameters', parameters\n",
    "imshow(image)"
   ]
  },
  {
   "cell_type": "code",
   "execution_count": 4,
   "metadata": {
    "collapsed": true
   },
   "outputs": [],
   "source": [
    "import skimage.draw"
   ]
  },
  {
   "cell_type": "code",
   "execution_count": 13,
   "metadata": {},
   "outputs": [
    {
     "name": "stdout",
     "output_type": "stream",
     "text": [
      "WIDTH 60\n",
      "DEPTH 60\n",
      "CURVATURE 0.0222222222222\n",
      "0.0222222222222\n"
     ]
    },
    {
     "data": {
      "image/png": "[encoded data removed]",
      "text/plain": [
       "<matplotlib.figure.Figure at 0x7f59abbf8e10>"
      ]
     },
     "metadata": {},
     "output_type": "display_data"
    }
   ],
   "source": [
    "img = np.zeros((100,100), dtype=np.bool)\n",
    "\n",
    "X = 20\n",
    "Y = 80\n",
    "WIDTH = 60\n",
    "X2 = X+WIDTH\n",
    "DEPTH = 60\n",
    "MID = (DEPTH, X+WIDTH/2)\n",
    "\n",
    "print 'WIDTH', WIDTH\n",
    "print 'DEPTH', DEPTH\n",
    "\n",
    "\n",
    "t=0.5\n",
    "start = (Y, X)\n",
    "mid = MID\n",
    "end = (Y, X2)\n",
    "P10 = (mid[0] - start[0], mid[1] - start[1])\n",
    "P21 = (end[0] - mid[0], end[1] - mid[1])\n",
    "dBt_x = 2*(1-t)*P10[1] + 2*t*P21[1]\n",
    "dBt_y = 2*(1-t)*P10[0] + 2*t*P21[0]\n",
    "dBt2_x = 2*(end[1] - 2*mid[1] + start[1])\n",
    "dBt2_y = 2*(end[0] - 2*mid[0] + start[0])\n",
    "curvature = np.abs((dBt_x*dBt2_y - dBt_y*dBt2_x) / ((dBt_x**2 + dBt_y**2)**(3/2.)))\n",
    "print 'CURVATURE', curvature\n",
    "\n",
    "rr, cc = skimage.draw.bezier_curve(Y, X, MID[0], MID[1], Y, X2, 1)\n",
    "img[rr, cc] = 1\n",
    "imshow(img)\n",
    "\n",
    "\n",
    "print curvature"
   ]
  },
  {
   "cell_type": "code",
   "execution_count": 17,
   "metadata": {},
   "outputs": [
    {
     "name": "stdout",
     "output_type": "stream",
     "text": [
      "WIDTH 1\n",
      "DEPTH 60\n",
      "CURVATURE 80.0\n",
      "80.0\n"
     ]
    },
    {
     "data": {
      "image/png": "[encoded data removed]",
      "text/plain": [
       "<matplotlib.figure.Figure at 0x7f59abbd86d0>"
      ]
     },
     "metadata": {},
     "output_type": "display_data"
    }
   ],
   "source": [
    "img = np.zeros((100,100), dtype=np.bool)\n",
    "\n",
    "X = 20\n",
    "Y = 80\n",
    "WIDTH = 1\n",
    "X2 = X+WIDTH\n",
    "DEPTH = 60\n",
    "MID = (DEPTH, X+WIDTH/2)\n",
    "\n",
    "print 'WIDTH', WIDTH\n",
    "print 'DEPTH', DEPTH\n",
    "\n",
    "\n",
    "t=0.5\n",
    "start = (Y, X)\n",
    "mid = MID\n",
    "end = (Y, X2)\n",
    "P10 = (mid[0] - start[0], mid[1] - start[1])\n",
    "P21 = (end[0] - mid[0], end[1] - mid[1])\n",
    "dBt_x = 2*(1-t)*P10[1] + 2*t*P21[1]\n",
    "dBt_y = 2*(1-t)*P10[0] + 2*t*P21[0]\n",
    "dBt2_x = 2*(end[1] - 2*mid[1] + start[1])\n",
    "dBt2_y = 2*(end[0] - 2*mid[0] + start[0])\n",
    "curvature = np.abs((dBt_x*dBt2_y - dBt_y*dBt2_x) / ((dBt_x**2 + dBt_y**2)**(3/2.)))\n",
    "print 'CURVATURE', curvature\n",
    "\n",
    "rr, cc = skimage.draw.bezier_curve(Y, X, MID[0], MID[1], Y, X2, 1)\n",
    "img[rr, cc] = 1\n",
    "imshow(img)\n",
    "\n",
    "\n",
    "print curvature"
   ]
  },
  {
   "cell_type": "code",
   "execution_count": null,
   "metadata": {
    "collapsed": true
   },
   "outputs": [],
   "source": []
  }
 ],
 "metadata": {
  "kernelspec": {
   "display_name": "Python 2",
   "language": "python",
   "name": "python2"
  },
  "language_info": {
   "codemirror_mode": {
    "name": "ipython",
    "version": 2
   },
   "file_extension": ".py",
   "mimetype": "text/x-python",
   "name": "python",
   "nbconvert_exporter": "python",
   "pygments_lexer": "ipython2",
   "version": "2.7.14"
  }
 },
 "nbformat": 4,
 "nbformat_minor": 2
}
