{
 "cells": [
  {
   "cell_type": "code",
   "execution_count": 1,
   "metadata": {},
   "outputs": [
    {
     "name": "stdout",
     "output_type": "stream",
     "text": [
      "Populating the interactive namespace from numpy and matplotlib\n"
     ]
    }
   ],
   "source": [
    "import cPickle as pickle\n",
    "%pylab inline"
   ]
  },
  {
   "cell_type": "code",
   "execution_count": 2,
   "metadata": {
    "collapsed": true
   },
   "outputs": [],
   "source": [
    "import os"
   ]
  },
  {
   "cell_type": "code",
   "execution_count": 3,
   "metadata": {
    "collapsed": true
   },
   "outputs": [],
   "source": [
    "import glob\n",
    "import cPickle as pickle"
   ]
  },
  {
   "cell_type": "code",
   "execution_count": 4,
   "metadata": {
    "collapsed": true
   },
   "outputs": [],
   "source": [
    "RESULTS_DIR = '/n/regal/pfister_lab/PERCEPTION/RESULTS/'"
   ]
  },
  {
   "cell_type": "code",
   "execution_count": 9,
   "metadata": {},
   "outputs": [
    {
     "name": "stdout",
     "output_type": "stream",
     "text": [
      "/n/regal/pfister_lab/PERCEPTION/RESULTS//C.Figure3.data_to_piechart/LeNet 4\n"
     ]
    }
   ],
   "source": [
    "for subdir, _, _ in os.walk(RESULTS_DIR+'/C.Figure3.data_to_piechart'):\n",
    "#     print subdir\n",
    "    if len(subdir.split('/')) == 9:\n",
    "      if len(os.listdir(subdir)) != 8:\n",
    "        print subdir, len(os.listdir(subdir))\n",
    "        \n",
    "#         classifier = subdir.split('/')[-1]\n",
    "#         dataset = subdir.split('/')[-2]\n",
    "#         experiment = subdir.split('/')[-3]\n",
    "        \n",
    "#         print 'sbatch', experiment + '_' + dataset + '_' + classifier +'_True.sbatch'"
   ]
  },
  {
   "cell_type": "code",
   "execution_count": 19,
   "metadata": {},
   "outputs": [
    {
     "name": "stdout",
     "output_type": "stream",
     "text": [
      "/n/regal/pfister_lab/PERCEPTION/RESULTS/C.Figure3.data_to_barchart/MLP 5\n",
      "/n/regal/pfister_lab/PERCEPTION/RESULTS/C.Figure3.data_to_barchart/LeNet 4\n"
     ]
    }
   ],
   "source": [
    "for subdir, _, _ in os.walk(RESULTS_DIR+'C.Figure3.data_to_barchart'):\n",
    "#     print subdir\n",
    "    if len(subdir.split('/')) == 8:\n",
    "      if len(os.listdir(subdir)) != 8:\n",
    "        print subdir, len(os.listdir(subdir))\n",
    "        \n",
    "#         classifier = subdir.split('/')[-1]\n",
    "#         dataset = subdir.split('/')[-2]\n",
    "#         experiment = subdir.split('/')[-3]\n",
    "        \n",
    "#         print 'sbatch', experiment + '_' + dataset + '_' + classifier +'_True.sbatch'"
   ]
  },
  {
   "cell_type": "code",
   "execution_count": 20,
   "metadata": {},
   "outputs": [
    {
     "name": "stdout",
     "output_type": "stream",
     "text": [
      "['/n/regal/pfister_lab/PERCEPTION/RESULTS/C.Figure3.data_to_barchart/MLP/04_noise.p']\n",
      "[]\n",
      "['/n/regal/pfister_lab/PERCEPTION/RESULTS/C.Figure3.data_to_barchart/VGG19/04_noise.p', '/n/regal/pfister_lab/PERCEPTION/RESULTS/C.Figure3.data_to_barchart/VGG19/02_noise.p', '/n/regal/pfister_lab/PERCEPTION/RESULTS/C.Figure3.data_to_barchart/VGG19/03_noise.p', '/n/regal/pfister_lab/PERCEPTION/RESULTS/C.Figure3.data_to_barchart/VGG19/01_noise.p']\n",
      "['/n/regal/pfister_lab/PERCEPTION/RESULTS/C.Figure3.data_to_barchart/XCEPTION/04_noise.p', '/n/regal/pfister_lab/PERCEPTION/RESULTS/C.Figure3.data_to_barchart/XCEPTION/02_noise.p', '/n/regal/pfister_lab/PERCEPTION/RESULTS/C.Figure3.data_to_barchart/XCEPTION/03_noise.p', '/n/regal/pfister_lab/PERCEPTION/RESULTS/C.Figure3.data_to_barchart/XCEPTION/01_noise.p']\n"
     ]
    }
   ],
   "source": [
    "experiment = 'C.Figure3.data_to_barchart'\n",
    "e_dir = os.path.join(RESULTS_DIR, experiment)\n",
    "datasets = sorted(os.listdir(e_dir))\n",
    "\n",
    "bar_stats = [None]*4\n",
    "\n",
    "classifiers = ['MLP', 'LeNet', 'VGG19', 'XCEPTION']\n",
    "for i,c in enumerate(classifiers):\n",
    "    \n",
    "    bar_stats[i] = []\n",
    "    c_dir = os.path.join(e_dir, c)\n",
    "\n",
    "    stats_files = glob.glob(c_dir+'/*_noise.p')\n",
    "    stats_per_c = []\n",
    "#     print stats_files\n",
    "\n",
    "    for s in stats_files:\n",
    "        \n",
    "        with open(s, 'r') as f:\n",
    "            stats = pickle.load(f)\n",
    "        stats_per_c.append(stats)\n",
    "#         print stats['time']\n",
    "\n",
    "    bar_stats[i].append(stats_per_c)\n",
    "            \n",
    "#         print d, c, np.mean([stats1['MLAE'], stats2['MLAE']])"
   ]
  },
  {
   "cell_type": "code",
   "execution_count": 22,
   "metadata": {},
   "outputs": [
    {
     "data": {
      "text/plain": [
       "4"
      ]
     },
     "execution_count": 22,
     "metadata": {},
     "output_type": "execute_result"
    }
   ],
   "source": [
    "len(bar_stats[3][0])"
   ]
  },
  {
   "cell_type": "code",
   "execution_count": 24,
   "metadata": {},
   "outputs": [],
   "source": [
    "experiment = 'C.Figure3.data_to_piechart'\n",
    "e_dir = os.path.join(RESULTS_DIR, experiment)\n",
    "datasets = sorted(os.listdir(e_dir))\n",
    "\n",
    "pie_stats = [None]*4\n",
    "\n",
    "classifiers = ['MLP', 'LeNet', 'VGG19', 'XCEPTION']\n",
    "for i,c in enumerate(classifiers):\n",
    "    \n",
    "    pie_stats[i] = []\n",
    "    c_dir = os.path.join(e_dir, c)\n",
    "\n",
    "    stats_files = glob.glob(c_dir+'/*_noise.p')\n",
    "    stats_per_c = []\n",
    "#     print stats_files\n",
    "\n",
    "    for s in stats_files:\n",
    "        \n",
    "        with open(s, 'r') as f:\n",
    "            stats = pickle.load(f)\n",
    "        stats_per_c.append(stats)\n",
    "#         print stats['time']\n",
    "\n",
    "    pie_stats[i].append(stats_per_c)\n",
    "            \n",
    "#         print d, c, np.mean([stats1['MLAE'], stats2['MLAE']])"
   ]
  },
  {
   "cell_type": "code",
   "execution_count": 58,
   "metadata": {
    "collapsed": true
   },
   "outputs": [],
   "source": []
  },
  {
   "cell_type": "code",
   "execution_count": 29,
   "metadata": {},
   "outputs": [
    {
     "data": {
      "image/png": "[encoded data removed]",
      "text/plain": [
       "<matplotlib.figure.Figure at 0x2abaa7967510>"
      ]
     },
     "metadata": {},
     "output_type": "display_data"
    }
   ],
   "source": [
    "from matplotlib import gridspec\n",
    "\n",
    "\n",
    "classifiers = ['MLP', 'LeNet', 'VGG19', 'XCEPTION']\n",
    "\n",
    "fig = plt.figure(figsize=(10,6), facecolor='white')\n",
    "gs = gridspec.GridSpec(2, 2, width_ratios=[1,1], hspace=.2, wspace=.1)\n",
    "\n",
    "axes = [None]*4\n",
    "\n",
    "for i, c in enumerate(classifiers):\n",
    "    \n",
    "    if i == 0:\n",
    "        axes[i] = fig.add_subplot(gs[i])#, sharey=axes[0])\n",
    "        plt.setp(axes[0].get_xticklabels(), visible=False)\n",
    "        plt.ylabel('MSE Training Loss')        \n",
    "    elif i == 1:\n",
    "        axes[i] = fig.add_subplot(gs[i], sharey=axes[0])\n",
    "        plt.setp(axes[1].get_yticklabels(), visible=False)\n",
    "        plt.setp(axes[1].get_xticklabels(), visible=False)      \n",
    "        \n",
    "#         plt.ylabel(False)\n",
    "    elif i == 2:\n",
    "        axes[i] = fig.add_subplot(gs[i], sharey=axes[0], sharex=axes[0])\n",
    "        plt.ylabel('MSE Training Loss')\n",
    "        plt.xlabel('Epoch')                \n",
    "    elif i == 3:\n",
    "        axes[i] = fig.add_subplot(gs[i], sharey=axes[2])\n",
    "        plt.setp(axes[3].get_yticklabels(), visible=False)        \n",
    "        plt.xlabel('Epoch')        \n",
    "\n",
    "    for sample in range(len(bar_stats[0][0])):\n",
    "        \n",
    "        # grab sample from both\n",
    "        if len(bar_stats[i][0])>0:\n",
    "            bar_loss = bar_stats[i][0][sample]['loss']\n",
    "        else:\n",
    "            bar_loss = [0]\n",
    "        if len(pie_stats[i][0])>0:\n",
    "            pie_loss = pie_stats[i][0][sample]['loss']\n",
    "        else:\n",
    "            pie_loss = [0]\n",
    "        if sample == 0:\n",
    "            # only label the first\n",
    "            plot(bar_loss, label='Barchart', color='C0')\n",
    "            plot(pie_loss, label='Piechart', color='C1')\n",
    "        else:\n",
    "            # but use the same colors for all\n",
    "            plot(bar_loss, color='C0')\n",
    "            plot(pie_loss, color='C1')\n",
    "            \n",
    "    plt.xlim(-1,100)\n",
    "    plt.title(c)\n",
    "\n",
    "\n",
    "    if i == 1:\n",
    "        plt.legend()"
   ]
  },
  {
   "cell_type": "code",
   "execution_count": 28,
   "metadata": {},
   "outputs": [
    {
     "data": {
      "text/plain": [
       "[[]]"
      ]
     },
     "execution_count": 28,
     "metadata": {},
     "output_type": "execute_result"
    }
   ],
   "source": [
    "bar_stats[i]"
   ]
  },
  {
   "cell_type": "code",
   "execution_count": 40,
   "metadata": {},
   "outputs": [
    {
     "data": {
      "image/png": "[encoded data removed]",
      "text/plain": [
       "<matplotlib.figure.Figure at 0x2abab036d850>"
      ]
     },
     "metadata": {},
     "output_type": "display_data"
    }
   ],
   "source": [
    "from matplotlib import gridspec\n",
    "\n",
    "\n",
    "classifiers = ['MLP', 'LeNet', 'VGG19', 'XCEPTION']\n",
    "\n",
    "fig = plt.figure(figsize=(10,6), facecolor='white')\n",
    "gs = gridspec.GridSpec(2, 2, width_ratios=[1,1], hspace=.2, wspace=.1)\n",
    "\n",
    "axes = [None]*4\n",
    "\n",
    "for i, c in enumerate(classifiers):\n",
    "    \n",
    "    if i == 0:\n",
    "        axes[i] = fig.add_subplot(gs[i])#, sharey=axes[0])\n",
    "        plt.setp(axes[0].get_xticklabels(), visible=False)\n",
    "        plt.ylabel('MSE Training Loss')        \n",
    "    elif i == 1:\n",
    "        axes[i] = fig.add_subplot(gs[i], sharey=axes[0])\n",
    "        plt.setp(axes[1].get_yticklabels(), visible=False)\n",
    "        plt.setp(axes[1].get_xticklabels(), visible=False)      \n",
    "        \n",
    "#         plt.ylabel(False)\n",
    "    elif i == 2:\n",
    "        axes[i] = fig.add_subplot(gs[i], sharey=axes[0], sharex=axes[0])\n",
    "        plt.ylabel('MSE Training Loss')\n",
    "        plt.xlabel('Epoch')                \n",
    "    elif i == 3:\n",
    "        axes[i] = fig.add_subplot(gs[i], sharey=axes[2])\n",
    "        plt.setp(axes[3].get_yticklabels(), visible=False)        \n",
    "        plt.xlabel('Epoch')        \n",
    "\n",
    "    for sample in range(len(bar_stats[0][0])):\n",
    "        \n",
    "        # grab sample from both\n",
    "        if len(bar_stats[i][0])>0:\n",
    "            bar_loss = bar_stats[i][0][sample]['val_loss']\n",
    "        else:\n",
    "            bar_loss = [0]\n",
    "        if len(pie_stats[i][0])>0:\n",
    "            pie_loss = pie_stats[i][0][sample]['val_loss']\n",
    "        else:\n",
    "            pie_loss = [0]\n",
    "        if sample == 0:\n",
    "            # only label the first\n",
    "            plot(bar_loss, label='Bar Chart', color='C0')\n",
    "            plot(pie_loss, label='Pie Chart', color='C1')\n",
    "        else:\n",
    "            # but use the same colors for all\n",
    "            plot(bar_loss, color='C0')\n",
    "            plot(pie_loss, color='C1')\n",
    "            \n",
    "    plt.xlim(-1,100)\n",
    "    plt.title(c)\n",
    "\n",
    "\n",
    "    if i == 1:\n",
    "        plt.legend()"
   ]
  },
  {
   "cell_type": "code",
   "execution_count": null,
   "metadata": {
    "collapsed": true
   },
   "outputs": [],
   "source": []
  },
  {
   "cell_type": "code",
   "execution_count": 54,
   "metadata": {},
   "outputs": [
    {
     "data": {
      "image/png": "[encoded data removed]",
      "text/plain": [
       "<matplotlib.figure.Figure at 0x2abab01bd490>"
      ]
     },
     "metadata": {},
     "output_type": "display_data"
    }
   ],
   "source": [
    "import numpy as np\n",
    "import scipy as sp\n",
    "import scipy.stats\n",
    "from matplotlib import gridspec\n",
    "\n",
    "fig = plt.figure(figsize=(15,2), facecolor='white')\n",
    "gs = gridspec.GridSpec(1, 4, width_ratios=[1,1,1,1], wspace=.1)\n",
    "# experiments = [experiments[1]]\n",
    "\n",
    "# print experiments\n",
    "\n",
    "j = 0\n",
    "for i, c in enumerate(classifiers):\n",
    "\n",
    "    fig = plt.subplot(gs[j])\n",
    "    j += 1\n",
    "    plt.title(c)\n",
    "\n",
    "\n",
    "    #\n",
    "    # data\n",
    "    #\n",
    "    labels = ['Bar Chart', 'Pie Chart']#all_labels[experiment]\n",
    "    \n",
    "    bar_mlae_s = []\n",
    "    pie_mlae_s = []\n",
    "    \n",
    "    for sample in range(len(bar_stats[0][0])):\n",
    "\n",
    "        # grab sample from both\n",
    "        if len(bar_stats[i][0])>0:\n",
    "            bar_mlae = bar_stats[i][0][sample]['MLAE']\n",
    "        else:\n",
    "            bar_mlae = [100]\n",
    "        if len(pie_stats[i][0])>0:\n",
    "            pie_mlae = pie_stats[i][0][sample]['MLAE']\n",
    "        else:\n",
    "            pie_mlae = [100]\n",
    "        bar_mlae_s.append(bar_mlae)\n",
    "        pie_mlae_s.append(pie_mlae)\n",
    "\n",
    "    # grab the MIDMEANS\n",
    "    data = [pie_mlae_s, bar_mlae_s]\n",
    "    sorted_data = [sorted(r) for r in data]\n",
    "    \n",
    "    #sorted_data = [[r[1],r[2]] for r in sorted_data]\n",
    "#     sorted_data = \n",
    "    data = sorted_data\n",
    "\n",
    "    means = [np.mean(r) for r in data]\n",
    "    means = means[::-1] # we start counting from the bottom\n",
    "#         print means\n",
    "\n",
    "#         confidence = [mean_confidence_interval(r)[3] for r in data]\n",
    "\n",
    "    confidence = [1.96*np.std(r) for r in data]\n",
    "    confidence = confidence[::-1]\n",
    "    \n",
    "    y_pos = range(len(means))\n",
    "\n",
    "    \n",
    "    plt.xlim(0,6.1)\n",
    "\n",
    "    ax = plt.gca()\n",
    "    ax.spines['top'].set_visible(False)\n",
    "    ax.spines['right'].set_visible(False)\n",
    "    ax.spines['bottom'].set_visible(False)\n",
    "    ax.spines['left'].set_visible(False)\n",
    "    if i != 0:\n",
    "        ax.get_yaxis().set_ticks([])\n",
    "    else:\n",
    "#             print labels\n",
    "        ax.get_yaxis().set_ticks(range(len(labels))) # we set the labels here\n",
    "        ax.get_yaxis().set_ticklabels(labels)\n",
    "\n",
    "    ax.get_xaxis().set_ticks(np.arange(0,7,6)) # mark the tange\n",
    "    ax.get_xaxis().set_ticks(np.arange(3,3.1), minor=True) # mark the center\n",
    "    ax.tick_params(axis=u'both', which=u'both',length=0)\n",
    "\n",
    "\n",
    "    # grid lines for X\n",
    "    plt.grid(True, color='gray', which='major', axis='x', alpha=1)\n",
    "    plt.grid(True, color='gray', which='minor', axis='x', alpha=0.2)\n",
    "\n",
    "    errorbars = plt.errorbar(means, y_pos, xerr=confidence, fmt='o', color='black', capsize=4)\n",
    "\n",
    "# plt.savefig('../PAPER/gfx/figure3_mlae.pdf', bbox_inches='tight', pad_inches=0)"
   ]
  },
  {
   "cell_type": "code",
   "execution_count": 42,
   "metadata": {},
   "outputs": [
    {
     "data": {
      "text/plain": [
       "[[3.1337909927250531], [2.3434381315918311]]"
      ]
     },
     "execution_count": 42,
     "metadata": {},
     "output_type": "execute_result"
    }
   ],
   "source": [
    "data"
   ]
  },
  {
   "cell_type": "code",
   "execution_count": 53,
   "metadata": {},
   "outputs": [
    {
     "data": {
      "text/plain": [
       "2.3434381315918311"
      ]
     },
     "execution_count": 53,
     "metadata": {},
     "output_type": "execute_result"
    }
   ],
   "source": [
    "bar_stats[3][0][0]['MLAE']"
   ]
  },
  {
   "cell_type": "code",
   "execution_count": 52,
   "metadata": {},
   "outputs": [
    {
     "data": {
      "text/plain": [
       "3.1337909927250531"
      ]
     },
     "execution_count": 52,
     "metadata": {},
     "output_type": "execute_result"
    }
   ],
   "source": [
    "pie_stats[3][0][0]['MLAE']"
   ]
  },
  {
   "cell_type": "code",
   "execution_count": null,
   "metadata": {
    "collapsed": true
   },
   "outputs": [],
   "source": []
  }
 ],
 "metadata": {
  "kernelspec": {
   "display_name": "Python 2",
   "language": "python",
   "name": "python2"
  },
  "language_info": {
   "codemirror_mode": {
    "name": "ipython",
    "version": 2
   },
   "file_extension": ".py",
   "mimetype": "text/x-python",
   "name": "python",
   "nbconvert_exporter": "python",
   "pygments_lexer": "ipython2",
   "version": "2.7.14"
  }
 },
 "nbformat": 4,
 "nbformat_minor": 2
}
