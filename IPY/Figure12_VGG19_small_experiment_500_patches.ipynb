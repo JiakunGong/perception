{
 "cells": [
  {
   "cell_type": "code",
   "execution_count": 1,
   "metadata": {},
   "outputs": [
    {
     "name": "stdout",
     "output_type": "stream",
     "text": [
      "Populating the interactive namespace from numpy and matplotlib\n"
     ]
    }
   ],
   "source": [
    "%pylab inline\n",
    "%load_ext autoreload\n",
    "%autoreload 2\n",
    "\n",
    "from jupyterthemes import jtplot\n",
    "jtplot.style()"
   ]
  },
  {
   "cell_type": "code",
   "execution_count": 21,
   "metadata": {
    "collapsed": true
   },
   "outputs": [],
   "source": [
    "import os, sys, time\n",
    "import cPickle as pickle\n",
    "sys.path.append('../EXP/')\n",
    "import ClevelandMcGill as C\n",
    "reload(C)\n",
    "\n",
    "OUTPUT_DIR = '../DATA/Figure12/'"
   ]
  },
  {
   "cell_type": "code",
   "execution_count": 2,
   "metadata": {},
   "outputs": [
    {
     "name": "stderr",
     "output_type": "stream",
     "text": [
      "Using TensorFlow backend.\n"
     ]
    }
   ],
   "source": [
    "from keras.applications.vgg19 import VGG19"
   ]
  },
  {
   "cell_type": "code",
   "execution_count": 70,
   "metadata": {},
   "outputs": [],
   "source": [
    "vgg19_model = VGG19(include_top=False, weights='imagenet', input_shape=(100,100,3))"
   ]
  },
  {
   "cell_type": "code",
   "execution_count": 71,
   "metadata": {},
   "outputs": [
    {
     "name": "stdout",
     "output_type": "stream",
     "text": [
      "_________________________________________________________________\n",
      "Layer (type)                 Output Shape              Param #   \n",
      "=================================================================\n",
      "input_7 (InputLayer)         (None, 100, 100, 3)       0         \n",
      "_________________________________________________________________\n",
      "block1_conv1 (Conv2D)        (None, 100, 100, 64)      1792      \n",
      "_________________________________________________________________\n",
      "block1_conv2 (Conv2D)        (None, 100, 100, 64)      36928     \n",
      "_________________________________________________________________\n",
      "block1_pool (MaxPooling2D)   (None, 50, 50, 64)        0         \n",
      "_________________________________________________________________\n",
      "block2_conv1 (Conv2D)        (None, 50, 50, 128)       73856     \n",
      "_________________________________________________________________\n",
      "block2_conv2 (Conv2D)        (None, 50, 50, 128)       147584    \n",
      "_________________________________________________________________\n",
      "block2_pool (MaxPooling2D)   (None, 25, 25, 128)       0         \n",
      "_________________________________________________________________\n",
      "block3_conv1 (Conv2D)        (None, 25, 25, 256)       295168    \n",
      "_________________________________________________________________\n",
      "block3_conv2 (Conv2D)        (None, 25, 25, 256)       590080    \n",
      "_________________________________________________________________\n",
      "block3_conv3 (Conv2D)        (None, 25, 25, 256)       590080    \n",
      "_________________________________________________________________\n",
      "block3_conv4 (Conv2D)        (None, 25, 25, 256)       590080    \n",
      "_________________________________________________________________\n",
      "block3_pool (MaxPooling2D)   (None, 12, 12, 256)       0         \n",
      "_________________________________________________________________\n",
      "block4_conv1 (Conv2D)        (None, 12, 12, 512)       1180160   \n",
      "_________________________________________________________________\n",
      "block4_conv2 (Conv2D)        (None, 12, 12, 512)       2359808   \n",
      "_________________________________________________________________\n",
      "block4_conv3 (Conv2D)        (None, 12, 12, 512)       2359808   \n",
      "_________________________________________________________________\n",
      "block4_conv4 (Conv2D)        (None, 12, 12, 512)       2359808   \n",
      "_________________________________________________________________\n",
      "block4_pool (MaxPooling2D)   (None, 6, 6, 512)         0         \n",
      "_________________________________________________________________\n",
      "block5_conv1 (Conv2D)        (None, 6, 6, 512)         2359808   \n",
      "_________________________________________________________________\n",
      "block5_conv2 (Conv2D)        (None, 6, 6, 512)         2359808   \n",
      "_________________________________________________________________\n",
      "block5_conv3 (Conv2D)        (None, 6, 6, 512)         2359808   \n",
      "_________________________________________________________________\n",
      "block5_conv4 (Conv2D)        (None, 6, 6, 512)         2359808   \n",
      "_________________________________________________________________\n",
      "block5_pool (MaxPooling2D)   (None, 3, 3, 512)         0         \n",
      "=================================================================\n",
      "Total params: 20,024,384\n",
      "Trainable params: 20,024,384\n",
      "Non-trainable params: 0\n",
      "_________________________________________________________________\n"
     ]
    }
   ],
   "source": [
    "vgg19_model.summary()"
   ]
  },
  {
   "cell_type": "code",
   "execution_count": null,
   "metadata": {
    "collapsed": true
   },
   "outputs": [],
   "source": []
  },
  {
   "cell_type": "code",
   "execution_count": 24,
   "metadata": {},
   "outputs": [],
   "source": [
    "#\n",
    "# load data\n",
    "#\n",
    "import os\n",
    "import cPickle as pickle\n",
    "DATA_DIR = '../DATA/Figure12/'\n",
    "\n",
    "with open(os.path.join(DATA_DIR, 'datapoints_1.p'), 'r') as f:\n",
    "  datapoints = pickle.load(f)\n",
    "  \n",
    "with open(os.path.join(DATA_DIR, 'labels_1.p'), 'r') as f:\n",
    "  labels = pickle.load(f)  \n",
    "  \n",
    "fig = C.Figure12()\n",
    "fig.create()\n",
    "images, labels = fig.render_many(datapoints, framed=False)\n",
    "framed_images, framed_labels = fig.render_many(datapoints, framed=True)"
   ]
  },
  {
   "cell_type": "code",
   "execution_count": 25,
   "metadata": {},
   "outputs": [
    {
     "name": "stdout",
     "output_type": "stream",
     "text": [
      "Datapoint 71028\n",
      "Label False\n"
     ]
    },
    {
     "data": {
      "text/plain": [
       "<matplotlib.image.AxesImage at 0x7f24346cfb50>"
      ]
     },
     "execution_count": 25,
     "metadata": {},
     "output_type": "execute_result"
    },
    {
     "data": {
      "image/png": "[encoded data removed]",
      "text/plain": [
       "<matplotlib.figure.Figure at 0x7f24357e8610>"
      ]
     },
     "metadata": {},
     "output_type": "display_data"
    },
    {
     "data": {
      "image/png": "[encoded data removed]",
      "text/plain": [
       "<matplotlib.figure.Figure at 0x7f244ee100d0>"
      ]
     },
     "metadata": {},
     "output_type": "display_data"
    }
   ],
   "source": [
    "INDEX = np.random.randint(len(datapoints))\n",
    "print 'Datapoint', INDEX\n",
    "print 'Label', labels[INDEX]\n",
    "\n",
    "imshow(images[INDEX])\n",
    "plt.figure()\n",
    "imshow(framed_images[INDEX])"
   ]
  },
  {
   "cell_type": "code",
   "execution_count": 77,
   "metadata": {},
   "outputs": [],
   "source": [
    "stacked_images = np.stack((images,)*3, -1)"
   ]
  },
  {
   "cell_type": "code",
   "execution_count": 128,
   "metadata": {
    "collapsed": true
   },
   "outputs": [],
   "source": [
    "stacked_framed_images = np.stack((framed_images,)*3, -1)"
   ]
  },
  {
   "cell_type": "code",
   "execution_count": 75,
   "metadata": {},
   "outputs": [],
   "source": [
    "from keras import models\n",
    "from keras import layers\n",
    "from keras import optimizers\n",
    "from keras.utils.np_utils import to_categorical\n",
    "\n",
    "  \n",
    "MLP = models.Sequential()\n",
    "MLP.add(layers.Dense(256, activation='relu', input_dim=3 * 3 * 512))\n",
    "MLP.add(layers.Dropout(0.5))\n",
    "MLP.add(layers.Dense(2, activation='softmax'))\n",
    "\n",
    "MLP.compile(loss='categorical_crossentropy', optimizer='adam', metrics=['acc'])\n"
   ]
  },
  {
   "cell_type": "code",
   "execution_count": 141,
   "metadata": {},
   "outputs": [
    {
     "name": "stdout",
     "output_type": "stream",
     "text": [
      "_________________________________________________________________\n",
      "Layer (type)                 Output Shape              Param #   \n",
      "=================================================================\n",
      "dense_13 (Dense)             (None, 256)               1179904   \n",
      "_________________________________________________________________\n",
      "dropout_7 (Dropout)          (None, 256)               0         \n",
      "_________________________________________________________________\n",
      "dense_14 (Dense)             (None, 2)                 514       \n",
      "=================================================================\n",
      "Total params: 1,180,418\n",
      "Trainable params: 1,180,418\n",
      "Non-trainable params: 0\n",
      "_________________________________________________________________\n"
     ]
    }
   ],
   "source": [
    "MLP.summary()"
   ]
  },
  {
   "cell_type": "markdown",
   "metadata": {},
   "source": [
    "# First Experiment without Frames"
   ]
  },
  {
   "cell_type": "code",
   "execution_count": 78,
   "metadata": {
    "collapsed": true
   },
   "outputs": [],
   "source": [
    "X_train = stacked_images[0:500]\n",
    "y_train = labels[0:500]\n",
    "X_test = stacked_images[-500:]\n",
    "y_test = labels[-500:]"
   ]
  },
  {
   "cell_type": "code",
   "execution_count": null,
   "metadata": {
    "collapsed": true
   },
   "outputs": [],
   "source": []
  },
  {
   "cell_type": "code",
   "execution_count": 81,
   "metadata": {},
   "outputs": [
    {
     "name": "stdout",
     "output_type": "stream",
     "text": [
      "500/500 [==============================] - 44s 89ms/step\n"
     ]
    }
   ],
   "source": [
    "features_train = vgg19_model.predict(X_train, verbose=True)"
   ]
  },
  {
   "cell_type": "code",
   "execution_count": 82,
   "metadata": {},
   "outputs": [
    {
     "name": "stdout",
     "output_type": "stream",
     "text": [
      "500/500 [==============================] - 44s 89ms/step\n"
     ]
    }
   ],
   "source": [
    "features_test = vgg19_model.predict(X_test, verbose=True)"
   ]
  },
  {
   "cell_type": "code",
   "execution_count": 85,
   "metadata": {},
   "outputs": [
    {
     "name": "stdout",
     "output_type": "stream",
     "text": [
      "Epoch 1/1\n",
      "500/500 [==============================] - 0s 935us/step - loss: 0.9372 - acc: 0.5140\n"
     ]
    },
    {
     "data": {
      "text/plain": [
       "<keras.callbacks.History at 0x7f240c6002d0>"
      ]
     },
     "execution_count": 85,
     "metadata": {},
     "output_type": "execute_result"
    }
   ],
   "source": [
    "MLP.fit(features_train.reshape(500, 3*3*512), to_categorical(y_train))"
   ]
  },
  {
   "cell_type": "code",
   "execution_count": 94,
   "metadata": {},
   "outputs": [],
   "source": [
    "y_predict = MLP.predict(features_test.reshape(500, 3*3*512))"
   ]
  },
  {
   "cell_type": "code",
   "execution_count": 106,
   "metadata": {},
   "outputs": [
    {
     "name": "stdout",
     "output_type": "stream",
     "text": [
      "             precision    recall  f1-score   support\n",
      "\n",
      "      False       1.00      0.09      0.17       244\n",
      "       True       0.54      1.00      0.70       256\n",
      "\n",
      "avg / total       0.76      0.56      0.44       500\n",
      "\n"
     ]
    }
   ],
   "source": [
    "from sklearn.metrics import classification_report\n",
    "from sklearn.preprocessing import binarize\n",
    "print classification_report(y_test, binarize(y_predict, threshold=.5)[:,1])"
   ]
  },
  {
   "cell_type": "code",
   "execution_count": 129,
   "metadata": {
    "scrolled": false
   },
   "outputs": [
    {
     "name": "stdout",
     "output_type": "stream",
     "text": [
      "# Label A 244\n",
      "# Predict Label A 22\n",
      "TP [ 30  74  79 108 137 151 214 257 270 291 357 361 365 380 382 425 450 458\n",
      " 466 474 495 496] 22\n",
      "[20, 20, 20, 64, 60, 20, 20, 60]\n",
      "[20, 20, 20, 64, 60, 20, 20, 60]\n",
      "[20, 20, 20, 64, 60, 20, 20, 60]\n",
      "[20, 20, 20, 64, 60, 20, 20, 60]\n",
      "[20, 20, 20, 64, 60, 20, 20, 60]\n",
      "[20, 20, 20, 64, 60, 20, 20, 60]\n",
      "[20, 20, 20, 64, 60, 20, 20, 60]\n",
      "[20, 20, 20, 64, 60, 20, 20, 60]\n",
      "[20, 20, 20, 64, 60, 20, 20, 60]\n",
      "[20, 20, 20, 64, 60, 20, 20, 60]\n",
      "[20, 20, 20, 64, 60, 20, 20, 60]\n",
      "[20, 20, 20, 64, 60, 20, 20, 60]\n",
      "[20, 20, 20, 64, 60, 20, 20, 60]\n",
      "[20, 20, 20, 64, 60, 20, 20, 60]\n",
      "[20, 20, 20, 64, 60, 20, 20, 60]\n",
      "[20, 20, 20, 64, 60, 20, 20, 60]\n",
      "[20, 20, 20, 64, 60, 20, 20, 60]\n",
      "[20, 20, 20, 64, 60, 20, 20, 60]\n",
      "[20, 20, 20, 64, 60, 20, 20, 60]\n",
      "[20, 20, 20, 64, 60, 20, 20, 60]\n",
      "[20, 20, 20, 64, 60, 20, 20, 60]\n",
      "[20, 20, 20, 64, 60, 20, 20, 60]\n"
     ]
    }
   ],
   "source": [
    "pred_labels = binarize(y_predict, threshold=.5)[:,1]\n",
    "pred_labelA = np.where(pred_labels == 0)\n",
    "test_labelA = np.where(y_test == 0)\n",
    "true_pos = np.intersect1d(pred_neg, test_neg)\n",
    "print '# Label A', len(test_labelA[0])\n",
    "print '# Predict Label A', len(pred_labelA[0])\n",
    "print 'TP', true_pos, len(true_pos)\n",
    "\n",
    "for t in true_pos:\n",
    "#   plt.figure()\n",
    "#   imshow(X_test[t, :,:,0])\n",
    "  \n",
    "  print datapoints[-500:][t]\n"
   ]
  },
  {
   "cell_type": "markdown",
   "metadata": {},
   "source": [
    "# Second Experiment with Frames"
   ]
  },
  {
   "cell_type": "code",
   "execution_count": 130,
   "metadata": {
    "collapsed": true
   },
   "outputs": [],
   "source": [
    "X_train = stacked_framed_images[0:500]\n",
    "y_train = labels[0:500]\n",
    "X_test = stacked_framed_images[-500:]\n",
    "y_test = labels[-500:]"
   ]
  },
  {
   "cell_type": "code",
   "execution_count": 131,
   "metadata": {
    "collapsed": true
   },
   "outputs": [],
   "source": [
    "# reset VGG\n",
    "vgg19_model = VGG19(include_top=False, weights='imagenet', input_shape=(100,100,3))"
   ]
  },
  {
   "cell_type": "code",
   "execution_count": 132,
   "metadata": {},
   "outputs": [
    {
     "name": "stdout",
     "output_type": "stream",
     "text": [
      "500/500 [==============================] - 44s 89ms/step\n"
     ]
    }
   ],
   "source": [
    "features_train = vgg19_model.predict(X_train, verbose=True)"
   ]
  },
  {
   "cell_type": "code",
   "execution_count": 135,
   "metadata": {},
   "outputs": [
    {
     "name": "stdout",
     "output_type": "stream",
     "text": [
      "500/500 [==============================] - 44s 89ms/step\n"
     ]
    }
   ],
   "source": [
    "features_test = vgg19_model.predict(X_test, verbose=True)"
   ]
  },
  {
   "cell_type": "code",
   "execution_count": 133,
   "metadata": {
    "collapsed": true
   },
   "outputs": [],
   "source": [
    "# reset MLP\n",
    "from keras import models\n",
    "from keras import layers\n",
    "from keras import optimizers\n",
    "from keras.utils.np_utils import to_categorical\n",
    "\n",
    "  \n",
    "MLP = models.Sequential()\n",
    "MLP.add(layers.Dense(256, activation='relu', input_dim=3 * 3 * 512))\n",
    "MLP.add(layers.Dropout(0.5))\n",
    "MLP.add(layers.Dense(2, activation='softmax'))\n",
    "\n",
    "MLP.compile(loss='categorical_crossentropy', optimizer='adam', metrics=['acc'])\n"
   ]
  },
  {
   "cell_type": "code",
   "execution_count": 134,
   "metadata": {},
   "outputs": [
    {
     "name": "stdout",
     "output_type": "stream",
     "text": [
      "Epoch 1/1\n",
      "500/500 [==============================] - 1s 1ms/step - loss: 0.8742 - acc: 0.5460\n"
     ]
    },
    {
     "data": {
      "text/plain": [
       "<keras.callbacks.History at 0x7f1fdc103fd0>"
      ]
     },
     "execution_count": 134,
     "metadata": {},
     "output_type": "execute_result"
    }
   ],
   "source": [
    "MLP.fit(features_train.reshape(500, 3*3*512), to_categorical(y_train))"
   ]
  },
  {
   "cell_type": "code",
   "execution_count": 136,
   "metadata": {
    "collapsed": true
   },
   "outputs": [],
   "source": [
    "y_predict = MLP.predict(features_test.reshape(500, 3*3*512))"
   ]
  },
  {
   "cell_type": "code",
   "execution_count": 137,
   "metadata": {},
   "outputs": [
    {
     "name": "stdout",
     "output_type": "stream",
     "text": [
      "             precision    recall  f1-score   support\n",
      "\n",
      "      False       1.00      0.09      0.17       244\n",
      "       True       0.54      1.00      0.70       256\n",
      "\n",
      "avg / total       0.76      0.56      0.44       500\n",
      "\n"
     ]
    }
   ],
   "source": [
    "from sklearn.metrics import classification_report\n",
    "from sklearn.preprocessing import binarize\n",
    "print classification_report(y_test, binarize(y_predict, threshold=.5)[:,1])"
   ]
  },
  {
   "cell_type": "code",
   "execution_count": 138,
   "metadata": {},
   "outputs": [
    {
     "name": "stdout",
     "output_type": "stream",
     "text": [
      "# Label A 244\n",
      "# Predict Label A 22\n",
      "TP [ 30  74  79 108 137 151 214 257 270 291 357 361 365 380 382 425 450 458\n",
      " 466 474 495 496] 22\n",
      "[20, 20, 20, 64, 60, 20, 20, 60]\n",
      "[20, 20, 20, 64, 60, 20, 20, 60]\n",
      "[20, 20, 20, 64, 60, 20, 20, 60]\n",
      "[20, 20, 20, 64, 60, 20, 20, 60]\n",
      "[20, 20, 20, 64, 60, 20, 20, 60]\n",
      "[20, 20, 20, 64, 60, 20, 20, 60]\n",
      "[20, 20, 20, 64, 60, 20, 20, 60]\n",
      "[20, 20, 20, 64, 60, 20, 20, 60]\n",
      "[20, 20, 20, 64, 60, 20, 20, 60]\n",
      "[20, 20, 20, 64, 60, 20, 20, 60]\n",
      "[20, 20, 20, 64, 60, 20, 20, 60]\n",
      "[20, 20, 20, 64, 60, 20, 20, 60]\n",
      "[20, 20, 20, 64, 60, 20, 20, 60]\n",
      "[20, 20, 20, 64, 60, 20, 20, 60]\n",
      "[20, 20, 20, 64, 60, 20, 20, 60]\n",
      "[20, 20, 20, 64, 60, 20, 20, 60]\n",
      "[20, 20, 20, 64, 60, 20, 20, 60]\n",
      "[20, 20, 20, 64, 60, 20, 20, 60]\n",
      "[20, 20, 20, 64, 60, 20, 20, 60]\n",
      "[20, 20, 20, 64, 60, 20, 20, 60]\n",
      "[20, 20, 20, 64, 60, 20, 20, 60]\n",
      "[20, 20, 20, 64, 60, 20, 20, 60]\n"
     ]
    }
   ],
   "source": [
    "pred_labels = binarize(y_predict, threshold=.5)[:,1]\n",
    "pred_labelA = np.where(pred_labels == 0)\n",
    "test_labelA = np.where(y_test == 0)\n",
    "true_pos = np.intersect1d(pred_neg, test_neg)\n",
    "print '# Label A', len(test_labelA[0])\n",
    "print '# Predict Label A', len(pred_labelA[0])\n",
    "print 'TP', true_pos, len(true_pos)\n",
    "\n",
    "for t in true_pos:\n",
    "#   plt.figure()\n",
    "#   imshow(X_test[t, :,:,0])\n",
    "  \n",
    "  print datapoints[-500:][t]\n"
   ]
  },
  {
   "cell_type": "code",
   "execution_count": 139,
   "metadata": {},
   "outputs": [
    {
     "data": {
      "text/plain": [
       "<matplotlib.image.AxesImage at 0x7f23f412a890>"
      ]
     },
     "execution_count": 139,
     "metadata": {},
     "output_type": "execute_result"
    },
    {
     "data": {
      "image/png": "[encoded data removed]",
      "text/plain": [
       "<matplotlib.figure.Figure at 0x7f1fdc1de150>"
      ]
     },
     "metadata": {},
     "output_type": "display_data"
    }
   ],
   "source": [
    "imshow(X_test[30,:,:,0])"
   ]
  },
  {
   "cell_type": "code",
   "execution_count": null,
   "metadata": {
    "collapsed": true
   },
   "outputs": [],
   "source": []
  }
 ],
 "metadata": {
  "kernelspec": {
   "display_name": "Python 2",
   "language": "python",
   "name": "python2"
  },
  "language_info": {
   "codemirror_mode": {
    "name": "ipython",
    "version": 2
   },
   "file_extension": ".py",
   "mimetype": "text/x-python",
   "name": "python",
   "nbconvert_exporter": "python",
   "pygments_lexer": "ipython2",
   "version": "2.7.14"
  }
 },
 "nbformat": 4,
 "nbformat_minor": 2
}
