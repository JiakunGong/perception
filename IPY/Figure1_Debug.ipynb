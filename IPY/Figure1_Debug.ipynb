{
 "cells": [
  {
   "cell_type": "code",
   "execution_count": 1,
   "metadata": {},
   "outputs": [
    {
     "name": "stdout",
     "output_type": "stream",
     "text": [
      "Populating the interactive namespace from numpy and matplotlib\n"
     ]
    }
   ],
   "source": [
    "import cPickle as pickle\n",
    "%pylab inline"
   ]
  },
  {
   "cell_type": "code",
   "execution_count": 2,
   "metadata": {},
   "outputs": [
    {
     "data": {
      "text/plain": [
       "<module 'ClevelandMcGill' from '../EXP/ClevelandMcGill/__init__.pyc'>"
      ]
     },
     "execution_count": 2,
     "metadata": {},
     "output_type": "execute_result"
    }
   ],
   "source": [
    "import os, sys, time\n",
    "import cPickle as pickle\n",
    "sys.path.append('../EXP/')\n",
    "import ClevelandMcGill as C\n",
    "from util import Util\n",
    "reload(C)"
   ]
  },
  {
   "cell_type": "code",
   "execution_count": 3,
   "metadata": {
    "collapsed": true
   },
   "outputs": [],
   "source": [
    "import os"
   ]
  },
  {
   "cell_type": "code",
   "execution_count": 4,
   "metadata": {
    "collapsed": true
   },
   "outputs": [],
   "source": [
    "RESULTS_DIR = '/n/regal/pfister_lab/PERCEPTION/RESULTS/'"
   ]
  },
  {
   "cell_type": "code",
   "execution_count": 5,
   "metadata": {},
   "outputs": [
    {
     "name": "stdout",
     "output_type": "stream",
     "text": [
      "/n/regal/pfister_lab/PERCEPTION/RESULTS/C.Figure1.angle/2/MLP 8\n",
      "/n/regal/pfister_lab/PERCEPTION/RESULTS/C.Figure1.angle/2/LeNet 8\n",
      "/n/regal/pfister_lab/PERCEPTION/RESULTS/C.Figure1.angle/2/XCEPTION 8\n",
      "/n/regal/pfister_lab/PERCEPTION/RESULTS/C.Figure1.angle/2/VGG19 8\n",
      "/n/regal/pfister_lab/PERCEPTION/RESULTS/C.Figure1.angle/1/MLP 8\n",
      "/n/regal/pfister_lab/PERCEPTION/RESULTS/C.Figure1.angle/1/LeNet 8\n",
      "/n/regal/pfister_lab/PERCEPTION/RESULTS/C.Figure1.angle/1/XCEPTION 8\n",
      "/n/regal/pfister_lab/PERCEPTION/RESULTS/C.Figure1.angle/1/VGG19 8\n",
      "/n/regal/pfister_lab/PERCEPTION/RESULTS/C.Figure1.angle/0/MLP 8\n",
      "/n/regal/pfister_lab/PERCEPTION/RESULTS/C.Figure1.angle/0/LeNet 8\n",
      "/n/regal/pfister_lab/PERCEPTION/RESULTS/C.Figure1.angle/0/XCEPTION 8\n",
      "/n/regal/pfister_lab/PERCEPTION/RESULTS/C.Figure1.angle/0/VGG19 8\n",
      "/n/regal/pfister_lab/PERCEPTION/RESULTS/C.Figure1.position_non_aligned_scale/2/MLP 8\n",
      "/n/regal/pfister_lab/PERCEPTION/RESULTS/C.Figure1.position_non_aligned_scale/2/LeNet 8\n",
      "/n/regal/pfister_lab/PERCEPTION/RESULTS/C.Figure1.position_non_aligned_scale/2/XCEPTION 8\n",
      "/n/regal/pfister_lab/PERCEPTION/RESULTS/C.Figure1.position_non_aligned_scale/2/VGG19 8\n",
      "/n/regal/pfister_lab/PERCEPTION/RESULTS/C.Figure1.position_non_aligned_scale/1/MLP 8\n",
      "/n/regal/pfister_lab/PERCEPTION/RESULTS/C.Figure1.position_non_aligned_scale/1/LeNet 8\n",
      "/n/regal/pfister_lab/PERCEPTION/RESULTS/C.Figure1.position_non_aligned_scale/1/XCEPTION 8\n",
      "/n/regal/pfister_lab/PERCEPTION/RESULTS/C.Figure1.position_non_aligned_scale/1/VGG19 8\n",
      "/n/regal/pfister_lab/PERCEPTION/RESULTS/C.Figure1.position_non_aligned_scale/3/MLP 8\n",
      "/n/regal/pfister_lab/PERCEPTION/RESULTS/C.Figure1.position_non_aligned_scale/3/LeNet 8\n",
      "/n/regal/pfister_lab/PERCEPTION/RESULTS/C.Figure1.position_non_aligned_scale/3/XCEPTION 8\n",
      "/n/regal/pfister_lab/PERCEPTION/RESULTS/C.Figure1.position_non_aligned_scale/3/VGG19 7\n",
      "/n/regal/pfister_lab/PERCEPTION/RESULTS/C.Figure1.position_non_aligned_scale/0/MLP 6\n",
      "/n/regal/pfister_lab/PERCEPTION/RESULTS/C.Figure1.position_non_aligned_scale/0/XCEPTION 8\n",
      "/n/regal/pfister_lab/PERCEPTION/RESULTS/C.Figure1.position_non_aligned_scale/0/VGG19 8\n",
      "/n/regal/pfister_lab/PERCEPTION/RESULTS/C.Figure1.position_common_scale/2/MLP 6\n",
      "/n/regal/pfister_lab/PERCEPTION/RESULTS/C.Figure1.position_common_scale/2/LeNet 8\n",
      "/n/regal/pfister_lab/PERCEPTION/RESULTS/C.Figure1.position_common_scale/2/XCEPTION 8\n",
      "/n/regal/pfister_lab/PERCEPTION/RESULTS/C.Figure1.position_common_scale/2/VGG19 6\n",
      "/n/regal/pfister_lab/PERCEPTION/RESULTS/C.Figure1.position_common_scale/1/MLP 8\n",
      "/n/regal/pfister_lab/PERCEPTION/RESULTS/C.Figure1.position_common_scale/1/LeNet 8\n",
      "/n/regal/pfister_lab/PERCEPTION/RESULTS/C.Figure1.position_common_scale/1/XCEPTION 8\n",
      "/n/regal/pfister_lab/PERCEPTION/RESULTS/C.Figure1.position_common_scale/1/VGG19 8\n",
      "/n/regal/pfister_lab/PERCEPTION/RESULTS/C.Figure1.position_common_scale/0/MLP 8\n",
      "/n/regal/pfister_lab/PERCEPTION/RESULTS/C.Figure1.position_common_scale/0/LeNet 8\n",
      "/n/regal/pfister_lab/PERCEPTION/RESULTS/C.Figure1.position_common_scale/0/XCEPTION 8\n",
      "/n/regal/pfister_lab/PERCEPTION/RESULTS/C.Figure1.position_common_scale/0/VGG19 8\n",
      "/n/regal/pfister_lab/PERCEPTION/RESULTS/C.Figure1.length/2/MLP 8\n",
      "/n/regal/pfister_lab/PERCEPTION/RESULTS/C.Figure1.length/2/LeNet 8\n",
      "/n/regal/pfister_lab/PERCEPTION/RESULTS/C.Figure1.length/2/XCEPTION 8\n",
      "/n/regal/pfister_lab/PERCEPTION/RESULTS/C.Figure1.length/2/VGG19 8\n",
      "/n/regal/pfister_lab/PERCEPTION/RESULTS/C.Figure1.length/1/MLP 8\n",
      "/n/regal/pfister_lab/PERCEPTION/RESULTS/C.Figure1.length/1/LeNet 8\n",
      "/n/regal/pfister_lab/PERCEPTION/RESULTS/C.Figure1.length/1/XCEPTION 8\n",
      "/n/regal/pfister_lab/PERCEPTION/RESULTS/C.Figure1.length/1/VGG19 8\n",
      "/n/regal/pfister_lab/PERCEPTION/RESULTS/C.Figure1.length/3/MLP 8\n",
      "/n/regal/pfister_lab/PERCEPTION/RESULTS/C.Figure1.length/3/LeNet 8\n",
      "/n/regal/pfister_lab/PERCEPTION/RESULTS/C.Figure1.length/3/XCEPTION 8\n",
      "/n/regal/pfister_lab/PERCEPTION/RESULTS/C.Figure1.length/3/VGG19 8\n",
      "/n/regal/pfister_lab/PERCEPTION/RESULTS/C.Figure1.length/0/MLP 8\n",
      "/n/regal/pfister_lab/PERCEPTION/RESULTS/C.Figure1.length/0/LeNet 8\n",
      "/n/regal/pfister_lab/PERCEPTION/RESULTS/C.Figure1.length/0/XCEPTION 8\n",
      "/n/regal/pfister_lab/PERCEPTION/RESULTS/C.Figure1.length/0/VGG19 8\n",
      "/n/regal/pfister_lab/PERCEPTION/RESULTS/C.Figure1.area/2/MLP 8\n",
      "/n/regal/pfister_lab/PERCEPTION/RESULTS/C.Figure1.area/2/LeNet 8\n",
      "/n/regal/pfister_lab/PERCEPTION/RESULTS/C.Figure1.area/2/XCEPTION 8\n",
      "/n/regal/pfister_lab/PERCEPTION/RESULTS/C.Figure1.area/2/VGG19 8\n",
      "/n/regal/pfister_lab/PERCEPTION/RESULTS/C.Figure1.area/1/MLP 8\n",
      "/n/regal/pfister_lab/PERCEPTION/RESULTS/C.Figure1.area/1/LeNet 8\n",
      "/n/regal/pfister_lab/PERCEPTION/RESULTS/C.Figure1.area/1/XCEPTION 8\n",
      "/n/regal/pfister_lab/PERCEPTION/RESULTS/C.Figure1.area/1/VGG19 8\n",
      "/n/regal/pfister_lab/PERCEPTION/RESULTS/C.Figure1.area/0/MLP 8\n",
      "/n/regal/pfister_lab/PERCEPTION/RESULTS/C.Figure1.area/0/LeNet 8\n",
      "/n/regal/pfister_lab/PERCEPTION/RESULTS/C.Figure1.area/0/XCEPTION 8\n",
      "/n/regal/pfister_lab/PERCEPTION/RESULTS/C.Figure1.area/0/VGG19 8\n",
      "/n/regal/pfister_lab/PERCEPTION/RESULTS/C.Figure1.direction/2/MLP 8\n",
      "/n/regal/pfister_lab/PERCEPTION/RESULTS/C.Figure1.direction/2/LeNet 8\n",
      "/n/regal/pfister_lab/PERCEPTION/RESULTS/C.Figure1.direction/2/XCEPTION 8\n",
      "/n/regal/pfister_lab/PERCEPTION/RESULTS/C.Figure1.direction/2/VGG19 8\n",
      "/n/regal/pfister_lab/PERCEPTION/RESULTS/C.Figure1.direction/1/MLP 8\n",
      "/n/regal/pfister_lab/PERCEPTION/RESULTS/C.Figure1.direction/1/LeNet 8\n",
      "/n/regal/pfister_lab/PERCEPTION/RESULTS/C.Figure1.direction/1/XCEPTION 8\n",
      "/n/regal/pfister_lab/PERCEPTION/RESULTS/C.Figure1.direction/1/VGG19 8\n",
      "/n/regal/pfister_lab/PERCEPTION/RESULTS/C.Figure1.direction/0/MLP 8\n",
      "/n/regal/pfister_lab/PERCEPTION/RESULTS/C.Figure1.direction/0/LeNet 8\n",
      "/n/regal/pfister_lab/PERCEPTION/RESULTS/C.Figure1.direction/0/XCEPTION 8\n",
      "/n/regal/pfister_lab/PERCEPTION/RESULTS/C.Figure1.direction/0/VGG19 8\n",
      "/n/regal/pfister_lab/PERCEPTION/RESULTS/C.Figure1.volume/2/MLP 8\n",
      "/n/regal/pfister_lab/PERCEPTION/RESULTS/C.Figure1.volume/2/LeNet 8\n",
      "/n/regal/pfister_lab/PERCEPTION/RESULTS/C.Figure1.volume/2/XCEPTION 8\n",
      "/n/regal/pfister_lab/PERCEPTION/RESULTS/C.Figure1.volume/2/VGG19 6\n",
      "/n/regal/pfister_lab/PERCEPTION/RESULTS/C.Figure1.volume/1/MLP 8\n",
      "/n/regal/pfister_lab/PERCEPTION/RESULTS/C.Figure1.volume/1/LeNet 8\n",
      "/n/regal/pfister_lab/PERCEPTION/RESULTS/C.Figure1.volume/1/XCEPTION 8\n",
      "/n/regal/pfister_lab/PERCEPTION/RESULTS/C.Figure1.volume/1/VGG19 8\n",
      "/n/regal/pfister_lab/PERCEPTION/RESULTS/C.Figure1.volume/0/MLP 8\n",
      "/n/regal/pfister_lab/PERCEPTION/RESULTS/C.Figure1.volume/0/LeNet 8\n",
      "/n/regal/pfister_lab/PERCEPTION/RESULTS/C.Figure1.volume/0/XCEPTION 6\n",
      "/n/regal/pfister_lab/PERCEPTION/RESULTS/C.Figure1.volume/0/VGG19 8\n",
      "/n/regal/pfister_lab/PERCEPTION/RESULTS/C.Figure1.shading/2/MLP 8\n",
      "/n/regal/pfister_lab/PERCEPTION/RESULTS/C.Figure1.shading/2/LeNet 8\n",
      "/n/regal/pfister_lab/PERCEPTION/RESULTS/C.Figure1.shading/2/XCEPTION 8\n",
      "/n/regal/pfister_lab/PERCEPTION/RESULTS/C.Figure1.shading/2/VGG19 8\n",
      "/n/regal/pfister_lab/PERCEPTION/RESULTS/C.Figure1.shading/1/MLP 8\n",
      "/n/regal/pfister_lab/PERCEPTION/RESULTS/C.Figure1.shading/1/LeNet 8\n",
      "/n/regal/pfister_lab/PERCEPTION/RESULTS/C.Figure1.shading/1/XCEPTION 8\n",
      "/n/regal/pfister_lab/PERCEPTION/RESULTS/C.Figure1.shading/1/VGG19 8\n",
      "/n/regal/pfister_lab/PERCEPTION/RESULTS/C.Figure1.shading/0/MLP 8\n",
      "/n/regal/pfister_lab/PERCEPTION/RESULTS/C.Figure1.shading/0/LeNet 8\n",
      "/n/regal/pfister_lab/PERCEPTION/RESULTS/C.Figure1.shading/0/XCEPTION 8\n",
      "/n/regal/pfister_lab/PERCEPTION/RESULTS/C.Figure1.shading/0/VGG19 8\n",
      "/n/regal/pfister_lab/PERCEPTION/RESULTS/C.Figure1.curvature/2/MLP 8\n",
      "/n/regal/pfister_lab/PERCEPTION/RESULTS/C.Figure1.curvature/2/LeNet 8\n",
      "/n/regal/pfister_lab/PERCEPTION/RESULTS/C.Figure1.curvature/2/XCEPTION 8\n",
      "/n/regal/pfister_lab/PERCEPTION/RESULTS/C.Figure1.curvature/2/VGG19 8\n",
      "/n/regal/pfister_lab/PERCEPTION/RESULTS/C.Figure1.curvature/1/MLP 8\n",
      "/n/regal/pfister_lab/PERCEPTION/RESULTS/C.Figure1.curvature/1/LeNet 8\n",
      "/n/regal/pfister_lab/PERCEPTION/RESULTS/C.Figure1.curvature/1/XCEPTION 8\n",
      "/n/regal/pfister_lab/PERCEPTION/RESULTS/C.Figure1.curvature/1/VGG19 8\n",
      "/n/regal/pfister_lab/PERCEPTION/RESULTS/C.Figure1.curvature/3/MLP 8\n",
      "/n/regal/pfister_lab/PERCEPTION/RESULTS/C.Figure1.curvature/3/LeNet 8\n",
      "/n/regal/pfister_lab/PERCEPTION/RESULTS/C.Figure1.curvature/3/XCEPTION 8\n",
      "/n/regal/pfister_lab/PERCEPTION/RESULTS/C.Figure1.curvature/3/VGG19 8\n",
      "/n/regal/pfister_lab/PERCEPTION/RESULTS/C.Figure1.curvature/0/MLP 8\n",
      "/n/regal/pfister_lab/PERCEPTION/RESULTS/C.Figure1.curvature/0/LeNet 8\n",
      "/n/regal/pfister_lab/PERCEPTION/RESULTS/C.Figure1.curvature/0/XCEPTION 8\n",
      "/n/regal/pfister_lab/PERCEPTION/RESULTS/C.Figure1.curvature/0/VGG19 8\n"
     ]
    }
   ],
   "source": [
    "for subdir, _, _ in os.walk(RESULTS_DIR):\n",
    "    if len(subdir.split('/')) == 9:\n",
    "      if len(os.listdir(subdir)) != 4:\n",
    "        print subdir, len(os.listdir(subdir))\n",
    "        \n",
    "#         classifier = subdir.split('/')[-1]\n",
    "#         dataset = subdir.split('/')[-2]\n",
    "#         experiment = subdir.split('/')[-3]\n",
    "        \n",
    "#         print 'sbatch', experiment + '_' + dataset + '_' + classifier +'_True.sbatch'"
   ]
  },
  {
   "cell_type": "code",
   "execution_count": null,
   "metadata": {
    "collapsed": true
   },
   "outputs": [],
   "source": [
    "for f in *_XCEPTION_True.sbatch; do sbatch $f; done"
   ]
  },
  {
   "cell_type": "code",
   "execution_count": 6,
   "metadata": {
    "collapsed": true
   },
   "outputs": [],
   "source": [
    "import glob\n",
    "import cPickle as pickle"
   ]
  },
  {
   "cell_type": "code",
   "execution_count": 73,
   "metadata": {},
   "outputs": [
    {
     "name": "stdout",
     "output_type": "stream",
     "text": [
      "['0', '1', '2']\n",
      "Loaded C.Figure1.angle\n",
      "['0', '1', '2', '3']\n",
      "Loaded C.Figure1.curvature\n"
     ]
    }
   ],
   "source": [
    "experiments = ['C.Figure1.angle', 'C.Figure1.curvature']\n",
    "all_labels = {'C.Figure1.angle': ['variable Angle', '+ variable Y', '+ variable X'], \\\n",
    "              'C.Figure1.curvature': ['variable Curvature', '+ variable Y', '+ variable X', '+ variable Width']}\n",
    "\n",
    "all_results = {}\n",
    "\n",
    "for experiment in experiments:\n",
    "\n",
    "    e_dir = os.path.join(RESULTS_DIR, experiment)\n",
    "    datasets = sorted(os.listdir(e_dir))\n",
    "    print datasets\n",
    "    results = [None]*4\n",
    "\n",
    "    classifiers = ['MLP', 'LeNet', 'VGG19', 'XCEPTION']\n",
    "    for i,c in enumerate(classifiers):\n",
    "\n",
    "        results[i] = []\n",
    "        for d in datasets:\n",
    "            d_dir = os.path.join(e_dir, d)\n",
    "\n",
    "            stats_files = ['01_noise.p', '02_noise.p', '03_noise.p', '04_noise.p']#glob.glob(os.path.join(d_dir, c)+'/*.p')\n",
    "            MLAEs = []\n",
    "\n",
    "            for s in stats_files:\n",
    "\n",
    "                with open(os.path.join(d_dir, c)+'/'+s, 'r') as f:\n",
    "                    stats = pickle.load(f)\n",
    "                MLAEs.append(stats['MLAE'])\n",
    "\n",
    "            results[i].append(MLAEs)\n",
    "            \n",
    "    print 'Loaded', experiment\n",
    "            \n",
    "    all_results[experiment] = results\n",
    "            \n",
    "#         print d, c, np.mean([stats1['MLAE'], stats2['MLAE']])"
   ]
  },
  {
   "cell_type": "code",
   "execution_count": 83,
   "metadata": {},
   "outputs": [
    {
     "data": {
      "image/png": "[encoded data removed]",
      "text/plain": [
       "<matplotlib.figure.Figure at 0x2b2e1c4e8210>"
      ]
     },
     "metadata": {},
     "output_type": "display_data"
    }
   ],
   "source": [
    "import numpy as np\n",
    "import scipy as sp\n",
    "import scipy.stats\n",
    "from matplotlib import gridspec\n",
    "\n",
    "def mean_confidence_interval(data, confidence=0.95):\n",
    "    a = 1.0*np.array(data)\n",
    "    n = len(a)\n",
    "    m, se = np.mean(a), scipy.stats.sem(a)\n",
    "    h = se * sp.stats.t._ppf((1+confidence)/2., n-1)\n",
    "    return m, (m-h), m+h, h\n",
    "\n",
    "plt.figure(figsize=(18,len(experiments)), facecolor='white')\n",
    "gs = gridspec.GridSpec(len(experiments), 5, width_ratios=[0.7,1,1,1,1])\n",
    "# experiments = [experiments[1]]\n",
    "\n",
    "# print experiments\n",
    "\n",
    "j = 0\n",
    "for experiment in experiments:\n",
    "    \n",
    "    for i,c in enumerate(['Image','MLP', 'LeNet', 'VGG19', 'XCEPTION']):\n",
    "\n",
    "        fig = plt.subplot(gs[j])\n",
    "        j += 1\n",
    "        \n",
    "        if i == 0:\n",
    "            ax = plt.gca()\n",
    "            from matplotlib.ticker import NullFormatter\n",
    "            ax.xaxis.set_major_formatter(NullFormatter())\n",
    "            ax.xaxis.set_ticks_position('none') \n",
    "            ax.yaxis.set_major_formatter(NullFormatter())\n",
    "            ax.yaxis.set_ticks_position('none') \n",
    "            Util.imshow_nicely(eval(experiment)()[1], new_figure=False)\n",
    "\n",
    "            continue\n",
    "\n",
    "\n",
    "        plt.title(c)\n",
    "    #     plt.xlabel('Classifier')\n",
    "    #     plt.xlabel('Log Error')\n",
    "\n",
    "        labels = all_labels[experiment]#['variable Angle', '+ variable Y', '+ variable X']\n",
    "#         print labels\n",
    "        data = all_results[experiment][i-1]\n",
    "        \n",
    "        means = [np.mean(r) for r in data]\n",
    "#         print means\n",
    "        confidence = [mean_confidence_interval(r)[3] for r in data]\n",
    "#         print confidence\n",
    "        plt.xlim(-3,6.1)\n",
    "    #     plt.axis('off')\n",
    "    #     fig.patch.set_visible(False)\n",
    "        ax = plt.gca()\n",
    "        ax.spines['top'].set_visible(False)\n",
    "        ax.spines['right'].set_visible(False)\n",
    "        ax.spines['bottom'].set_visible(False)\n",
    "        ax.spines['left'].set_visible(False)\n",
    "        ax.get_yaxis().set_ticks([])\n",
    "        ax.get_xaxis().set_ticks(np.arange(-6,7,12))\n",
    "        ax.get_xaxis().set_ticks(np.arange(0,0.1), minor=True)\n",
    "\n",
    "        # remove ticks on x\n",
    "        from matplotlib.ticker import NullFormatter\n",
    "        ax.xaxis.set_major_formatter(NullFormatter())\n",
    "        ax.xaxis.set_ticks_position('none')\n",
    "\n",
    "        ax.axes.get_yaxis().set_ticklabels([])\n",
    "\n",
    "    #     ax.patch.set_visible(False)\n",
    "    #     cur_axes.axes.get_xaxis().set_ticklabels([])\n",
    "\n",
    "    #     ax.tick_params(axis='x', which='major', pad=15)\n",
    "    #     plt.yticks(np.arange(0,5,1))\n",
    "    #     plt.xticks(np.arange(0,6.1, 3))\n",
    "        plt.grid(True, color='gray', which='major', alpha=1)\n",
    "        plt.grid(True, color='gray', which='minor', alpha=0.2)\n",
    "        \n",
    "#         print 'A', means, labels, confidence\n",
    "        errorbars = plt.errorbar(means, labels, xerr=confidence, fmt='o', color='black', capsize=6)\n",
    "       "
   ]
  },
  {
   "cell_type": "code",
   "execution_count": 66,
   "metadata": {},
   "outputs": [
    {
     "ename": "TypeError",
     "evalue": "'module' object is not callable",
     "output_type": "error",
     "traceback": [
      "\u001b[0;31m---------------------------------------------------------------------------\u001b[0m",
      "\u001b[0;31mTypeError\u001b[0m                                 Traceback (most recent call last)",
      "\u001b[0;32m<ipython-input-66-b3269af53253>\u001b[0m in \u001b[0;36m<module>\u001b[0;34m()\u001b[0m\n\u001b[0;32m----> 1\u001b[0;31m \u001b[0meval\u001b[0m\u001b[0;34m(\u001b[0m\u001b[0mexperiment\u001b[0m\u001b[0;34m)\u001b[0m\u001b[0;34m(\u001b[0m\u001b[0;34m)\u001b[0m\u001b[0;34m\u001b[0m\u001b[0m\n\u001b[0m",
      "\u001b[0;31mTypeError\u001b[0m: 'module' object is not callable"
     ]
    }
   ],
   "source": [
    "eval(experiment)()"
   ]
  },
  {
   "cell_type": "code",
   "execution_count": 67,
   "metadata": {},
   "outputs": [
    {
     "name": "stdout",
     "output_type": "stream",
     "text": [
      "C\n"
     ]
    }
   ],
   "source": [
    "print experiment"
   ]
  },
  {
   "cell_type": "code",
   "execution_count": 22,
   "metadata": {},
   "outputs": [
    {
     "data": {
      "image/png": "[encoded data removed]",
      "text/plain": [
       "<matplotlib.figure.Figure at 0x2b2e11eceed0>"
      ]
     },
     "metadata": {},
     "output_type": "display_data"
    }
   ],
   "source": [
    "Util.imshow_nicely(eval(experiment)()[1])"
   ]
  },
  {
   "cell_type": "code",
   "execution_count": 34,
   "metadata": {},
   "outputs": [
    {
     "data": {
      "text/plain": [
       "([-2.8080879959057308,\n",
       "  -2.4906197776148327,\n",
       "  -2.7302100732953889,\n",
       "  -2.6082542250304144],\n",
       " ['variable Angle', '+ variable Y', '+ variable X'])"
      ]
     },
     "execution_count": 34,
     "metadata": {},
     "output_type": "execute_result"
    }
   ],
   "source": [
    "means, labels"
   ]
  },
  {
   "cell_type": "code",
   "execution_count": 132,
   "metadata": {},
   "outputs": [
    {
     "data": {
      "text/plain": [
       "[1.7192426817387523, 2.2198943493338108, 2.5510833514829736]"
      ]
     },
     "execution_count": 132,
     "metadata": {},
     "output_type": "execute_result"
    }
   ],
   "source": [
    "mins"
   ]
  },
  {
   "cell_type": "code",
   "execution_count": 133,
   "metadata": {},
   "outputs": [
    {
     "data": {
      "text/plain": [
       "[1.9473423802358294, 2.4231211690738697, 2.7351373269257619]"
      ]
     },
     "execution_count": 133,
     "metadata": {},
     "output_type": "execute_result"
    }
   ],
   "source": [
    "maxs"
   ]
  },
  {
   "cell_type": "code",
   "execution_count": 136,
   "metadata": {},
   "outputs": [
    {
     "data": {
      "text/plain": [
       "([1.7192426817387523, 2.2198943493338108, 2.5510833514829736],\n",
       " [1.9473423802358294, 2.4231211690738697, 2.7351373269257619])"
      ]
     },
     "execution_count": 136,
     "metadata": {},
     "output_type": "execute_result"
    }
   ],
   "source": [
    "(mins, maxs)"
   ]
  },
  {
   "cell_type": "code",
   "execution_count": 150,
   "metadata": {},
   "outputs": [
    {
     "data": {
      "text/plain": [
       "[2.2661355504204352,\n",
       " array([ 1.16738975,  1.17081953,  1.28061807,  1.45913129]),\n",
       " array([ 3.36488135,  3.36145157,  3.25165303,  3.07313981]),\n",
       " array([ 1.0987458 ,  1.09531602,  0.98551748,  0.80700426])]"
      ]
     },
     "execution_count": 150,
     "metadata": {},
     "output_type": "execute_result"
    }
   ],
   "source": [
    "confidence"
   ]
  },
  {
   "cell_type": "code",
   "execution_count": 138,
   "metadata": {},
   "outputs": [
    {
     "name": "stdout",
     "output_type": "stream",
     "text": [
      "[ 0.1  0.6  1.1  1.6  2.1  2.6  3.1  3.6]\n",
      "[ 0.90483742  0.54881164  0.33287108  0.20189652  0.12245643  0.07427358\n",
      "  0.0450492   0.02732372]\n",
      "[ 0.26324555  0.35491933  0.40976177  0.45298221  0.48982753  0.52249031\n",
      "  0.55213634  0.57947332]\n"
     ]
    }
   ],
   "source": [
    "# example data\n",
    "x = np.arange(0.1, 4, 0.5)\n",
    "y = np.exp(-x)\n",
    "\n",
    "# example variable error bar values\n",
    "yerr = 0.1 + 0.2*np.sqrt(x)\n",
    "xerr = 0.1 + yerr\n",
    "print x\n",
    "print y\n",
    "print xerr"
   ]
  },
  {
   "cell_type": "code",
   "execution_count": 121,
   "metadata": {},
   "outputs": [
    {
     "name": "stdout",
     "output_type": "stream",
     "text": [
      "[1.7975809878019353, 1.5491893653924598]\n",
      "[2.9174054981466879, 2.3409907352282753]\n",
      "[3.4120250038421158, 3.1797806452814772]\n"
     ]
    }
   ],
   "source": [
    "import numpy as np, scipy.stats as st\n",
    "\n",
    "cints = np.zeros((2, len(results[1])))\n",
    "\n",
    "for z,r in enumerate(results[1]):\n",
    "    print r\n",
    "    m,i,j = mean_confidence_interval(r)\n",
    "    cints[0,z] = i\n",
    "    cints[1,z] = j"
   ]
  },
  {
   "cell_type": "code",
   "execution_count": 123,
   "metadata": {},
   "outputs": [
    {
     "data": {
      "text/plain": [
       "array([[ 0.09532777, -1.03282388,  1.82043064],\n",
       "       [ 3.25144258,  6.29122011,  4.77137501]])"
      ]
     },
     "execution_count": 123,
     "metadata": {},
     "output_type": "execute_result"
    }
   ],
   "source": [
    "cints"
   ]
  },
  {
   "cell_type": "code",
   "execution_count": 146,
   "metadata": {
    "collapsed": true
   },
   "outputs": [],
   "source": []
  },
  {
   "cell_type": "code",
   "execution_count": 147,
   "metadata": {},
   "outputs": [
    {
     "data": {
      "text/plain": [
       "(4.6730152972474555,\n",
       " 4.1527393375449257,\n",
       " 5.1932912569499852,\n",
       " 0.52027595970253016)"
      ]
     },
     "execution_count": 147,
     "metadata": {},
     "output_type": "execute_result"
    }
   ],
   "source": [
    "mean_confidence_interval(results[0][1])"
   ]
  },
  {
   "cell_type": "code",
   "execution_count": 104,
   "metadata": {},
   "outputs": [
    {
     "data": {
      "text/plain": [
       "[[3.4371376507239724, 2.589734799307946],\n",
       " [4.9569597644077756, 4.9504569373217278],\n",
       " [4.9911288314507596, 4.7263080829480923]]"
      ]
     },
     "execution_count": 104,
     "metadata": {},
     "output_type": "execute_result"
    }
   ],
   "source": []
  },
  {
   "cell_type": "code",
   "execution_count": null,
   "metadata": {
    "collapsed": true
   },
   "outputs": [],
   "source": []
  }
 ],
 "metadata": {
  "kernelspec": {
   "display_name": "Python 2",
   "language": "python",
   "name": "python2"
  },
  "language_info": {
   "codemirror_mode": {
    "name": "ipython",
    "version": 2
   },
   "file_extension": ".py",
   "mimetype": "text/x-python",
   "name": "python",
   "nbconvert_exporter": "python",
   "pygments_lexer": "ipython2",
   "version": "2.7.14"
  }
 },
 "nbformat": 4,
 "nbformat_minor": 2
}
