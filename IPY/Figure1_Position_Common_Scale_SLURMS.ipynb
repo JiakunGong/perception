{
 "cells": [
  {
   "cell_type": "code",
   "execution_count": 11,
   "metadata": {
    "collapsed": true
   },
   "outputs": [],
   "source": [
    "import os\n",
    "from string import Template"
   ]
  },
  {
   "cell_type": "code",
   "execution_count": 4,
   "metadata": {
    "collapsed": true
   },
   "outputs": [],
   "source": [
    "Experiment = 'Figure1_Position_Common_Scale'\n",
    "Datasets = [1, 2, 3]\n",
    "Classifiers = ['RF_Image', 'RF', 'MLP', 'LeNet', 'VGG19', 'Xception']"
   ]
  },
  {
   "cell_type": "code",
   "execution_count": 5,
   "metadata": {
    "collapsed": true
   },
   "outputs": [],
   "source": [
    "NORMALIZATION_FACTOR = '80'"
   ]
  },
  {
   "cell_type": "code",
   "execution_count": 8,
   "metadata": {
    "collapsed": true
   },
   "outputs": [],
   "source": [
    "SLURM_DIR = '../SLURMS/' + Experiment\n",
    "LOG_DIR = SLURM_DIR + '/LOGS/'\n",
    "if not os.path.exists(SLURM_DIR):\n",
    "  os.makedirs(SLURM_DIR)\n",
    "if not os.path.exists(LOG_DIR):\n",
    "  os.makedirs(LOG_DIR)"
   ]
  },
  {
   "cell_type": "code",
   "execution_count": 18,
   "metadata": {
    "collapsed": true
   },
   "outputs": [],
   "source": [
    "SLURM_TEMPLATE = Template('''#!/bin/bash\n",
    "#SBATCH -p seas_dgx1\n",
    "#SBATCH -n 4 # Number of cores\n",
    "#SBATCH -N 1 # Ensure that all cores are on one machine\n",
    "#SBATCH --gres=gpu\n",
    "#SBATCH --mem=32000\n",
    "#SBATCH -t 3-00:00\n",
    "#SBATCH --mail-type=ALL\n",
    "#SBATCH --mail-user=haehn@seas.harvard.edu\n",
    "#SBATCH -o /n/home05/haehn/Projects/CP/SLURMS/$experiment/LOGS/%N.%j.out\n",
    "#SBATCH -e /n/home05/haehn/Projects/CP/SLURMS/$experiment/LOGS/%N.%j.err\n",
    "\n",
    "source new-modules.sh\n",
    "\n",
    "module load Anaconda/5.0.1-fasrc01\n",
    "\n",
    "cd /n/home05/haehn/Projects/CP/EXP/\n",
    "\n",
    "source activate CP\n",
    "\n",
    "python figure1_experiments.py $experiment $dataset $classifier $normalization_factor\n",
    "\n",
    "# end\n",
    "exit 0;\n",
    "''')"
   ]
  },
  {
   "cell_type": "code",
   "execution_count": 19,
   "metadata": {
    "collapsed": true
   },
   "outputs": [],
   "source": [
    "for d in Datasets:\n",
    "  for c in Classifiers:\n",
    "\n",
    "      new_slurm = SLURM_TEMPLATE.substitute(experiment=Experiment, dataset=str(d), classifier=c, normalization_factor=NORMALIZATION_FACTOR)\n",
    "      with open(os.path.join(SLURM_DIR, str(d)+'_'+c+'.sbatch'), 'w') as f:\n",
    "        f.write(new_slurm)\n"
   ]
  },
  {
   "cell_type": "code",
   "execution_count": null,
   "metadata": {
    "collapsed": true
   },
   "outputs": [],
   "source": []
  }
 ],
 "metadata": {
  "kernelspec": {
   "display_name": "Python 2",
   "language": "python",
   "name": "python2"
  },
  "language_info": {
   "codemirror_mode": {
    "name": "ipython",
    "version": 2
   },
   "file_extension": ".py",
   "mimetype": "text/x-python",
   "name": "python",
   "nbconvert_exporter": "python",
   "pygments_lexer": "ipython2",
   "version": "2.7.14"
  }
 },
 "nbformat": 4,
 "nbformat_minor": 2
}
