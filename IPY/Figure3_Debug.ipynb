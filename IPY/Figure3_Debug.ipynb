{
 "cells": [
  {
   "cell_type": "code",
   "execution_count": 1,
   "metadata": {},
   "outputs": [
    {
     "name": "stdout",
     "output_type": "stream",
     "text": [
      "Populating the interactive namespace from numpy and matplotlib\n"
     ]
    }
   ],
   "source": [
    "import cPickle as pickle\n",
    "%pylab inline"
   ]
  },
  {
   "cell_type": "code",
   "execution_count": 2,
   "metadata": {
    "collapsed": true
   },
   "outputs": [],
   "source": [
    "import os"
   ]
  },
  {
   "cell_type": "code",
   "execution_count": 3,
   "metadata": {
    "collapsed": true
   },
   "outputs": [],
   "source": [
    "RESULTS_DIR = '/n/regal/pfister_lab/PERCEPTION/RESULTS/'"
   ]
  },
  {
   "cell_type": "code",
   "execution_count": 6,
   "metadata": {},
   "outputs": [],
   "source": [
    "for subdir, _, _ in os.walk(RESULTS_DIR+'/C.Figure3'):\n",
    "    print subdir\n",
    "    if len(subdir.split('/')) == 9:\n",
    "      if len(os.listdir(subdir)) != 4:\n",
    "        print subdir, len(os.listdir(subdir))\n",
    "        \n",
    "#         classifier = subdir.split('/')[-1]\n",
    "#         dataset = subdir.split('/')[-2]\n",
    "#         experiment = subdir.split('/')[-3]\n",
    "        \n",
    "#         print 'sbatch', experiment + '_' + dataset + '_' + classifier +'_True.sbatch'"
   ]
  },
  {
   "cell_type": "code",
   "execution_count": null,
   "metadata": {
    "collapsed": true
   },
   "outputs": [],
   "source": [
    "for f in *_XCEPTION_True.sbatch; do sbatch $f; done"
   ]
  },
  {
   "cell_type": "code",
   "execution_count": 18,
   "metadata": {
    "collapsed": true
   },
   "outputs": [],
   "source": [
    "import glob\n",
    "import cPickle as pickle"
   ]
  },
  {
   "cell_type": "code",
   "execution_count": 115,
   "metadata": {
    "collapsed": true
   },
   "outputs": [],
   "source": [
    "experiment = 'C.Figure1.angle'\n",
    "e_dir = os.path.join(RESULTS_DIR, experiment)\n",
    "datasets = sorted(os.listdir(e_dir))\n",
    "\n",
    "results = [None]*4\n",
    "\n",
    "classifiers = ['MLP', 'LeNet', 'VGG19', 'XCEPTION']\n",
    "for i,c in enumerate(classifiers):\n",
    "    \n",
    "    results[i] = []\n",
    "    for d in datasets:\n",
    "        d_dir = os.path.join(e_dir, d)\n",
    "\n",
    "        stats_files = ['03_noise.p', '04_noise.p']#glob.glob(os.path.join(d_dir, c)+'/*.p')\n",
    "        MLAEs = []\n",
    "\n",
    "        for s in stats_files:\n",
    "\n",
    "            with open(os.path.join(d_dir, c)+'/'+s, 'r') as f:\n",
    "                stats = pickle.load(f)\n",
    "            MLAEs.append(stats['MLAE'])\n",
    "            \n",
    "        results[i].append(MLAEs)\n",
    "            \n",
    "#         print d, c, np.mean([stats1['MLAE'], stats2['MLAE']])"
   ]
  },
  {
   "cell_type": "code",
   "execution_count": 116,
   "metadata": {},
   "outputs": [
    {
     "data": {
      "text/plain": [
       "[[[2.7253766601165266, 2.8096803161996626],\n",
       "  [4.4449763133441538, 4.3396681739161673],\n",
       "  [5.0325231808253834, 4.5547596825419143]],\n",
       " [[1.7975809878019353, 1.5491893653924598],\n",
       "  [2.9174054981466879, 2.3409907352282753],\n",
       "  [3.4120250038421158, 3.1797806452814772]],\n",
       " [[1.3306123448169238, 1.3591461828974047],\n",
       "  [2.0136417154696002, 2.4762966511521589],\n",
       "  [2.3657130377575895, 2.2913071677576071]],\n",
       " [[1.9473423802358294, 1.901398817002562],\n",
       "  [2.4231211690738697, 2.2198943493338108],\n",
       "  [2.7351373269257619, 2.5510833514829736]]]"
      ]
     },
     "execution_count": 116,
     "metadata": {},
     "output_type": "execute_result"
    }
   ],
   "source": [
    "results"
   ]
  },
  {
   "cell_type": "code",
   "execution_count": 62,
   "metadata": {},
   "outputs": [
    {
     "data": {
      "text/plain": [
       "[[3.4371376507239724, 2.589734799307946],\n",
       " [4.9569597644077756, 4.9504569373217278],\n",
       " [4.9911288314507596, 4.7263080829480923]]"
      ]
     },
     "execution_count": 62,
     "metadata": {},
     "output_type": "execute_result"
    }
   ],
   "source": [
    "results[0]"
   ]
  },
  {
   "cell_type": "code",
   "execution_count": 126,
   "metadata": {},
   "outputs": [
    {
     "data": {
      "text/plain": [
       "<Container object of 3 artists>"
      ]
     },
     "execution_count": 126,
     "metadata": {},
     "output_type": "execute_result"
    },
    {
     "data": {
      "image/png": "[encoded data removed]",
      "text/plain": [
       "<matplotlib.figure.Figure at 0x2ab7e2403b50>"
      ]
     },
     "metadata": {},
     "output_type": "display_data"
    }
   ],
   "source": [
    "\n",
    "plt.figure(figsize=(10,3))\n",
    "plt.title('Position Common Scale DataSet')\n",
    "plt.xlabel('Classifier')\n",
    "plt.xlabel('Log Error')\n",
    "\n",
    "means = [np.mean(r) for r in results[3]]\n",
    "\n",
    "plt.errorbar(means, [1,2,3], xerr=None, fmt='o')\n",
    "\n",
    "# boxplot = plt.plot(results[0], '-')#, vert=False, notch=False, labels=[0,1,2], showfliers=False)"
   ]
  },
  {
   "cell_type": "code",
   "execution_count": 70,
   "metadata": {},
   "outputs": [
    {
     "data": {
      "text/plain": [
       "[3.0134362250159592, 4.9537083508647513, 4.8587184571994264]"
      ]
     },
     "execution_count": 70,
     "metadata": {},
     "output_type": "execute_result"
    }
   ],
   "source": [
    "means"
   ]
  },
  {
   "cell_type": "code",
   "execution_count": 72,
   "metadata": {
    "collapsed": true
   },
   "outputs": [],
   "source": [
    "x,y,yerr = rand(3,10)\n"
   ]
  },
  {
   "cell_type": "code",
   "execution_count": 78,
   "metadata": {},
   "outputs": [
    {
     "data": {
      "text/plain": [
       "[3.0134362250159592, 4.9537083508647513, 4.8587184571994264]"
      ]
     },
     "execution_count": 78,
     "metadata": {},
     "output_type": "execute_result"
    }
   ],
   "source": [
    "means"
   ]
  },
  {
   "cell_type": "code",
   "execution_count": 79,
   "metadata": {},
   "outputs": [
    {
     "data": {
      "text/plain": [
       "[[3.4371376507239724, 2.589734799307946],\n",
       " [4.9569597644077756, 4.9504569373217278],\n",
       " [4.9911288314507596, 4.7263080829480923]]"
      ]
     },
     "execution_count": 79,
     "metadata": {},
     "output_type": "execute_result"
    }
   ],
   "source": [
    "results[0]"
   ]
  },
  {
   "cell_type": "code",
   "execution_count": 81,
   "metadata": {},
   "outputs": [
    {
     "data": {
      "text/plain": [
       "0.42370142570801317"
      ]
     },
     "execution_count": 81,
     "metadata": {},
     "output_type": "execute_result"
    }
   ],
   "source": [
    "np.std(results[0][0])"
   ]
  },
  {
   "cell_type": "code",
   "execution_count": 121,
   "metadata": {},
   "outputs": [
    {
     "name": "stdout",
     "output_type": "stream",
     "text": [
      "[1.7975809878019353, 1.5491893653924598]\n",
      "[2.9174054981466879, 2.3409907352282753]\n",
      "[3.4120250038421158, 3.1797806452814772]\n"
     ]
    }
   ],
   "source": [
    "import numpy as np, scipy.stats as st\n",
    "\n",
    "cints = np.zeros((2, len(results[1])))\n",
    "\n",
    "for z,r in enumerate(results[1]):\n",
    "    print r\n",
    "    m,i,j = mean_confidence_interval(r)\n",
    "    cints[0,z] = i\n",
    "    cints[1,z] = j"
   ]
  },
  {
   "cell_type": "code",
   "execution_count": 123,
   "metadata": {},
   "outputs": [
    {
     "data": {
      "text/plain": [
       "array([[ 0.09532777, -1.03282388,  1.82043064],\n",
       "       [ 3.25144258,  6.29122011,  4.77137501]])"
      ]
     },
     "execution_count": 123,
     "metadata": {},
     "output_type": "execute_result"
    }
   ],
   "source": [
    "cints"
   ]
  },
  {
   "cell_type": "code",
   "execution_count": 99,
   "metadata": {
    "collapsed": true
   },
   "outputs": [],
   "source": [
    "import numpy as np\n",
    "import scipy as sp\n",
    "import scipy.stats\n",
    "\n",
    "def mean_confidence_interval(data, confidence=0.95):\n",
    "    a = 1.0*np.array(data)\n",
    "    n = len(a)\n",
    "    m, se = np.mean(a), scipy.stats.sem(a)\n",
    "    h = se * sp.stats.t._ppf((1+confidence)/2., n-1)\n",
    "    return m, m-h, m+h"
   ]
  },
  {
   "cell_type": "code",
   "execution_count": 103,
   "metadata": {},
   "outputs": [
    {
     "data": {
      "text/plain": [
       "(4.9537083508647513, 4.912395224704281, 4.9950214770252215)"
      ]
     },
     "execution_count": 103,
     "metadata": {},
     "output_type": "execute_result"
    }
   ],
   "source": [
    "mean_confidence_interval(results[0][1])"
   ]
  },
  {
   "cell_type": "code",
   "execution_count": 104,
   "metadata": {},
   "outputs": [
    {
     "data": {
      "text/plain": [
       "[[3.4371376507239724, 2.589734799307946],\n",
       " [4.9569597644077756, 4.9504569373217278],\n",
       " [4.9911288314507596, 4.7263080829480923]]"
      ]
     },
     "execution_count": 104,
     "metadata": {},
     "output_type": "execute_result"
    }
   ],
   "source": [
    "results[0]"
   ]
  },
  {
   "cell_type": "code",
   "execution_count": null,
   "metadata": {
    "collapsed": true
   },
   "outputs": [],
   "source": []
  }
 ],
 "metadata": {
  "kernelspec": {
   "display_name": "Python 2",
   "language": "python",
   "name": "python2"
  },
  "language_info": {
   "codemirror_mode": {
    "name": "ipython",
    "version": 2
   },
   "file_extension": ".py",
   "mimetype": "text/x-python",
   "name": "python",
   "nbconvert_exporter": "python",
   "pygments_lexer": "ipython2",
   "version": "2.7.14"
  }
 },
 "nbformat": 4,
 "nbformat_minor": 2
}
