{
 "cells": [
  {
   "cell_type": "code",
   "execution_count": 2,
   "metadata": {},
   "outputs": [
    {
     "name": "stdout",
     "output_type": "stream",
     "text": [
      "Populating the interactive namespace from numpy and matplotlib\n"
     ]
    }
   ],
   "source": [
    "import cPickle as pickle\n",
    "%pylab inline"
   ]
  },
  {
   "cell_type": "code",
   "execution_count": 3,
   "metadata": {
    "collapsed": true
   },
   "outputs": [],
   "source": [
    "import os"
   ]
  },
  {
   "cell_type": "code",
   "execution_count": 4,
   "metadata": {
    "collapsed": true
   },
   "outputs": [],
   "source": [
    "import glob\n",
    "import cPickle as pickle"
   ]
  },
  {
   "cell_type": "code",
   "execution_count": 5,
   "metadata": {},
   "outputs": [
    {
     "data": {
      "text/plain": [
       "<module 'ClevelandMcGill' from '../EXP/ClevelandMcGill/__init__.pyc'>"
      ]
     },
     "execution_count": 5,
     "metadata": {},
     "output_type": "execute_result"
    }
   ],
   "source": [
    "import os, sys, time\n",
    "import cPickle as pickle\n",
    "sys.path.append('../EXP/')\n",
    "import ClevelandMcGill as C\n",
    "from util import Util\n",
    "reload(C)"
   ]
  },
  {
   "cell_type": "code",
   "execution_count": 6,
   "metadata": {
    "collapsed": true
   },
   "outputs": [],
   "source": [
    "RESULTS_DIR = '/n/regal/pfister_lab/PERCEPTION/RESULTS/'\n",
    "RESULTS_DIR2 = '/n/regal/pfister_lab/PERCEPTION/RESULTS_FROM_SCRATCH/'"
   ]
  },
  {
   "cell_type": "code",
   "execution_count": 6,
   "metadata": {
    "collapsed": true
   },
   "outputs": [],
   "source": [
    "for subdir, _, _ in os.walk(RESULTS_DIR+'/C.Figure12.data_to_bars'):\n",
    "#     print subdir\n",
    "    if len(subdir.split('/')) == 9:\n",
    "      if len(os.listdir(subdir)) != 24:\n",
    "        print subdir, len(os.listdir(subdir))\n",
    "        \n",
    "#         classifier = subdir.split('/')[-1]\n",
    "#         dataset = subdir.split('/')[-2]\n",
    "#         experiment = subdir.split('/')[-3]\n",
    "        \n",
    "#         print 'sbatch', experiment + '_' + dataset + '_' + classifier +'_True.sbatch'"
   ]
  },
  {
   "cell_type": "code",
   "execution_count": 9,
   "metadata": {},
   "outputs": [
    {
     "name": "stdout",
     "output_type": "stream",
     "text": [
      "/n/regal/pfister_lab/PERCEPTION/RESULTS_FROM_SCRATCH//C.Figure12.data_to_framed_rectangles/XCEPTION 8\n",
      "/n/regal/pfister_lab/PERCEPTION/RESULTS_FROM_SCRATCH//C.Figure12.data_to_framed_rectangles/VGG19 8\n"
     ]
    }
   ],
   "source": [
    "for subdir, _, _ in os.walk(RESULTS_DIR2+'/C.Figure12.data_to_framed_rectangles'):\n",
    "#     print subdir\n",
    "    if len(subdir.split('/')) == 9:\n",
    "      if len(os.listdir(subdir)) != 24:\n",
    "        print subdir, len(os.listdir(subdir))\n",
    "        \n",
    "#         classifier = subdir.split('/')[-1]\n",
    "#         dataset = subdir.split('/')[-2]\n",
    "#         experiment = subdir.split('/')[-3]\n",
    "        \n",
    "#         print 'sbatch', experiment + '_' + dataset + '_' + classifier +'_True.sbatch'"
   ]
  },
  {
   "cell_type": "code",
   "execution_count": 7,
   "metadata": {
    "collapsed": true
   },
   "outputs": [],
   "source": [
    "experiment = 'C.Figure12.data_to_bars'\n",
    "e_dir = os.path.join(RESULTS_DIR, experiment)\n",
    "e2_dir = os.path.join(RESULTS_DIR2, experiment)\n",
    "datasets = sorted(os.listdir(e_dir))\n",
    "\n",
    "bar_stats = [None]*6\n",
    "\n",
    "classifiers = ['MLP', 'LeNet', 'VGG19', 'XCEPTION']\n",
    "for i,c in enumerate(classifiers):\n",
    "    \n",
    "    bar_stats[i] = []\n",
    "    c_dir = os.path.join(e_dir, c)\n",
    "\n",
    "    stats_files = glob.glob(c_dir+'/*.p')\n",
    "    stats_per_c = []\n",
    "#     print stats_files\n",
    "\n",
    "    for s in stats_files:\n",
    "        \n",
    "        with open(s, 'r') as f:\n",
    "            stats = pickle.load(f)\n",
    "        stats_per_c.append(stats)\n",
    "#         print stats['time']\n",
    "\n",
    "    bar_stats[i].append(stats_per_c)\n",
    "    \n",
    "classifiers2 = ['VGG19', 'XCEPTION']\n",
    "for i,c in enumerate(classifiers2):\n",
    "    \n",
    "    bar_stats[i+4] = []\n",
    "    c_dir = os.path.join(e2_dir, c)\n",
    "\n",
    "    stats_files = glob.glob(c_dir+'/*.p')\n",
    "    stats_per_c = []\n",
    "#     print stats_files\n",
    "\n",
    "    for s in stats_files:\n",
    "        \n",
    "        with open(s, 'r') as f:\n",
    "            stats = pickle.load(f)\n",
    "        stats_per_c.append(stats)\n",
    "#         print stats['time']\n",
    "\n",
    "    bar_stats[i+4].append(stats_per_c)\n",
    "            \n",
    "#         print d, c, np.mean([stats1['MLAE'], stats2['MLAE']])"
   ]
  },
  {
   "cell_type": "code",
   "execution_count": 8,
   "metadata": {},
   "outputs": [
    {
     "data": {
      "text/plain": [
       "12"
      ]
     },
     "execution_count": 8,
     "metadata": {},
     "output_type": "execute_result"
    }
   ],
   "source": [
    "len(bar_stats[0][0])"
   ]
  },
  {
   "cell_type": "code",
   "execution_count": 9,
   "metadata": {
    "collapsed": true
   },
   "outputs": [],
   "source": [
    "experiment = 'C.Figure12.data_to_framed_rectangles'\n",
    "e_dir = os.path.join(RESULTS_DIR, experiment)\n",
    "e2_dir = os.path.join(RESULTS_DIR2, experiment)\n",
    "datasets = sorted(os.listdir(e_dir))\n",
    "\n",
    "rect_stats = [None]*6\n",
    "\n",
    "classifiers = ['MLP', 'LeNet', 'VGG19', 'XCEPTION']\n",
    "for i,c in enumerate(classifiers):\n",
    "    \n",
    "    rect_stats[i] = []\n",
    "    c_dir = os.path.join(e_dir, c)\n",
    "\n",
    "    stats_files = glob.glob(c_dir+'/*.p')\n",
    "    stats_per_c = []\n",
    "#     print stats_files\n",
    "\n",
    "    for s in stats_files:\n",
    "        \n",
    "        with open(s, 'r') as f:\n",
    "            stats = pickle.load(f)\n",
    "        stats_per_c.append(stats)\n",
    "#         print stats['time']\n",
    "\n",
    "    rect_stats[i].append(stats_per_c)\n",
    "    \n",
    "classifiers = ['VGG19', 'XCEPTION']\n",
    "for i,c in enumerate(classifiers):\n",
    "    \n",
    "    rect_stats[i+4] = []\n",
    "    c_dir = os.path.join(e2_dir, c)\n",
    "\n",
    "    stats_files = glob.glob(c_dir+'/*.p')\n",
    "    stats_per_c = []\n",
    "#     print stats_files\n",
    "\n",
    "    for s in stats_files:\n",
    "        \n",
    "        with open(s, 'r') as f:\n",
    "            stats = pickle.load(f)\n",
    "        stats_per_c.append(stats)\n",
    "#         print stats['time']\n",
    "\n",
    "    rect_stats[i+4].append(stats_per_c)\n",
    "            \n",
    "#         print d, c, np.mean([stats1['MLAE'], stats2['MLAE']])"
   ]
  },
  {
   "cell_type": "code",
   "execution_count": 58,
   "metadata": {
    "collapsed": true
   },
   "outputs": [],
   "source": []
  },
  {
   "cell_type": "code",
   "execution_count": 31,
   "metadata": {},
   "outputs": [
    {
     "data": {
      "image/png": "[encoded data removed]",
      "text/plain": [
       "<matplotlib.figure.Figure at 0x2b63050c75d0>"
      ]
     },
     "metadata": {},
     "output_type": "display_data"
    }
   ],
   "source": [
    "from matplotlib import gridspec\n",
    "\n",
    "\n",
    "classifiers = ['MLP', 'LeNet', 'VGG19 *', 'Xception *', 'VGG19', 'Xception']\n",
    "\n",
    "fig = plt.figure(figsize=(10,6), facecolor='white')\n",
    "gs = gridspec.GridSpec(3, 2, width_ratios=[1,1], hspace=.2, wspace=.1)\n",
    "\n",
    "axes = [None]*6\n",
    "\n",
    "for i, c in enumerate(classifiers):\n",
    "    \n",
    "    if i == 0:\n",
    "        axes[i] = fig.add_subplot(gs[i])#, sharey=axes[0])\n",
    "        plt.setp(axes[0].get_xticklabels(), visible=False)\n",
    "        plt.ylabel('MSE Training Loss')        \n",
    "    elif i == 1 or i==3:\n",
    "        axes[i] = fig.add_subplot(gs[i], sharey=axes[0])\n",
    "        plt.setp(axes[i].get_yticklabels(), visible=False)\n",
    "        plt.setp(axes[i].get_xticklabels(), visible=False)      \n",
    "        \n",
    "#         plt.ylabel(False)\n",
    "    elif i == 2 or i == 4:\n",
    "        \n",
    "        axes[i] = fig.add_subplot(gs[i], sharey=axes[0], sharex=axes[0])\n",
    "        \n",
    "\n",
    "        if i == 2:\n",
    "            plt.setp(axes[i].get_xticklabels(), visible=False)  \n",
    "        \n",
    "        \n",
    "        plt.ylabel('MSE Training Loss')\n",
    "        if i!=2:\n",
    "            plt.xlabel('Epoch')                \n",
    "    elif i == 5:\n",
    "        axes[i] = fig.add_subplot(gs[i], sharey=axes[2])\n",
    "        plt.setp(axes[5].get_yticklabels(), visible=False)        \n",
    "        plt.xlabel('Epoch')    \n",
    "\n",
    "    for sample in range(len(bar_stats[i][0])):\n",
    "        \n",
    "        # grab sample from both\n",
    "        bar_loss = bar_stats[i][0][sample]['loss']\n",
    "        rect_loss = rect_stats[i][0][sample]['loss']\n",
    "        if sample == 0:\n",
    "            # only label the first\n",
    "            plot(bar_loss, label='Bars', color='C0')\n",
    "            plot(rect_loss, label='Framed Rect.', color='C1')\n",
    "        else:\n",
    "            # but use the same colors for all\n",
    "            plot(bar_loss, color='C0')\n",
    "            plot(rect_loss, color='C1')\n",
    "            \n",
    "    plt.xlim(-1,100)\n",
    "    plt.title(c)\n",
    "\n",
    "\n",
    "    if i == 1:\n",
    "        plt.legend()\n",
    "        \n",
    "plt.savefig('../PAPER/gfx/figure12_training_loss.pdf', bbox_inches='tight', pad_inches=0)"
   ]
  },
  {
   "cell_type": "code",
   "execution_count": 32,
   "metadata": {},
   "outputs": [
    {
     "data": {
      "image/png": "[encoded data removed]",
      "text/plain": [
       "<matplotlib.figure.Figure at 0x2b63050c7510>"
      ]
     },
     "metadata": {},
     "output_type": "display_data"
    }
   ],
   "source": [
    "from matplotlib import gridspec\n",
    "\n",
    "\n",
    "classifiers = ['MLP', 'LeNet', 'VGG19 *', 'Xception *', 'VGG19', 'Xception']\n",
    "\n",
    "fig = plt.figure(figsize=(10,6), facecolor='white')\n",
    "gs = gridspec.GridSpec(3, 2, width_ratios=[1,1], hspace=.2, wspace=.1)\n",
    "\n",
    "axes = [None]*6\n",
    "\n",
    "for i, c in enumerate(classifiers):\n",
    "    \n",
    "    if i == 0:\n",
    "        axes[i] = fig.add_subplot(gs[i])#, sharey=axes[0])\n",
    "        plt.setp(axes[0].get_xticklabels(), visible=False)\n",
    "        plt.ylabel('MSE Validation Loss')        \n",
    "    elif i == 1 or i==3:\n",
    "        axes[i] = fig.add_subplot(gs[i], sharey=axes[0])\n",
    "        plt.setp(axes[i].get_yticklabels(), visible=False)\n",
    "        plt.setp(axes[i].get_xticklabels(), visible=False)      \n",
    "        \n",
    "#         plt.ylabel(False)\n",
    "    elif i == 2 or i == 4:\n",
    "        \n",
    "        axes[i] = fig.add_subplot(gs[i], sharey=axes[0], sharex=axes[0])\n",
    "        \n",
    "\n",
    "        if i == 2:\n",
    "            plt.setp(axes[i].get_xticklabels(), visible=False)  \n",
    "        \n",
    "        \n",
    "        plt.ylabel('MSE Validation Loss')\n",
    "        if i!=2:\n",
    "            plt.xlabel('Epoch')                \n",
    "    elif i == 5:\n",
    "        axes[i] = fig.add_subplot(gs[i], sharey=axes[2])\n",
    "        plt.setp(axes[5].get_yticklabels(), visible=False)        \n",
    "        plt.xlabel('Epoch')    \n",
    "\n",
    "    for sample in range(len(bar_stats[i][0])):\n",
    "        \n",
    "        # grab sample from both\n",
    "        bar_loss = bar_stats[i][0][sample]['val_loss']\n",
    "        rect_loss = rect_stats[i][0][sample]['val_loss']\n",
    "        if sample == 0:\n",
    "            # only label the first\n",
    "            plot(bar_loss, label='Bars', color='C0')\n",
    "            plot(rect_loss, label='Framed Rect.', color='C1')\n",
    "        else:\n",
    "            # but use the same colors for all\n",
    "            plot(bar_loss, color='C0')\n",
    "            plot(rect_loss, color='C1')\n",
    "            \n",
    "    plt.xlim(-1,100)\n",
    "    plt.title(c)\n",
    "\n",
    "\n",
    "    if i == 1:\n",
    "        plt.legend()\n",
    "        \n",
    "plt.savefig('../PAPER/gfx/figure12_val_loss.pdf', bbox_inches='tight', pad_inches=0)"
   ]
  },
  {
   "cell_type": "code",
   "execution_count": 11,
   "metadata": {
    "collapsed": true
   },
   "outputs": [],
   "source": [
    "import bootstrapped.bootstrap as bs\n",
    "import bootstrapped.stats_functions as bs_stats"
   ]
  },
  {
   "cell_type": "code",
   "execution_count": 12,
   "metadata": {
    "collapsed": true
   },
   "outputs": [],
   "source": [
    "import sklearn.metrics\n"
   ]
  },
  {
   "cell_type": "code",
   "execution_count": 13,
   "metadata": {
    "collapsed": true
   },
   "outputs": [],
   "source": [
    "def grab(which, values=1):\n",
    "\n",
    "#     which = 'bars'\n",
    "    # values = 2\n",
    "\n",
    "    RESULTS_DIR = '/n/regal/pfister_lab/PERCEPTION/CP_USERSTUDY/RESULTS/'\n",
    "    \n",
    "    results = [None]*13\n",
    "\n",
    "    with open(RESULTS_DIR + which + '.csv', 'r') as f:\n",
    "        lines = f.readlines()\n",
    "\n",
    "    rej_cnt = 0\n",
    "    for l in lines[1:]:\n",
    "        if l.find('Rejected') != -1:\n",
    "            rej_cnt += 1\n",
    "            continue\n",
    "        l_split = l.strip(\"\\r\\n\").split(',')\n",
    "#         print l_split\n",
    "#         print l_split[-1-values]\n",
    "        stimuli = int(l_split[-1 - values].split('/')[-1].split('.')[0])\n",
    "        answer = [int(l_split[-1 -x].strip('\\r\\n').strip('\"')) for x in range(values)]\n",
    "        answer.reverse()\n",
    "\n",
    "        if not results[stimuli]:\n",
    "            results[stimuli] = []\n",
    "        results[stimuli].append(answer)\n",
    "    #         print stimuli, answer\n",
    "\n",
    "#     print 'Rejected', rej_cnt\n",
    "    \n",
    "    return results\n",
    "\n",
    "def merge(a1, a2):\n",
    "    \n",
    "    results = []\n",
    "    for i,a in enumerate(a1):\n",
    "        \n",
    "         results.append(a1[i]+a2[i])\n",
    "            \n",
    "    assert len(results) == 13\n",
    "\n",
    "    return results\n",
    "\n",
    "def grabbygrab(which, values=1, GT_DIR='/n/regal/pfister_lab/PERCEPTION/CP_USERSTUDY/Figure1/'):\n",
    "    \n",
    "    merged = merge(grab(which, values), grab(which+'2', values))\n",
    "#     print merged\n",
    "    if which == 'bars' or which == 'framed':\n",
    "        gt_file = GT_DIR  + '/labels.p' \n",
    "    else:\n",
    "        gt_file = GT_DIR + which + '/labels.p' \n",
    "    with open(gt_file, 'r') as f:\n",
    "        labels = pickle.load(f)\n",
    "        \n",
    "#     print labels\n",
    "    labels = np.array(labels).astype(np.float)\n",
    "    \n",
    "#     if values == 1:\n",
    "    max_label = labels.max()\n",
    "    min_label = labels.min()\n",
    "#     print min_label, max_label\n",
    "#     elif values == 2:\n",
    "#         max_label1 = max(labels)\n",
    "        \n",
    "    if which=='bars' or which=='framed':\n",
    "        labels == labels.ravel()\n",
    "#         min_label = 0\n",
    "        \n",
    "\n",
    "    no_users = len(merged[0])\n",
    "    user_results = []\n",
    "    for u in range(no_users):\n",
    "        \n",
    "        # grab samples for this user\n",
    "        samples = []\n",
    "        for stimuli in merged[3:]:\n",
    "            \n",
    "            user_val = stimuli[u]\n",
    "            \n",
    "            samples.append(user_val)\n",
    "            \n",
    "        if values == 1:\n",
    "            user_results.append(np.array(samples).astype(np.float).ravel())\n",
    "        elif values == 2:\n",
    "            user_results.append(np.array(samples).astype(np.float))\n",
    "        \n",
    "    #\n",
    "    # now normalize our samples\n",
    "    #\n",
    "    \n",
    "    max_labels = {\n",
    "        'position_common_scale': [0,60],\n",
    "        'position_non_aligned_scale': [0,60],\n",
    "        'length': [1, 60],\n",
    "        'direction': [0,359],\n",
    "        'angle': [1,90],\n",
    "        'area': [3.1415, 5026.4],\n",
    "        'volume': [1, 8000],\n",
    "        'curvature': [0,.3],\n",
    "        'shading': [0,100],\n",
    "        'bars': [1,60],\n",
    "        'framed': [1,60],\n",
    "        'weber10': [1,10],\n",
    "        'weber100': [1,10],\n",
    "        'weber1000': [1,10]\n",
    "    }\n",
    "    \n",
    "    min_label = max_labels[which][0]\n",
    "    max_label = max_labels[which][1]\n",
    "    \n",
    "#     min_label = 0\n",
    "#     max_label = 100\n",
    "    for u in range(no_users):\n",
    "        \n",
    "        \n",
    "        user_results[u] -= min_label\n",
    "        user_results[u] /= (max_label - min_label)\n",
    "        \n",
    "    # also normalize the labels\n",
    "    labels -= min_label\n",
    "    labels /= (max_label - min_label)\n",
    "\n",
    "\n",
    "        \n",
    "    \n",
    "    #\n",
    "    # now calculate MLAE\n",
    "    #\n",
    "    MLAES = []\n",
    "    AES = []\n",
    "    for u in range(no_users):\n",
    "        \n",
    "        if which == 'curvature':\n",
    "            user_results[u] /= 100\n",
    "        \n",
    "#         MLAE = sklearn.metrics.mean_absolute_error(user_results[u], labels)#np.log2(sklearn.metrics.mean_absolute_error(user_results[u]/100.*100, labels*100)+.125)\n",
    "        MLAE = np.log2(sklearn.metrics.mean_absolute_error(user_results[u]*100, labels[3:]*100)+.125)\n",
    "        MLAES.append(MLAE)\n",
    "        AE = sklearn.metrics.mean_absolute_error(user_results[u]*100, labels[3:]*100)\n",
    "        AES.append(AE)\n",
    "\n",
    "#     print labels[0:5], user_results[0][0:5]\n",
    "    \n",
    "    \n",
    "        \n",
    "    return MLAES, AES\n",
    "#     print labels, min(labels), max(labels)"
   ]
  },
  {
   "cell_type": "code",
   "execution_count": null,
   "metadata": {
    "collapsed": true
   },
   "outputs": [],
   "source": []
  },
  {
   "cell_type": "code",
   "execution_count": null,
   "metadata": {
    "collapsed": true
   },
   "outputs": [],
   "source": []
  },
  {
   "cell_type": "code",
   "execution_count": 30,
   "metadata": {
    "collapsed": true
   },
   "outputs": [],
   "source": [
    "import bootstrapped.bootstrap as bs\n",
    "import bootstrapped.stats_functions as bs_stats"
   ]
  },
  {
   "cell_type": "code",
   "execution_count": 31,
   "metadata": {},
   "outputs": [
    {
     "name": "stderr",
     "output_type": "stream",
     "text": [
      "/n/home05/haehn/.conda/envs/CP/lib/python2.7/site-packages/ipykernel_launcher.py:67: DeprecationWarning: elementwise == comparison failed; this will raise an error in the future.\n"
     ]
    },
    {
     "name": "stdout",
     "output_type": "stream",
     "text": [
      "Human value!! 1\n",
      "1 Human\n",
      "2 MLP\n",
      "3 LeNet\n",
      "4 VGG19 *\n",
      "5 Xception *\n",
      "6 VGG19\n",
      "7 Xception\n",
      "Human value!! 1\n",
      "1 Human\n",
      "2 MLP\n",
      "3 LeNet\n",
      "4 VGG19 *\n",
      "5 Xception *\n",
      "6 VGG19\n",
      "7 Xception\n"
     ]
    },
    {
     "data": {
      "image/png": "[encoded data removed]",
      "text/plain": [
       "<matplotlib.figure.Figure at 0x2b21839736d0>"
      ]
     },
     "metadata": {},
     "output_type": "display_data"
    }
   ],
   "source": [
    "import numpy as np\n",
    "import scipy as sp\n",
    "import scipy.stats\n",
    "from matplotlib import gridspec\n",
    "\n",
    "all_data = []\n",
    "images = []\n",
    "\n",
    "\n",
    "titles = ['Framed Rectangles', 'Bars']\n",
    "\n",
    "humans = []\n",
    "\n",
    "which = ['framed', 'bars']\n",
    "\n",
    "for w in which:\n",
    "    MLAE, AE = grabbygrab(w,values=2, GT_DIR='/n/regal/pfister_lab/PERCEPTION/CP_USERSTUDY/Figure12/')\n",
    "    humans.append(MLAE)\n",
    "\n",
    "\n",
    "## data\n",
    "no_samples = len(bar_stats[0][0])\n",
    "bar_data = [None]*6\n",
    "rect_data = [None]*6\n",
    "classifiers = ['MLP', 'LeNet', 'VGG19 *', 'Xception *', 'VGG19', 'Xception']\n",
    "for i, c in enumerate(classifiers):\n",
    "\n",
    "    bar_mlae_s = []\n",
    "    rect_mlae_s = []\n",
    "    \n",
    "    for sample in range(len(bar_stats[i][0])):\n",
    "\n",
    "        # grab sample from both\n",
    "        bar_mlae = bar_stats[i][0][sample]['MLAE']\n",
    "        rect_mlae = rect_stats[i][0][sample]['MLAE']\n",
    "#         print i, sample, bar_mlae, pie_mlae\n",
    "        bar_mlae_s.append(bar_mlae)\n",
    "        rect_mlae_s.append(rect_mlae)\n",
    "        \n",
    "    bar_data[i] = bar_mlae_s\n",
    "    rect_data[i] = rect_mlae_s\n",
    "    \n",
    "# swap vgg19 and xception *\n",
    "rect_data[3], rect_data[4] = rect_data[4], rect_data[3]\n",
    "bar_data[3], bar_data[4] = bar_data[4], bar_data[3]\n",
    "    \n",
    "all_data = [rect_data, bar_data]\n",
    "\n",
    "\n",
    "## images\n",
    "data, labels, parameters = C.Figure12.generate_datapoint()\n",
    "data = [20, 23, 55, 60, 10, 57 ]\n",
    "bar_image = C.Figure12.data_to_bars(data)\n",
    "rect_image = C.Figure12.data_to_framed_rectangles(data)\n",
    "\n",
    "bar_image = bar_image.astype(np.float32)\n",
    "bar_image += np.random.uniform(0, 0.05,(100,100))\n",
    "\n",
    "rect_image = rect_image.astype(np.float32)\n",
    "rect_image += np.random.uniform(0, 0.05,(100,100))\n",
    "images = [rect_image, bar_image]\n",
    "\n",
    "\n",
    "\n",
    "fig = plt.figure(figsize=(6,3), facecolor='white')\n",
    "gs = gridspec.GridSpec(2, 2, width_ratios=[.3,1], hspace=.3)\n",
    "\n",
    "j = 0 # grid index (running)\n",
    "\n",
    "rows = 2\n",
    "for row in range(rows):\n",
    "    \n",
    "    for i, c in enumerate(['Image']+['Human']+classifiers):\n",
    "        \n",
    "\n",
    "        \n",
    "        if i==0:\n",
    "            # this is the image\n",
    "\n",
    "            fig = plt.subplot(gs[j])\n",
    "            j += 1\n",
    "            \n",
    "            plt.title(titles[row].upper(), loc='left')\n",
    "\n",
    "            \n",
    "            ax = plt.gca()\n",
    "            from matplotlib.ticker import NullFormatter\n",
    "            ax.xaxis.set_major_formatter(NullFormatter())\n",
    "            ax.xaxis.set_ticks_position('none') \n",
    "            ax.yaxis.set_major_formatter(NullFormatter())\n",
    "            ax.yaxis.set_ticks_position('none') \n",
    "            plt.tight_layout()\n",
    "\n",
    "            ax.set_xticklabels('')\n",
    "            ax.set_yticklabels('')\n",
    "            \n",
    "            plt.imshow(images[row], cmap='Greys', interpolation='none')\n",
    "            \n",
    "            continue\n",
    "\n",
    "        #\n",
    "\n",
    "#         if row == 0:\n",
    "#             plt.title(c)\n",
    "\n",
    "        if i==1:\n",
    "\n",
    "            fig = plt.subplot(gs[j])\n",
    "            j += 1\n",
    "        \n",
    "#             if row > 4:\n",
    "#                 continue\n",
    "        \n",
    "            # this is human\n",
    "#             means = human_values[row][0]\n",
    "#             confidence = human_values[row][1]\n",
    "            \n",
    "#             errorbars = plt.errorbar(means, 6-i, xerr=confidence, fmt='o',  color='black', label='Human')\n",
    "#             continue\n",
    "\n",
    "\n",
    "        if c == 'Human':\n",
    "            print 'Human value!!', i\n",
    "            data = [humans[row]]\n",
    "#             print data\n",
    "        else:\n",
    "            data = [all_data[row][i-2]]\n",
    "#         print data\n",
    "        # grab the MIDMEANS\n",
    "        sorted_data = [sorted(r) for r in data]\n",
    "#         print sorted_data\n",
    "        quarter = len(sorted_data[0]) / 4 # always floor\n",
    "\n",
    "        data = [r[quarter:-quarter] for r in sorted_data]\n",
    "        \n",
    "        means = [np.mean(r) for r in data]\n",
    "        \n",
    "#         confidence = [1.96*np.std(r) for r in data]\n",
    "        confidence = [1.96*bs.bootstrap(np.array(r), stat_func=bs_stats.std).value for r in data if len(r) != 0]\n",
    "\n",
    "\n",
    "        y_pos = 6-i#range(len(means))\n",
    "\n",
    "\n",
    "        plt.xlim(0,6.1)\n",
    "\n",
    "        ax = plt.gca()\n",
    "        ax.spines['top'].set_visible(False)\n",
    "        ax.spines['right'].set_visible(False)\n",
    "        ax.spines['bottom'].set_visible(False)\n",
    "        ax.spines['left'].set_visible(False)\n",
    "#         if row != 0:\n",
    "        ax.get_yaxis().set_ticks([])\n",
    "#         else:\n",
    "#     #             print labels\n",
    "#             ax.get_yaxis().set_ticks(range(len(labels))) # we set the labels here\n",
    "#             ax.get_yaxis().set_ticklabels(labels)\n",
    "\n",
    "        ax.get_xaxis().set_ticks(np.arange(0,7,6)) # mark the tange\n",
    "        ax.get_xaxis().set_ticks(np.arange(3,3.1), minor=True) # mark the center\n",
    "        ax.tick_params(axis=u'both', which=u'both',length=0)\n",
    "        \n",
    "        # remove tick marks\n",
    "        if row == 0:\n",
    "            from matplotlib.ticker import NullFormatter\n",
    "            ax.xaxis.set_major_formatter(NullFormatter())\n",
    "            ax.xaxis.set_ticks_position('none')\n",
    "\n",
    "        # grid lines for X\n",
    "        plt.grid(True, color='gray', which='major', axis='x', alpha=1)\n",
    "        plt.grid(True, color='gray', which='minor', axis='x', alpha=0.2)\n",
    "        \n",
    "        c_color = 'C'+str(i-2)\n",
    "        print i, c\n",
    "        if i == 1:\n",
    "            #human\n",
    "            c = 'Human'\n",
    "            c_color = '#000000'\n",
    "    \n",
    "        elif i == 4:\n",
    "            # vgg19 imagenet\n",
    "#             c = c+' *'\n",
    "            c_color = '#b2df8a'\n",
    "        elif i == 5:\n",
    "            # vgg from scratch\n",
    "#             c = c+'vg s'\n",
    "            c = 'VGG19'\n",
    "            c_color = 'C2'\n",
    "        elif i == 6:\n",
    "            # xcpetion imagenet\n",
    "            c = 'Xception *'\n",
    "            c_color = '#fb9a99'\n",
    "        elif i == 7:\n",
    "            # xception from scratch\n",
    "#             c = c+'x sc'\n",
    "#             c = 'Xception'\n",
    "            c_color = 'C3'\n",
    "\n",
    "        errorbars = plt.errorbar(means, y_pos, xerr=confidence, fmt='o', label=c, color=c_color)\n",
    "plt.legend(loc='right', bbox_to_anchor=(1.1, 1.81))\n",
    "plt.savefig('../PAPER/gfx/figure12_mlae_better_all_NEW.pdf', bbox_inches='tight', pad_inches=0)"
   ]
  },
  {
   "cell_type": "code",
   "execution_count": null,
   "metadata": {
    "collapsed": true
   },
   "outputs": [],
   "source": []
  },
  {
   "cell_type": "code",
   "execution_count": 54,
   "metadata": {},
   "outputs": [
    {
     "data": {
      "image/png": "[encoded data removed]",
      "text/plain": [
       "<matplotlib.figure.Figure at 0x2aef58a64710>"
      ]
     },
     "metadata": {},
     "output_type": "display_data"
    }
   ],
   "source": [
    "import numpy as np\n",
    "import scipy as sp\n",
    "import scipy.stats\n",
    "from matplotlib import gridspec\n",
    "\n",
    "all_data = []\n",
    "images = []\n",
    "\n",
    "titles = ['Framed Rectangles', 'Bars']\n",
    "\n",
    "## data\n",
    "no_samples = len(bar_stats[0][0])\n",
    "bar_data = [None]*4\n",
    "rect_data = [None]*4\n",
    "classifiers = ['MLP', 'LeNet', 'VGG19', 'Xception']\n",
    "for i, c in enumerate(classifiers):\n",
    "\n",
    "    bar_mlae_s = []\n",
    "    rect_mlae_s = []\n",
    "    \n",
    "    for sample in range(no_samples):\n",
    "\n",
    "        # grab sample from both\n",
    "        bar_mlae = bar_stats[i][0][sample]['MLAE']\n",
    "        rect_mlae = rect_stats[i][0][sample]['MLAE']\n",
    "#         print i, sample, bar_mlae, pie_mlae\n",
    "        bar_mlae_s.append(bar_mlae)\n",
    "        rect_mlae_s.append(rect_mlae)\n",
    "        \n",
    "    bar_data[i] = bar_mlae_s\n",
    "    rect_data[i] = rect_mlae_s\n",
    "    \n",
    "all_data = [rect_data, bar_data]\n",
    "\n",
    "## images\n",
    "data, labels, parameters = C.Figure12.generate_datapoint()\n",
    "bar_image = C.Figure12.data_to_bars(data)\n",
    "rect_image = C.Figure12.data_to_framed_rectangles(data)\n",
    "\n",
    "bar_image = bar_image.astype(np.float32)\n",
    "bar_image += np.random.uniform(0, 0.05,(100,100))\n",
    "\n",
    "rect_image = rect_image.astype(np.float32)\n",
    "rect_image += np.random.uniform(0, 0.05,(100,100))\n",
    "images = [rect_image, bar_image]\n",
    "\n",
    "\n",
    "\n",
    "fig = plt.figure(figsize=(21,3), facecolor='white')\n",
    "gs = gridspec.GridSpec(2, 5, width_ratios=[.3,1,1,1,1], hspace=.3)\n",
    "\n",
    "j = 0 # grid index (running)\n",
    "\n",
    "rows = 2\n",
    "for row in range(rows):\n",
    "    \n",
    "    for i, c in enumerate(['Image']+classifiers):\n",
    "        \n",
    "        fig = plt.subplot(gs[j])\n",
    "        j += 1\n",
    "        \n",
    "        if i==0:\n",
    "            # this is the image\n",
    "\n",
    "            plt.title(titles[row].upper(), loc='left')\n",
    "\n",
    "            \n",
    "            ax = plt.gca()\n",
    "            from matplotlib.ticker import NullFormatter\n",
    "            ax.xaxis.set_major_formatter(NullFormatter())\n",
    "            ax.xaxis.set_ticks_position('none') \n",
    "            ax.yaxis.set_major_formatter(NullFormatter())\n",
    "            ax.yaxis.set_ticks_position('none') \n",
    "            plt.tight_layout()\n",
    "\n",
    "            ax.set_xticklabels('')\n",
    "            ax.set_yticklabels('')\n",
    "            \n",
    "            plt.imshow(images[row], cmap='Greys', interpolation='none')\n",
    "            \n",
    "            continue\n",
    "\n",
    "        #\n",
    "\n",
    "        if row == 0:\n",
    "            plt.title(c)\n",
    "\n",
    "    \n",
    "        data = [all_data[row][i-1]]\n",
    "#         print data\n",
    "        # grab the MIDMEANS\n",
    "        sorted_data = [sorted(r) for r in data]\n",
    "#         print sorted_data\n",
    "        quarter = len(sorted_data[0]) / 4 # always floor\n",
    "\n",
    "        data = [r[quarter:-quarter] for r in sorted_data]\n",
    "        \n",
    "        means = [np.mean(r) for r in data]\n",
    "        \n",
    "        confidence = [1.96*np.std(r) for r in data]\n",
    "\n",
    "\n",
    "        y_pos = range(len(means))\n",
    "\n",
    "\n",
    "        plt.xlim(0,6.1)\n",
    "\n",
    "        ax = plt.gca()\n",
    "        ax.spines['top'].set_visible(False)\n",
    "        ax.spines['right'].set_visible(False)\n",
    "        ax.spines['bottom'].set_visible(False)\n",
    "        ax.spines['left'].set_visible(False)\n",
    "#         if row != 0:\n",
    "        ax.get_yaxis().set_ticks([])\n",
    "#         else:\n",
    "#     #             print labels\n",
    "#             ax.get_yaxis().set_ticks(range(len(labels))) # we set the labels here\n",
    "#             ax.get_yaxis().set_ticklabels(labels)\n",
    "\n",
    "        ax.get_xaxis().set_ticks(np.arange(0,7,6)) # mark the tange\n",
    "        ax.get_xaxis().set_ticks(np.arange(3,3.1), minor=True) # mark the center\n",
    "        ax.tick_params(axis=u'both', which=u'both',length=0)\n",
    "        \n",
    "        # remove tick marks\n",
    "        if row == 0:\n",
    "            from matplotlib.ticker import NullFormatter\n",
    "            ax.xaxis.set_major_formatter(NullFormatter())\n",
    "            ax.xaxis.set_ticks_position('none')\n",
    "\n",
    "        # grid lines for X\n",
    "        plt.grid(True, color='gray', which='major', axis='x', alpha=1)\n",
    "        plt.grid(True, color='gray', which='minor', axis='x', alpha=0.2)\n",
    "\n",
    "        errorbars = plt.errorbar(means, y_pos, xerr=confidence, fmt='o', color='black', capsize=4)\n",
    "plt.savefig('../PAPER/gfx/figure12_mlae.pdf', bbox_inches='tight', pad_inches=0)"
   ]
  },
  {
   "cell_type": "code",
   "execution_count": null,
   "metadata": {
    "collapsed": true
   },
   "outputs": [],
   "source": []
  },
  {
   "cell_type": "code",
   "execution_count": 37,
   "metadata": {},
   "outputs": [
    {
     "ename": "IndexError",
     "evalue": "invalid index to scalar variable.",
     "output_type": "error",
     "traceback": [
      "\u001b[0;31m---------------------------------------------------------------------------\u001b[0m",
      "\u001b[0;31mIndexError\u001b[0m                                Traceback (most recent call last)",
      "\u001b[0;32m<ipython-input-37-5e23de92d1ac>\u001b[0m in \u001b[0;36m<module>\u001b[0;34m()\u001b[0m\n\u001b[0;32m----> 1\u001b[0;31m \u001b[0mnp\u001b[0m\u001b[0;34m.\u001b[0m\u001b[0mmean\u001b[0m\u001b[0;34m(\u001b[0m\u001b[0;34m[\u001b[0m\u001b[0mrect_data\u001b[0m\u001b[0;34m[\u001b[0m\u001b[0;36m0\u001b[0m\u001b[0;34m]\u001b[0m\u001b[0;34m[\u001b[0m\u001b[0mv\u001b[0m\u001b[0;34m]\u001b[0m\u001b[0;34m[\u001b[0m\u001b[0;34m'MLAE'\u001b[0m\u001b[0;34m]\u001b[0m \u001b[0;32mfor\u001b[0m \u001b[0mv\u001b[0m \u001b[0;32min\u001b[0m \u001b[0mrange\u001b[0m\u001b[0;34m(\u001b[0m\u001b[0;36m6\u001b[0m\u001b[0;34m)\u001b[0m\u001b[0;34m]\u001b[0m\u001b[0;34m)\u001b[0m\u001b[0;34m\u001b[0m\u001b[0m\n\u001b[0m",
      "\u001b[0;31mIndexError\u001b[0m: invalid index to scalar variable."
     ]
    }
   ],
   "source": [
    "np.mean([rect_data[0][v]['MLAE'] for v in range(6)])"
   ]
  },
  {
   "cell_type": "code",
   "execution_count": 35,
   "metadata": {},
   "outputs": [
    {
     "ename": "TypeError",
     "evalue": "'builtin_function_or_method' object has no attribute '__getitem__'",
     "output_type": "error",
     "traceback": [
      "\u001b[0;31m---------------------------------------------------------------------------\u001b[0m",
      "\u001b[0;31mTypeError\u001b[0m                                 Traceback (most recent call last)",
      "\u001b[0;32m<ipython-input-35-f17c37a430df>\u001b[0m in \u001b[0;36m<module>\u001b[0;34m()\u001b[0m\n\u001b[0;32m----> 1\u001b[0;31m \u001b[0mnp\u001b[0m\u001b[0;34m.\u001b[0m\u001b[0mmean\u001b[0m\u001b[0;34m(\u001b[0m\u001b[0;34m[\u001b[0m\u001b[0mbar_data\u001b[0m\u001b[0;34m[\u001b[0m\u001b[0;36m1\u001b[0m\u001b[0;34m]\u001b[0m\u001b[0;34m[\u001b[0m\u001b[0;36m0\u001b[0m\u001b[0;34m]\u001b[0m\u001b[0;34m[\u001b[0m\u001b[0mv\u001b[0m\u001b[0;34m]\u001b[0m\u001b[0;34m[\u001b[0m\u001b[0;34m'MLAE'\u001b[0m\u001b[0;34m]\u001b[0m \u001b[0;32mfor\u001b[0m \u001b[0mv\u001b[0m \u001b[0;32min\u001b[0m \u001b[0mrange\u001b[0m\u001b[0;34m[\u001b[0m\u001b[0;36m6\u001b[0m\u001b[0;34m]\u001b[0m\u001b[0;34m]\u001b[0m\u001b[0;34m)\u001b[0m\u001b[0;34m\u001b[0m\u001b[0m\n\u001b[0m",
      "\u001b[0;31mTypeError\u001b[0m: 'builtin_function_or_method' object has no attribute '__getitem__'"
     ]
    }
   ],
   "source": [
    "np.mean([bar_data[1][0][v]['MLAE'] for v in range[6]])"
   ]
  },
  {
   "cell_type": "code",
   "execution_count": null,
   "metadata": {
    "collapsed": true
   },
   "outputs": [],
   "source": []
  },
  {
   "cell_type": "code",
   "execution_count": 47,
   "metadata": {},
   "outputs": [
    {
     "name": "stdout",
     "output_type": "stream",
     "text": [
      "$ 1.982 $ ($SD= 0.89 $)\n"
     ]
    }
   ],
   "source": [
    "rect_all_runs = []\n",
    "for r in rect_data:\n",
    "    for e in r:\n",
    "        rect_all_runs.append(e)\n",
    "        \n",
    "print '$',np.round(np.mean(rect_all_runs),3),'$', '($SD=',np.round(np.std(rect_all_runs),3),'$)'"
   ]
  },
  {
   "cell_type": "code",
   "execution_count": 49,
   "metadata": {},
   "outputs": [
    {
     "name": "stdout",
     "output_type": "stream",
     "text": [
      " $ 1.867 $ ($SD= 0.709 $)\n"
     ]
    }
   ],
   "source": [
    "bar_all_runs = []\n",
    "for r in bar_data:\n",
    "    for e in r:\n",
    "        bar_all_runs.append(e)\n",
    "        \n",
    "print '$',np.round(np.mean(bar_all_runs),3),'$', '($SD=',np.round(np.std(bar_all_runs),3),'$)'"
   ]
  },
  {
   "cell_type": "code",
   "execution_count": 45,
   "metadata": {
    "collapsed": true
   },
   "outputs": [],
   "source": [
    "from pyvttbl import DataFrame\n",
    "from scipy.stats import ttest_ind, ttest_ind_from_stats"
   ]
  },
  {
   "cell_type": "code",
   "execution_count": 46,
   "metadata": {},
   "outputs": [
    {
     "name": "stdout",
     "output_type": "stream",
     "text": [
      "Anova: Single Factor on data\n",
      "\n",
      "SUMMARY\n",
      "Groups   Count     Sum     Average   Variance \n",
      "=============================================\n",
      "Bars        56   104.547     1.867      0.513 \n",
      "Rect        56   111.011     1.982      0.807 \n",
      "\n",
      "O'BRIEN TEST FOR HOMOGENEITY OF VARIANCE\n",
      "Source of Variation     SS     df     MS       F     P-value   eta^2   Obs. power \n",
      "=================================================================================\n",
      "Treatments             2.425     1   2.425   4.613     0.034   0.040        0.558 \n",
      "Error                 57.810   110   0.526                                        \n",
      "=================================================================================\n",
      "Total                 60.235   111                                                \n",
      "\n",
      "ANOVA\n",
      "Source of Variation     SS     df     MS       F     P-value   eta^2   Obs. power \n",
      "=================================================================================\n",
      "Treatments             0.373     1   0.373   0.566     0.454   0.005        0.117 \n",
      "Error                 72.562   110   0.660                                        \n",
      "=================================================================================\n",
      "Total                 72.936   111                                                \n",
      "\n",
      "POSTHOC MULTIPLE COMPARISONS\n",
      "\n",
      "Tukey HSD: Table of q-statistics\n",
      "       Bars     Rect   \n",
      "======================\n",
      "Bars   0      1.064 ns \n",
      "Rect          0        \n",
      "======================\n",
      "  + p < .10 (q-critical[2, 110] = 2.34593166342)\n",
      "  * p < .05 (q-critical[2, 110] = 2.80263933937)\n",
      " ** p < .01 (q-critical[2, 110] = 3.70702786722)\n"
     ]
    }
   ],
   "source": [
    "# test if the difference between types was significant\n",
    "\n",
    "df = DataFrame()\n",
    "df['data'] = bar_all_runs + rect_all_runs\n",
    "df['conditions'] = ['Bars']*len(bar_all_runs)+['Rect']*len(rect_all_runs)\n",
    "aov_pyvttbl = df.anova1way('data', 'conditions')\n",
    "print aov_pyvttbl"
   ]
  },
  {
   "cell_type": "code",
   "execution_count": null,
   "metadata": {
    "collapsed": true
   },
   "outputs": [],
   "source": [
    "for i,a in enumerate(all_data_per_type):\n",
    "    for j,b in enumerate(all_data_per_type):\n",
    "        \n",
    "        if i == j:\n",
    "            continue\n",
    "\n",
    "        df = DataFrame()\n",
    "        df['data'] = all_data_per_type[i] + all_data_per_type[j]\n",
    "        df['conditions'] = len(all_data_per_type[i])*['Type'+str(i+1)]+len(all_data_per_type[j])*['Type'+str(j+1)]\n",
    "\n",
    "        aov_pyvttbl = df.anova1way('data', 'conditions')\n",
    "        \n",
    "        if aov_pyvttbl.get('p') < .05:\n",
    "#             print aov_pyvttbl\n",
    "            t, p = ttest_ind(all_data_per_type[i], all_data_per_type[j], equal_var=False)\n",
    "            print i,j, t,p"
   ]
  },
  {
   "cell_type": "code",
   "execution_count": null,
   "metadata": {
    "collapsed": true
   },
   "outputs": [],
   "source": []
  },
  {
   "cell_type": "code",
   "execution_count": 57,
   "metadata": {},
   "outputs": [
    {
     "name": "stdout",
     "output_type": "stream",
     "text": [
      "bar $ 1.047 $ ($SD= 0.135 $)\n",
      "rect $ 1.118 $ ($SD= 0.115 $)\n"
     ]
    }
   ],
   "source": [
    "vgg_bar = bar_data[0]\n",
    "print 'bar', '$',np.round(np.mean(vgg_bar),3),'$', '($SD=',np.round(np.std(vgg_bar),3),'$)'\n",
    "vgg_rect = rect_data[0]\n",
    "print 'rect', '$',np.round(np.mean(vgg_rect),3),'$', '($SD=',np.round(np.std(vgg_rect),3),'$)'\n"
   ]
  },
  {
   "cell_type": "code",
   "execution_count": 55,
   "metadata": {},
   "outputs": [
    {
     "name": "stdout",
     "output_type": "stream",
     "text": [
      "Anova: Single Factor on data\n",
      "\n",
      "SUMMARY\n",
      "Groups   Count    Sum    Average   Variance \n",
      "===========================================\n",
      "Bar          4   2.940     0.735      0.224 \n",
      "Rect         4   2.379     0.595      0.067 \n",
      "\n",
      "O'BRIEN TEST FOR HOMOGENEITY OF VARIANCE\n",
      "Source of Variation    SS     df    MS       F     P-value   eta^2   Obs. power \n",
      "===============================================================================\n",
      "Treatments            0.049    1   0.049   1.094     0.336   0.154        0.156 \n",
      "Error                 0.268    6   0.045                                        \n",
      "===============================================================================\n",
      "Total                 0.317    7                                                \n",
      "\n",
      "ANOVA\n",
      "Source of Variation    SS     df    MS       F     P-value   eta^2   Obs. power \n",
      "===============================================================================\n",
      "Treatments            0.039    1   0.039   0.271     0.621   0.043        0.079 \n",
      "Error                 0.874    6   0.146                                        \n",
      "===============================================================================\n",
      "Total                 0.913    7                                                \n",
      "\n",
      "POSTHOC MULTIPLE COMPARISONS\n",
      "\n",
      "Tukey HSD: Table of q-statistics\n",
      "       Bar     Rect   \n",
      "=====================\n",
      "Bar    0     0.736 ns \n",
      "Rect         0        \n",
      "=====================\n",
      "  + p < .10 (q-critical[2, 6] = 2.74807190667)\n",
      "  * p < .05 (q-critical[2, 6] = 3.46045592249)\n",
      " ** p < .01 (q-critical[2, 6] = 5.24309498928)\n"
     ]
    }
   ],
   "source": [
    "df = DataFrame()\n",
    "df['data'] = vgg_bar+vgg_rect\n",
    "df['conditions'] = len(vgg_bar)*['Bar']+len(vgg_rect)*['Rect']\n",
    "\n",
    "aov_pyvttbl = df.anova1way('data', 'conditions')\n",
    "print aov_pyvttbl\n",
    "if aov_pyvttbl.get('p') < .05:\n",
    "#             print aov_pyvttbl\n",
    "    t, p = ttest_ind(all_data_per_type[i], all_data_per_type[j], equal_var=False)\n",
    "    print i,j, t,p"
   ]
  },
  {
   "cell_type": "code",
   "execution_count": 56,
   "metadata": {},
   "outputs": [
    {
     "data": {
      "text/plain": [
       "0.050625"
      ]
     },
     "execution_count": 56,
     "metadata": {},
     "output_type": "execute_result"
    }
   ],
   "source": [
    "0.225*0.225"
   ]
  },
  {
   "cell_type": "code",
   "execution_count": 63,
   "metadata": {},
   "outputs": [
    {
     "data": {
      "text/plain": [
       "3.3219280948873622"
      ]
     },
     "execution_count": 63,
     "metadata": {},
     "output_type": "execute_result"
    }
   ],
   "source": [
    "np.log2(10)"
   ]
  },
  {
   "cell_type": "code",
   "execution_count": null,
   "metadata": {
    "collapsed": true
   },
   "outputs": [],
   "source": []
  }
 ],
 "metadata": {
  "kernelspec": {
   "display_name": "Python 2",
   "language": "python",
   "name": "python2"
  },
  "language_info": {
   "codemirror_mode": {
    "name": "ipython",
    "version": 2
   },
   "file_extension": ".py",
   "mimetype": "text/x-python",
   "name": "python",
   "nbconvert_exporter": "python",
   "pygments_lexer": "ipython2",
   "version": "2.7.14"
  }
 },
 "nbformat": 4,
 "nbformat_minor": 2
}
