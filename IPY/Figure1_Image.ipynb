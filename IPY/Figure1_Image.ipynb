{
 "cells": [
  {
   "cell_type": "code",
   "execution_count": 1,
   "metadata": {},
   "outputs": [
    {
     "name": "stdout",
     "output_type": "stream",
     "text": [
      "Populating the interactive namespace from numpy and matplotlib\n"
     ]
    }
   ],
   "source": [
    "import cPickle as pickle\n",
    "%pylab inline"
   ]
  },
  {
   "cell_type": "code",
   "execution_count": 2,
   "metadata": {},
   "outputs": [
    {
     "data": {
      "text/plain": [
       "<module 'ClevelandMcGill' from '../EXP/ClevelandMcGill/__init__.pyc'>"
      ]
     },
     "execution_count": 2,
     "metadata": {},
     "output_type": "execute_result"
    }
   ],
   "source": [
    "import os, sys, time\n",
    "import cPickle as pickle\n",
    "sys.path.append('../EXP/')\n",
    "import ClevelandMcGill as C\n",
    "from util import Util\n",
    "reload(C)"
   ]
  },
  {
   "cell_type": "code",
   "execution_count": 3,
   "metadata": {
    "collapsed": true
   },
   "outputs": [],
   "source": [
    "import os"
   ]
  },
  {
   "cell_type": "code",
   "execution_count": 4,
   "metadata": {
    "collapsed": true
   },
   "outputs": [],
   "source": [
    "RESULTS_DIR = '/n/regal/pfister_lab/PERCEPTION/RESULTS/'"
   ]
  },
  {
   "cell_type": "code",
   "execution_count": 43,
   "metadata": {},
   "outputs": [
    {
     "name": "stdout",
     "output_type": "stream",
     "text": [
      "sbatch C.Figure1.angle_2_MLP_True.sbatch [11, 12] 20\n",
      "sbatch C.Figure1.angle_2_LeNet_True.sbatch [11, 12] 20\n",
      "sbatch C.Figure1.angle_2_XCEPTION_True.sbatch [11, 12] 20\n",
      "sbatch C.Figure1.angle_2_VGG19_True.sbatch [11, 12] 20\n",
      "sbatch C.Figure1.angle_1_MLP_True.sbatch [11, 12] 20\n",
      "sbatch C.Figure1.angle_1_LeNet_True.sbatch [11, 12] 20\n",
      "sbatch C.Figure1.angle_1_XCEPTION_True.sbatch [11, 12] 20\n",
      "sbatch C.Figure1.angle_1_VGG19_True.sbatch [11, 12] 20\n",
      "sbatch C.Figure1.angle_0_MLP_True.sbatch [11, 12] 20\n",
      "sbatch C.Figure1.angle_0_LeNet_True.sbatch [11, 12] 20\n",
      "sbatch C.Figure1.angle_0_XCEPTION_True.sbatch [11, 12] 20\n",
      "sbatch C.Figure1.angle_0_VGG19_True.sbatch [11, 12] 20\n",
      "sbatch C.Figure1.position_non_aligned_scale_2_MLP_True.sbatch [11, 12] 20\n",
      "sbatch C.Figure1.position_non_aligned_scale_2_LeNet_True.sbatch [11, 12] 20\n",
      "sbatch C.Figure1.position_non_aligned_scale_2_XCEPTION_True.sbatch [11, 12] 20\n",
      "sbatch C.Figure1.position_non_aligned_scale_2_VGG19_True.sbatch [11, 12] 20\n",
      "sbatch C.Figure1.position_non_aligned_scale_1_MLP_True.sbatch [11, 12] 20\n",
      "sbatch C.Figure1.position_non_aligned_scale_1_LeNet_True.sbatch [11, 12] 20\n",
      "sbatch C.Figure1.position_non_aligned_scale_1_XCEPTION_True.sbatch [11, 12] 20\n",
      "sbatch C.Figure1.position_non_aligned_scale_1_VGG19_True.sbatch [11, 12] 20\n",
      "sbatch C.Figure1.position_non_aligned_scale_3_MLP_True.sbatch [11, 12] 20\n",
      "sbatch C.Figure1.position_non_aligned_scale_3_LeNet_True.sbatch [11, 12] 20\n",
      "sbatch C.Figure1.position_non_aligned_scale_3_XCEPTION_True.sbatch [11, 12] 20\n",
      "sbatch C.Figure1.position_non_aligned_scale_3_VGG19_True.sbatch [11, 12] 20\n",
      "sbatch C.Figure1.position_non_aligned_scale_0_MLP_True.sbatch [11, 12] 20\n",
      "sbatch C.Figure1.position_non_aligned_scale_0_LeNet_True.sbatch [11, 12] 20\n",
      "sbatch C.Figure1.position_non_aligned_scale_0_XCEPTION_True.sbatch [11, 12] 20\n",
      "sbatch C.Figure1.position_non_aligned_scale_0_VGG19_True.sbatch [11, 12] 20\n",
      "sbatch C.Figure1.position_common_scale_2_MLP_True.sbatch [11, 12] 20\n",
      "sbatch C.Figure1.position_common_scale_2_LeNet_True.sbatch [11, 12] 20\n",
      "sbatch C.Figure1.position_common_scale_2_XCEPTION_True.sbatch [11, 12] 20\n",
      "sbatch C.Figure1.position_common_scale_2_VGG19_True.sbatch [11, 12] 20\n",
      "sbatch C.Figure1.position_common_scale_1_MLP_True.sbatch [11, 12] 20\n",
      "sbatch C.Figure1.position_common_scale_1_LeNet_True.sbatch [11, 12] 20\n",
      "sbatch C.Figure1.position_common_scale_1_XCEPTION_True.sbatch [11, 12] 20\n",
      "sbatch C.Figure1.position_common_scale_1_VGG19_True.sbatch [11, 12] 20\n",
      "sbatch C.Figure1.position_common_scale_0_MLP_True.sbatch [11, 12] 20\n",
      "sbatch C.Figure1.position_common_scale_0_LeNet_True.sbatch [11, 12] 20\n",
      "sbatch C.Figure1.position_common_scale_0_XCEPTION_True.sbatch [11, 12] 20\n",
      "sbatch C.Figure1.position_common_scale_0_VGG19_True.sbatch [11, 12] 20\n",
      "sbatch C.Figure1.length_2_MLP_True.sbatch [11, 12] 20\n",
      "sbatch C.Figure1.length_2_LeNet_True.sbatch [11, 12] 20\n",
      "sbatch C.Figure1.length_2_XCEPTION_True.sbatch [11, 12] 20\n",
      "sbatch C.Figure1.length_2_VGG19_True.sbatch [11, 12] 20\n",
      "sbatch C.Figure1.length_1_MLP_True.sbatch [11, 12] 20\n",
      "sbatch C.Figure1.length_1_LeNet_True.sbatch [11, 12] 20\n",
      "sbatch C.Figure1.length_1_XCEPTION_True.sbatch [11, 12] 20\n",
      "sbatch C.Figure1.length_1_VGG19_True.sbatch [11, 12] 20\n",
      "sbatch C.Figure1.length_3_MLP_True.sbatch [11, 12] 20\n",
      "sbatch C.Figure1.length_3_LeNet_True.sbatch [11, 12] 20\n",
      "sbatch C.Figure1.length_3_XCEPTION_True.sbatch [11, 12] 20\n",
      "sbatch C.Figure1.length_3_VGG19_True.sbatch [11, 12] 20\n",
      "sbatch C.Figure1.length_0_MLP_True.sbatch [11, 12] 20\n",
      "sbatch C.Figure1.length_0_LeNet_True.sbatch [11, 12] 20\n",
      "sbatch C.Figure1.length_0_XCEPTION_True.sbatch [11, 12] 20\n",
      "sbatch C.Figure1.length_0_VGG19_True.sbatch [11, 12] 20\n",
      "sbatch C.Figure1.area_2_MLP_True.sbatch [11, 12] 20\n",
      "sbatch C.Figure1.area_2_LeNet_True.sbatch [11, 12] 20\n",
      "sbatch C.Figure1.area_2_XCEPTION_True.sbatch [11, 12] 20\n",
      "sbatch C.Figure1.area_2_VGG19_True.sbatch [11, 12] 20\n",
      "sbatch C.Figure1.area_1_MLP_True.sbatch [11, 12] 20\n",
      "sbatch C.Figure1.area_1_LeNet_True.sbatch [11, 12] 20\n",
      "sbatch C.Figure1.area_1_XCEPTION_True.sbatch [11, 12] 20\n",
      "sbatch C.Figure1.area_1_VGG19_True.sbatch [11, 12] 20\n",
      "sbatch C.Figure1.area_0_MLP_True.sbatch [11, 12] 20\n",
      "sbatch C.Figure1.area_0_LeNet_True.sbatch [11, 12] 20\n",
      "sbatch C.Figure1.area_0_XCEPTION_True.sbatch [11, 12] 20\n",
      "sbatch C.Figure1.area_0_VGG19_True.sbatch [11, 12] 20\n",
      "sbatch C.Figure1.direction_2_MLP_True.sbatch [11, 12] 20\n",
      "sbatch C.Figure1.direction_2_LeNet_True.sbatch [11, 12] 20\n",
      "sbatch C.Figure1.direction_2_XCEPTION_True.sbatch [11, 12] 20\n",
      "sbatch C.Figure1.direction_2_VGG19_True.sbatch [11, 12] 20\n",
      "sbatch C.Figure1.direction_1_MLP_True.sbatch [11, 12] 20\n",
      "sbatch C.Figure1.direction_1_LeNet_True.sbatch [11, 12] 20\n",
      "sbatch C.Figure1.direction_1_XCEPTION_True.sbatch [11, 12] 20\n",
      "sbatch C.Figure1.direction_1_VGG19_True.sbatch [11, 12] 20\n",
      "sbatch C.Figure1.direction_0_MLP_True.sbatch [11, 12] 20\n",
      "sbatch C.Figure1.direction_0_LeNet_True.sbatch [11, 12] 20\n",
      "sbatch C.Figure1.direction_0_XCEPTION_True.sbatch [11, 12] 20\n",
      "sbatch C.Figure1.direction_0_VGG19_True.sbatch [11, 12] 20\n",
      "sbatch C.Figure1.volume_2_MLP_True.sbatch [11, 12] 20\n",
      "sbatch C.Figure1.volume_2_LeNet_True.sbatch [11, 12] 20\n",
      "sbatch C.Figure1.volume_2_XCEPTION_True.sbatch [11, 12] 20\n",
      "sbatch C.Figure1.volume_2_VGG19_True.sbatch [11, 12] 20\n",
      "sbatch C.Figure1.volume_1_MLP_True.sbatch [11, 12] 20\n",
      "sbatch C.Figure1.volume_1_LeNet_True.sbatch [11, 12] 20\n",
      "sbatch C.Figure1.volume_1_XCEPTION_True.sbatch [11, 12] 20\n",
      "sbatch C.Figure1.volume_1_VGG19_True.sbatch [11, 12] 20\n",
      "sbatch C.Figure1.volume_0_MLP_True.sbatch [11, 12] 20\n",
      "sbatch C.Figure1.volume_0_LeNet_True.sbatch [11, 12] 20\n",
      "sbatch C.Figure1.volume_0_XCEPTION_True.sbatch [11, 12] 20\n",
      "sbatch C.Figure1.volume_0_VGG19_True.sbatch [11, 12] 20\n",
      "sbatch C.Figure1.shading_2_MLP_True.sbatch [11, 12] 20\n",
      "sbatch C.Figure1.shading_2_LeNet_True.sbatch [11, 12] 20\n",
      "sbatch C.Figure1.shading_2_XCEPTION_True.sbatch [11, 12] 20\n",
      "sbatch C.Figure1.shading_2_VGG19_True.sbatch [11, 12] 20\n",
      "sbatch C.Figure1.shading_1_MLP_True.sbatch [11, 12] 20\n",
      "sbatch C.Figure1.shading_1_LeNet_True.sbatch [11, 12] 20\n",
      "sbatch C.Figure1.shading_1_XCEPTION_True.sbatch [11, 12] 20\n",
      "sbatch C.Figure1.shading_1_VGG19_True.sbatch [11, 12] 20\n",
      "sbatch C.Figure1.shading_0_MLP_True.sbatch [11, 12] 20\n",
      "sbatch C.Figure1.shading_0_LeNet_True.sbatch [11, 12] 20\n",
      "sbatch C.Figure1.shading_0_XCEPTION_True.sbatch [11, 12] 20\n",
      "sbatch C.Figure1.shading_0_VGG19_True.sbatch [11, 12] 20\n",
      "sbatch C.Figure1.curvature_2_MLP_True.sbatch [11, 12] 20\n",
      "sbatch C.Figure1.curvature_2_LeNet_True.sbatch [11, 12] 20\n",
      "sbatch C.Figure1.curvature_2_XCEPTION_True.sbatch [11, 12] 20\n",
      "sbatch C.Figure1.curvature_2_VGG19_True.sbatch [11, 12] 20\n",
      "sbatch C.Figure1.curvature_1_MLP_True.sbatch [11, 12] 20\n",
      "sbatch C.Figure1.curvature_1_LeNet_True.sbatch [11, 12] 20\n",
      "sbatch C.Figure1.curvature_1_XCEPTION_True.sbatch [11, 12] 20\n",
      "sbatch C.Figure1.curvature_1_VGG19_True.sbatch [11, 12] 20\n",
      "sbatch C.Figure1.curvature_3_MLP_True.sbatch [11, 12] 20\n",
      "sbatch C.Figure1.curvature_3_LeNet_True.sbatch [11, 12] 20\n",
      "sbatch C.Figure1.curvature_3_XCEPTION_True.sbatch [11, 12] 20\n",
      "sbatch C.Figure1.curvature_3_VGG19_True.sbatch [11, 12] 20\n",
      "sbatch C.Figure1.curvature_0_MLP_True.sbatch [11, 12] 20\n",
      "sbatch C.Figure1.curvature_0_LeNet_True.sbatch [11, 12] 20\n",
      "sbatch C.Figure1.curvature_0_XCEPTION_True.sbatch [11, 12] 20\n",
      "sbatch C.Figure1.curvature_0_VGG19_True.sbatch [11, 12] 20\n"
     ]
    }
   ],
   "source": [
    "for subdir, _, _ in os.walk(RESULTS_DIR):\n",
    "    if len(subdir.split('/')) == 9:\n",
    "      if len(os.listdir(subdir)) != 24:\n",
    "#         print subdir\n",
    "        #check which ones are really missing\n",
    "        missing = []\n",
    "        for i in range(1,13):\n",
    "            if not os.path.exists(subdir + '/' + str(i).zfill(2) + '_noise.p'):\n",
    "                missing.append(i)\n",
    "        \n",
    "#         print subdir, len(os.listdir(subdir))\n",
    "    \n",
    "        \n",
    "\n",
    "        classifier = subdir.split('/')[-1]\n",
    "        dataset = subdir.split('/')[-2]\n",
    "        experiment = subdir.split('/')[-3]\n",
    "        \n",
    "        print 'sbatch', experiment + '_' + dataset + '_' + classifier +'_True.sbatch', missing, len(os.listdir(subdir))\n",
    "        \n",
    "#         with open('../SLURMS/Figure1/'+experiment + '_' + str(dataset) + '_' + classifier +'_True.sbatch', 'r') as f:\n",
    "            \n",
    "#             old_content = f.read()\n",
    "# #             print old_content.split('--array=')[0]\n",
    "#             old_job_array = old_content.split('--array=')[1].split('\\n')[0]\n",
    "    \n",
    "#             new_slurm = old_content.replace(old_job_array, ','.join([str(m) for m in missing]))\n",
    "    \n",
    "#         with open('../SLURMS/Figure1/'+experiment + '_' + str(dataset) + '_' + classifier +'_True.sbatch', 'w') as f:\n",
    "#             f.write(new_slurm)\n",
    "    \n",
    "#             break"
   ]
  },
  {
   "cell_type": "code",
   "execution_count": 9,
   "metadata": {
    "collapsed": true
   },
   "outputs": [],
   "source": [
    "import glob\n",
    "import cPickle as pickle"
   ]
  },
  {
   "cell_type": "code",
   "execution_count": 54,
   "metadata": {},
   "outputs": [
    {
     "name": "stdout",
     "output_type": "stream",
     "text": [
      "['0', '1', '2']\n",
      "Loaded C.Figure1.position_common_scale\n",
      "['0', '1', '2', '3']\n",
      "Loaded C.Figure1.position_non_aligned_scale\n",
      "['0', '1', '2', '3']\n",
      "Loaded C.Figure1.length\n",
      "['0', '1', '2']\n",
      "Loaded C.Figure1.direction\n",
      "['0', '1', '2']\n",
      "Loaded C.Figure1.angle\n",
      "['0', '1', '2']\n",
      "Loaded C.Figure1.area\n",
      "['0', '1', '2']\n",
      "Loaded C.Figure1.volume\n",
      "['0', '1', '2', '3']\n",
      "Loaded C.Figure1.curvature\n",
      "['0', '1', '2']\n",
      "Loaded C.Figure1.shading\n"
     ]
    }
   ],
   "source": [
    "experiments = ['C.Figure1.position_common_scale', \\\n",
    "               'C.Figure1.position_non_aligned_scale', \\\n",
    "               'C.Figure1.length', \\\n",
    "               'C.Figure1.direction', \\\n",
    "               'C.Figure1.angle', \\\n",
    "               'C.Figure1.area', \\\n",
    "               'C.Figure1.volume', \\\n",
    "               'C.Figure1.curvature', \\\n",
    "               'C.Figure1.shading']\n",
    "all_labels = {'C.Figure1.position_common_scale': ['Position Y', '+ Position X', '+ Spotsize'], \\\n",
    "              'C.Figure1.position_non_aligned_scale': ['Scale', '+ Y', '+ X', '+ Spotsize'],\\\n",
    "              'C.Figure1.length': ['Length', '+ Position Y', '+ Position X', '+ Width'], \\\n",
    "              'C.Figure1.direction': ['Direction', '+ Position Y', '+ Position X'], \\\n",
    "              'C.Figure1.angle': ['Angle', '+ Position Y', '+ Position X'], \\\n",
    "              'C.Figure1.area': ['Area', '+ Position Y', '+ Position X'], \\\n",
    "              'C.Figure1.volume': ['Volume', '+ Position Y', '+ Position X'], \\\n",
    "              'C.Figure1.curvature': ['Curvature', '+ Position Y', '+ Position X', '+ Width'], \\\n",
    "              'C.Figure1.shading': ['Shading', '+ Position Y', '+ Position X']\n",
    "              }\n",
    "\n",
    "all_results = {}\n",
    "\n",
    "for experiment in experiments:\n",
    "\n",
    "    e_dir = os.path.join(RESULTS_DIR, experiment)\n",
    "    datasets = sorted(os.listdir(e_dir))\n",
    "    print datasets\n",
    "    results = [None]*4\n",
    "\n",
    "    classifiers = ['MLP', 'LeNet', 'VGG19', 'XCEPTION']\n",
    "    for i,c in enumerate(classifiers):\n",
    "\n",
    "        results[i] = []\n",
    "        for d in datasets:\n",
    "            d_dir = os.path.join(e_dir, d)\n",
    "\n",
    "#             stats_files = ['01_noise.p', '02_noise.p', '03_noise.p', '04_noise.p']#glob.glob(os.path.join(d_dir, c)+'/*.p')\n",
    "            stats_files = glob.glob(os.path.join(d_dir, c)+'/*.p')\n",
    "#             print stats_files\n",
    "#             break\n",
    "            MLAEs = []\n",
    "\n",
    "            for s in stats_files:\n",
    "#                 stats_file = os.path.join(d_dir, c)+'/'+s\n",
    "                stats_file = s\n",
    "                if os.path.exists(stats_file):\n",
    "                    with open(stats_file, 'r') as f:\n",
    "                        stats = pickle.load(f)\n",
    "                    MLAEs.append(stats['MLAE'])\n",
    "\n",
    "            results[i].append(MLAEs)\n",
    "            \n",
    "    print 'Loaded', experiment\n",
    "            \n",
    "    all_results[experiment] = results\n",
    "            \n",
    "#         print d, c, np.mean([stats1['MLAE'], stats2['MLAE']])"
   ]
  },
  {
   "cell_type": "code",
   "execution_count": 102,
   "metadata": {
    "scrolled": false
   },
   "outputs": [
    {
     "name": "stdout",
     "output_type": "stream",
     "text": [
      "['+ Spotsize', '+ Position X', 'Position Y']\n",
      "[3.6436462799063221, 2.2694506761244622, 2.0775190285500229]\n",
      "--------------------------------------------------------------------------------\n",
      "['+ Spotsize', '+ Position X', 'Position Y']\n",
      "[1.8578219101270932, 1.9580380597371101, 1.9545865520225054]\n",
      "--------------------------------------------------------------------------------\n",
      "['+ Spotsize', '+ Position X', 'Position Y']\n",
      "[1.1299019467781679, 0.42333341434238669, 0.16298433475735355]\n",
      "--------------------------------------------------------------------------------\n",
      "['+ Spotsize', '+ Position X', 'Position Y']\n",
      "[1.4945926827522504, 1.371477996136059, 1.2676519399862136]\n",
      "--------------------------------------------------------------------------------\n",
      "['+ Spotsize', '+ X', '+ Y', 'Scale']\n",
      "[3.504133406010328, 1.9990116522826398, 0.97762643167273899, 1.9206903650694618]\n",
      "--------------------------------------------------------------------------------\n",
      "['+ Spotsize', '+ X', '+ Y', 'Scale']\n",
      "[1.7544698541252284, 1.8812687195353515, 2.028442088222699, 3.1250805966203901]\n",
      "--------------------------------------------------------------------------------\n",
      "['+ Spotsize', '+ X', '+ Y', 'Scale']\n",
      "[1.2206445849417737, 0.56470432229564138, 0.41218140353362864, 1.2613528974715158]\n",
      "--------------------------------------------------------------------------------\n",
      "['+ Spotsize', '+ X', '+ Y', 'Scale']\n",
      "[1.736096357688508, 1.3279493951668064, 0.84146829556847891, 2.7491666895446292]\n",
      "--------------------------------------------------------------------------------\n"
     ]
    },
    {
     "data": {
      "image/png": "[encoded data removed]",
      "text/plain": [
       "<matplotlib.figure.Figure at 0x2b09733a2710>"
      ]
     },
     "metadata": {},
     "output_type": "display_data"
    }
   ],
   "source": [
    "import numpy as np\n",
    "import scipy as sp\n",
    "import scipy.stats\n",
    "from matplotlib import gridspec\n",
    "\n",
    "def mean_confidence_interval(data, confidence=0.95):\n",
    "    a = 1.0*np.array(data)\n",
    "    n = len(a)\n",
    "    m, se = np.mean(a), scipy.stats.sem(a)\n",
    "    h = se * sp.stats.t._ppf((1+confidence)/2., n-1)\n",
    "    return m, (m-h), m+h, h\n",
    "\n",
    "fig = plt.figure(figsize=(21,len(experiments)*3), facecolor='white')\n",
    "gs = gridspec.GridSpec(len(experiments), 5, width_ratios=[1,1,1,1,1], hspace=.3)#, wspace=.5)\n",
    "# experiments = [experiments[1]]\n",
    "\n",
    "# print experiments\n",
    "\n",
    "j = 0\n",
    "for experiment in experiments[0:2]:\n",
    "    \n",
    "    for i,c in enumerate(['Image','MLP', 'LeNet', 'VGG19', 'Xception']):\n",
    "\n",
    "        fig = plt.subplot(gs[j])\n",
    "        j += 1\n",
    "\n",
    "        \n",
    "        if i == 0:\n",
    "            \n",
    "            plt.title(experiment.split('.')[-1].replace('_',' ').upper(), loc='left')\n",
    "            \n",
    "            ax = plt.gca()\n",
    "            from matplotlib.ticker import NullFormatter\n",
    "            ax.xaxis.set_major_formatter(NullFormatter())\n",
    "            ax.xaxis.set_ticks_position('none') \n",
    "            ax.yaxis.set_major_formatter(NullFormatter())\n",
    "            ax.yaxis.set_ticks_position('none') \n",
    "            plt.tight_layout()\n",
    "            Util.imshow_nicely(eval(experiment)()[1], new_figure=False)\n",
    "\n",
    "            continue\n",
    "\n",
    "        if j <= len(classifiers)+1:\n",
    "            plt.title(c)\n",
    "            \n",
    "\n",
    "        #\n",
    "        # data\n",
    "        #\n",
    "        labels = all_labels[experiment]\n",
    "        labels = labels[::-1]\n",
    "        print labels\n",
    "        data = all_results[experiment][i-1]\n",
    "        \n",
    "#         print data\n",
    "        \n",
    "        \n",
    "        means = [np.mean(r) for r in data]\n",
    "        means = means[::-1] # we start counting from the bottom\n",
    "        print means\n",
    "        \n",
    "        #confidence = [mean_confidence_interval(r)[3] for r in data]\n",
    "        \n",
    "        confidence = [np.std(r) for r in data]\n",
    "        confidence = confidence[::-1]\n",
    "        \n",
    "#         data_dict = {}\n",
    "#         data_dict['x'] = means\n",
    "#         data_dict['xerr'] = confidence\n",
    "#         data_dict['y'] = \n",
    "        \n",
    "        \n",
    "        y_pos = range(len(means))\n",
    "\n",
    "\n",
    "#         means = [3] + means + [10]\n",
    "#         print means\n",
    "#         labels = ['a'] + labels + ['Z']\n",
    "#         print labels\n",
    "#         confidence = [0] + confidence + [0]\n",
    "#         print confidence\n",
    "        \n",
    "        plt.xlim(0,6.1)\n",
    "        \n",
    "        ax = plt.gca()\n",
    "#         ax.spines['top'].set_visible(False)\n",
    "#         ax.spines['right'].set_visible(False)\n",
    "#         ax.spines['bottom'].set_visible(False)\n",
    "#         ax.spines['left'].set_visible(False)\n",
    "        if i != 1:\n",
    "            ax.get_yaxis().set_ticks([])\n",
    "        else:\n",
    "#             print labels\n",
    "            ax.get_yaxis().set_ticks(range(len(labels))) # we set the labels here\n",
    "            ax.get_yaxis().set_ticklabels(labels)\n",
    "            \n",
    "        ax.get_xaxis().set_ticks(np.arange(0,7,6)) # mark the tange\n",
    "        ax.get_xaxis().set_ticks(np.arange(3,3.1), minor=True) # mark the center\n",
    "        ax.tick_params(axis=u'both', which=u'both',length=0)\n",
    "\n",
    "        # remove tick marks\n",
    "        if j <= 5*(len(experiments)-1):\n",
    "            from matplotlib.ticker import NullFormatter\n",
    "            ax.xaxis.set_major_formatter(NullFormatter())\n",
    "            ax.xaxis.set_ticks_position('none')\n",
    "\n",
    "\n",
    "        # grid lines for X\n",
    "        plt.grid(True, color='gray', which='major', axis='x', alpha=1)\n",
    "        plt.grid(True, color='gray', which='minor', axis='x', alpha=0.2)\n",
    "        \n",
    "        errorbars = plt.errorbar(means, y_pos, xerr=confidence, fmt='o', color='black', capsize=4)\n",
    "\n",
    "        print '-'*80\n",
    "plt.savefig('../PAPER/gfx/figure1_v3.pdf', bbox_inches='tight', pad_inches=0)"
   ]
  },
  {
   "cell_type": "code",
   "execution_count": 106,
   "metadata": {},
   "outputs": [
    {
     "name": "stdout",
     "output_type": "stream",
     "text": [
      "[7.4773079171183214, 2.2701270493898607, 5.7484569907590775, 3.7206316070421797, 1.0965970995104326, 2.1570975528213441, 3.8638182881344862, 1.2792254390470583, 1.0262126411758028, 2.6113313812053374]\n",
      "DATA 0 Scale 3.12508059662 2.01453341968\n",
      "PREDS min -0.142006 max 0.826187 mean 0.287791 stddev 0.312978\n",
      "GT min -3.5 max 0.875 mean 0.051112 stddev 0.848873\n",
      "[1.6704049190035801, 2.2044427870125451, 1.6672287275208362, 1.896467390801688, 2.1572784635592663, 2.2033887811091502, 2.2878898877451181, 2.2978443367856229, 1.9621186521879164, 1.9373569365012682]\n",
      "DATA 1 + Y 2.02844208822 0.225133397218\n",
      "PREDS min -0.00456244 max 0.956138 mean 0.470133 stddev 0.258633\n",
      "GT min -0.0535714 max 1.01818 mean 0.48584 stddev 0.301128\n",
      "[2.0104767999567965, 1.6215133312130889, 2.0341140014814503, 1.7542374396620775, 1.8777310341332041, 1.675450034884697, 1.8218788659108571, 1.6798546072933307, 2.1147064763838093, 2.2227246044342048]\n",
      "DATA 2 + X 1.88126871954 0.195248602872\n",
      "PREDS min -0.0182215 max 1.02407 mean 0.478413 stddev 0.269771\n",
      "GT min -0.0769231 max 1.05769 mean 0.489368 stddev 0.308757\n",
      "[1.446605025340183, 2.1293459120862868, 1.5510378075427911, 1.6049981300692404, 1.0106547835957234, 2.3737522447259121, 1.8534441544606162, 1.6294228822572325, 2.3789693684448525, 1.5664682327294492]\n",
      "DATA 3 + Spotsize 1.75446985413 0.410680855932\n",
      "PREDS min -0.0359946 max 1.04284 mean 0.500917 stddev 0.281868\n",
      "GT min -0.0566038 max 1.03774 mean 0.511469 stddev 0.319753\n"
     ]
    }
   ],
   "source": [
    "EXPERIMENT = 'C.Figure1.position_non_aligned_scale'\n",
    "CLASSIFIER = 'LeNet'\n",
    "DATASETS = ['0', '1', '2', '3']\n",
    "\n",
    "for DATASET in DATASETS:\n",
    "    stichproben = []\n",
    "    preds = []\n",
    "    gts = []\n",
    "    for i in range(1,11):\n",
    "        with open(RESULTS_DIR+EXPERIMENT+'/'+DATASET+'/'+CLASSIFIER+'/'+str(i).zfill(2)+'_noise.p', 'r') as f:\n",
    "            gepickelte_datei = pickle.load(f)\n",
    "            stichproben.append(gepickelte_datei['MLAE'])\n",
    "            preds.append(gepickelte_datei['y_pred'].ravel())\n",
    "            gts.append(gepickelte_datei['y_test'].ravel())\n",
    "\n",
    "    label = all_labels[EXPERIMENT][int(DATASET)]\n",
    "    \n",
    "    print stichproben\n",
    "    print 'DATA', DATASET, label, np.mean(stichproben), np.std(stichproben)\n",
    "    print 'PREDS', 'min', np.min(preds), 'max', np.max(preds), 'mean', np.mean(preds), 'stddev',np.std(preds)\n",
    "    print 'GT', 'min', np.min(gts), 'max', np.max(gts), 'mean', np.mean(gts), 'stddev',np.std(gts)\n",
    "    "
   ]
  },
  {
   "cell_type": "code",
   "execution_count": 90,
   "metadata": {},
   "outputs": [
    {
     "name": "stdout",
     "output_type": "stream",
     "text": [
      "[2.5668684923192755, 1.5271388252316846, 4.0017983331903526, 5.7643393157690683, 1.9337126235463267, 3.5604610041134284, 2.2825245770595135, 2.0347820062014703, 1.8903650404751158, 1.9296766775400571]\n",
      "2.74916668954 1.56473050222\n"
     ]
    }
   ],
   "source": [
    "print stichproben\n",
    "print np.mean(stichproben), np.var(stichproben)"
   ]
  },
  {
   "cell_type": "code",
   "execution_count": null,
   "metadata": {
    "collapsed": true
   },
   "outputs": [],
   "source": []
  },
  {
   "cell_type": "code",
   "execution_count": null,
   "metadata": {
    "collapsed": true
   },
   "outputs": [],
   "source": []
  },
  {
   "cell_type": "code",
   "execution_count": null,
   "metadata": {
    "collapsed": true
   },
   "outputs": [],
   "source": [
    "import numpy as np\n",
    "import scipy as sp\n",
    "import scipy.stats\n",
    "from matplotlib import gridspec\n",
    "\n",
    "def mean_confidence_interval(data, confidence=0.95):\n",
    "    a = 1.0*np.array(data)\n",
    "    n = len(a)\n",
    "    m, se = np.mean(a), scipy.stats.sem(a)\n",
    "    h = se * sp.stats.t._ppf((1+confidence)/2., n-1)\n",
    "    return m, (m-h), m+h, h\n",
    "\n",
    "fig = plt.figure(figsize=(21,len(experiments)*3), facecolor='white')\n",
    "gs = gridspec.GridSpec(len(experiments), 5, width_ratios=[1,1,1,1,1], hspace=.3)\n",
    "# experiments = [experiments[1]]\n",
    "\n",
    "# print experiments\n",
    "\n",
    "j = 0\n",
    "for experiment in experiments[0:1]:\n",
    "    \n",
    "    for i,c in enumerate(['Image','MLP', 'LeNet', 'VGG19', 'XCEPTION']):\n",
    "\n",
    "        fig = plt.subplot(gs[j])\n",
    "        j += 1\n",
    "\n",
    "        \n",
    "        if i == 0:\n",
    "            \n",
    "            plt.title(experiment.split('.')[-1].replace('_',' ').upper(), loc='left')\n",
    "            \n",
    "            ax = plt.gca()\n",
    "            from matplotlib.ticker import NullFormatter\n",
    "            ax.xaxis.set_major_formatter(NullFormatter())\n",
    "            ax.xaxis.set_ticks_position('none') \n",
    "            ax.yaxis.set_major_formatter(NullFormatter())\n",
    "            ax.yaxis.set_ticks_position('none') \n",
    "            plt.tight_layout()\n",
    "            Util.imshow_nicely(eval(experiment)()[1], new_figure=False)\n",
    "\n",
    "            continue\n",
    "\n",
    "        if j <= len(classifiers)+1:\n",
    "            plt.title(c)\n",
    "            \n",
    "\n",
    "        #\n",
    "        # data\n",
    "        #\n",
    "        labels = all_labels[experiment]\n",
    "        print labels\n",
    "        data = all_results[experiment][i-1]\n",
    "#         print data\n",
    "        \n",
    "        \n",
    "        means = [np.mean(r) for r in data]\n",
    "        print means\n",
    "        \n",
    "        \n",
    "        \n",
    "        \n",
    "        y_pos = range(len(means))\n",
    "\n",
    "        confidence = [mean_confidence_interval(r)[3] for r in data]\n",
    "#         means = [3] + means + [10]\n",
    "#         print means\n",
    "#         labels = ['a'] + labels + ['Z']\n",
    "#         print labels\n",
    "#         confidence = [0] + confidence + [0]\n",
    "#         print confidence\n",
    "        \n",
    "        plt.xlim(-3,6.1)\n",
    "        \n",
    "        ax = plt.gca()\n",
    "        ax.spines['top'].set_visible(False)\n",
    "        ax.spines['right'].set_visible(False)\n",
    "        ax.spines['bottom'].set_visible(False)\n",
    "        ax.spines['left'].set_visible(False)\n",
    "        if i != 1:\n",
    "            ax.get_yaxis().set_ticks([])\n",
    "            \n",
    "        ax.get_xaxis().set_ticks(np.arange(0,7,6)) # mark the tange\n",
    "        ax.get_xaxis().set_ticks(np.arange(3,3.1), minor=True) # mark the center\n",
    "        ax.tick_params(axis=u'both', which=u'both',length=0)\n",
    "\n",
    "        # remove tick marks\n",
    "        if j <= 5*(len(experiments)-1):\n",
    "            from matplotlib.ticker import NullFormatter\n",
    "            ax.xaxis.set_major_formatter(NullFormatter())\n",
    "            ax.xaxis.set_ticks_position('none')\n",
    "\n",
    "\n",
    "        # grid lines for X\n",
    "        plt.grid(True, color='gray', which='major', axis='x', alpha=1)\n",
    "        plt.grid(True, color='gray', which='minor', axis='x', alpha=0.2)\n",
    "        \n",
    "        errorbars = plt.errorbar(means, y_pos, label=labels, xerr=confidence, fmt='o', color='black', capsize=4)\n",
    "       \n",
    "plt.savefig('../PAPER/gfx/figure1_v3.pdf', bbox_inches='tight', pad_inches=0)"
   ]
  },
  {
   "cell_type": "code",
   "execution_count": null,
   "metadata": {
    "collapsed": true
   },
   "outputs": [],
   "source": []
  },
  {
   "cell_type": "code",
   "execution_count": null,
   "metadata": {
    "collapsed": true
   },
   "outputs": [],
   "source": []
  },
  {
   "cell_type": "code",
   "execution_count": null,
   "metadata": {
    "collapsed": true
   },
   "outputs": [],
   "source": []
  },
  {
   "cell_type": "code",
   "execution_count": 246,
   "metadata": {},
   "outputs": [
    {
     "data": {
      "text/plain": [
       "array([ 1.81941062,  1.34074628,  1.01734232])"
      ]
     },
     "execution_count": 246,
     "metadata": {},
     "output_type": "execute_result"
    }
   ],
   "source": [
    "np.mean(all_results['C.Figure1.shading'][3],axis=1)"
   ]
  },
  {
   "cell_type": "code",
   "execution_count": 38,
   "metadata": {
    "collapsed": true
   },
   "outputs": [],
   "source": [
    "EXPERIMENT = 'direction'\n",
    "CLASSIFIER = 'XCEPTION'\n",
    "DATASET = '2'\n",
    "\n",
    "stichproben = []\n",
    "for i in range(1,11):\n",
    "    with open(RESULTS_DIR+'C.Figure1.'+EXPERIMENT+'/'+DATASET+'/'+CLASSIFIER+'/'+str(i).zfill(2)+'_noise.p', 'r') as f:\n",
    "        stichproben.append(pickle.load(f)['MLAE'])\n",
    "# with open(RESULTS_DIR+'C.Figure1.'+EXPERIMENT+'/'+DATASET+'/'+CLASSIFIER+'/02_noise.p', 'r') as f:\n",
    "#     stichproben.append(pickle.load(f)['MLAE'])   \n",
    "# with open(RESULTS_DIR+'C.Figure1.'+EXPERIMENT+'/'+DATASET+'/'+CLASSIFIER+'/03_noise.p', 'r') as f:\n",
    "#     stichproben.append(pickle.load(f)['MLAE'])   \n",
    "# with open(RESULTS_DIR+'C.Figure1.'+EXPERIMENT+'/'+DATASET+'/'+CLASSIFIER+'/04_noise.p', 'r') as f:\n",
    "#     stichproben.append(pickle.load(f)['MLAE'])    "
   ]
  },
  {
   "cell_type": "code",
   "execution_count": 39,
   "metadata": {},
   "outputs": [
    {
     "name": "stdout",
     "output_type": "stream",
     "text": [
      "[-2.8797605502460897, -2.7972641435447474, -2.7025834601384346, -1.6036462761328136, -1.9605394729435424, -2.3332871438308151, -2.4056577395943588, -2.8285062807420593, -2.8670633556635674, -2.5354949126340114]\n",
      "-2.49138033355\n"
     ]
    }
   ],
   "source": [
    "print stichproben\n",
    "print np.mean(stichproben)"
   ]
  },
  {
   "cell_type": "code",
   "execution_count": null,
   "metadata": {
    "collapsed": true
   },
   "outputs": [],
   "source": []
  }
 ],
 "metadata": {
  "kernelspec": {
   "display_name": "Python 2",
   "language": "python",
   "name": "python2"
  },
  "language_info": {
   "codemirror_mode": {
    "name": "ipython",
    "version": 2
   },
   "file_extension": ".py",
   "mimetype": "text/x-python",
   "name": "python",
   "nbconvert_exporter": "python",
   "pygments_lexer": "ipython2",
   "version": "2.7.14"
  }
 },
 "nbformat": 4,
 "nbformat_minor": 2
}
