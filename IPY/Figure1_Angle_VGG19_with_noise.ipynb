{
 "cells": [
  {
   "cell_type": "code",
   "execution_count": 1,
   "metadata": {},
   "outputs": [
    {
     "name": "stdout",
     "output_type": "stream",
     "text": [
      "Populating the interactive namespace from numpy and matplotlib\n"
     ]
    }
   ],
   "source": [
    "%pylab inline\n",
    "%load_ext autoreload\n",
    "%autoreload 2\n",
    "\n",
    "from jupyterthemes import jtplot\n",
    "jtplot.style()"
   ]
  },
  {
   "cell_type": "code",
   "execution_count": 2,
   "metadata": {},
   "outputs": [
    {
     "data": {
      "text/plain": [
       "<module 'ClevelandMcGill' from '../EXP/ClevelandMcGill/__init__.pyc'>"
      ]
     },
     "execution_count": 2,
     "metadata": {},
     "output_type": "execute_result"
    }
   ],
   "source": [
    "import os, sys, time\n",
    "import cPickle as pickle\n",
    "sys.path.append('../EXP/')\n",
    "import ClevelandMcGill as C\n",
    "reload(C)"
   ]
  },
  {
   "cell_type": "code",
   "execution_count": 19,
   "metadata": {},
   "outputs": [],
   "source": [
    "N = 100000\n",
    "images = np.zeros((N,100,100), dtype=np.float32)\n",
    "labels = np.zeros((N), dtype=np.float32)\n",
    "\n",
    "for n in range(N):\n",
    "  \n",
    "  sparse, image, label, parameters = C.Figure1.angle([True, True])\n",
    "  \n",
    "  noise = np.random.random_sample((100,100))\n",
    "  noise[image==0] = 0.\n",
    "  \n",
    "  images[n] = noise\n",
    "  labels[n] = label\n",
    "  "
   ]
  },
  {
   "cell_type": "code",
   "execution_count": 25,
   "metadata": {},
   "outputs": [
    {
     "name": "stdout",
     "output_type": "stream",
     "text": [
      "memory usage 4000.4 MB\n"
     ]
    }
   ],
   "source": [
    "X = images.astype(np.float32) - .5\n",
    "y = (labels-np.min(labels))/(np.max(labels)-np.min(labels))\n",
    "print 'memory usage', (X.nbytes + y.nbytes) / 1000000., 'MB'"
   ]
  },
  {
   "cell_type": "code",
   "execution_count": 26,
   "metadata": {},
   "outputs": [
    {
     "name": "stdout",
     "output_type": "stream",
     "text": [
      "memory usage 12000.4 MB\n"
     ]
    }
   ],
   "source": [
    "X3D = np.stack((X,)*3, -1)\n",
    "print 'memory usage', (X3D.nbytes + y.nbytes) / 1000000., 'MB'"
   ]
  },
  {
   "cell_type": "code",
   "execution_count": 27,
   "metadata": {},
   "outputs": [
    {
     "name": "stderr",
     "output_type": "stream",
     "text": [
      "Using TensorFlow backend.\n"
     ]
    },
    {
     "name": "stdout",
     "output_type": "stream",
     "text": [
      "100000/100000 [==============================] - 277s 3ms/step\n",
      "VGG19 features done after 276.619537115\n"
     ]
    }
   ],
   "source": [
    "import keras.applications\n",
    "\n",
    "VGG19 = keras.applications.VGG19(include_top=False, weights='imagenet', input_shape=(100,100,3))\n",
    "\n",
    "t0 = time.time()\n",
    "features = VGG19.predict(X3D, verbose=True)\n",
    "print 'VGG19 features done after', time.time()-t0"
   ]
  },
  {
   "cell_type": "code",
   "execution_count": 28,
   "metadata": {},
   "outputs": [
    {
     "name": "stdout",
     "output_type": "stream",
     "text": [
      "features shape (100000, 3, 3, 512)\n",
      "memory usage 1843.6 MB\n"
     ]
    }
   ],
   "source": [
    "oshape = features.shape\n",
    "print 'features shape', oshape\n",
    "print 'memory usage', (features.nbytes + y.nbytes) / 1000000., 'MB'"
   ]
  },
  {
   "cell_type": "code",
   "execution_count": 29,
   "metadata": {
    "collapsed": true
   },
   "outputs": [],
   "source": [
    "from keras import models\n",
    "from keras import layers\n",
    "from keras import optimizers\n",
    "import keras.applications\n",
    "from keras import backend as K\n",
    "from keras.utils.np_utils import to_categorical\n",
    "\n",
    "MLP = models.Sequential()\n",
    "\n",
    "MLP.add(layers.Dense(256, activation='relu', input_dim=oshape[1]*oshape[2]*oshape[3]))\n",
    "MLP.add(layers.Dropout(0.5))\n",
    "MLP.add(layers.Dense(1, activation='linear')) # REGRESSION\n",
    "\n",
    "sgd = optimizers.SGD(lr=0.0001, decay=1e-6, momentum=0.9, nesterov=True)\n",
    "MLP.compile(loss='mean_squared_error', optimizer=sgd, metrics=['mse', 'mae']) # MSE for regression"
   ]
  },
  {
   "cell_type": "code",
   "execution_count": 30,
   "metadata": {},
   "outputs": [
    {
     "name": "stdout",
     "output_type": "stream",
     "text": [
      "Train on 45000 samples, validate on 15000 samples\n",
      "Epoch 1/1000\n",
      "45000/45000 [==============================] - 7s 153us/step - loss: 0.0780 - mean_squared_error: 0.0780 - mean_absolute_error: 0.2178 - val_loss: 0.0432 - val_mean_squared_error: 0.0432 - val_mean_absolute_error: 0.1712\n",
      "Epoch 2/1000\n",
      "45000/45000 [==============================] - 7s 147us/step - loss: 0.0482 - mean_squared_error: 0.0482 - mean_absolute_error: 0.1775 - val_loss: 0.0360 - val_mean_squared_error: 0.0360 - val_mean_absolute_error: 0.1537\n",
      "Epoch 3/1000\n",
      "45000/45000 [==============================] - 7s 147us/step - loss: 0.0423 - mean_squared_error: 0.0423 - mean_absolute_error: 0.1649 - val_loss: 0.0320 - val_mean_squared_error: 0.0320 - val_mean_absolute_error: 0.1430\n",
      "Epoch 4/1000\n",
      "45000/45000 [==============================] - 7s 146us/step - loss: 0.0386 - mean_squared_error: 0.0386 - mean_absolute_error: 0.1567 - val_loss: 0.0294 - val_mean_squared_error: 0.0294 - val_mean_absolute_error: 0.1358\n",
      "Epoch 5/1000\n",
      "45000/45000 [==============================] - 7s 146us/step - loss: 0.0361 - mean_squared_error: 0.0361 - mean_absolute_error: 0.1509 - val_loss: 0.0284 - val_mean_squared_error: 0.0284 - val_mean_absolute_error: 0.1330\n",
      "Epoch 6/1000\n",
      "45000/45000 [==============================] - 7s 147us/step - loss: 0.0342 - mean_squared_error: 0.0342 - mean_absolute_error: 0.1467 - val_loss: 0.0269 - val_mean_squared_error: 0.0269 - val_mean_absolute_error: 0.1294\n",
      "Epoch 7/1000\n",
      "45000/45000 [==============================] - 7s 147us/step - loss: 0.0326 - mean_squared_error: 0.0326 - mean_absolute_error: 0.1428 - val_loss: 0.0245 - val_mean_squared_error: 0.0245 - val_mean_absolute_error: 0.1228\n",
      "Epoch 8/1000\n",
      "45000/45000 [==============================] - 7s 146us/step - loss: 0.0311 - mean_squared_error: 0.0311 - mean_absolute_error: 0.1392 - val_loss: 0.0260 - val_mean_squared_error: 0.0260 - val_mean_absolute_error: 0.1270\n",
      "Epoch 9/1000\n",
      "45000/45000 [==============================] - 7s 147us/step - loss: 0.0300 - mean_squared_error: 0.0300 - mean_absolute_error: 0.1370 - val_loss: 0.0227 - val_mean_squared_error: 0.0227 - val_mean_absolute_error: 0.1177\n",
      "Epoch 10/1000\n",
      "45000/45000 [==============================] - 7s 146us/step - loss: 0.0289 - mean_squared_error: 0.0289 - mean_absolute_error: 0.1341 - val_loss: 0.0223 - val_mean_squared_error: 0.0223 - val_mean_absolute_error: 0.1169\n",
      "Epoch 11/1000\n",
      "45000/45000 [==============================] - 7s 147us/step - loss: 0.0282 - mean_squared_error: 0.0282 - mean_absolute_error: 0.1323 - val_loss: 0.0213 - val_mean_squared_error: 0.0213 - val_mean_absolute_error: 0.1143\n",
      "Epoch 12/1000\n",
      "45000/45000 [==============================] - 7s 146us/step - loss: 0.0273 - mean_squared_error: 0.0273 - mean_absolute_error: 0.1299 - val_loss: 0.0202 - val_mean_squared_error: 0.0202 - val_mean_absolute_error: 0.1106\n",
      "Epoch 13/1000\n",
      "45000/45000 [==============================] - 7s 148us/step - loss: 0.0264 - mean_squared_error: 0.0264 - mean_absolute_error: 0.1278 - val_loss: 0.0205 - val_mean_squared_error: 0.0205 - val_mean_absolute_error: 0.1116\n",
      "Epoch 14/1000\n",
      "45000/45000 [==============================] - 7s 147us/step - loss: 0.0257 - mean_squared_error: 0.0257 - mean_absolute_error: 0.1262 - val_loss: 0.0192 - val_mean_squared_error: 0.0192 - val_mean_absolute_error: 0.1078\n",
      "Epoch 15/1000\n",
      "45000/45000 [==============================] - 7s 147us/step - loss: 0.0253 - mean_squared_error: 0.0253 - mean_absolute_error: 0.1252 - val_loss: 0.0191 - val_mean_squared_error: 0.0191 - val_mean_absolute_error: 0.1078\n",
      "Epoch 16/1000\n",
      "45000/45000 [==============================] - 7s 146us/step - loss: 0.0247 - mean_squared_error: 0.0247 - mean_absolute_error: 0.1236 - val_loss: 0.0194 - val_mean_squared_error: 0.0194 - val_mean_absolute_error: 0.1084\n",
      "Epoch 17/1000\n",
      "45000/45000 [==============================] - 7s 146us/step - loss: 0.0240 - mean_squared_error: 0.0240 - mean_absolute_error: 0.1218 - val_loss: 0.0186 - val_mean_squared_error: 0.0186 - val_mean_absolute_error: 0.1062\n",
      "Epoch 18/1000\n",
      "45000/45000 [==============================] - 7s 148us/step - loss: 0.0235 - mean_squared_error: 0.0235 - mean_absolute_error: 0.1203 - val_loss: 0.0179 - val_mean_squared_error: 0.0179 - val_mean_absolute_error: 0.1040\n",
      "Epoch 19/1000\n",
      "45000/45000 [==============================] - 7s 146us/step - loss: 0.0231 - mean_squared_error: 0.0231 - mean_absolute_error: 0.1194 - val_loss: 0.0175 - val_mean_squared_error: 0.0175 - val_mean_absolute_error: 0.1030\n",
      "Epoch 20/1000\n",
      "45000/45000 [==============================] - 7s 147us/step - loss: 0.0227 - mean_squared_error: 0.0227 - mean_absolute_error: 0.1182 - val_loss: 0.0176 - val_mean_squared_error: 0.0176 - val_mean_absolute_error: 0.1032\n",
      "Epoch 21/1000\n",
      "45000/45000 [==============================] - 7s 146us/step - loss: 0.0222 - mean_squared_error: 0.0222 - mean_absolute_error: 0.1170 - val_loss: 0.0168 - val_mean_squared_error: 0.0168 - val_mean_absolute_error: 0.1008\n",
      "Epoch 22/1000\n",
      "45000/45000 [==============================] - 7s 147us/step - loss: 0.0220 - mean_squared_error: 0.0220 - mean_absolute_error: 0.1161 - val_loss: 0.0168 - val_mean_squared_error: 0.0168 - val_mean_absolute_error: 0.1007\n",
      "Epoch 23/1000\n",
      "45000/45000 [==============================] - 7s 148us/step - loss: 0.0217 - mean_squared_error: 0.0217 - mean_absolute_error: 0.1156 - val_loss: 0.0168 - val_mean_squared_error: 0.0168 - val_mean_absolute_error: 0.1010\n",
      "Epoch 24/1000\n",
      "45000/45000 [==============================] - 7s 147us/step - loss: 0.0214 - mean_squared_error: 0.0214 - mean_absolute_error: 0.1148 - val_loss: 0.0158 - val_mean_squared_error: 0.0158 - val_mean_absolute_error: 0.0976\n",
      "Epoch 25/1000\n",
      "45000/45000 [==============================] - 7s 146us/step - loss: 0.0212 - mean_squared_error: 0.0212 - mean_absolute_error: 0.1141 - val_loss: 0.0159 - val_mean_squared_error: 0.0159 - val_mean_absolute_error: 0.0980\n",
      "Epoch 26/1000\n",
      "45000/45000 [==============================] - 7s 147us/step - loss: 0.0207 - mean_squared_error: 0.0207 - mean_absolute_error: 0.1128 - val_loss: 0.0156 - val_mean_squared_error: 0.0156 - val_mean_absolute_error: 0.0968\n",
      "Epoch 27/1000\n",
      "45000/45000 [==============================] - 7s 147us/step - loss: 0.0204 - mean_squared_error: 0.0204 - mean_absolute_error: 0.1118 - val_loss: 0.0154 - val_mean_squared_error: 0.0154 - val_mean_absolute_error: 0.0965\n",
      "Epoch 28/1000\n",
      "45000/45000 [==============================] - 7s 147us/step - loss: 0.0200 - mean_squared_error: 0.0200 - mean_absolute_error: 0.1110 - val_loss: 0.0165 - val_mean_squared_error: 0.0165 - val_mean_absolute_error: 0.1002\n",
      "Epoch 29/1000\n",
      "45000/45000 [==============================] - 7s 147us/step - loss: 0.0200 - mean_squared_error: 0.0200 - mean_absolute_error: 0.1107 - val_loss: 0.0151 - val_mean_squared_error: 0.0151 - val_mean_absolute_error: 0.0953\n",
      "Epoch 30/1000\n",
      "45000/45000 [==============================] - 7s 147us/step - loss: 0.0198 - mean_squared_error: 0.0198 - mean_absolute_error: 0.1098 - val_loss: 0.0150 - val_mean_squared_error: 0.0150 - val_mean_absolute_error: 0.0951\n",
      "Epoch 31/1000\n",
      "45000/45000 [==============================] - 7s 147us/step - loss: 0.0195 - mean_squared_error: 0.0195 - mean_absolute_error: 0.1092 - val_loss: 0.0143 - val_mean_squared_error: 0.0143 - val_mean_absolute_error: 0.0928\n",
      "Epoch 32/1000\n",
      "45000/45000 [==============================] - 7s 147us/step - loss: 0.0193 - mean_squared_error: 0.0193 - mean_absolute_error: 0.1088 - val_loss: 0.0149 - val_mean_squared_error: 0.0149 - val_mean_absolute_error: 0.0950\n",
      "Epoch 33/1000\n",
      "45000/45000 [==============================] - 7s 148us/step - loss: 0.0190 - mean_squared_error: 0.0190 - mean_absolute_error: 0.1078 - val_loss: 0.0143 - val_mean_squared_error: 0.0143 - val_mean_absolute_error: 0.0930\n",
      "Epoch 34/1000\n",
      "45000/45000 [==============================] - 7s 148us/step - loss: 0.0190 - mean_squared_error: 0.0190 - mean_absolute_error: 0.1076 - val_loss: 0.0138 - val_mean_squared_error: 0.0138 - val_mean_absolute_error: 0.0910\n",
      "Epoch 35/1000\n",
      "45000/45000 [==============================] - 7s 147us/step - loss: 0.0187 - mean_squared_error: 0.0187 - mean_absolute_error: 0.1070 - val_loss: 0.0138 - val_mean_squared_error: 0.0138 - val_mean_absolute_error: 0.0910\n"
     ]
    },
    {
     "name": "stdout",
     "output_type": "stream",
     "text": [
      "Epoch 36/1000\n",
      "45000/45000 [==============================] - 7s 147us/step - loss: 0.0185 - mean_squared_error: 0.0185 - mean_absolute_error: 0.1063 - val_loss: 0.0139 - val_mean_squared_error: 0.0139 - val_mean_absolute_error: 0.0912\n",
      "Epoch 37/1000\n",
      "45000/45000 [==============================] - 7s 147us/step - loss: 0.0184 - mean_squared_error: 0.0184 - mean_absolute_error: 0.1060 - val_loss: 0.0137 - val_mean_squared_error: 0.0137 - val_mean_absolute_error: 0.0909\n",
      "Epoch 38/1000\n",
      "45000/45000 [==============================] - 7s 146us/step - loss: 0.0182 - mean_squared_error: 0.0182 - mean_absolute_error: 0.1052 - val_loss: 0.0136 - val_mean_squared_error: 0.0136 - val_mean_absolute_error: 0.0906\n",
      "Epoch 39/1000\n",
      "45000/45000 [==============================] - 7s 147us/step - loss: 0.0179 - mean_squared_error: 0.0179 - mean_absolute_error: 0.1045 - val_loss: 0.0130 - val_mean_squared_error: 0.0130 - val_mean_absolute_error: 0.0884\n",
      "Epoch 40/1000\n",
      "45000/45000 [==============================] - 7s 146us/step - loss: 0.0181 - mean_squared_error: 0.0181 - mean_absolute_error: 0.1052 - val_loss: 0.0134 - val_mean_squared_error: 0.0134 - val_mean_absolute_error: 0.0895\n",
      "Epoch 41/1000\n",
      "45000/45000 [==============================] - 7s 147us/step - loss: 0.0177 - mean_squared_error: 0.0177 - mean_absolute_error: 0.1041 - val_loss: 0.0134 - val_mean_squared_error: 0.0134 - val_mean_absolute_error: 0.0898\n",
      "Epoch 42/1000\n",
      "45000/45000 [==============================] - 7s 147us/step - loss: 0.0175 - mean_squared_error: 0.0175 - mean_absolute_error: 0.1033 - val_loss: 0.0128 - val_mean_squared_error: 0.0128 - val_mean_absolute_error: 0.0876\n",
      "Epoch 43/1000\n",
      "45000/45000 [==============================] - 7s 147us/step - loss: 0.0173 - mean_squared_error: 0.0173 - mean_absolute_error: 0.1027 - val_loss: 0.0134 - val_mean_squared_error: 0.0134 - val_mean_absolute_error: 0.0897\n",
      "Epoch 44/1000\n",
      "45000/45000 [==============================] - 7s 146us/step - loss: 0.0172 - mean_squared_error: 0.0172 - mean_absolute_error: 0.1023 - val_loss: 0.0122 - val_mean_squared_error: 0.0122 - val_mean_absolute_error: 0.0855\n",
      "Epoch 45/1000\n",
      "45000/45000 [==============================] - 7s 147us/step - loss: 0.0172 - mean_squared_error: 0.0172 - mean_absolute_error: 0.1023 - val_loss: 0.0123 - val_mean_squared_error: 0.0123 - val_mean_absolute_error: 0.0857\n",
      "Epoch 46/1000\n",
      "45000/45000 [==============================] - 7s 147us/step - loss: 0.0169 - mean_squared_error: 0.0169 - mean_absolute_error: 0.1017 - val_loss: 0.0122 - val_mean_squared_error: 0.0122 - val_mean_absolute_error: 0.0855\n",
      "Epoch 47/1000\n",
      "45000/45000 [==============================] - 7s 146us/step - loss: 0.0168 - mean_squared_error: 0.0168 - mean_absolute_error: 0.1010 - val_loss: 0.0129 - val_mean_squared_error: 0.0129 - val_mean_absolute_error: 0.0878\n",
      "Epoch 48/1000\n",
      "45000/45000 [==============================] - 7s 147us/step - loss: 0.0166 - mean_squared_error: 0.0166 - mean_absolute_error: 0.1006 - val_loss: 0.0120 - val_mean_squared_error: 0.0120 - val_mean_absolute_error: 0.0849\n",
      "Epoch 49/1000\n",
      "45000/45000 [==============================] - 7s 147us/step - loss: 0.0166 - mean_squared_error: 0.0166 - mean_absolute_error: 0.1005 - val_loss: 0.0133 - val_mean_squared_error: 0.0133 - val_mean_absolute_error: 0.0894\n",
      "Epoch 50/1000\n",
      "45000/45000 [==============================] - 7s 147us/step - loss: 0.0165 - mean_squared_error: 0.0165 - mean_absolute_error: 0.1002 - val_loss: 0.0120 - val_mean_squared_error: 0.0120 - val_mean_absolute_error: 0.0846\n",
      "Epoch 51/1000\n",
      "45000/45000 [==============================] - 7s 146us/step - loss: 0.0162 - mean_squared_error: 0.0162 - mean_absolute_error: 0.0995 - val_loss: 0.0128 - val_mean_squared_error: 0.0128 - val_mean_absolute_error: 0.0876\n",
      "Epoch 52/1000\n",
      "45000/45000 [==============================] - 7s 146us/step - loss: 0.0162 - mean_squared_error: 0.0162 - mean_absolute_error: 0.0993 - val_loss: 0.0116 - val_mean_squared_error: 0.0116 - val_mean_absolute_error: 0.0835\n",
      "Epoch 53/1000\n",
      "45000/45000 [==============================] - 7s 147us/step - loss: 0.0162 - mean_squared_error: 0.0162 - mean_absolute_error: 0.0990 - val_loss: 0.0114 - val_mean_squared_error: 0.0114 - val_mean_absolute_error: 0.0825\n",
      "Epoch 54/1000\n",
      "45000/45000 [==============================] - 7s 147us/step - loss: 0.0159 - mean_squared_error: 0.0159 - mean_absolute_error: 0.0984 - val_loss: 0.0114 - val_mean_squared_error: 0.0114 - val_mean_absolute_error: 0.0826\n",
      "Epoch 55/1000\n",
      "45000/45000 [==============================] - 7s 146us/step - loss: 0.0158 - mean_squared_error: 0.0158 - mean_absolute_error: 0.0982 - val_loss: 0.0113 - val_mean_squared_error: 0.0113 - val_mean_absolute_error: 0.0822\n",
      "Epoch 56/1000\n",
      "45000/45000 [==============================] - 7s 146us/step - loss: 0.0159 - mean_squared_error: 0.0159 - mean_absolute_error: 0.0980 - val_loss: 0.0115 - val_mean_squared_error: 0.0115 - val_mean_absolute_error: 0.0830\n",
      "Epoch 57/1000\n",
      "45000/45000 [==============================] - 7s 146us/step - loss: 0.0156 - mean_squared_error: 0.0156 - mean_absolute_error: 0.0973 - val_loss: 0.0119 - val_mean_squared_error: 0.0119 - val_mean_absolute_error: 0.0847\n",
      "Epoch 58/1000\n",
      "45000/45000 [==============================] - 7s 146us/step - loss: 0.0157 - mean_squared_error: 0.0157 - mean_absolute_error: 0.0977 - val_loss: 0.0115 - val_mean_squared_error: 0.0115 - val_mean_absolute_error: 0.0830\n",
      "Epoch 59/1000\n",
      "45000/45000 [==============================] - 7s 145us/step - loss: 0.0155 - mean_squared_error: 0.0155 - mean_absolute_error: 0.0969 - val_loss: 0.0121 - val_mean_squared_error: 0.0121 - val_mean_absolute_error: 0.0852\n",
      "Epoch 60/1000\n",
      "45000/45000 [==============================] - 7s 146us/step - loss: 0.0155 - mean_squared_error: 0.0155 - mean_absolute_error: 0.0967 - val_loss: 0.0108 - val_mean_squared_error: 0.0108 - val_mean_absolute_error: 0.0804\n",
      "Epoch 61/1000\n",
      "45000/45000 [==============================] - 7s 145us/step - loss: 0.0153 - mean_squared_error: 0.0153 - mean_absolute_error: 0.0961 - val_loss: 0.0108 - val_mean_squared_error: 0.0108 - val_mean_absolute_error: 0.0808\n",
      "Epoch 62/1000\n",
      "45000/45000 [==============================] - 7s 145us/step - loss: 0.0153 - mean_squared_error: 0.0153 - mean_absolute_error: 0.0960 - val_loss: 0.0108 - val_mean_squared_error: 0.0108 - val_mean_absolute_error: 0.0803\n",
      "Epoch 63/1000\n",
      "45000/45000 [==============================] - 7s 146us/step - loss: 0.0153 - mean_squared_error: 0.0153 - mean_absolute_error: 0.0963 - val_loss: 0.0110 - val_mean_squared_error: 0.0110 - val_mean_absolute_error: 0.0808\n",
      "Epoch 64/1000\n",
      "45000/45000 [==============================] - 7s 145us/step - loss: 0.0150 - mean_squared_error: 0.0150 - mean_absolute_error: 0.0956 - val_loss: 0.0109 - val_mean_squared_error: 0.0109 - val_mean_absolute_error: 0.0806\n",
      "Epoch 65/1000\n",
      "45000/45000 [==============================] - 7s 145us/step - loss: 0.0149 - mean_squared_error: 0.0149 - mean_absolute_error: 0.0953 - val_loss: 0.0105 - val_mean_squared_error: 0.0105 - val_mean_absolute_error: 0.0796\n",
      "Epoch 66/1000\n",
      "45000/45000 [==============================] - 7s 146us/step - loss: 0.0150 - mean_squared_error: 0.0150 - mean_absolute_error: 0.0952 - val_loss: 0.0103 - val_mean_squared_error: 0.0103 - val_mean_absolute_error: 0.0787\n",
      "Epoch 67/1000\n",
      "45000/45000 [==============================] - 7s 146us/step - loss: 0.0147 - mean_squared_error: 0.0147 - mean_absolute_error: 0.0943 - val_loss: 0.0103 - val_mean_squared_error: 0.0103 - val_mean_absolute_error: 0.0787\n",
      "Epoch 68/1000\n",
      "45000/45000 [==============================] - 7s 146us/step - loss: 0.0147 - mean_squared_error: 0.0147 - mean_absolute_error: 0.0943 - val_loss: 0.0109 - val_mean_squared_error: 0.0109 - val_mean_absolute_error: 0.0810\n",
      "Epoch 69/1000\n",
      "45000/45000 [==============================] - 7s 145us/step - loss: 0.0147 - mean_squared_error: 0.0147 - mean_absolute_error: 0.0943 - val_loss: 0.0100 - val_mean_squared_error: 0.0100 - val_mean_absolute_error: 0.0774\n",
      "Epoch 70/1000\n",
      "45000/45000 [==============================] - 7s 146us/step - loss: 0.0146 - mean_squared_error: 0.0146 - mean_absolute_error: 0.0942 - val_loss: 0.0103 - val_mean_squared_error: 0.0103 - val_mean_absolute_error: 0.0783\n"
     ]
    },
    {
     "name": "stdout",
     "output_type": "stream",
     "text": [
      "Epoch 71/1000\n",
      "45000/45000 [==============================] - 7s 145us/step - loss: 0.0145 - mean_squared_error: 0.0145 - mean_absolute_error: 0.0937 - val_loss: 0.0104 - val_mean_squared_error: 0.0104 - val_mean_absolute_error: 0.0789\n",
      "Epoch 72/1000\n",
      "45000/45000 [==============================] - 7s 146us/step - loss: 0.0145 - mean_squared_error: 0.0145 - mean_absolute_error: 0.0936 - val_loss: 0.0106 - val_mean_squared_error: 0.0106 - val_mean_absolute_error: 0.0798\n",
      "Epoch 73/1000\n",
      "45000/45000 [==============================] - 7s 147us/step - loss: 0.0144 - mean_squared_error: 0.0144 - mean_absolute_error: 0.0934 - val_loss: 0.0108 - val_mean_squared_error: 0.0108 - val_mean_absolute_error: 0.0806\n",
      "Epoch 74/1000\n",
      "45000/45000 [==============================] - 7s 145us/step - loss: 0.0144 - mean_squared_error: 0.0144 - mean_absolute_error: 0.0932 - val_loss: 0.0099 - val_mean_squared_error: 0.0099 - val_mean_absolute_error: 0.0771\n",
      "Epoch 75/1000\n",
      "45000/45000 [==============================] - 7s 145us/step - loss: 0.0142 - mean_squared_error: 0.0142 - mean_absolute_error: 0.0927 - val_loss: 0.0107 - val_mean_squared_error: 0.0107 - val_mean_absolute_error: 0.0795\n",
      "Epoch 76/1000\n",
      "45000/45000 [==============================] - 7s 145us/step - loss: 0.0142 - mean_squared_error: 0.0142 - mean_absolute_error: 0.0925 - val_loss: 0.0102 - val_mean_squared_error: 0.0102 - val_mean_absolute_error: 0.0777\n",
      "Epoch 77/1000\n",
      "45000/45000 [==============================] - 7s 145us/step - loss: 0.0141 - mean_squared_error: 0.0141 - mean_absolute_error: 0.0924 - val_loss: 0.0097 - val_mean_squared_error: 0.0097 - val_mean_absolute_error: 0.0764\n",
      "Epoch 78/1000\n",
      "45000/45000 [==============================] - 7s 145us/step - loss: 0.0140 - mean_squared_error: 0.0140 - mean_absolute_error: 0.0922 - val_loss: 0.0096 - val_mean_squared_error: 0.0096 - val_mean_absolute_error: 0.0760\n",
      "Epoch 79/1000\n",
      "45000/45000 [==============================] - 7s 146us/step - loss: 0.0141 - mean_squared_error: 0.0141 - mean_absolute_error: 0.0921 - val_loss: 0.0094 - val_mean_squared_error: 0.0094 - val_mean_absolute_error: 0.0749\n",
      "Epoch 80/1000\n",
      "45000/45000 [==============================] - 7s 145us/step - loss: 0.0138 - mean_squared_error: 0.0138 - mean_absolute_error: 0.0914 - val_loss: 0.0095 - val_mean_squared_error: 0.0095 - val_mean_absolute_error: 0.0753\n",
      "Epoch 81/1000\n",
      "45000/45000 [==============================] - 7s 145us/step - loss: 0.0138 - mean_squared_error: 0.0138 - mean_absolute_error: 0.0914 - val_loss: 0.0097 - val_mean_squared_error: 0.0097 - val_mean_absolute_error: 0.0764\n",
      "Epoch 82/1000\n",
      "45000/45000 [==============================] - 7s 145us/step - loss: 0.0138 - mean_squared_error: 0.0138 - mean_absolute_error: 0.0911 - val_loss: 0.0097 - val_mean_squared_error: 0.0097 - val_mean_absolute_error: 0.0762\n",
      "Epoch 83/1000\n",
      "45000/45000 [==============================] - 7s 146us/step - loss: 0.0138 - mean_squared_error: 0.0138 - mean_absolute_error: 0.0913 - val_loss: 0.0094 - val_mean_squared_error: 0.0094 - val_mean_absolute_error: 0.0750\n",
      "Epoch 84/1000\n",
      "45000/45000 [==============================] - 7s 145us/step - loss: 0.0136 - mean_squared_error: 0.0136 - mean_absolute_error: 0.0906 - val_loss: 0.0093 - val_mean_squared_error: 0.0093 - val_mean_absolute_error: 0.0743\n",
      "Epoch 85/1000\n",
      "45000/45000 [==============================] - 7s 146us/step - loss: 0.0137 - mean_squared_error: 0.0137 - mean_absolute_error: 0.0907 - val_loss: 0.0094 - val_mean_squared_error: 0.0094 - val_mean_absolute_error: 0.0745\n",
      "Epoch 86/1000\n",
      "45000/45000 [==============================] - 7s 145us/step - loss: 0.0135 - mean_squared_error: 0.0135 - mean_absolute_error: 0.0903 - val_loss: 0.0093 - val_mean_squared_error: 0.0093 - val_mean_absolute_error: 0.0743\n",
      "Epoch 87/1000\n",
      "45000/45000 [==============================] - 7s 146us/step - loss: 0.0135 - mean_squared_error: 0.0135 - mean_absolute_error: 0.0902 - val_loss: 0.0093 - val_mean_squared_error: 0.0093 - val_mean_absolute_error: 0.0742\n",
      "Epoch 88/1000\n",
      "45000/45000 [==============================] - 7s 145us/step - loss: 0.0134 - mean_squared_error: 0.0134 - mean_absolute_error: 0.0899 - val_loss: 0.0091 - val_mean_squared_error: 0.0091 - val_mean_absolute_error: 0.0737\n",
      "Epoch 89/1000\n",
      "45000/45000 [==============================] - 7s 145us/step - loss: 0.0133 - mean_squared_error: 0.0133 - mean_absolute_error: 0.0897 - val_loss: 0.0089 - val_mean_squared_error: 0.0089 - val_mean_absolute_error: 0.0727\n",
      "Epoch 90/1000\n",
      "45000/45000 [==============================] - 7s 146us/step - loss: 0.0134 - mean_squared_error: 0.0134 - mean_absolute_error: 0.0900 - val_loss: 0.0092 - val_mean_squared_error: 0.0092 - val_mean_absolute_error: 0.0737\n",
      "Epoch 91/1000\n",
      "45000/45000 [==============================] - 7s 145us/step - loss: 0.0134 - mean_squared_error: 0.0134 - mean_absolute_error: 0.0899 - val_loss: 0.0089 - val_mean_squared_error: 0.0089 - val_mean_absolute_error: 0.0726\n",
      "Epoch 92/1000\n",
      "45000/45000 [==============================] - 7s 145us/step - loss: 0.0132 - mean_squared_error: 0.0132 - mean_absolute_error: 0.0895 - val_loss: 0.0091 - val_mean_squared_error: 0.0091 - val_mean_absolute_error: 0.0733\n",
      "Epoch 93/1000\n",
      "45000/45000 [==============================] - 7s 145us/step - loss: 0.0133 - mean_squared_error: 0.0133 - mean_absolute_error: 0.0894 - val_loss: 0.0088 - val_mean_squared_error: 0.0088 - val_mean_absolute_error: 0.0723\n",
      "Epoch 94/1000\n",
      "45000/45000 [==============================] - 7s 146us/step - loss: 0.0132 - mean_squared_error: 0.0132 - mean_absolute_error: 0.0890 - val_loss: 0.0090 - val_mean_squared_error: 0.0090 - val_mean_absolute_error: 0.0737\n",
      "Epoch 95/1000\n",
      "45000/45000 [==============================] - 7s 146us/step - loss: 0.0131 - mean_squared_error: 0.0131 - mean_absolute_error: 0.0888 - val_loss: 0.0088 - val_mean_squared_error: 0.0088 - val_mean_absolute_error: 0.0722\n",
      "Epoch 96/1000\n",
      "45000/45000 [==============================] - 7s 146us/step - loss: 0.0130 - mean_squared_error: 0.0130 - mean_absolute_error: 0.0886 - val_loss: 0.0087 - val_mean_squared_error: 0.0087 - val_mean_absolute_error: 0.0718\n",
      "Epoch 97/1000\n",
      "45000/45000 [==============================] - 7s 146us/step - loss: 0.0129 - mean_squared_error: 0.0129 - mean_absolute_error: 0.0884 - val_loss: 0.0093 - val_mean_squared_error: 0.0093 - val_mean_absolute_error: 0.0742\n",
      "Epoch 98/1000\n",
      "45000/45000 [==============================] - 7s 147us/step - loss: 0.0129 - mean_squared_error: 0.0129 - mean_absolute_error: 0.0881 - val_loss: 0.0092 - val_mean_squared_error: 0.0092 - val_mean_absolute_error: 0.0746\n",
      "Epoch 99/1000\n",
      "45000/45000 [==============================] - 7s 145us/step - loss: 0.0128 - mean_squared_error: 0.0128 - mean_absolute_error: 0.0880 - val_loss: 0.0093 - val_mean_squared_error: 0.0093 - val_mean_absolute_error: 0.0752\n",
      "Epoch 100/1000\n",
      "45000/45000 [==============================] - 7s 145us/step - loss: 0.0129 - mean_squared_error: 0.0129 - mean_absolute_error: 0.0880 - val_loss: 0.0088 - val_mean_squared_error: 0.0088 - val_mean_absolute_error: 0.0725\n",
      "Epoch 101/1000\n",
      "45000/45000 [==============================] - 7s 146us/step - loss: 0.0128 - mean_squared_error: 0.0128 - mean_absolute_error: 0.0880 - val_loss: 0.0086 - val_mean_squared_error: 0.0086 - val_mean_absolute_error: 0.0714\n",
      "Epoch 102/1000\n",
      "45000/45000 [==============================] - 7s 146us/step - loss: 0.0127 - mean_squared_error: 0.0127 - mean_absolute_error: 0.0878 - val_loss: 0.0092 - val_mean_squared_error: 0.0092 - val_mean_absolute_error: 0.0738\n",
      "Epoch 103/1000\n",
      "45000/45000 [==============================] - 7s 147us/step - loss: 0.0127 - mean_squared_error: 0.0127 - mean_absolute_error: 0.0875 - val_loss: 0.0091 - val_mean_squared_error: 0.0091 - val_mean_absolute_error: 0.0727\n",
      "Epoch 104/1000\n",
      "45000/45000 [==============================] - 7s 146us/step - loss: 0.0127 - mean_squared_error: 0.0127 - mean_absolute_error: 0.0875 - val_loss: 0.0087 - val_mean_squared_error: 0.0087 - val_mean_absolute_error: 0.0721\n",
      "Epoch 105/1000\n",
      "45000/45000 [==============================] - 7s 147us/step - loss: 0.0127 - mean_squared_error: 0.0127 - mean_absolute_error: 0.0875 - val_loss: 0.0084 - val_mean_squared_error: 0.0084 - val_mean_absolute_error: 0.0704\n"
     ]
    },
    {
     "name": "stdout",
     "output_type": "stream",
     "text": [
      "Epoch 106/1000\n",
      "45000/45000 [==============================] - 7s 147us/step - loss: 0.0127 - mean_squared_error: 0.0127 - mean_absolute_error: 0.0872 - val_loss: 0.0086 - val_mean_squared_error: 0.0086 - val_mean_absolute_error: 0.0711\n",
      "Epoch 107/1000\n",
      "45000/45000 [==============================] - 7s 147us/step - loss: 0.0126 - mean_squared_error: 0.0126 - mean_absolute_error: 0.0873 - val_loss: 0.0085 - val_mean_squared_error: 0.0085 - val_mean_absolute_error: 0.0705\n",
      "Epoch 108/1000\n",
      "45000/45000 [==============================] - 7s 145us/step - loss: 0.0125 - mean_squared_error: 0.0125 - mean_absolute_error: 0.0870 - val_loss: 0.0087 - val_mean_squared_error: 0.0087 - val_mean_absolute_error: 0.0726\n",
      "Epoch 109/1000\n",
      "45000/45000 [==============================] - 7s 146us/step - loss: 0.0126 - mean_squared_error: 0.0126 - mean_absolute_error: 0.0870 - val_loss: 0.0083 - val_mean_squared_error: 0.0083 - val_mean_absolute_error: 0.0701\n",
      "Epoch 110/1000\n",
      "45000/45000 [==============================] - 7s 147us/step - loss: 0.0126 - mean_squared_error: 0.0126 - mean_absolute_error: 0.0871 - val_loss: 0.0090 - val_mean_squared_error: 0.0090 - val_mean_absolute_error: 0.0738\n",
      "Epoch 111/1000\n",
      "45000/45000 [==============================] - 7s 145us/step - loss: 0.0123 - mean_squared_error: 0.0123 - mean_absolute_error: 0.0862 - val_loss: 0.0084 - val_mean_squared_error: 0.0084 - val_mean_absolute_error: 0.0714\n",
      "Epoch 112/1000\n",
      "45000/45000 [==============================] - 7s 148us/step - loss: 0.0123 - mean_squared_error: 0.0123 - mean_absolute_error: 0.0862 - val_loss: 0.0083 - val_mean_squared_error: 0.0083 - val_mean_absolute_error: 0.0702\n",
      "Epoch 113/1000\n",
      "45000/45000 [==============================] - 7s 145us/step - loss: 0.0123 - mean_squared_error: 0.0123 - mean_absolute_error: 0.0861 - val_loss: 0.0084 - val_mean_squared_error: 0.0084 - val_mean_absolute_error: 0.0703\n",
      "Epoch 114/1000\n",
      "45000/45000 [==============================] - 7s 146us/step - loss: 0.0122 - mean_squared_error: 0.0122 - mean_absolute_error: 0.0854 - val_loss: 0.0084 - val_mean_squared_error: 0.0084 - val_mean_absolute_error: 0.0708\n",
      "Epoch 115/1000\n",
      "45000/45000 [==============================] - 7s 146us/step - loss: 0.0122 - mean_squared_error: 0.0122 - mean_absolute_error: 0.0859 - val_loss: 0.0083 - val_mean_squared_error: 0.0083 - val_mean_absolute_error: 0.0695\n",
      "Epoch 116/1000\n",
      "45000/45000 [==============================] - 7s 145us/step - loss: 0.0122 - mean_squared_error: 0.0122 - mean_absolute_error: 0.0856 - val_loss: 0.0082 - val_mean_squared_error: 0.0082 - val_mean_absolute_error: 0.0694\n",
      "Epoch 117/1000\n",
      "45000/45000 [==============================] - 7s 145us/step - loss: 0.0123 - mean_squared_error: 0.0123 - mean_absolute_error: 0.0858 - val_loss: 0.0079 - val_mean_squared_error: 0.0079 - val_mean_absolute_error: 0.0684\n",
      "Epoch 118/1000\n",
      "45000/45000 [==============================] - 7s 145us/step - loss: 0.0121 - mean_squared_error: 0.0121 - mean_absolute_error: 0.0853 - val_loss: 0.0086 - val_mean_squared_error: 0.0086 - val_mean_absolute_error: 0.0722\n",
      "Epoch 119/1000\n",
      "45000/45000 [==============================] - 7s 145us/step - loss: 0.0120 - mean_squared_error: 0.0120 - mean_absolute_error: 0.0850 - val_loss: 0.0079 - val_mean_squared_error: 0.0079 - val_mean_absolute_error: 0.0687\n",
      "Epoch 120/1000\n",
      "45000/45000 [==============================] - 7s 146us/step - loss: 0.0120 - mean_squared_error: 0.0120 - mean_absolute_error: 0.0848 - val_loss: 0.0084 - val_mean_squared_error: 0.0084 - val_mean_absolute_error: 0.0707\n",
      "Epoch 121/1000\n",
      "45000/45000 [==============================] - 7s 146us/step - loss: 0.0121 - mean_squared_error: 0.0121 - mean_absolute_error: 0.0852 - val_loss: 0.0078 - val_mean_squared_error: 0.0078 - val_mean_absolute_error: 0.0677\n",
      "Epoch 122/1000\n",
      "45000/45000 [==============================] - 7s 147us/step - loss: 0.0119 - mean_squared_error: 0.0119 - mean_absolute_error: 0.0847 - val_loss: 0.0080 - val_mean_squared_error: 0.0080 - val_mean_absolute_error: 0.0691\n",
      "Epoch 123/1000\n",
      "45000/45000 [==============================] - 7s 146us/step - loss: 0.0119 - mean_squared_error: 0.0119 - mean_absolute_error: 0.0846 - val_loss: 0.0080 - val_mean_squared_error: 0.0080 - val_mean_absolute_error: 0.0694\n",
      "Epoch 124/1000\n",
      "45000/45000 [==============================] - 7s 145us/step - loss: 0.0120 - mean_squared_error: 0.0120 - mean_absolute_error: 0.0849 - val_loss: 0.0082 - val_mean_squared_error: 0.0082 - val_mean_absolute_error: 0.0696\n",
      "Epoch 125/1000\n",
      "45000/45000 [==============================] - 7s 145us/step - loss: 0.0119 - mean_squared_error: 0.0119 - mean_absolute_error: 0.0845 - val_loss: 0.0077 - val_mean_squared_error: 0.0077 - val_mean_absolute_error: 0.0674\n",
      "Epoch 126/1000\n",
      "45000/45000 [==============================] - 7s 145us/step - loss: 0.0119 - mean_squared_error: 0.0119 - mean_absolute_error: 0.0846 - val_loss: 0.0086 - val_mean_squared_error: 0.0086 - val_mean_absolute_error: 0.0707\n",
      "Epoch 127/1000\n",
      "45000/45000 [==============================] - 7s 146us/step - loss: 0.0119 - mean_squared_error: 0.0119 - mean_absolute_error: 0.0845 - val_loss: 0.0078 - val_mean_squared_error: 0.0078 - val_mean_absolute_error: 0.0680\n",
      "Epoch 128/1000\n",
      "45000/45000 [==============================] - 7s 146us/step - loss: 0.0118 - mean_squared_error: 0.0118 - mean_absolute_error: 0.0841 - val_loss: 0.0081 - val_mean_squared_error: 0.0081 - val_mean_absolute_error: 0.0691\n",
      "Epoch 129/1000\n",
      "45000/45000 [==============================] - 7s 146us/step - loss: 0.0119 - mean_squared_error: 0.0119 - mean_absolute_error: 0.0843 - val_loss: 0.0076 - val_mean_squared_error: 0.0076 - val_mean_absolute_error: 0.0670\n",
      "Epoch 130/1000\n",
      "45000/45000 [==============================] - 7s 146us/step - loss: 0.0116 - mean_squared_error: 0.0116 - mean_absolute_error: 0.0836 - val_loss: 0.0078 - val_mean_squared_error: 0.0078 - val_mean_absolute_error: 0.0676\n",
      "Epoch 131/1000\n",
      "45000/45000 [==============================] - 7s 146us/step - loss: 0.0118 - mean_squared_error: 0.0118 - mean_absolute_error: 0.0839 - val_loss: 0.0078 - val_mean_squared_error: 0.0078 - val_mean_absolute_error: 0.0682\n",
      "Epoch 132/1000\n",
      "45000/45000 [==============================] - 7s 145us/step - loss: 0.0117 - mean_squared_error: 0.0117 - mean_absolute_error: 0.0838 - val_loss: 0.0078 - val_mean_squared_error: 0.0078 - val_mean_absolute_error: 0.0679\n",
      "Epoch 133/1000\n",
      "45000/45000 [==============================] - 7s 145us/step - loss: 0.0116 - mean_squared_error: 0.0116 - mean_absolute_error: 0.0834 - val_loss: 0.0081 - val_mean_squared_error: 0.0081 - val_mean_absolute_error: 0.0696\n",
      "Epoch 134/1000\n",
      "45000/45000 [==============================] - 7s 147us/step - loss: 0.0116 - mean_squared_error: 0.0116 - mean_absolute_error: 0.0836 - val_loss: 0.0076 - val_mean_squared_error: 0.0076 - val_mean_absolute_error: 0.0669\n",
      "Epoch 135/1000\n",
      "45000/45000 [==============================] - 7s 146us/step - loss: 0.0115 - mean_squared_error: 0.0115 - mean_absolute_error: 0.0830 - val_loss: 0.0077 - val_mean_squared_error: 0.0077 - val_mean_absolute_error: 0.0673\n",
      "Epoch 136/1000\n",
      "45000/45000 [==============================] - 7s 146us/step - loss: 0.0115 - mean_squared_error: 0.0115 - mean_absolute_error: 0.0832 - val_loss: 0.0080 - val_mean_squared_error: 0.0080 - val_mean_absolute_error: 0.0697\n",
      "Epoch 137/1000\n",
      "45000/45000 [==============================] - 7s 145us/step - loss: 0.0116 - mean_squared_error: 0.0116 - mean_absolute_error: 0.0832 - val_loss: 0.0079 - val_mean_squared_error: 0.0079 - val_mean_absolute_error: 0.0686\n",
      "Epoch 138/1000\n",
      "45000/45000 [==============================] - 7s 146us/step - loss: 0.0115 - mean_squared_error: 0.0115 - mean_absolute_error: 0.0830 - val_loss: 0.0080 - val_mean_squared_error: 0.0080 - val_mean_absolute_error: 0.0689\n",
      "Epoch 139/1000\n",
      "45000/45000 [==============================] - 7s 145us/step - loss: 0.0115 - mean_squared_error: 0.0115 - mean_absolute_error: 0.0829 - val_loss: 0.0075 - val_mean_squared_error: 0.0075 - val_mean_absolute_error: 0.0664\n",
      "Epoch 140/1000\n",
      "45000/45000 [==============================] - 7s 145us/step - loss: 0.0114 - mean_squared_error: 0.0114 - mean_absolute_error: 0.0827 - val_loss: 0.0075 - val_mean_squared_error: 0.0075 - val_mean_absolute_error: 0.0671\n"
     ]
    },
    {
     "name": "stdout",
     "output_type": "stream",
     "text": [
      "Epoch 141/1000\n",
      "45000/45000 [==============================] - 7s 146us/step - loss: 0.0114 - mean_squared_error: 0.0114 - mean_absolute_error: 0.0828 - val_loss: 0.0075 - val_mean_squared_error: 0.0075 - val_mean_absolute_error: 0.0668\n",
      "Epoch 142/1000\n",
      "45000/45000 [==============================] - 7s 146us/step - loss: 0.0115 - mean_squared_error: 0.0115 - mean_absolute_error: 0.0830 - val_loss: 0.0079 - val_mean_squared_error: 0.0079 - val_mean_absolute_error: 0.0691\n",
      "Epoch 143/1000\n",
      "45000/45000 [==============================] - 7s 145us/step - loss: 0.0115 - mean_squared_error: 0.0115 - mean_absolute_error: 0.0829 - val_loss: 0.0082 - val_mean_squared_error: 0.0082 - val_mean_absolute_error: 0.0692\n",
      "Epoch 144/1000\n",
      "45000/45000 [==============================] - 7s 145us/step - loss: 0.0114 - mean_squared_error: 0.0114 - mean_absolute_error: 0.0827 - val_loss: 0.0073 - val_mean_squared_error: 0.0073 - val_mean_absolute_error: 0.0655\n",
      "Epoch 145/1000\n",
      "45000/45000 [==============================] - 6s 144us/step - loss: 0.0113 - mean_squared_error: 0.0113 - mean_absolute_error: 0.0823 - val_loss: 0.0073 - val_mean_squared_error: 0.0073 - val_mean_absolute_error: 0.0659\n",
      "Epoch 146/1000\n",
      "45000/45000 [==============================] - 7s 146us/step - loss: 0.0113 - mean_squared_error: 0.0113 - mean_absolute_error: 0.0825 - val_loss: 0.0077 - val_mean_squared_error: 0.0077 - val_mean_absolute_error: 0.0677\n",
      "Epoch 147/1000\n",
      "45000/45000 [==============================] - 7s 146us/step - loss: 0.0113 - mean_squared_error: 0.0113 - mean_absolute_error: 0.0825 - val_loss: 0.0077 - val_mean_squared_error: 0.0077 - val_mean_absolute_error: 0.0682\n",
      "Epoch 148/1000\n",
      "45000/45000 [==============================] - 7s 147us/step - loss: 0.0114 - mean_squared_error: 0.0114 - mean_absolute_error: 0.0827 - val_loss: 0.0070 - val_mean_squared_error: 0.0070 - val_mean_absolute_error: 0.0646\n",
      "Epoch 149/1000\n",
      "45000/45000 [==============================] - 6s 144us/step - loss: 0.0113 - mean_squared_error: 0.0113 - mean_absolute_error: 0.0825 - val_loss: 0.0072 - val_mean_squared_error: 0.0072 - val_mean_absolute_error: 0.0653\n",
      "Epoch 150/1000\n",
      "45000/45000 [==============================] - 7s 145us/step - loss: 0.0113 - mean_squared_error: 0.0113 - mean_absolute_error: 0.0825 - val_loss: 0.0074 - val_mean_squared_error: 0.0074 - val_mean_absolute_error: 0.0661\n",
      "Epoch 151/1000\n",
      "45000/45000 [==============================] - 7s 146us/step - loss: 0.0113 - mean_squared_error: 0.0113 - mean_absolute_error: 0.0821 - val_loss: 0.0072 - val_mean_squared_error: 0.0072 - val_mean_absolute_error: 0.0653\n",
      "Epoch 152/1000\n",
      "45000/45000 [==============================] - 7s 145us/step - loss: 0.0112 - mean_squared_error: 0.0112 - mean_absolute_error: 0.0820 - val_loss: 0.0072 - val_mean_squared_error: 0.0072 - val_mean_absolute_error: 0.0656\n",
      "Epoch 153/1000\n",
      "45000/45000 [==============================] - 7s 146us/step - loss: 0.0111 - mean_squared_error: 0.0111 - mean_absolute_error: 0.0817 - val_loss: 0.0070 - val_mean_squared_error: 0.0070 - val_mean_absolute_error: 0.0644\n",
      "Epoch 154/1000\n",
      "45000/45000 [==============================] - 7s 145us/step - loss: 0.0110 - mean_squared_error: 0.0110 - mean_absolute_error: 0.0813 - val_loss: 0.0070 - val_mean_squared_error: 0.0070 - val_mean_absolute_error: 0.0646\n",
      "Epoch 155/1000\n",
      "45000/45000 [==============================] - 7s 145us/step - loss: 0.0111 - mean_squared_error: 0.0111 - mean_absolute_error: 0.0815 - val_loss: 0.0074 - val_mean_squared_error: 0.0074 - val_mean_absolute_error: 0.0666\n",
      "Epoch 156/1000\n",
      "45000/45000 [==============================] - 7s 145us/step - loss: 0.0111 - mean_squared_error: 0.0111 - mean_absolute_error: 0.0815 - val_loss: 0.0070 - val_mean_squared_error: 0.0070 - val_mean_absolute_error: 0.0644\n",
      "Epoch 157/1000\n",
      "45000/45000 [==============================] - 7s 145us/step - loss: 0.0110 - mean_squared_error: 0.0110 - mean_absolute_error: 0.0816 - val_loss: 0.0076 - val_mean_squared_error: 0.0076 - val_mean_absolute_error: 0.0667\n",
      "Epoch 158/1000\n",
      "45000/45000 [==============================] - 7s 145us/step - loss: 0.0111 - mean_squared_error: 0.0111 - mean_absolute_error: 0.0817 - val_loss: 0.0074 - val_mean_squared_error: 0.0074 - val_mean_absolute_error: 0.0655\n",
      "Epoch 159/1000\n",
      "45000/45000 [==============================] - 7s 146us/step - loss: 0.0112 - mean_squared_error: 0.0112 - mean_absolute_error: 0.0820 - val_loss: 0.0070 - val_mean_squared_error: 0.0070 - val_mean_absolute_error: 0.0644\n",
      "Epoch 160/1000\n",
      "45000/45000 [==============================] - 7s 145us/step - loss: 0.0110 - mean_squared_error: 0.0110 - mean_absolute_error: 0.0814 - val_loss: 0.0074 - val_mean_squared_error: 0.0074 - val_mean_absolute_error: 0.0658\n",
      "Epoch 161/1000\n",
      "45000/45000 [==============================] - 7s 145us/step - loss: 0.0109 - mean_squared_error: 0.0109 - mean_absolute_error: 0.0807 - val_loss: 0.0071 - val_mean_squared_error: 0.0071 - val_mean_absolute_error: 0.0654\n",
      "Epoch 162/1000\n",
      "45000/45000 [==============================] - 7s 145us/step - loss: 0.0109 - mean_squared_error: 0.0109 - mean_absolute_error: 0.0811 - val_loss: 0.0073 - val_mean_squared_error: 0.0073 - val_mean_absolute_error: 0.0661\n",
      "Epoch 163/1000\n",
      "45000/45000 [==============================] - 7s 146us/step - loss: 0.0110 - mean_squared_error: 0.0110 - mean_absolute_error: 0.0811 - val_loss: 0.0073 - val_mean_squared_error: 0.0073 - val_mean_absolute_error: 0.0664\n",
      "Epoch 164/1000\n",
      "45000/45000 [==============================] - 6s 144us/step - loss: 0.0109 - mean_squared_error: 0.0109 - mean_absolute_error: 0.0809 - val_loss: 0.0074 - val_mean_squared_error: 0.0074 - val_mean_absolute_error: 0.0658\n",
      "Epoch 165/1000\n",
      "45000/45000 [==============================] - 7s 146us/step - loss: 0.0109 - mean_squared_error: 0.0109 - mean_absolute_error: 0.0809 - val_loss: 0.0075 - val_mean_squared_error: 0.0075 - val_mean_absolute_error: 0.0673\n",
      "Epoch 166/1000\n",
      "45000/45000 [==============================] - 7s 145us/step - loss: 0.0109 - mean_squared_error: 0.0109 - mean_absolute_error: 0.0808 - val_loss: 0.0067 - val_mean_squared_error: 0.0067 - val_mean_absolute_error: 0.0630\n",
      "Epoch 167/1000\n",
      "45000/45000 [==============================] - 7s 145us/step - loss: 0.0108 - mean_squared_error: 0.0108 - mean_absolute_error: 0.0808 - val_loss: 0.0073 - val_mean_squared_error: 0.0073 - val_mean_absolute_error: 0.0659\n",
      "Epoch 168/1000\n",
      "45000/45000 [==============================] - 7s 145us/step - loss: 0.0109 - mean_squared_error: 0.0109 - mean_absolute_error: 0.0807 - val_loss: 0.0070 - val_mean_squared_error: 0.0070 - val_mean_absolute_error: 0.0643\n",
      "Epoch 169/1000\n",
      "45000/45000 [==============================] - 7s 146us/step - loss: 0.0109 - mean_squared_error: 0.0109 - mean_absolute_error: 0.0808 - val_loss: 0.0073 - val_mean_squared_error: 0.0073 - val_mean_absolute_error: 0.0656\n",
      "Epoch 170/1000\n",
      "45000/45000 [==============================] - 7s 145us/step - loss: 0.0108 - mean_squared_error: 0.0108 - mean_absolute_error: 0.0804 - val_loss: 0.0069 - val_mean_squared_error: 0.0069 - val_mean_absolute_error: 0.0644\n",
      "Epoch 171/1000\n",
      "45000/45000 [==============================] - 7s 146us/step - loss: 0.0108 - mean_squared_error: 0.0108 - mean_absolute_error: 0.0805 - val_loss: 0.0066 - val_mean_squared_error: 0.0066 - val_mean_absolute_error: 0.0625\n",
      "Epoch 172/1000\n",
      "45000/45000 [==============================] - 6s 144us/step - loss: 0.0108 - mean_squared_error: 0.0108 - mean_absolute_error: 0.0806 - val_loss: 0.0072 - val_mean_squared_error: 0.0072 - val_mean_absolute_error: 0.0657\n",
      "Epoch 173/1000\n",
      "45000/45000 [==============================] - 6s 144us/step - loss: 0.0107 - mean_squared_error: 0.0107 - mean_absolute_error: 0.0801 - val_loss: 0.0069 - val_mean_squared_error: 0.0069 - val_mean_absolute_error: 0.0642\n",
      "Epoch 174/1000\n",
      "45000/45000 [==============================] - 6s 144us/step - loss: 0.0107 - mean_squared_error: 0.0107 - mean_absolute_error: 0.0801 - val_loss: 0.0068 - val_mean_squared_error: 0.0068 - val_mean_absolute_error: 0.0628\n",
      "Epoch 175/1000\n",
      "45000/45000 [==============================] - 7s 145us/step - loss: 0.0107 - mean_squared_error: 0.0107 - mean_absolute_error: 0.0801 - val_loss: 0.0069 - val_mean_squared_error: 0.0069 - val_mean_absolute_error: 0.0639\n"
     ]
    },
    {
     "name": "stdout",
     "output_type": "stream",
     "text": [
      "Epoch 176/1000\n",
      "45000/45000 [==============================] - 7s 145us/step - loss: 0.0107 - mean_squared_error: 0.0107 - mean_absolute_error: 0.0800 - val_loss: 0.0067 - val_mean_squared_error: 0.0067 - val_mean_absolute_error: 0.0627\n",
      "Epoch 177/1000\n",
      "45000/45000 [==============================] - 7s 145us/step - loss: 0.0108 - mean_squared_error: 0.0108 - mean_absolute_error: 0.0803 - val_loss: 0.0068 - val_mean_squared_error: 0.0068 - val_mean_absolute_error: 0.0632\n",
      "Epoch 178/1000\n",
      "45000/45000 [==============================] - 7s 145us/step - loss: 0.0105 - mean_squared_error: 0.0105 - mean_absolute_error: 0.0794 - val_loss: 0.0067 - val_mean_squared_error: 0.0067 - val_mean_absolute_error: 0.0628\n",
      "Epoch 179/1000\n",
      "45000/45000 [==============================] - 6s 144us/step - loss: 0.0107 - mean_squared_error: 0.0107 - mean_absolute_error: 0.0800 - val_loss: 0.0068 - val_mean_squared_error: 0.0068 - val_mean_absolute_error: 0.0638\n",
      "Epoch 180/1000\n",
      "45000/45000 [==============================] - 7s 145us/step - loss: 0.0106 - mean_squared_error: 0.0106 - mean_absolute_error: 0.0796 - val_loss: 0.0066 - val_mean_squared_error: 0.0066 - val_mean_absolute_error: 0.0624\n",
      "Epoch 181/1000\n",
      "45000/45000 [==============================] - 7s 145us/step - loss: 0.0105 - mean_squared_error: 0.0105 - mean_absolute_error: 0.0791 - val_loss: 0.0066 - val_mean_squared_error: 0.0066 - val_mean_absolute_error: 0.0622\n",
      "Epoch 182/1000\n",
      "45000/45000 [==============================] - 7s 144us/step - loss: 0.0105 - mean_squared_error: 0.0105 - mean_absolute_error: 0.0793 - val_loss: 0.0073 - val_mean_squared_error: 0.0073 - val_mean_absolute_error: 0.0663\n",
      "Epoch 183/1000\n",
      "45000/45000 [==============================] - 7s 145us/step - loss: 0.0105 - mean_squared_error: 0.0105 - mean_absolute_error: 0.0793 - val_loss: 0.0065 - val_mean_squared_error: 0.0065 - val_mean_absolute_error: 0.0618\n",
      "Epoch 184/1000\n",
      "45000/45000 [==============================] - 6s 144us/step - loss: 0.0104 - mean_squared_error: 0.0104 - mean_absolute_error: 0.0790 - val_loss: 0.0065 - val_mean_squared_error: 0.0065 - val_mean_absolute_error: 0.0620\n",
      "Epoch 185/1000\n",
      "45000/45000 [==============================] - 6s 143us/step - loss: 0.0105 - mean_squared_error: 0.0105 - mean_absolute_error: 0.0794 - val_loss: 0.0065 - val_mean_squared_error: 0.0065 - val_mean_absolute_error: 0.0624\n",
      "Epoch 186/1000\n",
      "45000/45000 [==============================] - 6s 144us/step - loss: 0.0105 - mean_squared_error: 0.0105 - mean_absolute_error: 0.0792 - val_loss: 0.0066 - val_mean_squared_error: 0.0066 - val_mean_absolute_error: 0.0623\n",
      "Epoch 187/1000\n",
      "45000/45000 [==============================] - 6s 144us/step - loss: 0.0105 - mean_squared_error: 0.0105 - mean_absolute_error: 0.0794 - val_loss: 0.0067 - val_mean_squared_error: 0.0067 - val_mean_absolute_error: 0.0631\n",
      "Epoch 188/1000\n",
      "45000/45000 [==============================] - 6s 144us/step - loss: 0.0105 - mean_squared_error: 0.0105 - mean_absolute_error: 0.0794 - val_loss: 0.0068 - val_mean_squared_error: 0.0068 - val_mean_absolute_error: 0.0639\n",
      "Epoch 189/1000\n",
      "45000/45000 [==============================] - 6s 143us/step - loss: 0.0105 - mean_squared_error: 0.0105 - mean_absolute_error: 0.0796 - val_loss: 0.0065 - val_mean_squared_error: 0.0065 - val_mean_absolute_error: 0.0617\n",
      "Epoch 190/1000\n",
      "45000/45000 [==============================] - 6s 144us/step - loss: 0.0104 - mean_squared_error: 0.0104 - mean_absolute_error: 0.0790 - val_loss: 0.0069 - val_mean_squared_error: 0.0069 - val_mean_absolute_error: 0.0641\n",
      "Epoch 191/1000\n",
      "45000/45000 [==============================] - 6s 144us/step - loss: 0.0104 - mean_squared_error: 0.0104 - mean_absolute_error: 0.0791 - val_loss: 0.0065 - val_mean_squared_error: 0.0065 - val_mean_absolute_error: 0.0621\n",
      "Epoch 192/1000\n",
      "45000/45000 [==============================] - 6s 143us/step - loss: 0.0104 - mean_squared_error: 0.0104 - mean_absolute_error: 0.0789 - val_loss: 0.0067 - val_mean_squared_error: 0.0067 - val_mean_absolute_error: 0.0625\n",
      "Epoch 193/1000\n",
      "45000/45000 [==============================] - 7s 145us/step - loss: 0.0104 - mean_squared_error: 0.0104 - mean_absolute_error: 0.0789 - val_loss: 0.0067 - val_mean_squared_error: 0.0067 - val_mean_absolute_error: 0.0628\n",
      "Epoch 194/1000\n",
      "45000/45000 [==============================] - 6s 144us/step - loss: 0.0105 - mean_squared_error: 0.0105 - mean_absolute_error: 0.0791 - val_loss: 0.0067 - val_mean_squared_error: 0.0067 - val_mean_absolute_error: 0.0629\n",
      "Epoch 195/1000\n",
      "45000/45000 [==============================] - 7s 145us/step - loss: 0.0105 - mean_squared_error: 0.0105 - mean_absolute_error: 0.0792 - val_loss: 0.0067 - val_mean_squared_error: 0.0067 - val_mean_absolute_error: 0.0623\n",
      "Epoch 196/1000\n",
      "45000/45000 [==============================] - 6s 144us/step - loss: 0.0104 - mean_squared_error: 0.0104 - mean_absolute_error: 0.0786 - val_loss: 0.0064 - val_mean_squared_error: 0.0064 - val_mean_absolute_error: 0.0615\n",
      "Epoch 197/1000\n",
      "45000/45000 [==============================] - 7s 145us/step - loss: 0.0104 - mean_squared_error: 0.0104 - mean_absolute_error: 0.0789 - val_loss: 0.0064 - val_mean_squared_error: 0.0064 - val_mean_absolute_error: 0.0613\n",
      "Epoch 198/1000\n",
      "45000/45000 [==============================] - 6s 144us/step - loss: 0.0102 - mean_squared_error: 0.0102 - mean_absolute_error: 0.0781 - val_loss: 0.0064 - val_mean_squared_error: 0.0064 - val_mean_absolute_error: 0.0614\n",
      "Epoch 199/1000\n",
      "45000/45000 [==============================] - 6s 144us/step - loss: 0.0102 - mean_squared_error: 0.0102 - mean_absolute_error: 0.0783 - val_loss: 0.0066 - val_mean_squared_error: 0.0066 - val_mean_absolute_error: 0.0625\n",
      "Epoch 200/1000\n",
      "45000/45000 [==============================] - 6s 143us/step - loss: 0.0103 - mean_squared_error: 0.0103 - mean_absolute_error: 0.0785 - val_loss: 0.0064 - val_mean_squared_error: 0.0064 - val_mean_absolute_error: 0.0610\n",
      "Epoch 201/1000\n",
      "45000/45000 [==============================] - 6s 144us/step - loss: 0.0105 - mean_squared_error: 0.0105 - mean_absolute_error: 0.0792 - val_loss: 0.0068 - val_mean_squared_error: 0.0068 - val_mean_absolute_error: 0.0638\n",
      "Epoch 202/1000\n",
      "45000/45000 [==============================] - 7s 145us/step - loss: 0.0102 - mean_squared_error: 0.0102 - mean_absolute_error: 0.0781 - val_loss: 0.0067 - val_mean_squared_error: 0.0067 - val_mean_absolute_error: 0.0634\n",
      "Epoch 203/1000\n",
      "45000/45000 [==============================] - 6s 144us/step - loss: 0.0103 - mean_squared_error: 0.0103 - mean_absolute_error: 0.0785 - val_loss: 0.0064 - val_mean_squared_error: 0.0064 - val_mean_absolute_error: 0.0612\n",
      "Epoch 204/1000\n",
      "45000/45000 [==============================] - 6s 144us/step - loss: 0.0102 - mean_squared_error: 0.0102 - mean_absolute_error: 0.0783 - val_loss: 0.0064 - val_mean_squared_error: 0.0064 - val_mean_absolute_error: 0.0614\n",
      "Epoch 205/1000\n",
      "45000/45000 [==============================] - 6s 144us/step - loss: 0.0102 - mean_squared_error: 0.0102 - mean_absolute_error: 0.0783 - val_loss: 0.0068 - val_mean_squared_error: 0.0068 - val_mean_absolute_error: 0.0628\n",
      "Epoch 206/1000\n",
      "45000/45000 [==============================] - 6s 144us/step - loss: 0.0102 - mean_squared_error: 0.0102 - mean_absolute_error: 0.0783 - val_loss: 0.0072 - val_mean_squared_error: 0.0072 - val_mean_absolute_error: 0.0647\n",
      "Fitting done 1351.38182616\n"
     ]
    }
   ],
   "source": [
    "t0 = time.time()\n",
    "callbacks = [keras.callbacks.EarlyStopping(monitor='val_loss', min_delta=0, patience=10, verbose=0, mode='auto')]\n",
    "\n",
    "history = MLP.fit(features[0:60000].reshape(60000, oshape[1]*oshape[2]*oshape[3]), \\\n",
    "                  y[0:60000], \\\n",
    "                  epochs=1000, \\\n",
    "                  batch_size=32, \\\n",
    "                  validation_split=0.25,\n",
    "                  callbacks=callbacks,\n",
    "                  verbose=True)\n",
    "print 'Fitting done', time.time()-t0"
   ]
  },
  {
   "cell_type": "code",
   "execution_count": 31,
   "metadata": {
    "collapsed": true
   },
   "outputs": [],
   "source": [
    "y_pred = MLP.predict(features[60000:].reshape(40000, oshape[1]*oshape[2]*oshape[3]))"
   ]
  },
  {
   "cell_type": "code",
   "execution_count": 32,
   "metadata": {},
   "outputs": [
    {
     "data": {
      "text/plain": [
       "2.7246805861536854"
      ]
     },
     "execution_count": 32,
     "metadata": {},
     "output_type": "execute_result"
    }
   ],
   "source": [
    "import sklearn.metrics\n",
    "y_test = y[60000:]\n",
    "np.log2(sklearn.metrics.mean_absolute_error(y_pred*100, y_test*100)+.125)"
   ]
  },
  {
   "cell_type": "code",
   "execution_count": 33,
   "metadata": {},
   "outputs": [
    {
     "data": {
      "text/plain": [
       "array([[ 0.69356406],\n",
       "       [ 0.85484779],\n",
       "       [-0.0266692 ],\n",
       "       ..., \n",
       "       [ 0.42910156],\n",
       "       [ 0.87494051],\n",
       "       [ 0.2531321 ]], dtype=float32)"
      ]
     },
     "execution_count": 33,
     "metadata": {},
     "output_type": "execute_result"
    }
   ],
   "source": [
    "y_pred"
   ]
  },
  {
   "cell_type": "code",
   "execution_count": 34,
   "metadata": {},
   "outputs": [
    {
     "data": {
      "text/plain": [
       "array([ 0.93258429,  0.83146065,  0.07865169, ...,  0.34831461,\n",
       "        0.89887643,  0.24719101], dtype=float32)"
      ]
     },
     "execution_count": 34,
     "metadata": {},
     "output_type": "execute_result"
    }
   ],
   "source": [
    "y_test"
   ]
  },
  {
   "cell_type": "code",
   "execution_count": null,
   "metadata": {
    "collapsed": true
   },
   "outputs": [],
   "source": []
  }
 ],
 "metadata": {
  "kernelspec": {
   "display_name": "Python 2",
   "language": "python",
   "name": "python2"
  },
  "language_info": {
   "codemirror_mode": {
    "name": "ipython",
    "version": 2
   },
   "file_extension": ".py",
   "mimetype": "text/x-python",
   "name": "python",
   "nbconvert_exporter": "python",
   "pygments_lexer": "ipython2",
   "version": "2.7.14"
  }
 },
 "nbformat": 4,
 "nbformat_minor": 2
}
