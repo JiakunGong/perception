{
 "cells": [
  {
   "cell_type": "code",
   "execution_count": 23,
   "metadata": {},
   "outputs": [
    {
     "name": "stdout",
     "output_type": "stream",
     "text": [
      "Populating the interactive namespace from numpy and matplotlib\n",
      "\n"
     ]
    },
    {
     "name": "stderr",
     "output_type": "stream",
     "text": [
      "/n/home05/haehn/.conda/envs/CP/lib/python2.7/site-packages/IPython/core/magics/pylab.py:161: UserWarning: pylab import has clobbered these variables: ['f']\n",
      "`%matplotlib` prevents importing * from pylab and numpy\n",
      "  \"\\n`%matplotlib` prevents importing * from pylab and numpy\"\n"
     ]
    }
   ],
   "source": [
    "import cPickle as pickle\n",
    "%pylab inline"
   ]
  },
  {
   "cell_type": "code",
   "execution_count": 2,
   "metadata": {},
   "outputs": [
    {
     "data": {
      "text/plain": [
       "<module 'ClevelandMcGill' from '../EXP/ClevelandMcGill/__init__.pyc'>"
      ]
     },
     "execution_count": 2,
     "metadata": {},
     "output_type": "execute_result"
    }
   ],
   "source": [
    "import os, sys, time\n",
    "import cPickle as pickle\n",
    "sys.path.append('../EXP/')\n",
    "import ClevelandMcGill as C\n",
    "from util import Util\n",
    "reload(C)"
   ]
  },
  {
   "cell_type": "code",
   "execution_count": 1,
   "metadata": {
    "collapsed": true
   },
   "outputs": [],
   "source": [
    "import os"
   ]
  },
  {
   "cell_type": "code",
   "execution_count": 2,
   "metadata": {
    "collapsed": true
   },
   "outputs": [],
   "source": [
    "RESULTS_DIR = '/n/regal/pfister_lab/PERCEPTION/RESULTS/'"
   ]
  },
  {
   "cell_type": "code",
   "execution_count": 20,
   "metadata": {},
   "outputs": [
    {
     "name": "stdout",
     "output_type": "stream",
     "text": [
      "\n"
     ]
    }
   ],
   "source": [
    "import glob\n",
    "import cPickle as pickle\n",
    "import sklearn.metrics"
   ]
  },
  {
   "cell_type": "code",
   "execution_count": 5,
   "metadata": {},
   "outputs": [
    {
     "name": "stdout",
     "output_type": "stream",
     "text": [
      "['0', '1', '2']\n",
      "Loaded C.Figure1.position_common_scale\n",
      "['0', '1', '2', '3']\n",
      "Loaded C.Figure1.position_non_aligned_scale\n",
      "['0', '1', '2', '3']\n",
      "Loaded C.Figure1.length\n",
      "['0', '1', '2']\n",
      "Loaded C.Figure1.direction\n",
      "['0', '1', '2']\n",
      "Loaded C.Figure1.angle\n",
      "['0', '1', '2']\n",
      "Loaded C.Figure1.area\n",
      "['0', '1', '2']\n",
      "Loaded C.Figure1.volume\n",
      "['0', '1', '2', '3']\n",
      "Loaded C.Figure1.curvature\n",
      "['0', '1', '2']\n",
      "Loaded C.Figure1.shading\n"
     ]
    }
   ],
   "source": [
    "experiments = ['C.Figure1.position_common_scale', \\\n",
    "               'C.Figure1.position_non_aligned_scale', \\\n",
    "               'C.Figure1.length', \\\n",
    "               'C.Figure1.direction', \\\n",
    "               'C.Figure1.angle', \\\n",
    "               'C.Figure1.area', \\\n",
    "               'C.Figure1.volume', \\\n",
    "               'C.Figure1.curvature', \\\n",
    "               'C.Figure1.shading']\n",
    "all_labels = {'C.Figure1.position_common_scale': ['Position Y', '+ Position X', '+ Spotsize'], \\\n",
    "              'C.Figure1.position_non_aligned_scale': ['Scale', '+ Y', '+ X', '+ Spotsize'],\\\n",
    "              'C.Figure1.length': ['Length', '+ Position Y', '+ Position X', '+ Width'], \\\n",
    "              'C.Figure1.direction': ['Direction', '+ Position Y', '+ Position X'], \\\n",
    "              'C.Figure1.angle': ['Angle', '+ Position Y', '+ Position X'], \\\n",
    "              'C.Figure1.area': ['Area', '+ Position Y', '+ Position X'], \\\n",
    "              'C.Figure1.volume': ['Volume', '+ Position Y', '+ Position X'], \\\n",
    "              'C.Figure1.curvature': ['Curvature', '+ Position Y', '+ Position X', '+ Width'], \\\n",
    "              'C.Figure1.shading': ['Shading', '+ Position Y', '+ Position X']\n",
    "              }\n",
    "\n",
    "all_results = {}\n",
    "\n",
    "for experiment in experiments:\n",
    "\n",
    "    e_dir = os.path.join(RESULTS_DIR, experiment)\n",
    "    datasets = sorted(os.listdir(e_dir))\n",
    "    print datasets\n",
    "    results = [None]*4\n",
    "\n",
    "    classifiers = ['MLP', 'LeNet', 'VGG19', 'XCEPTION']\n",
    "    for i,c in enumerate(classifiers):\n",
    "\n",
    "        results[i] = []\n",
    "        for d in datasets:\n",
    "            d_dir = os.path.join(e_dir, d)\n",
    "\n",
    "#             stats_files = ['01_noise.p', '02_noise.p', '03_noise.p', '04_noise.p']#glob.glob(os.path.join(d_dir, c)+'/*.p')\n",
    "            stats_files = glob.glob(os.path.join(d_dir, c)+'/*.p')\n",
    "#             print stats_files\n",
    "#             break\n",
    "            y_s = []\n",
    "\n",
    "            for s in stats_files:\n",
    "#                 stats_file = os.path.join(d_dir, c)+'/'+s\n",
    "                stats_file = s\n",
    "                if os.path.exists(stats_file):\n",
    "                    with open(stats_file, 'r') as f:\n",
    "                        stats = pickle.load(f)\n",
    "                    y_s.append([stats['y_pred'], stats['y_test']])\n",
    "                    \n",
    "\n",
    "            results[i].append(y_s)\n",
    "            \n",
    "    print 'Loaded', experiment\n",
    "            \n",
    "    all_results[experiment] = results\n",
    "            \n",
    "#         print d, c, np.mean([stats1['MLAE'], stats2['MLAE']])"
   ]
  },
  {
   "cell_type": "code",
   "execution_count": 58,
   "metadata": {},
   "outputs": [
    {
     "name": "stdout",
     "output_type": "stream",
     "text": [
      "No. Samples 10\n",
      "First 10 predictions [ 0.29002532  0.68995833  0.17176016  0.50408626  0.27782902  0.41007897\n",
      "  0.67871881  0.55444694  0.16736579  0.34932315]\n",
      "First 10 groundtruth [ 0.28070176  0.71929824  0.15789473  0.50877196  0.2631579   0.42105263\n",
      "  0.70175439  0.56140351  0.15789473  0.3508772 ]\n",
      "MAE 0.0135854\n",
      "MLAE (from Cleveland) 0.56904527372\n"
     ]
    }
   ],
   "source": [
    "\n",
    "# adjust values to match dictionaries/lists above\n",
    "experiment = 0 # C.Figure1.position_common_scale\n",
    "classifier = 2 # LeNet\n",
    "dataset = 0 # Position Y\n",
    "\n",
    "\n",
    "samples = all_results[experiments[experiment]][classifier][dataset]\n",
    "no_samples = len(samples)\n",
    "print 'No. Samples', no_samples\n",
    "\n",
    "#\n",
    "# this can be looped\n",
    "#\n",
    "current_sample_index = 0 # 0..no_samples-1\n",
    "current_y_pred = samples[current_sample_index][0].ravel()\n",
    "current_y_test = samples[current_sample_index][1].ravel()\n",
    "\n",
    "print 'First 10 predictions', current_y_pred[0:10]\n",
    "print 'First 10 groundtruth', current_y_test[0:10]\n",
    "print 'MAE', sklearn.metrics.mean_absolute_error(current_y_pred, current_y_test)\n",
    "print 'MLAE (from Cleveland)', np.log2(sklearn.metrics.mean_absolute_error(current_y_pred*100, current_y_test*100)+.125)"
   ]
  },
  {
   "cell_type": "code",
   "execution_count": 61,
   "metadata": {
    "scrolled": false
   },
   "outputs": [
    {
     "data": {
      "image/png": "[encoded data removed]",
      "text/plain": [
       "<matplotlib.figure.Figure at 0x2ae4cb4c3e90>"
      ]
     },
     "metadata": {},
     "output_type": "display_data"
    },
    {
     "data": {
      "image/png": "[encoded data removed]",
      "text/plain": [
       "<matplotlib.figure.Figure at 0x2ae4e2d06a10>"
      ]
     },
     "metadata": {},
     "output_type": "display_data"
    },
    {
     "data": {
      "image/png": "[encoded data removed]",
      "text/plain": [
       "<matplotlib.figure.Figure at 0x2ae4cbd7dc10>"
      ]
     },
     "metadata": {},
     "output_type": "display_data"
    },
    {
     "data": {
      "image/png": "[encoded data removed]",
      "text/plain": [
       "<matplotlib.figure.Figure at 0x2ae4cc468c50>"
      ]
     },
     "metadata": {},
     "output_type": "display_data"
    },
    {
     "data": {
      "image/png": "[encoded data removed]",
      "text/plain": [
       "<matplotlib.figure.Figure at 0x2ae50e88ecd0>"
      ]
     },
     "metadata": {},
     "output_type": "display_data"
    },
    {
     "data": {
      "image/png": "[encoded data removed]",
      "text/plain": [
       "<matplotlib.figure.Figure at 0x2ae4e1d14990>"
      ]
     },
     "metadata": {},
     "output_type": "display_data"
    },
    {
     "data": {
      "image/png": "[encoded data removed]",
      "text/plain": [
       "<matplotlib.figure.Figure at 0x2ae4e029fd10>"
      ]
     },
     "metadata": {},
     "output_type": "display_data"
    },
    {
     "data": {
      "image/png": "[encoded data removed]",
      "text/plain": [
       "<matplotlib.figure.Figure at 0x2ae50c6b05d0>"
      ]
     },
     "metadata": {},
     "output_type": "display_data"
    },
    {
     "data": {
      "image/png": "[encoded data removed]",
      "text/plain": [
       "<matplotlib.figure.Figure at 0x2ae4dd0ad250>"
      ]
     },
     "metadata": {},
     "output_type": "display_data"
    },
    {
     "data": {
      "image/png": "[encoded data removed]",
      "text/plain": [
       "<matplotlib.figure.Figure at 0x2ae4ccb8f990>"
      ]
     },
     "metadata": {},
     "output_type": "display_data"
    }
   ],
   "source": [
    "# loop through all samples for this experiment+classifier+dataset combination\n",
    "for current_sample_index in range(no_samples):\n",
    "    \n",
    "    current_y_pred = samples[current_sample_index][0].ravel()\n",
    "    current_y_test = samples[current_sample_index][1].ravel()\n",
    "    \n",
    "    errors = current_y_pred - current_y_test\n",
    "    plt.figure()\n",
    "    plt.hist(errors, bins=np.unique(np.round(errors,4)))\n",
    "    \n"
   ]
  },
  {
   "cell_type": "code",
   "execution_count": null,
   "metadata": {
    "collapsed": true
   },
   "outputs": [],
   "source": []
  }
 ],
 "metadata": {
  "kernelspec": {
   "display_name": "Python 2",
   "language": "python",
   "name": "python2"
  },
  "language_info": {
   "codemirror_mode": {
    "name": "ipython",
    "version": 2
   },
   "file_extension": ".py",
   "mimetype": "text/x-python",
   "name": "python",
   "nbconvert_exporter": "python",
   "pygments_lexer": "ipython2",
   "version": "2.7.14"
  }
 },
 "nbformat": 4,
 "nbformat_minor": 2
}
