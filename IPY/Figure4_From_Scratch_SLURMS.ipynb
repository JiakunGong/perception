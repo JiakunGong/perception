{
 "cells": [
  {
   "cell_type": "code",
   "execution_count": 1,
   "metadata": {
    "collapsed": true
   },
   "outputs": [],
   "source": [
    "import os\n",
    "from string import Template"
   ]
  },
  {
   "cell_type": "code",
   "execution_count": 5,
   "metadata": {},
   "outputs": [
    {
     "ename": "OSError",
     "evalue": "[Errno 17] File exists: '../SLURMS/Figure4_From_Scratch/'",
     "output_type": "error",
     "traceback": [
      "\u001b[0;31m---------------------------------------------------------------------------\u001b[0m",
      "\u001b[0;31mOSError\u001b[0m                                   Traceback (most recent call last)",
      "\u001b[0;32m<ipython-input-5-119dd8d315b5>\u001b[0m in \u001b[0;36m<module>\u001b[0;34m()\u001b[0m\n\u001b[1;32m      1\u001b[0m \u001b[0mSLURM_DIR\u001b[0m \u001b[0;34m=\u001b[0m \u001b[0;34m'../SLURMS/Figure4_From_Scratch/'\u001b[0m\u001b[0;34m\u001b[0m\u001b[0m\n\u001b[1;32m      2\u001b[0m \u001b[0mLOG_DIR\u001b[0m \u001b[0;34m=\u001b[0m \u001b[0mSLURM_DIR\u001b[0m\u001b[0;34m+\u001b[0m\u001b[0;34m'LOGS/'\u001b[0m\u001b[0;34m\u001b[0m\u001b[0m\n\u001b[0;32m----> 3\u001b[0;31m \u001b[0mos\u001b[0m\u001b[0;34m.\u001b[0m\u001b[0mmakedirs\u001b[0m\u001b[0;34m(\u001b[0m\u001b[0mSLURM_DIR\u001b[0m\u001b[0;34m)\u001b[0m\u001b[0;34m\u001b[0m\u001b[0m\n\u001b[0m\u001b[1;32m      4\u001b[0m \u001b[0mos\u001b[0m\u001b[0;34m.\u001b[0m\u001b[0mmakedirs\u001b[0m\u001b[0;34m(\u001b[0m\u001b[0mLOG_DIR\u001b[0m\u001b[0;34m)\u001b[0m\u001b[0;34m\u001b[0m\u001b[0m\n",
      "\u001b[0;32m/n/home05/haehn/.conda/envs/CP/lib/python2.7/os.pyc\u001b[0m in \u001b[0;36mmakedirs\u001b[0;34m(name, mode)\u001b[0m\n\u001b[1;32m    155\u001b[0m         \u001b[0;32mif\u001b[0m \u001b[0mtail\u001b[0m \u001b[0;34m==\u001b[0m \u001b[0mcurdir\u001b[0m\u001b[0;34m:\u001b[0m           \u001b[0;31m# xxx/newdir/. exists if xxx/newdir exists\u001b[0m\u001b[0;34m\u001b[0m\u001b[0m\n\u001b[1;32m    156\u001b[0m             \u001b[0;32mreturn\u001b[0m\u001b[0;34m\u001b[0m\u001b[0m\n\u001b[0;32m--> 157\u001b[0;31m     \u001b[0mmkdir\u001b[0m\u001b[0;34m(\u001b[0m\u001b[0mname\u001b[0m\u001b[0;34m,\u001b[0m \u001b[0mmode\u001b[0m\u001b[0;34m)\u001b[0m\u001b[0;34m\u001b[0m\u001b[0m\n\u001b[0m\u001b[1;32m    158\u001b[0m \u001b[0;34m\u001b[0m\u001b[0m\n\u001b[1;32m    159\u001b[0m \u001b[0;32mdef\u001b[0m \u001b[0mremovedirs\u001b[0m\u001b[0;34m(\u001b[0m\u001b[0mname\u001b[0m\u001b[0;34m)\u001b[0m\u001b[0;34m:\u001b[0m\u001b[0;34m\u001b[0m\u001b[0m\n",
      "\u001b[0;31mOSError\u001b[0m: [Errno 17] File exists: '../SLURMS/Figure4_From_Scratch/'"
     ]
    }
   ],
   "source": [
    "SLURM_DIR = '../SLURMS/Figure4_From_Scratch/'\n",
    "LOG_DIR = SLURM_DIR+'LOGS/'\n",
    "os.makedirs(SLURM_DIR)\n",
    "os.makedirs(LOG_DIR)"
   ]
  },
  {
   "cell_type": "code",
   "execution_count": 6,
   "metadata": {
    "collapsed": true
   },
   "outputs": [],
   "source": [
    "SLURM_TEMPLATE = Template('''#!/bin/bash\n",
    "#SBATCH -p cox\n",
    "#SBATCH -n 1 # Number of cores\n",
    "#SBATCH -N 1 # Ensure that all cores are on one machine\n",
    "#SBATCH --gres=gpu\n",
    "#SBATCH --array=9-12\n",
    "#SBATCH --mem=$memory\n",
    "#SBATCH -t 3-00:00\n",
    "#SBATCH --mail-type=ALL\n",
    "#SBATCH --mail-user=haehn@seas.harvard.edu\n",
    "#SBATCH -o /n/home05/haehn/Projects/CP/SLURMS/Figure4_From_Scratch/LOGS/%A_%a.out\n",
    "#SBATCH -e /n/home05/haehn/Projects/CP/SLURMS/Figure4_From_Scratch/LOGS/%A_%a.err\n",
    "\n",
    "# Print this sub-job's task ID\n",
    "echo \"My SLURM_ARRAY_TASK_ID: \" $SLURM_ARRAY_TASK_ID\n",
    "\n",
    "source new-modules.sh\n",
    "\n",
    "module load Anaconda/5.0.1-fasrc01\n",
    "\n",
    "cd /n/home05/haehn/Projects/CP/EXP/\n",
    "\n",
    "source activate CP\n",
    "\n",
    "python run_position_length_from_scratch.py $experiment $classifier $noise $SLURM_ARRAY_TASK_ID\n",
    "\n",
    "# end\n",
    "exit 0;\n",
    "''')"
   ]
  },
  {
   "cell_type": "code",
   "execution_count": 7,
   "metadata": {
    "collapsed": true,
    "scrolled": false
   },
   "outputs": [],
   "source": [
    "Experiments = ['C.Figure4.data_to_type1', 'C.Figure4.data_to_type2',\\\n",
    "              'C.Figure4.data_to_type3', 'C.Figure4.data_to_type4', 'C.Figure4.data_to_type5', 'C.Figure4.multi']\n",
    "\n",
    "Classifiers = {\n",
    "#   'MLP': '8000',\n",
    "#   'LeNet': '8000',\n",
    "  'VGG19': '20000',\n",
    "  'XCEPTION': '32000'\n",
    "}\n",
    "\n",
    "Noise = ['True']#, 'False']\n",
    "\n",
    "for e in Experiments:\n",
    "  for c in Classifiers:\n",
    "    m = Classifiers[c]\n",
    "    for n in Noise:\n",
    "\n",
    "      new_slurm = SLURM_TEMPLATE.substitute(experiment=e, memory=m, classifier=c, noise=n, SLURM_ARRAY_TASK_ID='$SLURM_ARRAY_TASK_ID')\n",
    "      with open(os.path.join(SLURM_DIR, e+'_'+c+'_'+n+'.sbatch'), 'w') as f:\n",
    "        f.write(new_slurm)\n"
   ]
  },
  {
   "cell_type": "code",
   "execution_count": null,
   "metadata": {
    "collapsed": true
   },
   "outputs": [],
   "source": [
    "for f in *_True.sbatch; do sbatch $f; done"
   ]
  }
 ],
 "metadata": {
  "kernelspec": {
   "display_name": "Python 2",
   "language": "python",
   "name": "python2"
  },
  "language_info": {
   "codemirror_mode": {
    "name": "ipython",
    "version": 2
   },
   "file_extension": ".py",
   "mimetype": "text/x-python",
   "name": "python",
   "nbconvert_exporter": "python",
   "pygments_lexer": "ipython2",
   "version": "2.7.14"
  }
 },
 "nbformat": 4,
 "nbformat_minor": 2
}
