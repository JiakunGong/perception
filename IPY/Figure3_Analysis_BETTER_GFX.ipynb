{
 "cells": [
  {
   "cell_type": "code",
   "execution_count": 1,
   "metadata": {},
   "outputs": [
    {
     "name": "stdout",
     "output_type": "stream",
     "text": [
      "Populating the interactive namespace from numpy and matplotlib\n"
     ]
    }
   ],
   "source": [
    "import cPickle as pickle\n",
    "%pylab inline"
   ]
  },
  {
   "cell_type": "code",
   "execution_count": 2,
   "metadata": {
    "collapsed": true
   },
   "outputs": [],
   "source": [
    "import os"
   ]
  },
  {
   "cell_type": "code",
   "execution_count": 3,
   "metadata": {
    "collapsed": true
   },
   "outputs": [],
   "source": [
    "import glob\n",
    "import cPickle as pickle"
   ]
  },
  {
   "cell_type": "code",
   "execution_count": 4,
   "metadata": {},
   "outputs": [
    {
     "data": {
      "text/plain": [
       "<module 'ClevelandMcGill' from '../EXP/ClevelandMcGill/__init__.pyc'>"
      ]
     },
     "execution_count": 4,
     "metadata": {},
     "output_type": "execute_result"
    }
   ],
   "source": [
    "import os, sys, time\n",
    "import cPickle as pickle\n",
    "sys.path.append('../EXP/')\n",
    "import ClevelandMcGill as C\n",
    "from util import Util\n",
    "reload(C)"
   ]
  },
  {
   "cell_type": "code",
   "execution_count": 5,
   "metadata": {
    "collapsed": true
   },
   "outputs": [],
   "source": [
    "RESULTS_DIR = '/n/regal/pfister_lab/PERCEPTION/RESULTS/'"
   ]
  },
  {
   "cell_type": "code",
   "execution_count": 39,
   "metadata": {
    "collapsed": true
   },
   "outputs": [],
   "source": [
    "RESULTS_DIR2 = '/n/regal/pfister_lab/PERCEPTION/RESULTS_FROM_SCRATCH//'"
   ]
  },
  {
   "cell_type": "code",
   "execution_count": 6,
   "metadata": {
    "collapsed": true
   },
   "outputs": [],
   "source": [
    "for subdir, _, _ in os.walk(RESULTS_DIR+'/C.Figure3.data_to_piechart'):\n",
    "#     print subdir\n",
    "    if len(subdir.split('/')) == 9:\n",
    "      if len(os.listdir(subdir)) != 24:\n",
    "        print subdir, len(os.listdir(subdir)), os.listdir(subdir)\n",
    "        \n",
    "        classifier = subdir.split('/')[-1]\n",
    "        dataset = subdir.split('/')[-2]\n",
    "        experiment = subdir.split('/')[-3]\n",
    "        \n",
    "        print 'sbatch', experiment + '_' + dataset + '_' + classifier +'_True.sbatch'"
   ]
  },
  {
   "cell_type": "code",
   "execution_count": 7,
   "metadata": {
    "collapsed": true
   },
   "outputs": [],
   "source": [
    "for subdir, _, _ in os.walk(RESULTS_DIR+'C.Figure3.data_to_barchart'):\n",
    "#     print subdir\n",
    "    if len(subdir.split('/')) == 8:\n",
    "      if len(os.listdir(subdir)) != 24:\n",
    "        print subdir, len(os.listdir(subdir))\n",
    "        \n",
    "#         classifier = subdir.split('/')[-1]\n",
    "#         dataset = subdir.split('/')[-2]\n",
    "#         experiment = subdir.split('/')[-3]\n",
    "        \n",
    "#         print 'sbatch', experiment + '_' + dataset + '_' + classifier +'_True.sbatch'"
   ]
  },
  {
   "cell_type": "code",
   "execution_count": 56,
   "metadata": {
    "collapsed": true
   },
   "outputs": [],
   "source": [
    "experiment = 'C.Figure3.data_to_barchart'\n",
    "e_dir = os.path.join(RESULTS_DIR, experiment)\n",
    "e2_dir = os.path.join(RESULTS_DIR2, experiment)\n",
    "datasets = sorted(os.listdir(e_dir))\n",
    "\n",
    "bar_stats = [None]*6\n",
    "\n",
    "classifiers = ['MLP', 'LeNet', 'VGG19', 'XCEPTION']\n",
    "for i,c in enumerate(classifiers):\n",
    "    \n",
    "    bar_stats[i] = []\n",
    "    c_dir = os.path.join(e_dir, c)\n",
    "\n",
    "    stats_files = glob.glob(c_dir+'/*_noise.p')\n",
    "    stats_per_c = []\n",
    "#     print stats_files\n",
    "\n",
    "    for s in stats_files:\n",
    "        \n",
    "        with open(s, 'r') as f:\n",
    "            stats = pickle.load(f)\n",
    "        stats_per_c.append(stats)\n",
    "#         print stats['time']\n",
    "\n",
    "    bar_stats[i].append(stats_per_c)\n",
    "            \n",
    "#         print d, c, np.mean([stats1['MLAE'], stats2['MLAE']])\n",
    "classifiers2 = ['VGG19', 'XCEPTION']\n",
    "for i,c in enumerate(classifiers2):\n",
    "    \n",
    "    bar_stats[i+4] = []\n",
    "    c_dir = os.path.join(e2_dir, c)\n",
    "\n",
    "    stats_files = glob.glob(c_dir+'/*_noise.p')\n",
    "    stats_per_c = []\n",
    "#     print stats_files\n",
    "\n",
    "    for s in stats_files:\n",
    "        \n",
    "        with open(s, 'r') as f:\n",
    "            stats = pickle.load(f)\n",
    "        stats_per_c.append(stats)\n",
    "#         print stats['time']\n",
    "\n",
    "    bar_stats[i+4].append(stats_per_c)\n"
   ]
  },
  {
   "cell_type": "code",
   "execution_count": 57,
   "metadata": {},
   "outputs": [
    {
     "data": {
      "text/plain": [
       "4"
      ]
     },
     "execution_count": 57,
     "metadata": {},
     "output_type": "execute_result"
    }
   ],
   "source": [
    "len(bar_stats[4][0])"
   ]
  },
  {
   "cell_type": "code",
   "execution_count": 60,
   "metadata": {
    "collapsed": true
   },
   "outputs": [],
   "source": [
    "experiment = 'C.Figure3.data_to_piechart'\n",
    "e_dir = os.path.join(RESULTS_DIR, experiment)\n",
    "e2_dir = os.path.join(RESULTS_DIR2, experiment)\n",
    "datasets = sorted(os.listdir(e_dir))\n",
    "\n",
    "pie_stats = [None]*6\n",
    "\n",
    "classifiers = ['MLP', 'LeNet', 'VGG19', 'XCEPTION']\n",
    "for i,c in enumerate(classifiers):\n",
    "    \n",
    "    pie_stats[i] = []\n",
    "    c_dir = os.path.join(e_dir, c)\n",
    "\n",
    "    stats_files = glob.glob(c_dir+'/*_noise.p')\n",
    "    stats_per_c = []\n",
    "#     print stats_files\n",
    "\n",
    "    for s in stats_files:\n",
    "        \n",
    "        with open(s, 'r') as f:\n",
    "            stats = pickle.load(f)\n",
    "        stats_per_c.append(stats)\n",
    "#         print stats['time']\n",
    "\n",
    "    pie_stats[i].append(stats_per_c)\n",
    "            \n",
    "classifiers2 = ['VGG19', 'XCEPTION']\n",
    "for i,c in enumerate(classifiers2):\n",
    "    \n",
    "    pie_stats[i+4] = []\n",
    "    c_dir = os.path.join(e2_dir, c)\n",
    "\n",
    "    stats_files = glob.glob(c_dir+'/*_noise.p')\n",
    "    stats_per_c = []\n",
    "#     print stats_files\n",
    "\n",
    "    for s in stats_files:\n",
    "        \n",
    "        with open(s, 'r') as f:\n",
    "            stats = pickle.load(f)\n",
    "        stats_per_c.append(stats)\n",
    "#         print stats['time']\n",
    "\n",
    "    pie_stats[i+4].append(stats_per_c)\n",
    "        \n",
    "        \n",
    "#         print d, c, np.mean([stats1['MLAE'], stats2['MLAE']])"
   ]
  },
  {
   "cell_type": "code",
   "execution_count": 67,
   "metadata": {},
   "outputs": [
    {
     "data": {
      "text/plain": [
       "1"
      ]
     },
     "execution_count": 67,
     "metadata": {},
     "output_type": "execute_result"
    }
   ],
   "source": [
    "len(bar_stats[4])"
   ]
  },
  {
   "cell_type": "code",
   "execution_count": 85,
   "metadata": {},
   "outputs": [
    {
     "data": {
      "image/png": "[encoded data removed]",
      "text/plain": [
       "<matplotlib.figure.Figure at 0x2b0793e830d0>"
      ]
     },
     "metadata": {},
     "output_type": "display_data"
    }
   ],
   "source": [
    "from matplotlib import gridspec\n",
    "\n",
    "\n",
    "classifiers = ['MLP', 'LeNet', 'VGG19', 'XCEPTION', 'VGG19', 'XCEPTION']\n",
    "\n",
    "fig = plt.figure(figsize=(10,6), facecolor='white')\n",
    "gs = gridspec.GridSpec(3, 2, width_ratios=[1,1], hspace=.3, wspace=.1)\n",
    "\n",
    "axes = [None]*6\n",
    "\n",
    "for i, c in enumerate(classifiers):\n",
    "    \n",
    "    if i == 0:\n",
    "        axes[i] = fig.add_subplot(gs[i])#, sharey=axes[0])\n",
    "        plt.setp(axes[0].get_xticklabels(), visible=False)\n",
    "        plt.ylabel('MSE Training Loss')        \n",
    "    elif i == 1 or i==3:\n",
    "        axes[i] = fig.add_subplot(gs[i], sharey=axes[0])\n",
    "        plt.setp(axes[i].get_yticklabels(), visible=False)\n",
    "        plt.setp(axes[i].get_xticklabels(), visible=False)      \n",
    "        \n",
    "#         plt.ylabel(False)\n",
    "    elif i == 2 or i == 4:\n",
    "        \n",
    "        axes[i] = fig.add_subplot(gs[i], sharey=axes[0], sharex=axes[0])\n",
    "        \n",
    "\n",
    "        if i == 2:\n",
    "            plt.setp(axes[i].get_xticklabels(), visible=False)  \n",
    "        \n",
    "        \n",
    "        plt.ylabel('MSE Training Loss')\n",
    "        if i!=2:\n",
    "            plt.xlabel('Epoch')                \n",
    "    elif i == 5:\n",
    "        axes[i] = fig.add_subplot(gs[i], sharey=axes[2])\n",
    "        plt.setp(axes[5].get_yticklabels(), visible=False)        \n",
    "        plt.xlabel('Epoch')        \n",
    "\n",
    "    for sample in range(len(bar_stats[i][0])):\n",
    "        \n",
    "        # grab sample from both\n",
    "#         print i,#bar_stats[i]\n",
    "        if len(bar_stats[i][0])>0:\n",
    "            bar_loss = bar_stats[i][0][sample]['loss']\n",
    "        else:\n",
    "            bar_loss = [0]\n",
    "        if len(pie_stats[i][0])>0:\n",
    "            pie_loss = pie_stats[i][0][sample]['loss']\n",
    "        else:\n",
    "            pie_loss = [0]\n",
    "        if sample == 0:\n",
    "            # only label the first\n",
    "            plot(bar_loss, label='Barchart', color='C0')\n",
    "            plot(pie_loss, label='Piechart', color='C1')\n",
    "        else:\n",
    "            # but use the same colors for all\n",
    "            plot(bar_loss, color='C0')\n",
    "            plot(pie_loss, color='C1')\n",
    "            \n",
    "    plt.xlim(-1,100)\n",
    "    \n",
    "    if i == 2:\n",
    "        c = 'VGG19 *'\n",
    "    elif i == 3:\n",
    "        c = 'Xception *'\n",
    "    elif i == 5:\n",
    "        c = 'Xception'\n",
    "    \n",
    "    plt.title(c)\n",
    "\n",
    "\n",
    "    if i == 1:\n",
    "        plt.legend()\n",
    "        \n",
    "plt.savefig('../PAPER/gfx/figure3_loss.pdf')"
   ]
  },
  {
   "cell_type": "code",
   "execution_count": 28,
   "metadata": {},
   "outputs": [
    {
     "data": {
      "text/plain": [
       "[[]]"
      ]
     },
     "execution_count": 28,
     "metadata": {},
     "output_type": "execute_result"
    }
   ],
   "source": [
    "bar_stats[i]"
   ]
  },
  {
   "cell_type": "code",
   "execution_count": 122,
   "metadata": {},
   "outputs": [
    {
     "data": {
      "image/png": "[encoded data removed]",
      "text/plain": [
       "<matplotlib.figure.Figure at 0x2b07a5b69090>"
      ]
     },
     "metadata": {},
     "output_type": "display_data"
    }
   ],
   "source": [
    "from matplotlib import gridspec\n",
    "\n",
    "bar_losses = []\n",
    "pie_losses = []\n",
    "\n",
    "classifiers = ['MLP', 'LeNet', 'VGG19', 'XCEPTION', 'VGG19', 'XCEPTION']\n",
    "\n",
    "fig = plt.figure(figsize=(10,6), facecolor='white')\n",
    "gs = gridspec.GridSpec(3, 2, width_ratios=[1,1], hspace=.3, wspace=.1)\n",
    "\n",
    "axes = [None]*6\n",
    "\n",
    "for i, c in enumerate(classifiers):\n",
    "    \n",
    "    if i == 0:\n",
    "        axes[i] = fig.add_subplot(gs[i])#, sharey=axes[0])\n",
    "        plt.setp(axes[0].get_xticklabels(), visible=False)\n",
    "        plt.ylabel('MSE Training Loss')        \n",
    "    elif i == 1 or i==3:\n",
    "        axes[i] = fig.add_subplot(gs[i], sharey=axes[0])\n",
    "        plt.setp(axes[i].get_yticklabels(), visible=False)\n",
    "        plt.setp(axes[i].get_xticklabels(), visible=False)      \n",
    "        \n",
    "#         plt.ylabel(False)\n",
    "    elif i == 2 or i == 4:\n",
    "        \n",
    "        axes[i] = fig.add_subplot(gs[i], sharey=axes[0], sharex=axes[0])\n",
    "        \n",
    "\n",
    "        if i == 2:\n",
    "            plt.setp(axes[i].get_xticklabels(), visible=False)  \n",
    "        \n",
    "        \n",
    "        plt.ylabel('MSE Validation Loss')\n",
    "        if i!=2:\n",
    "            plt.xlabel('Epoch')                \n",
    "    elif i == 5:\n",
    "        axes[i] = fig.add_subplot(gs[i], sharey=axes[2])\n",
    "        plt.setp(axes[5].get_yticklabels(), visible=False)        \n",
    "        plt.xlabel('Epoch')        \n",
    "\n",
    "    for sample in range(len(bar_stats[i][0])):\n",
    "        \n",
    "        # grab sample from both\n",
    "#         print i,#bar_stats[i]\n",
    "        if len(bar_stats[i][0])>0:\n",
    "            bar_loss = bar_stats[i][0][sample]['val_loss']\n",
    "        else:\n",
    "            bar_loss = [0]\n",
    "        if len(pie_stats[i][0])>0:\n",
    "            pie_loss = pie_stats[i][0][sample]['val_loss']\n",
    "        else:\n",
    "            pie_loss = [0]\n",
    "            \n",
    "        bar_losses.append(bar_loss)\n",
    "        pie_losses.append(pie_loss)\n",
    "            \n",
    "        if sample == 0:\n",
    "            # only label the first\n",
    "            plot(bar_loss, label='Barchart', color='C0')\n",
    "            plot(pie_loss, label='Piechart', color='C1')\n",
    "        else:\n",
    "            # but use the same colors for all\n",
    "            plot(bar_loss, color='C0')\n",
    "            plot(pie_loss, color='C1')\n",
    "            \n",
    "    plt.xlim(-1,100)\n",
    "    \n",
    "    if i == 2:\n",
    "        c = 'VGG19 *'\n",
    "    elif i == 3:\n",
    "        c = 'Xception *'\n",
    "    elif i == 5:\n",
    "        c = 'Xception'\n",
    "    \n",
    "    plt.title(c)\n",
    "\n",
    "\n",
    "    if i == 1:\n",
    "        plt.legend()\n",
    "        \n",
    "plt.savefig('../PAPER/gfx/figure3_val_loss.pdf', bbox_inches='tight', pad_inches=0)"
   ]
  },
  {
   "cell_type": "code",
   "execution_count": 106,
   "metadata": {
    "collapsed": true
   },
   "outputs": [],
   "source": [
    "from pyvttbl import DataFrame\n",
    "from scipy.stats import ttest_ind, ttest_ind_from_stats"
   ]
  },
  {
   "cell_type": "code",
   "execution_count": 118,
   "metadata": {
    "collapsed": true
   },
   "outputs": [],
   "source": [
    "# let's do up to 20 epochs\n",
    "pie_losses_upto_20 = []\n",
    "for p in pie_losses:\n",
    "    pie_losses_upto_20 += p[0:20]\n",
    "bar_losses_upto_20 = []\n",
    "for b in bar_losses:\n",
    "    bar_losses_upto_20 += b[0:20]"
   ]
  },
  {
   "cell_type": "code",
   "execution_count": 121,
   "metadata": {},
   "outputs": [
    {
     "name": "stdout",
     "output_type": "stream",
     "text": [
      "Anova: Single Factor on data\n",
      "\n",
      "SUMMARY\n",
      " Groups     Count    Sum     Average   Variance  \n",
      "================================================\n",
      "Bar Chart    1120   41.610     0.037   3.104e-04 \n",
      "Pie Chart    1120   58.569     0.052   2.142e-04 \n",
      "\n",
      "O'BRIEN TEST FOR HOMOGENEITY OF VARIANCE\n",
      "Source of Variation      SS        df       MS         F       P-value    eta^2   Obs. power \n",
      "============================================================================================\n",
      "Treatments            5.185e-06      1   5.185e-06   20.656   5.790e-06   0.009        0.995 \n",
      "Error                 5.618e-04   2238   2.510e-07                                           \n",
      "============================================================================================\n",
      "Total                 5.670e-04   2239                                                       \n",
      "\n",
      "ANOVA\n",
      "Source of Variation    SS      df       MS          F       P-value    eta^2   Obs. power \n",
      "=========================================================================================\n",
      "Treatments            0.128      1       0.128   489.517   2.943e-98   0.179            1 \n",
      "Error                 0.587   2238   2.623e-04                                            \n",
      "=========================================================================================\n",
      "Total                 0.715   2239                                                        \n",
      "\n",
      "POSTHOC MULTIPLE COMPARISONS\n",
      "\n",
      "Tukey HSD: Table of q-statistics\n",
      "            Bar Chart   Pie Chart \n",
      "=================================\n",
      "Bar Chart   0           31.290 ** \n",
      "Pie Chart               0         \n",
      "=================================\n",
      "  + p < .10 (q-critical[2, 2238] = 2.32713759275)\n",
      "  * p < .05 (q-critical[2, 2238] = 2.7733075068)\n",
      " ** p < .01 (q-critical[2, 2238] = 3.64588204486)\n"
     ]
    }
   ],
   "source": [
    "\n",
    "df = DataFrame()\n",
    "df['data'] = pie_losses_upto_20 + bar_losses_upto_20\n",
    "df['conditions'] = ['Pie Chart']*len(pie_losses)*20 + ['Bar Chart']*len(bar_losses)*20\n",
    "\n",
    "aov_pyvttbl = df.anova1way('data', 'conditions')\n",
    "print aov_pyvttbl\n",
    "\n",
    "# # Welch's t-test\n",
    "\n",
    "# t, p = ttest_ind(all_e, human, equal_var=False)\n",
    "# print c,' vs. Human', t,p"
   ]
  },
  {
   "cell_type": "code",
   "execution_count": 125,
   "metadata": {},
   "outputs": [
    {
     "name": "stdout",
     "output_type": "stream",
     "text": [
      "0.0522938114664 0.0146285302232\n",
      "0.0371516804745 0.0176105963827\n"
     ]
    }
   ],
   "source": [
    "print np.mean(pie_losses_upto_20), np.std(pie_losses_upto_20)\n",
    "print np.mean(bar_losses_upto_20), np.std(bar_losses_upto_20)"
   ]
  },
  {
   "cell_type": "code",
   "execution_count": 113,
   "metadata": {},
   "outputs": [
    {
     "data": {
      "text/plain": [
       "209"
      ]
     },
     "execution_count": 113,
     "metadata": {},
     "output_type": "execute_result"
    }
   ],
   "source": [
    "len(bar_losses[1])"
   ]
  },
  {
   "cell_type": "code",
   "execution_count": null,
   "metadata": {
    "collapsed": true
   },
   "outputs": [],
   "source": []
  },
  {
   "cell_type": "code",
   "execution_count": 112,
   "metadata": {},
   "outputs": [
    {
     "data": {
      "text/plain": [
       "8"
      ]
     },
     "execution_count": 112,
     "metadata": {},
     "output_type": "execute_result"
    }
   ],
   "source": [
    "len(bar_stats[0][0])"
   ]
  },
  {
   "cell_type": "code",
   "execution_count": 113,
   "metadata": {},
   "outputs": [
    {
     "data": {
      "text/plain": [
       "2.4947385390539498"
      ]
     },
     "execution_count": 113,
     "metadata": {},
     "output_type": "execute_result"
    }
   ],
   "source": [
    "bar_stats[0][0][0]['MLAE']"
   ]
  },
  {
   "cell_type": "code",
   "execution_count": 99,
   "metadata": {},
   "outputs": [
    {
     "name": "stdout",
     "output_type": "stream",
     "text": [
      "2 MLP\n",
      "3 LeNet\n",
      "4 VGG19 *\n",
      "5 Xception *\n",
      "6 VGG19\n",
      "7 Xception\n",
      "2 MLP\n",
      "3 LeNet\n",
      "4 VGG19 *\n",
      "5 Xception *\n",
      "6 VGG19\n",
      "7 Xception\n"
     ]
    },
    {
     "data": {
      "image/png": "[encoded data removed]",
      "text/plain": [
       "<matplotlib.figure.Figure at 0x2b0793e94c90>"
      ]
     },
     "metadata": {},
     "output_type": "display_data"
    }
   ],
   "source": [
    "import numpy as np\n",
    "import scipy as sp\n",
    "import scipy.stats\n",
    "from matplotlib import gridspec\n",
    "\n",
    "all_data = []\n",
    "images = []\n",
    "\n",
    "titles = ['Pie Chart', 'Bar Chart']\n",
    "\n",
    "#\n",
    "# human values\n",
    "#\n",
    "human_values = [(2.05, 0.115),\\\n",
    "                (1.035, 0.125)]\n",
    "human_values.append((np.mean([v[0] for v in human_values]), np.mean([v[1] for v in human_values])))\n",
    "\n",
    "\n",
    "\n",
    "## data\n",
    "no_samples = len(bar_stats[0][0])\n",
    "bar_data = [None]*6\n",
    "pie_data = [None]*6\n",
    "classifiers = ['MLP', 'LeNet', 'VGG19 *', 'Xception *', 'VGG19', 'Xception']\n",
    "for i, c in enumerate(classifiers):\n",
    "\n",
    "    bar_mlae_s = []\n",
    "    pie_mlae_s = []\n",
    "    \n",
    "    for sample in range(len(bar_stats[i][0])):\n",
    "\n",
    "        # grab sample from both\n",
    "        bar_mlae = bar_stats[i][0][sample]['MLAE']\n",
    "        pie_mlae = pie_stats[i][0][sample]['MLAE']\n",
    "#         print i, sample, bar_mlae, pie_mlae\n",
    "        bar_mlae_s.append(bar_mlae)\n",
    "        pie_mlae_s.append(pie_mlae)\n",
    "        \n",
    "    bar_data[i] = bar_mlae_s\n",
    "    pie_data[i] = pie_mlae_s\n",
    "    \n",
    "# swap vgg19 and xception *\n",
    "pie_data[3], pie_data[4] = pie_data[4], pie_data[3]\n",
    "bar_data[3], bar_data[4] = bar_data[4], bar_data[3]\n",
    "\n",
    "all_data = [pie_data, bar_data]\n",
    "\n",
    "## images\n",
    "data, labels = C.Figure3.generate_datapoint()\n",
    "bar_image = C.Figure3.data_to_barchart(data)\n",
    "pie_image = C.Figure3.data_to_piechart(data)\n",
    "\n",
    "bar_image = bar_image.astype(np.float32)\n",
    "bar_image += np.random.uniform(0, 0.05,(100,100))\n",
    "\n",
    "pie_image = pie_image.astype(np.float32)\n",
    "pie_image += np.random.uniform(0, 0.05,(100,100))\n",
    "images = [pie_image, bar_image]\n",
    "\n",
    "\n",
    "\n",
    "fig = plt.figure(figsize=(6,3), facecolor='white')\n",
    "gs = gridspec.GridSpec(2, 2, width_ratios=[.3,1], hspace=.3)\n",
    "\n",
    "j = 0 # grid index (running)\n",
    "\n",
    "rows = 2\n",
    "for row in range(rows):\n",
    "    \n",
    "    for i, c in enumerate(['Image', 'Human']+classifiers):\n",
    "        \n",
    "\n",
    "        \n",
    "        if i==0:\n",
    "            # this is the image\n",
    "\n",
    "            fig = plt.subplot(gs[j])\n",
    "            j += 1\n",
    "            \n",
    "            plt.title(titles[row].upper(), loc='left')\n",
    "\n",
    "            \n",
    "            ax = plt.gca()\n",
    "            from matplotlib.ticker import NullFormatter\n",
    "            ax.xaxis.set_major_formatter(NullFormatter())\n",
    "            ax.xaxis.set_ticks_position('none') \n",
    "            ax.yaxis.set_major_formatter(NullFormatter())\n",
    "            ax.yaxis.set_ticks_position('none') \n",
    "            plt.tight_layout()\n",
    "\n",
    "            ax.set_xticklabels('')\n",
    "            ax.set_yticklabels('')\n",
    "            \n",
    "            plt.imshow(images[row], cmap='Greys', interpolation='none')\n",
    "            \n",
    "            continue\n",
    "\n",
    "        #\n",
    "\n",
    "#         if row == 0:\n",
    "#             plt.title(c)\n",
    "\n",
    "        if i==1:\n",
    "\n",
    "            fig = plt.subplot(gs[j])\n",
    "            j += 1\n",
    "        \n",
    "#             if row > 4:\n",
    "#                 continue\n",
    "        \n",
    "            # this is human\n",
    "            means = human_values[row][0]\n",
    "            confidence = human_values[row][1]\n",
    "            \n",
    "            errorbars = plt.errorbar(means, 6-i, xerr=confidence, fmt='o',  color='black', label='Human')\n",
    "            continue\n",
    "\n",
    "    \n",
    "        data = [all_data[row][i-2]]\n",
    "#         print data\n",
    "        # grab the MIDMEANS\n",
    "        sorted_data = [sorted(r) for r in data]\n",
    "#         print sorted_data\n",
    "        quarter = len(sorted_data[0]) / 4 # always floor\n",
    "\n",
    "        data = [r[quarter:-quarter] for r in sorted_data]\n",
    "        \n",
    "        means = [np.mean(r) for r in data]\n",
    "        \n",
    "        confidence = [1.96*np.std(r) for r in data]\n",
    "\n",
    "\n",
    "        y_pos = 6-i#range(len(means))\n",
    "\n",
    "\n",
    "        plt.xlim(0,6.1)\n",
    "\n",
    "        ax = plt.gca()\n",
    "        ax.spines['top'].set_visible(False)\n",
    "        ax.spines['right'].set_visible(False)\n",
    "        ax.spines['bottom'].set_visible(False)\n",
    "        ax.spines['left'].set_visible(False)\n",
    "#         if row != 0:\n",
    "        ax.get_yaxis().set_ticks([])\n",
    "#         else:\n",
    "#     #             print labels\n",
    "#             ax.get_yaxis().set_ticks(range(len(labels))) # we set the labels here\n",
    "#             ax.get_yaxis().set_ticklabels(labels)\n",
    "\n",
    "        ax.get_xaxis().set_ticks(np.arange(0,7,6)) # mark the tange\n",
    "        ax.get_xaxis().set_ticks(np.arange(3,3.1), minor=True) # mark the center\n",
    "        ax.tick_params(axis=u'both', which=u'both',length=0)\n",
    "        \n",
    "        # remove tick marks\n",
    "        if row == 0:\n",
    "            from matplotlib.ticker import NullFormatter\n",
    "            ax.xaxis.set_major_formatter(NullFormatter())\n",
    "            ax.xaxis.set_ticks_position('none')\n",
    "\n",
    "        # grid lines for X\n",
    "        plt.grid(True, color='gray', which='major', axis='x', alpha=1)\n",
    "        plt.grid(True, color='gray', which='minor', axis='x', alpha=0.2)\n",
    "        \n",
    "        c_color = 'C'+str(i-2)\n",
    "        print i, c\n",
    "        if i == 4:\n",
    "            # vgg19 imagenet\n",
    "#             c = c+' *'\n",
    "            c_color = '#b2df8a'\n",
    "        elif i == 5:\n",
    "            # vgg from scratch\n",
    "#             c = c+'vg s'\n",
    "            c = 'VGG19'\n",
    "            c_color = 'C2'\n",
    "        elif i == 6:\n",
    "            # xcpetion imagenet\n",
    "            c = 'Xception *'\n",
    "            c_color = '#fb9a99'\n",
    "        elif i == 7:\n",
    "            # xception from scratch\n",
    "#             c = c+'x sc'\n",
    "#             c = 'Xception'\n",
    "            c_color = 'C3'\n",
    "\n",
    "        errorbars = plt.errorbar(means, y_pos, xerr=confidence, fmt='o', label=c, color=c_color)\n",
    "plt.legend(loc='right', bbox_to_anchor=(0.95, 0.5))\n",
    "plt.savefig('../PAPER/gfx/figure3_mlae_better_all.pdf', bbox_inches='tight', pad_inches=0)"
   ]
  },
  {
   "cell_type": "code",
   "execution_count": 131,
   "metadata": {},
   "outputs": [],
   "source": [
    "pie = []\n",
    "bar = []\n",
    "for i,c in enumerate(['MLP', 'LeNet', 'VGG19 *', 'Xception *', 'VGG19', 'Xception']):\n",
    "    pie += all_data[0][i]\n",
    "    bar += all_data[1][i]"
   ]
  },
  {
   "cell_type": "code",
   "execution_count": 133,
   "metadata": {},
   "outputs": [
    {
     "name": "stdout",
     "output_type": "stream",
     "text": [
      "Anova: Single Factor on data\n",
      "\n",
      "SUMMARY\n",
      " Groups     Count     Sum     Average   Variance \n",
      "================================================\n",
      "Bar Chart      56   121.866     2.176      0.211 \n",
      "Pie Chart      56   184.568     3.296      0.604 \n",
      "\n",
      "O'BRIEN TEST FOR HOMOGENEITY OF VARIANCE\n",
      "Source of Variation     SS     df     MS       F     P-value   eta^2   Obs. power \n",
      "=================================================================================\n",
      "Treatments             4.326     1   4.326   6.497     0.012   0.056        0.698 \n",
      "Error                 73.247   110   0.666                                        \n",
      "=================================================================================\n",
      "Total                 77.574   111                                                \n",
      "\n",
      "ANOVA\n",
      "Source of Variation     SS     df      MS       F       P-value    eta^2   Obs. power \n",
      "=====================================================================================\n",
      "Treatments            35.103     1   35.103   86.061   1.776e-15   0.439        1.000 \n",
      "Error                 44.868   110    0.408                                           \n",
      "=====================================================================================\n",
      "Total                 79.971   111                                                    \n",
      "\n",
      "POSTHOC MULTIPLE COMPARISONS\n",
      "\n",
      "Tukey HSD: Table of q-statistics\n",
      "            Bar Chart   Pie Chart \n",
      "=================================\n",
      "Bar Chart   0           13.120 ** \n",
      "Pie Chart               0         \n",
      "=================================\n",
      "  + p < .10 (q-critical[2, 110] = 2.34593166342)\n",
      "  * p < .05 (q-critical[2, 110] = 2.80263933937)\n",
      " ** p < .01 (q-critical[2, 110] = 3.70702786722)\n"
     ]
    }
   ],
   "source": [
    "df = DataFrame()\n",
    "df['data'] = pie+bar\n",
    "df['conditions'] = ['Pie Chart']*len(pie) + ['Bar Chart']*len(bar)\n",
    "\n",
    "aov_pyvttbl = df.anova1way('data', 'conditions')\n",
    "print aov_pyvttbl"
   ]
  },
  {
   "cell_type": "code",
   "execution_count": 134,
   "metadata": {},
   "outputs": [
    {
     "name": "stdout",
     "output_type": "stream",
     "text": [
      "3.29585162512 0.770475887705\n",
      "2.17617296117 0.455602337792\n"
     ]
    }
   ],
   "source": [
    "print np.mean(pie), np.std(pie)\n",
    "print np.mean(bar), np.std(bar)"
   ]
  },
  {
   "cell_type": "code",
   "execution_count": 139,
   "metadata": {
    "scrolled": false
   },
   "outputs": [
    {
     "name": "stdout",
     "output_type": "stream",
     "text": [
      "----------------------------------------------------------------------------------------------------------------------------------------------------------------\n",
      "MLP\n",
      "pie $ 4.09 $ ($SD= 0.027 $)\n",
      "bar $ 2.494 $ ($SD= 0.068 $)\n",
      "Anova: Single Factor on data\n",
      "\n",
      "SUMMARY\n",
      " Groups     Count    Sum     Average   Variance  \n",
      "================================================\n",
      "Bar Chart      12   29.933     2.494       0.005 \n",
      "Pie Chart      12   49.086     4.090   8.115e-04 \n",
      "\n",
      "O'BRIEN TEST FOR HOMOGENEITY OF VARIANCE\n",
      "Source of Variation      SS       df      MS         F     P-value   eta^2   Obs. power \n",
      "=======================================================================================\n",
      "Treatments            1.071e-04    1   1.071e-04   2.740     0.112   0.111        0.345 \n",
      "Error                 8.602e-04   22   3.910e-05                                        \n",
      "=======================================================================================\n",
      "Total                 9.673e-04   23                                                    \n",
      "\n",
      "ANOVA\n",
      "Source of Variation     SS     df     MS        F        P-value    eta^2   Obs. power \n",
      "======================================================================================\n",
      "Treatments            15.285    1   15.285   5227.326   1.181e-27   0.996        0.997 \n",
      "Error                  0.064   22    0.003                                             \n",
      "======================================================================================\n",
      "Total                 15.349   23                                                      \n",
      "\n",
      "POSTHOC MULTIPLE COMPARISONS\n",
      "\n",
      "Tukey HSD: Table of q-statistics\n",
      "            Bar Chart   Pie Chart  \n",
      "==================================\n",
      "Bar Chart   0           102.248 ** \n",
      "Pie Chart               0          \n",
      "==================================\n",
      "  + p < .10 (q-critical[2, 22] = 2.4284088628)\n",
      "  * p < .05 (q-critical[2, 22] = 2.93289941927)\n",
      " ** p < .01 (q-critical[2, 22] = 3.98632304992)\n",
      "72.3002472504 6.55551418827e-20\n",
      "----------------------------------------------------------------------------------------------------------------------------------------------------------------\n",
      "LeNet\n",
      "pie $ 3.556 $ ($SD= 0.022 $)\n",
      "bar $ 1.902 $ ($SD= 0.08 $)\n",
      "Anova: Single Factor on data\n",
      "\n",
      "SUMMARY\n",
      " Groups     Count    Sum     Average   Variance  \n",
      "================================================\n",
      "Bar Chart      12   22.822     1.902       0.007 \n",
      "Pie Chart      12   42.675     3.556   5.371e-04 \n",
      "\n",
      "O'BRIEN TEST FOR HOMOGENEITY OF VARIANCE\n",
      "Source of Variation      SS       df      MS         F     P-value   eta^2   Obs. power \n",
      "=======================================================================================\n",
      "Treatments            2.489e-04    1   2.489e-04   4.905     0.037   0.182        0.516 \n",
      "Error                     0.001   22   5.075e-05                                        \n",
      "=======================================================================================\n",
      "Total                     0.001   23                                                    \n",
      "\n",
      "ANOVA\n",
      "Source of Variation     SS     df     MS        F        P-value    eta^2   Obs. power \n",
      "======================================================================================\n",
      "Treatments            16.423    1   16.423   4370.638   8.384e-27   0.995        0.997 \n",
      "Error                  0.083   22    0.004                                             \n",
      "======================================================================================\n",
      "Total                 16.506   23                                                      \n",
      "\n",
      "POSTHOC MULTIPLE COMPARISONS\n",
      "\n",
      "Tukey HSD: Table of q-statistics\n",
      "            Bar Chart   Pie Chart \n",
      "=================================\n",
      "Bar Chart   0           93.495 ** \n",
      "Pie Chart               0         \n",
      "=================================\n",
      "  + p < .10 (q-critical[2, 22] = 2.4284088628)\n",
      "  * p < .05 (q-critical[2, 22] = 2.93289941927)\n",
      " ** p < .01 (q-critical[2, 22] = 3.98632304992)\n",
      "66.1107976303 1.75246720414e-17\n",
      "----------------------------------------------------------------------------------------------------------------------------------------------------------------\n",
      "VGG19 *\n",
      "pie $ 3.561 $ ($SD= 0.047 $)\n",
      "bar $ 2.601 $ ($SD= 0.113 $)\n",
      "Anova: Single Factor on data\n",
      "\n",
      "SUMMARY\n",
      " Groups     Count    Sum     Average   Variance \n",
      "===============================================\n",
      "Bar Chart      12   31.217     2.601      0.014 \n",
      "Pie Chart      12   42.737     3.561      0.002 \n",
      "\n",
      "O'BRIEN TEST FOR HOMOGENEITY OF VARIANCE\n",
      "Source of Variation      SS       df      MS         F     P-value   eta^2   Obs. power \n",
      "=======================================================================================\n",
      "Treatments            8.076e-04    1   8.076e-04   7.288     0.013   0.249        0.647 \n",
      "Error                     0.002   22   1.108e-04                                        \n",
      "=======================================================================================\n",
      "Total                     0.003   23                                                    \n",
      "\n",
      "ANOVA\n",
      "Source of Variation    SS     df    MS        F       P-value    eta^2   Obs. power \n",
      "===================================================================================\n",
      "Treatments            5.529    1   5.529   671.805   5.562e-18   0.968        0.996 \n",
      "Error                 0.181   22   0.008                                            \n",
      "===================================================================================\n",
      "Total                 5.710   23                                                    \n",
      "\n",
      "POSTHOC MULTIPLE COMPARISONS\n",
      "\n",
      "Tukey HSD: Table of q-statistics\n",
      "            Bar Chart   Pie Chart \n",
      "=================================\n",
      "Bar Chart   0           36.655 ** \n",
      "Pie Chart               0         \n",
      "=================================\n",
      "  + p < .10 (q-critical[2, 22] = 2.4284088628)\n",
      "  * p < .05 (q-critical[2, 22] = 2.93289941927)\n",
      " ** p < .01 (q-critical[2, 22] = 3.98632304992)\n",
      "25.9191968606 1.11327181731e-13\n",
      "----------------------------------------------------------------------------------------------------------------------------------------------------------------\n",
      "VGG19\n",
      "pie $ 1.297 $ ($SD= 0.129 $)\n",
      "bar $ 1.153 $ ($SD= 0.09 $)\n",
      "Anova: Single Factor on data\n",
      "\n",
      "SUMMARY\n",
      " Groups     Count    Sum    Average   Variance \n",
      "==============================================\n",
      "Bar Chart       4   4.610     1.153      0.011 \n",
      "Pie Chart       4   5.188     1.297      0.022 \n",
      "\n",
      "O'BRIEN TEST FOR HOMOGENEITY OF VARIANCE\n",
      "Source of Variation      SS       df      MS         F     P-value   eta^2   Obs. power \n",
      "=======================================================================================\n",
      "Treatments            2.516e-04    1   2.516e-04   0.473     0.517   0.073        0.100 \n",
      "Error                     0.003    6   5.317e-04                                        \n",
      "=======================================================================================\n",
      "Total                     0.003    7                                                    \n",
      "\n",
      "ANOVA\n",
      "Source of Variation    SS     df    MS       F     P-value   eta^2   Obs. power \n",
      "===============================================================================\n",
      "Treatments            0.042    1   0.042   2.524     0.163   0.296        0.255 \n",
      "Error                 0.099    6   0.017                                        \n",
      "===============================================================================\n",
      "Total                 0.141    7                                                \n",
      "\n",
      "POSTHOC MULTIPLE COMPARISONS\n",
      "\n",
      "Tukey HSD: Table of q-statistics\n",
      "            Bar Chart   Pie Chart \n",
      "=================================\n",
      "Bar Chart   0           2.247 ns  \n",
      "Pie Chart               0         \n",
      "=================================\n",
      "  + p < .10 (q-critical[2, 6] = 2.74807190667)\n",
      "  * p < .05 (q-critical[2, 6] = 3.46045592249)\n",
      " ** p < .01 (q-critical[2, 6] = 5.24309498928)\n",
      "1.58867121421 0.168883388059\n",
      "----------------------------------------------------------------------------------------------------------------------------------------------------------------\n",
      "Xception *\n",
      "pie $ 3.094 $ ($SD= 0.046 $)\n",
      "bar $ 2.315 $ ($SD= 0.032 $)\n",
      "Anova: Single Factor on data\n",
      "\n",
      "SUMMARY\n",
      " Groups     Count    Sum     Average   Variance \n",
      "===============================================\n",
      "Bar Chart      12   27.783     2.315      0.001 \n",
      "Pie Chart      12   37.125     3.094      0.002 \n",
      "\n",
      "O'BRIEN TEST FOR HOMOGENEITY OF VARIANCE\n",
      "Source of Variation      SS       df      MS         F     P-value   eta^2   Obs. power \n",
      "=======================================================================================\n",
      "Treatments            8.873e-06    1   8.873e-06   2.099     0.161   0.087        0.282 \n",
      "Error                 9.299e-05   22   4.227e-06                                        \n",
      "=======================================================================================\n",
      "Total                 1.019e-04   23                                                    \n",
      "\n",
      "ANOVA\n",
      "Source of Variation    SS     df    MS        F        P-value    eta^2   Obs. power \n",
      "====================================================================================\n",
      "Treatments            3.637    1   3.637   2146.343   1.982e-23   0.990        0.996 \n",
      "Error                 0.037   22   0.002                                             \n",
      "====================================================================================\n",
      "Total                 3.674   23                                                     \n",
      "\n",
      "POSTHOC MULTIPLE COMPARISONS\n",
      "\n",
      "Tukey HSD: Table of q-statistics\n",
      "            Bar Chart   Pie Chart \n",
      "=================================\n",
      "Bar Chart   0           65.519 ** \n",
      "Pie Chart               0         \n",
      "=================================\n",
      "  + p < .10 (q-critical[2, 22] = 2.4284088628)\n",
      "  * p < .05 (q-critical[2, 22] = 2.93289941927)\n",
      " ** p < .01 (q-critical[2, 22] = 3.98632304992)\n",
      "46.3286439637 2.07282088477e-21\n",
      "----------------------------------------------------------------------------------------------------------------------------------------------------------------\n",
      "Xception\n",
      "pie $ 1.939 $ ($SD= 0.1 $)\n",
      "bar $ 1.375 $ ($SD= 0.062 $)\n",
      "Anova: Single Factor on data\n",
      "\n",
      "SUMMARY\n",
      " Groups     Count    Sum    Average   Variance \n",
      "==============================================\n",
      "Bar Chart       4   5.501     1.375      0.005 \n",
      "Pie Chart       4   7.757     1.939      0.013 \n",
      "\n",
      "O'BRIEN TEST FOR HOMOGENEITY OF VARIANCE\n",
      "Source of Variation      SS       df      MS         F     P-value   eta^2   Obs. power \n",
      "=======================================================================================\n",
      "Treatments            1.342e-04    1   1.342e-04   0.672     0.444   0.101        0.119 \n",
      "Error                     0.001    6   1.997e-04                                        \n",
      "=======================================================================================\n",
      "Total                     0.001    7                                                    \n",
      "\n",
      "ANOVA\n",
      "Source of Variation    SS     df    MS       F       P-value    eta^2   Obs. power \n",
      "==================================================================================\n",
      "Treatments            0.636    1   0.636   68.500   1.684e-04   0.919        0.621 \n",
      "Error                 0.056    6   0.009                                           \n",
      "==================================================================================\n",
      "Total                 0.692    7                                                   \n",
      "\n",
      "POSTHOC MULTIPLE COMPARISONS\n",
      "\n",
      "Tukey HSD: Table of q-statistics\n",
      "            Bar Chart   Pie Chart \n",
      "=================================\n",
      "Bar Chart   0           11.705 ** \n",
      "Pie Chart               0         \n",
      "=================================\n",
      "  + p < .10 (q-critical[2, 6] = 2.74807190667)\n",
      "  * p < .05 (q-critical[2, 6] = 3.46045592249)\n",
      " ** p < .01 (q-critical[2, 6] = 5.24309498928)\n",
      "8.27646605815 0.000410981778976\n"
     ]
    }
   ],
   "source": [
    "for i,c in enumerate(['MLP', 'LeNet', 'VGG19 *', 'VGG19', 'Xception *', 'Xception']):\n",
    "    \n",
    "    print '--'*80\n",
    "    print c\n",
    "    pie = all_data[0][i]\n",
    "    bar = all_data[1][i]\n",
    "    print 'pie', '$',np.round(np.mean(pie),3),'$ ($SD=', np.round(np.std(pie),3),'$)'\n",
    "    print 'bar', '$',np.round(np.mean(bar),3),'$ ($SD=', np.round(np.std(bar),3),'$)'\n",
    "    df = DataFrame()\n",
    "    df['data'] = pie+bar\n",
    "    df['conditions'] = ['Pie Chart']*len(pie) + ['Bar Chart']*len(bar)\n",
    "\n",
    "    aov_pyvttbl = df.anova1way('data', 'conditions')\n",
    "    print aov_pyvttbl\n",
    "    \n",
    "    t, p = ttest_ind(pie, bar, equal_var=False)\n",
    "    print t,p"
   ]
  },
  {
   "cell_type": "code",
   "execution_count": null,
   "metadata": {
    "collapsed": true
   },
   "outputs": [],
   "source": []
  }
 ],
 "metadata": {
  "kernelspec": {
   "display_name": "Python 2",
   "language": "python",
   "name": "python2"
  },
  "language_info": {
   "codemirror_mode": {
    "name": "ipython",
    "version": 2
   },
   "file_extension": ".py",
   "mimetype": "text/x-python",
   "name": "python",
   "nbconvert_exporter": "python",
   "pygments_lexer": "ipython2",
   "version": "2.7.14"
  }
 },
 "nbformat": 4,
 "nbformat_minor": 2
}
