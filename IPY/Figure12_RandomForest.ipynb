{
 "cells": [
  {
   "cell_type": "code",
   "execution_count": 2,
   "metadata": {},
   "outputs": [
    {
     "name": "stdout",
     "output_type": "stream",
     "text": [
      "Running Figure12 on dataset 1 Framed with RandomForestSparse\n"
     ]
    }
   ],
   "source": [
    "from sklearn.model_selection import RepeatedStratifiedKFold \n",
    "from keras import models\n",
    "from keras import layers\n",
    "from keras import optimizers\n",
    "import keras.applications\n",
    "from keras.utils.np_utils import to_categorical\n",
    "\n",
    "import cPickle as pickle\n",
    "import numpy as np\n",
    "import os\n",
    "import sys\n",
    "import time\n",
    "\n",
    "sys.path.append('../EXP/')\n",
    "import ClevelandMcGill as C\n",
    "\n",
    "\n",
    "EXPERIMENT = 'Figure12'\n",
    "DATASET = 1\n",
    "FEATUREGENERATOR = 'RandomForestSparse'\n",
    "FRAMED = 'Framed'\n",
    "\n",
    "#\n",
    "#\n",
    "#\n",
    "print 'Running', EXPERIMENT, 'on dataset', DATASET, FRAMED, 'with', FEATUREGENERATOR\n",
    "\n",
    "\n",
    "EPOCHS = 10\n",
    "FRAMED_BOOL = (FRAMED == 'Framed')\n",
    "NO_SPLITS = 10\n",
    "NO_REPEATS = 4\n",
    "BATCH_SIZE = 32\n",
    "\n",
    "FEATUREGENERATORS = {'RandomForestSparse': 'RandomForestSparse',\n",
    "                     'MLP': 'Just MLP',\n",
    "                     'LeNet': 'LeNet',\n",
    "                     'VGG19': keras.applications.VGG19,\n",
    "                     'Xception': keras.applications.Xception,\n",
    "                     'DenseNet201': keras.applications.DenseNet201}\n",
    "\n",
    "\n",
    "#\n",
    "#\n",
    "# We store now a folder structure:\n",
    "#   RESULTS/Experiment/Dataset/FeatureGenerator/Framed/EPOCHS_NOSPLITS_NOREPEATS_INDEX.p\n",
    "#\n",
    "# INDEX is the index of the current run\n",
    "#\n",
    "OUTPUT_DIRECTORY = os.path.join('../RESULTS_NEW/', EXPERIMENT, str(DATASET), FEATUREGENERATOR, FRAMED)\n",
    "if not os.path.exists(OUTPUT_DIRECTORY):\n",
    "  os.makedirs(OUTPUT_DIRECTORY)\n",
    "\n",
    "\n",
    "#\n",
    "#\n",
    "# LOAD DATA\n",
    "#\n",
    "#\n",
    "if EXPERIMENT == 'Figure12':\n",
    "  if FEATUREGENERATOR == 'RandomForestSparse':\n",
    "    X, y = C.Figure12.load(dataset=int(DATASET),preview=False, images=False)\n",
    "  else:\n",
    "    images, framed_images, labels = C.Figure12.load(dataset=int(DATASET),preview=False)\n",
    "\n",
    "    if FRAMED_BOOL:\n",
    "      X = framed_images\n",
    "    else:\n",
    "      X = images\n",
    "\n",
    "    X = np.stack((X,)*3, -1) # make sure we have RGB\n",
    "    X = X.astype(np.float32)-.5 # normalize\n",
    "    y = labels\n"
   ]
  },
  {
   "cell_type": "code",
   "execution_count": 7,
   "metadata": {},
   "outputs": [
    {
     "data": {
      "text/plain": [
       "([20, 20, 20, 62, 60, 20, 20, 63], True)"
      ]
     },
     "execution_count": 7,
     "metadata": {},
     "output_type": "execute_result"
    }
   ],
   "source": [
    "X[0], y[0]"
   ]
  },
  {
   "cell_type": "code",
   "execution_count": 5,
   "metadata": {},
   "outputs": [],
   "source": [
    "from sklearn.ensemble import RandomForestClassifier"
   ]
  },
  {
   "cell_type": "code",
   "execution_count": null,
   "metadata": {
    "collapsed": true
   },
   "outputs": [],
   "source": []
  }
 ],
 "metadata": {
  "kernelspec": {
   "display_name": "Python 2",
   "language": "python",
   "name": "python2"
  },
  "language_info": {
   "codemirror_mode": {
    "name": "ipython",
    "version": 2
   },
   "file_extension": ".py",
   "mimetype": "text/x-python",
   "name": "python",
   "nbconvert_exporter": "python",
   "pygments_lexer": "ipython2",
   "version": "2.7.14"
  }
 },
 "nbformat": 4,
 "nbformat_minor": 2
}
