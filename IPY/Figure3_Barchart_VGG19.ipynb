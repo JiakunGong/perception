{
 "cells": [
  {
   "cell_type": "code",
   "execution_count": 1,
   "metadata": {},
   "outputs": [
    {
     "name": "stdout",
     "output_type": "stream",
     "text": [
      "Populating the interactive namespace from numpy and matplotlib\n"
     ]
    }
   ],
   "source": [
    "%pylab inline\n",
    "%load_ext autoreload\n",
    "%autoreload 2\n",
    "\n",
    "from jupyterthemes import jtplot\n",
    "jtplot.style()"
   ]
  },
  {
   "cell_type": "code",
   "execution_count": 2,
   "metadata": {},
   "outputs": [
    {
     "data": {
      "text/plain": [
       "<module 'ClevelandMcGill' from '../EXP/ClevelandMcGill/__init__.pyc'>"
      ]
     },
     "execution_count": 2,
     "metadata": {},
     "output_type": "execute_result"
    }
   ],
   "source": [
    "import os, sys, time\n",
    "import cPickle as pickle\n",
    "sys.path.append('../EXP/')\n",
    "import ClevelandMcGill as C\n",
    "reload(C)"
   ]
  },
  {
   "cell_type": "code",
   "execution_count": 3,
   "metadata": {
    "collapsed": true
   },
   "outputs": [],
   "source": [
    "NOISE = True"
   ]
  },
  {
   "cell_type": "code",
   "execution_count": 122,
   "metadata": {},
   "outputs": [
    {
     "ename": "KeyboardInterrupt",
     "evalue": "",
     "output_type": "error",
     "traceback": [
      "\u001b[0;31m---------------------------------------------------------------------------\u001b[0m",
      "\u001b[0;31mKeyboardInterrupt\u001b[0m                         Traceback (most recent call last)",
      "\u001b[0;32m<ipython-input-122-a25fd54b427a>\u001b[0m in \u001b[0;36m<module>\u001b[0;34m()\u001b[0m\n\u001b[1;32m     76\u001b[0m   \u001b[0;32melif\u001b[0m \u001b[0mpot\u001b[0m \u001b[0;34m==\u001b[0m \u001b[0;36m2\u001b[0m \u001b[0;32mand\u001b[0m \u001b[0mtest_counter\u001b[0m \u001b[0;34m<\u001b[0m \u001b[0mtest_target\u001b[0m\u001b[0;34m:\u001b[0m\u001b[0;34m\u001b[0m\u001b[0m\n\u001b[1;32m     77\u001b[0m     \u001b[0;31m# a test candidate\u001b[0m\u001b[0;34m\u001b[0m\u001b[0;34m\u001b[0m\u001b[0m\n\u001b[0;32m---> 78\u001b[0;31m     \u001b[0;32mif\u001b[0m \u001b[0min_array\u001b[0m\u001b[0;34m(\u001b[0m\u001b[0my_val\u001b[0m\u001b[0;34m,\u001b[0m \u001b[0mlabel\u001b[0m\u001b[0;34m)\u001b[0m \u001b[0;32mor\u001b[0m \u001b[0min_array\u001b[0m\u001b[0;34m(\u001b[0m\u001b[0my_train\u001b[0m\u001b[0;34m,\u001b[0m \u001b[0mlabel\u001b[0m\u001b[0;34m)\u001b[0m\u001b[0;34m:\u001b[0m\u001b[0;34m\u001b[0m\u001b[0m\n\u001b[0m\u001b[1;32m     79\u001b[0m       \u001b[0;31m# no thank you\u001b[0m\u001b[0;34m\u001b[0m\u001b[0;34m\u001b[0m\u001b[0m\n\u001b[1;32m     80\u001b[0m       \u001b[0;32mcontinue\u001b[0m\u001b[0;34m\u001b[0m\u001b[0m\n",
      "\u001b[0;32m<ipython-input-122-a25fd54b427a>\u001b[0m in \u001b[0;36min_array\u001b[0;34m(haystack, needle)\u001b[0m\n\u001b[1;32m      1\u001b[0m \u001b[0;32mdef\u001b[0m \u001b[0min_array\u001b[0m\u001b[0;34m(\u001b[0m\u001b[0mhaystack\u001b[0m\u001b[0;34m,\u001b[0m \u001b[0mneedle\u001b[0m\u001b[0;34m)\u001b[0m\u001b[0;34m:\u001b[0m\u001b[0;34m\u001b[0m\u001b[0m\n\u001b[1;32m      2\u001b[0m   \u001b[0;32mfor\u001b[0m \u001b[0mh\u001b[0m \u001b[0;32min\u001b[0m \u001b[0mhaystack\u001b[0m\u001b[0;34m:\u001b[0m\u001b[0;34m\u001b[0m\u001b[0m\n\u001b[0;32m----> 3\u001b[0;31m     \u001b[0;32mif\u001b[0m \u001b[0mnp\u001b[0m\u001b[0;34m.\u001b[0m\u001b[0marray_equal\u001b[0m\u001b[0;34m(\u001b[0m\u001b[0mneedle\u001b[0m\u001b[0;34m,\u001b[0m \u001b[0mh\u001b[0m\u001b[0;34m)\u001b[0m\u001b[0;34m:\u001b[0m\u001b[0;34m\u001b[0m\u001b[0m\n\u001b[0m\u001b[1;32m      4\u001b[0m       \u001b[0;32mreturn\u001b[0m \u001b[0mTrue\u001b[0m\u001b[0;34m\u001b[0m\u001b[0m\n\u001b[1;32m      5\u001b[0m   \u001b[0;32mreturn\u001b[0m \u001b[0mFalse\u001b[0m\u001b[0;34m\u001b[0m\u001b[0m\n",
      "\u001b[0;32m/home/d/anaconda2/envs/CP/lib/python2.7/site-packages/numpy/core/numeric.pyc\u001b[0m in \u001b[0;36marray_equal\u001b[0;34m(a1, a2)\u001b[0m\n\u001b[1;32m   2602\u001b[0m     \u001b[0;32mif\u001b[0m \u001b[0ma1\u001b[0m\u001b[0;34m.\u001b[0m\u001b[0mshape\u001b[0m \u001b[0;34m!=\u001b[0m \u001b[0ma2\u001b[0m\u001b[0;34m.\u001b[0m\u001b[0mshape\u001b[0m\u001b[0;34m:\u001b[0m\u001b[0;34m\u001b[0m\u001b[0m\n\u001b[1;32m   2603\u001b[0m         \u001b[0;32mreturn\u001b[0m \u001b[0mFalse\u001b[0m\u001b[0;34m\u001b[0m\u001b[0m\n\u001b[0;32m-> 2604\u001b[0;31m     \u001b[0;32mreturn\u001b[0m \u001b[0mbool\u001b[0m\u001b[0;34m(\u001b[0m\u001b[0masarray\u001b[0m\u001b[0;34m(\u001b[0m\u001b[0ma1\u001b[0m \u001b[0;34m==\u001b[0m \u001b[0ma2\u001b[0m\u001b[0;34m)\u001b[0m\u001b[0;34m.\u001b[0m\u001b[0mall\u001b[0m\u001b[0;34m(\u001b[0m\u001b[0;34m)\u001b[0m\u001b[0;34m)\u001b[0m\u001b[0;34m\u001b[0m\u001b[0m\n\u001b[0m\u001b[1;32m   2605\u001b[0m \u001b[0;34m\u001b[0m\u001b[0m\n\u001b[1;32m   2606\u001b[0m \u001b[0;34m\u001b[0m\u001b[0m\n",
      "\u001b[0;32m/home/d/anaconda2/envs/CP/lib/python2.7/site-packages/numpy/core/_methods.pyc\u001b[0m in \u001b[0;36m_all\u001b[0;34m(a, axis, dtype, out, keepdims)\u001b[0m\n\u001b[1;32m     39\u001b[0m \u001b[0;34m\u001b[0m\u001b[0m\n\u001b[1;32m     40\u001b[0m \u001b[0;32mdef\u001b[0m \u001b[0m_all\u001b[0m\u001b[0;34m(\u001b[0m\u001b[0ma\u001b[0m\u001b[0;34m,\u001b[0m \u001b[0maxis\u001b[0m\u001b[0;34m=\u001b[0m\u001b[0mNone\u001b[0m\u001b[0;34m,\u001b[0m \u001b[0mdtype\u001b[0m\u001b[0;34m=\u001b[0m\u001b[0mNone\u001b[0m\u001b[0;34m,\u001b[0m \u001b[0mout\u001b[0m\u001b[0;34m=\u001b[0m\u001b[0mNone\u001b[0m\u001b[0;34m,\u001b[0m \u001b[0mkeepdims\u001b[0m\u001b[0;34m=\u001b[0m\u001b[0mFalse\u001b[0m\u001b[0;34m)\u001b[0m\u001b[0;34m:\u001b[0m\u001b[0;34m\u001b[0m\u001b[0m\n\u001b[0;32m---> 41\u001b[0;31m     \u001b[0;32mreturn\u001b[0m \u001b[0mumr_all\u001b[0m\u001b[0;34m(\u001b[0m\u001b[0ma\u001b[0m\u001b[0;34m,\u001b[0m \u001b[0maxis\u001b[0m\u001b[0;34m,\u001b[0m \u001b[0mdtype\u001b[0m\u001b[0;34m,\u001b[0m \u001b[0mout\u001b[0m\u001b[0;34m,\u001b[0m \u001b[0mkeepdims\u001b[0m\u001b[0;34m)\u001b[0m\u001b[0;34m\u001b[0m\u001b[0m\n\u001b[0m\u001b[1;32m     42\u001b[0m \u001b[0;34m\u001b[0m\u001b[0m\n\u001b[1;32m     43\u001b[0m \u001b[0;32mdef\u001b[0m \u001b[0m_count_reduce_items\u001b[0m\u001b[0;34m(\u001b[0m\u001b[0marr\u001b[0m\u001b[0;34m,\u001b[0m \u001b[0maxis\u001b[0m\u001b[0;34m)\u001b[0m\u001b[0;34m:\u001b[0m\u001b[0;34m\u001b[0m\u001b[0m\n",
      "\u001b[0;31mKeyboardInterrupt\u001b[0m: "
     ]
    }
   ],
   "source": [
    "def in_array(haystack, needle):\n",
    "  for h in haystack:\n",
    "    if np.array_equal(needle, h):\n",
    "      return True\n",
    "  return False\n",
    "\n",
    "train_target = 60000\n",
    "val_target = 20000\n",
    "test_target = 20000\n",
    "\n",
    "X_train = np.zeros((train_target, 100, 100), dtype=np.float32)\n",
    "y_train = np.zeros((train_target, 5), dtype=np.float32)\n",
    "train_counter = 0\n",
    "\n",
    "X_val = np.zeros((val_target, 100, 100), dtype=np.float32)\n",
    "y_val = np.zeros((val_target, 5), dtype=np.float32)\n",
    "val_counter = 0\n",
    "\n",
    "X_test = np.zeros((test_target, 100, 100), dtype=np.float32)\n",
    "y_test = np.zeros((test_target, 5), dtype=np.float32)\n",
    "test_counter = 0\n",
    "\n",
    "t0 = time.time()\n",
    "\n",
    "all_counter = 0\n",
    "while train_counter < train_target or val_counter < val_target or test_counter < test_target:\n",
    "  \n",
    "  all_counter += 1\n",
    "  \n",
    "  data, label = C.Figure3.generate_datapoint()\n",
    "  \n",
    "  \n",
    "\n",
    "  \n",
    "  \n",
    "  pot = np.random.choice(3, p=([.6,.2,.2]))\n",
    "\n",
    "  if pot == 0 and train_counter < train_target:\n",
    "    # a training candidate\n",
    "    if in_array(y_val, label) or in_array(y_test, label):\n",
    "      # no thank you\n",
    "      continue\n",
    "      \n",
    "    #\n",
    "    image = C.Figure3.data_to_barchart(data)\n",
    "    image = image.astype(np.float32)\n",
    "      \n",
    "    # add noise?\n",
    "    if NOISE:\n",
    "      image += np.random.uniform(0, 0.05,(100,100))\n",
    "      \n",
    "    # safe to add to training\n",
    "    X_train[train_counter] = image\n",
    "    y_train[train_counter] = label\n",
    "    train_counter += 1\n",
    "    \n",
    "  elif pot == 1 and val_counter < val_target:\n",
    "    # a validation candidate\n",
    "    if in_array(y_test, label) or in_array(y_train, label):\n",
    "      # no thank you\n",
    "      continue\n",
    "      \n",
    "    #\n",
    "    image = C.Figure3.data_to_barchart(data)\n",
    "    image = image.astype(np.float32)\n",
    "      \n",
    "    # add noise?\n",
    "    if NOISE:\n",
    "      image += np.random.uniform(0, 0.05,(100,100))\n",
    "      \n",
    "    # safe to add to validation\n",
    "    X_val[val_counter] = image\n",
    "    y_val[val_counter] = label\n",
    "    val_counter += 1\n",
    "  \n",
    "  elif pot == 2 and test_counter < test_target:\n",
    "    # a test candidate\n",
    "    if in_array(y_val, label) or in_array(y_train, label):\n",
    "      # no thank you\n",
    "      continue\n",
    "      \n",
    "    #\n",
    "    image = C.Figure3.data_to_barchart(data)\n",
    "    image = image.astype(np.float32)\n",
    "      \n",
    "    # add noise?\n",
    "    if NOISE:\n",
    "      image += np.random.uniform(0, 0.05,(100,100))\n",
    "      \n",
    "    # safe to add to test\n",
    "    X_test[test_counter] = image\n",
    "    y_test[test_counter] = label\n",
    "    test_counter += 1\n",
    "  \n",
    "  \n",
    "  \n",
    "print 'Done', time.time()-t0, 'seconds (', all_counter, 'iterations)'"
   ]
  },
  {
   "cell_type": "code",
   "execution_count": null,
   "metadata": {
    "collapsed": true
   },
   "outputs": [],
   "source": []
  },
  {
   "cell_type": "code",
   "execution_count": 102,
   "metadata": {},
   "outputs": [
    {
     "data": {
      "text/plain": [
       "<matplotlib.image.AxesImage at 0x7fa8a6e48450>"
      ]
     },
     "execution_count": 102,
     "metadata": {},
     "output_type": "execute_result"
    },
    {
     "data": {
      "image/png": "[encoded data removed]",
      "text/plain": [
       "<matplotlib.figure.Figure at 0x7fa8a69a4c10>"
      ]
     },
     "metadata": {},
     "output_type": "display_data"
    }
   ],
   "source": [
    "imshow(X_train[9])"
   ]
  },
  {
   "cell_type": "code",
   "execution_count": 103,
   "metadata": {},
   "outputs": [
    {
     "name": "stdout",
     "output_type": "stream",
     "text": [
      "[ 1.          0.48717949  0.23076923  0.15384616  0.69230771]\n"
     ]
    }
   ],
   "source": [
    "print y_train[9]"
   ]
  },
  {
   "cell_type": "code",
   "execution_count": 112,
   "metadata": {},
   "outputs": [
    {
     "name": "stdout",
     "output_type": "stream",
     "text": [
      "memory usage 4.002 MB\n"
     ]
    }
   ],
   "source": [
    "X_min = min(X_train.min(), X_val.min(), X_test.min())\n",
    "X_max = max(X_train.max(), X_val.max(), X_test.max())\n",
    "y_min = min(y_train.min(), y_val.min(), y_test.min())\n",
    "y_max = max(y_train.max(), y_val.max(), y_test.max())\n",
    "\n",
    "# scale in place\n",
    "X_train -= X_min\n",
    "X_train /= (X_max - X_min)\n",
    "X_val -= X_min\n",
    "X_val /= (X_max - X_min)\n",
    "X_test -= X_min\n",
    "X_test /= (X_max - X_min)\n",
    "y_train -= y_min\n",
    "y_train /= (y_max - y_min)\n",
    "y_val -= y_min\n",
    "y_val /= (y_max - y_min)\n",
    "y_test -= y_min\n",
    "y_test /= (y_max - y_min)\n",
    "\n",
    "# normalize to -.5 .. .5\n",
    "X_train -= .5\n",
    "X_val -= .5\n",
    "X_test -= .5\n",
    "\n",
    "print 'memory usage', (X_train.nbytes + X_val.nbytes + X_test.nbytes + y_train.nbytes + y_val.nbytes + y_test.nbytes) / 1000000., 'MB'"
   ]
  },
  {
   "cell_type": "code",
   "execution_count": 113,
   "metadata": {},
   "outputs": [
    {
     "name": "stdout",
     "output_type": "stream",
     "text": [
      "memory usage 12.0 MB\n"
     ]
    }
   ],
   "source": [
    "X_train_3D = np.stack((X_train,)*3, -1)\n",
    "X_val_3D = np.stack((X_val,)*3, -1)\n",
    "X_test_3D = np.stack((X_test,)*3, -1)\n",
    "print 'memory usage', (X_train_3D.nbytes + X_val_3D.nbytes + X_test_3D.nbytes) / 1000000., 'MB'"
   ]
  },
  {
   "cell_type": "code",
   "execution_count": 114,
   "metadata": {},
   "outputs": [
    {
     "name": "stderr",
     "output_type": "stream",
     "text": [
      "Using TensorFlow backend.\n"
     ]
    },
    {
     "name": "stdout",
     "output_type": "stream",
     "text": [
      "60/60 [==============================] - 2s 30ms/step\n",
      "20/20 [==============================] - 0s 23ms/step\n",
      "20/20 [==============================] - 0s 4ms/step\n",
      "VGG19 features done after 2.33642792702\n",
      "memory usage 1.8432 MB\n"
     ]
    }
   ],
   "source": [
    "import keras.applications\n",
    "\n",
    "VGG19 = keras.applications.VGG19(include_top=False, weights='imagenet', input_shape=(100,100,3))\n",
    "\n",
    "t0 = time.time()\n",
    "X_train_3D_features = VGG19.predict(X_train_3D, verbose=True)\n",
    "X_val_3D_features = VGG19.predict(X_val_3D, verbose=True)\n",
    "X_test_3D_features = VGG19.predict(X_test_3D, verbose=True)\n",
    "print 'VGG19 features done after', time.time()-t0\n",
    "print 'memory usage', (X_train_3D_features.nbytes + X_val_3D_features.nbytes + X_test_3D_features.nbytes) / 1000000., 'MB'"
   ]
  },
  {
   "cell_type": "code",
   "execution_count": 115,
   "metadata": {
    "collapsed": true
   },
   "outputs": [],
   "source": [
    "feature_shape = X_train_3D_features.shape[1] * X_train_3D_features.shape[2] * X_train_3D_features.shape[3]"
   ]
  },
  {
   "cell_type": "code",
   "execution_count": 116,
   "metadata": {
    "collapsed": true
   },
   "outputs": [],
   "source": [
    "from keras import models\n",
    "from keras import layers\n",
    "from keras import optimizers\n",
    "import keras.applications\n",
    "from keras import backend as K\n",
    "from keras.utils.np_utils import to_categorical\n",
    "\n",
    "MLP = models.Sequential()\n",
    "\n",
    "MLP.add(layers.Dense(256, activation='relu', input_dim=feature_shape))\n",
    "MLP.add(layers.Dropout(0.5))\n",
    "MLP.add(layers.Dense(5, activation='linear')) # REGRESSION\n",
    "\n",
    "sgd = optimizers.SGD(lr=0.0001, decay=1e-6, momentum=0.9, nesterov=True)\n",
    "MLP.compile(loss='mean_squared_error', optimizer=sgd, metrics=['mse', 'mae']) # MSE for regression"
   ]
  },
  {
   "cell_type": "code",
   "execution_count": 117,
   "metadata": {},
   "outputs": [
    {
     "name": "stdout",
     "output_type": "stream",
     "text": [
      "Train on 60 samples, validate on 20 samples\n",
      "Epoch 1/1000\n",
      "60/60 [==============================] - 0s 4ms/step - loss: 1.0959 - mean_squared_error: 1.0959 - mean_absolute_error: 0.8334 - val_loss: 0.3723 - val_mean_squared_error: 0.3723 - val_mean_absolute_error: 0.4607\n",
      "Epoch 2/1000\n",
      "60/60 [==============================] - 0s 172us/step - loss: 0.8263 - mean_squared_error: 0.8263 - mean_absolute_error: 0.7251 - val_loss: 0.1621 - val_mean_squared_error: 0.1621 - val_mean_absolute_error: 0.3138\n",
      "Epoch 3/1000\n",
      "60/60 [==============================] - 0s 197us/step - loss: 0.6789 - mean_squared_error: 0.6789 - mean_absolute_error: 0.6707 - val_loss: 0.0685 - val_mean_squared_error: 0.0685 - val_mean_absolute_error: 0.2090\n",
      "Epoch 4/1000\n",
      "60/60 [==============================] - 0s 181us/step - loss: 0.4996 - mean_squared_error: 0.4996 - mean_absolute_error: 0.5647 - val_loss: 0.0720 - val_mean_squared_error: 0.0720 - val_mean_absolute_error: 0.2059\n",
      "Epoch 5/1000\n",
      "60/60 [==============================] - 0s 184us/step - loss: 0.6086 - mean_squared_error: 0.6086 - mean_absolute_error: 0.6204 - val_loss: 0.0959 - val_mean_squared_error: 0.0959 - val_mean_absolute_error: 0.2408\n",
      "Epoch 6/1000\n",
      "60/60 [==============================] - 0s 180us/step - loss: 0.5223 - mean_squared_error: 0.5223 - mean_absolute_error: 0.5841 - val_loss: 0.1044 - val_mean_squared_error: 0.1044 - val_mean_absolute_error: 0.2492\n",
      "Epoch 7/1000\n",
      "60/60 [==============================] - 0s 172us/step - loss: 0.5294 - mean_squared_error: 0.5294 - mean_absolute_error: 0.5766 - val_loss: 0.1003 - val_mean_squared_error: 0.1003 - val_mean_absolute_error: 0.2446\n",
      "Epoch 8/1000\n",
      "60/60 [==============================] - 0s 189us/step - loss: 0.4241 - mean_squared_error: 0.4241 - mean_absolute_error: 0.5207 - val_loss: 0.0930 - val_mean_squared_error: 0.0930 - val_mean_absolute_error: 0.2326\n",
      "Epoch 9/1000\n",
      "60/60 [==============================] - 0s 171us/step - loss: 0.4331 - mean_squared_error: 0.4331 - mean_absolute_error: 0.5271 - val_loss: 0.0836 - val_mean_squared_error: 0.0836 - val_mean_absolute_error: 0.2218\n",
      "Epoch 10/1000\n",
      "60/60 [==============================] - 0s 177us/step - loss: 0.3720 - mean_squared_error: 0.3720 - mean_absolute_error: 0.4816 - val_loss: 0.0798 - val_mean_squared_error: 0.0798 - val_mean_absolute_error: 0.2271\n",
      "Epoch 11/1000\n",
      "60/60 [==============================] - 0s 179us/step - loss: 0.3305 - mean_squared_error: 0.3305 - mean_absolute_error: 0.4597 - val_loss: 0.0756 - val_mean_squared_error: 0.0756 - val_mean_absolute_error: 0.2314\n",
      "Epoch 12/1000\n",
      "60/60 [==============================] - 0s 195us/step - loss: 0.3375 - mean_squared_error: 0.3375 - mean_absolute_error: 0.4673 - val_loss: 0.0704 - val_mean_squared_error: 0.0704 - val_mean_absolute_error: 0.2313\n",
      "Epoch 13/1000\n",
      "60/60 [==============================] - 0s 183us/step - loss: 0.2701 - mean_squared_error: 0.2701 - mean_absolute_error: 0.4102 - val_loss: 0.0703 - val_mean_squared_error: 0.0703 - val_mean_absolute_error: 0.2327\n",
      "Fitting done 0.559756994247\n"
     ]
    }
   ],
   "source": [
    "t0 = time.time()\n",
    "callbacks = [keras.callbacks.EarlyStopping(monitor='val_loss', min_delta=0, patience=10, verbose=0, mode='auto')]\n",
    "\n",
    "history = MLP.fit(X_train_3D_features.reshape(X_train_3D_features.shape[0], feature_shape), \\\n",
    "                  y_train, \\\n",
    "                  epochs=1000, \\\n",
    "                  batch_size=32, \\\n",
    "                  validation_data=(X_val_3D_features.reshape(X_val_3D_features.shape[0], feature_shape), y_val),\n",
    "                  callbacks=callbacks,\n",
    "                  verbose=True)\n",
    "print 'Fitting done', time.time()-t0"
   ]
  },
  {
   "cell_type": "code",
   "execution_count": 118,
   "metadata": {
    "collapsed": true
   },
   "outputs": [],
   "source": [
    "y_pred = MLP.predict(X_test_3D_features.reshape(X_test_3D_features.shape[0], feature_shape))"
   ]
  },
  {
   "cell_type": "code",
   "execution_count": 119,
   "metadata": {},
   "outputs": [
    {
     "data": {
      "text/plain": [
       "4.5427474426618515"
      ]
     },
     "execution_count": 119,
     "metadata": {},
     "output_type": "execute_result"
    }
   ],
   "source": [
    "import sklearn.metrics\n",
    "np.log2(sklearn.metrics.mean_absolute_error(y_pred*100, y_test*100)+.125)"
   ]
  },
  {
   "cell_type": "code",
   "execution_count": 120,
   "metadata": {},
   "outputs": [
    {
     "data": {
      "text/plain": [
       "array([[ 0.77091002,  0.33263478,  0.34432322,  0.32688344,  0.49734765],\n",
       "       [ 0.80820125,  0.31629801,  0.31003672,  0.35778007,  0.46504706],\n",
       "       [ 0.82879877,  0.39840612,  0.34554276,  0.28407133,  0.420955  ],\n",
       "       [ 0.80425048,  0.33704057,  0.35294485,  0.35330889,  0.47488531],\n",
       "       [ 0.65908182,  0.37139633,  0.3675468 ,  0.52917147,  0.47825524],\n",
       "       [ 0.80385697,  0.32135966,  0.2764664 ,  0.33366418,  0.48372144],\n",
       "       [ 0.79887247,  0.35977432,  0.4166345 ,  0.34409648,  0.45673174],\n",
       "       [ 0.74923265,  0.25428361,  0.27187079,  0.57882059,  0.55992627],\n",
       "       [ 0.9170059 ,  0.28662544,  0.39203429,  0.33154258,  0.43590394],\n",
       "       [ 0.76540363,  0.32167339,  0.36205593,  0.38338569,  0.49142075],\n",
       "       [ 0.89373362,  0.36924312,  0.39004463,  0.35853258,  0.47620416],\n",
       "       [ 0.74704129,  0.32781756,  0.41590407,  0.4154093 ,  0.44078767],\n",
       "       [ 0.90939957,  0.31934139,  0.38092017,  0.30308142,  0.43095118],\n",
       "       [ 0.7997973 ,  0.40932703,  0.41883653,  0.37335974,  0.46885684],\n",
       "       [ 0.69275856,  0.35392466,  0.4114503 ,  0.34856579,  0.48941278],\n",
       "       [ 0.7376352 ,  0.31551537,  0.29668951,  0.52300876,  0.46863487],\n",
       "       [ 0.84171897,  0.21352504,  0.25986513,  0.43312564,  0.47940877],\n",
       "       [ 0.79106081,  0.32107937,  0.41030866,  0.38880676,  0.48245114],\n",
       "       [ 0.68696874,  0.37135798,  0.40039289,  0.41946959,  0.50182456],\n",
       "       [ 0.82323819,  0.28645596,  0.41078639,  0.37634078,  0.52879763]], dtype=float32)"
      ]
     },
     "execution_count": 120,
     "metadata": {},
     "output_type": "execute_result"
    }
   ],
   "source": [
    "y_pred"
   ]
  },
  {
   "cell_type": "code",
   "execution_count": 121,
   "metadata": {},
   "outputs": [
    {
     "data": {
      "text/plain": [
       "array([[ 1.        ,  0.63861006,  0.18687257,  0.51814675,  0.0965251 ],\n",
       "       [ 1.        ,  0.52244902,  0.04489797,  0.42693877,  0.6179592 ],\n",
       "       [ 1.        ,  0.02077922,  0.79740262,  0.32467535,  0.66233766],\n",
       "       [ 1.        ,  0.77058822,  0.41008404,  0.50840336,  0.01680672],\n",
       "       [ 1.        ,  0.87619048,  0.19523811,  0.0404762 ,  0.41190475],\n",
       "       [ 1.        ,  0.50476193,  0.0404762 ,  0.34999999,  0.62857145],\n",
       "       [ 1.        ,  0.03233083,  0.20827068,  0.82406014,  0.2962406 ],\n",
       "       [ 1.        ,  0.60000002,  0.2857143 ,  0.        ,  0.40000001],\n",
       "       [ 1.        ,  0.45974025,  0.08831169,  0.56103897,  0.69610393],\n",
       "       [ 1.        ,  0.28809524,  0.10238095,  0.72142857,  0.41190475],\n",
       "       [ 1.        ,  0.66571426,  0.55428576,  0.10857143,  0.8142857 ],\n",
       "       [ 1.        ,  0.25714287,  0.50476193,  0.75238097,  0.00952381],\n",
       "       [ 1.        ,  0.79107141,  0.09464286,  0.33839285,  0.68660712],\n",
       "       [ 1.        ,  0.10238095,  0.75238097,  0.44285715,  0.22619048],\n",
       "       [ 1.        ,  0.34453782,  0.67226893,  0.14789915,  0.5411765 ],\n",
       "       [ 1.        ,  0.31428573,  0.        ,  0.22857144,  0.74285716],\n",
       "       [ 1.        ,  0.66872585,  0.45791504,  0.0965251 ,  0.21698843],\n",
       "       [ 1.        ,  0.06543778,  0.6764977 ,  0.89216584,  0.3889401 ],\n",
       "       [ 1.        ,  0.79107141,  0.19910716,  0.3732143 ,  0.54732144],\n",
       "       [ 1.        ,  0.6816327 ,  0.48265305,  0.36326531,  0.88061225]], dtype=float32)"
      ]
     },
     "execution_count": 121,
     "metadata": {},
     "output_type": "execute_result"
    }
   ],
   "source": [
    "y_test"
   ]
  },
  {
   "cell_type": "code",
   "execution_count": null,
   "metadata": {
    "collapsed": true
   },
   "outputs": [],
   "source": []
  }
 ],
 "metadata": {
  "kernelspec": {
   "display_name": "Python 2",
   "language": "python",
   "name": "python2"
  },
  "language_info": {
   "codemirror_mode": {
    "name": "ipython",
    "version": 2
   },
   "file_extension": ".py",
   "mimetype": "text/x-python",
   "name": "python",
   "nbconvert_exporter": "python",
   "pygments_lexer": "ipython2",
   "version": "2.7.14"
  }
 },
 "nbformat": 4,
 "nbformat_minor": 2
}
