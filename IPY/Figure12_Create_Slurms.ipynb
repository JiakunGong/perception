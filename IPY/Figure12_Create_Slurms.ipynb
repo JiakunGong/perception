{
 "cells": [
  {
   "cell_type": "code",
   "execution_count": 16,
   "metadata": {
    "collapsed": true
   },
   "outputs": [],
   "source": [
    "import os\n",
    "from string import Template"
   ]
  },
  {
   "cell_type": "code",
   "execution_count": 17,
   "metadata": {
    "collapsed": true
   },
   "outputs": [],
   "source": [
    "SLURM_DIR = '../SLURMS/'"
   ]
  },
  {
   "cell_type": "code",
   "execution_count": 20,
   "metadata": {
    "collapsed": true
   },
   "outputs": [],
   "source": [
    "SLURM_TEMPLATE = Template('''#!/bin/bash\n",
    "#SBATCH -p cox\n",
    "#SBATCH -n 1 # Number of cores\n",
    "#SBATCH -N 1 # Ensure that all cores are on one machine\n",
    "#SBATCH --gres=gpu\n",
    "#SBATCH --mem=45000\n",
    "#SBATCH -t 3-12:00\n",
    "#SBATCH --mail-type=ALL\n",
    "#SBATCH --mail-user=haehn@seas.harvard.edu\n",
    "#SBATCH -o /n/home05/haehn/Projects/CP/SLURMS/$experiment/LOGS/%N.%j.out\n",
    "#SBATCH -e /n/home05/haehn/Projects/CP/SLURMS/$experiment/LOGS/%N.%j.err\n",
    "\n",
    "source new-modules.sh\n",
    "\n",
    "module load Anaconda/5.0.1-fasrc01\n",
    "\n",
    "cd /n/home05/haehn/Projects/CP/EXP/\n",
    "\n",
    "source activate CP\n",
    "\n",
    "python bulk_experiments.py $experiment $dataset $classifier $framed\n",
    "\n",
    "# end\n",
    "exit 0;\n",
    "''')"
   ]
  },
  {
   "cell_type": "code",
   "execution_count": 21,
   "metadata": {
    "collapsed": true,
    "scrolled": false
   },
   "outputs": [],
   "source": [
    "Experiments = ['Figure12']\n",
    "Datasets = [1, 2, 3, 4]\n",
    "Classifiers = ['MLP', 'LeNet', 'VGG19', 'Xception']\n",
    "Framed = ['Framed', 'NotFramed']\n",
    "\n",
    "for e in Experiments:\n",
    "  for d in Datasets:\n",
    "    for c in Classifiers:\n",
    "      for f in Framed:\n",
    "        \n",
    "        new_slurm = SLURM_TEMPLATE.substitute(experiment=e, dataset=str(d), classifier=c, framed=f)\n",
    "        with open(os.path.join(SLURM_DIR, e, str(d)+'_'+c+'_'+f+'.sbatch'), 'w') as f:\n",
    "          f.write(new_slurm)\n",
    "          "
   ]
  },
  {
   "cell_type": "code",
   "execution_count": null,
   "metadata": {
    "collapsed": true
   },
   "outputs": [],
   "source": []
  }
 ],
 "metadata": {
  "kernelspec": {
   "display_name": "Python 2",
   "language": "python",
   "name": "python2"
  },
  "language_info": {
   "codemirror_mode": {
    "name": "ipython",
    "version": 2
   },
   "file_extension": ".py",
   "mimetype": "text/x-python",
   "name": "python",
   "nbconvert_exporter": "python",
   "pygments_lexer": "ipython2",
   "version": "2.7.14"
  }
 },
 "nbformat": 4,
 "nbformat_minor": 2
}
