{
 "cells": [
  {
   "cell_type": "code",
   "execution_count": 1,
   "metadata": {
    "collapsed": true
   },
   "outputs": [],
   "source": [
    "import os\n",
    "from string import Template"
   ]
  },
  {
   "cell_type": "code",
   "execution_count": 2,
   "metadata": {},
   "outputs": [],
   "source": [
    "SLURM_DIR = '../SLURMS/Figure1_From_Scratch/'\n",
    "os.makedirs(SLURM_DIR)"
   ]
  },
  {
   "cell_type": "code",
   "execution_count": 4,
   "metadata": {
    "collapsed": true
   },
   "outputs": [],
   "source": [
    "SLURM_TEMPLATE = Template('''#!/bin/bash\n",
    "#SBATCH -p seas_dgx1\n",
    "#SBATCH -n 1 # Number of cores\n",
    "#SBATCH -N 1 # Ensure that all cores are on one machine\n",
    "#SBATCH --gres=gpu\n",
    "#SBATCH --array=1-4\n",
    "#SBATCH --mem=$memory\n",
    "#SBATCH -t 3-00:00\n",
    "#SBATCH --mail-type=ALL\n",
    "#SBATCH --mail-user=haehn@seas.harvard.edu\n",
    "#SBATCH -o /n/home05/haehn/Projects/CP/SLURMS/Figure1_From_Scratch/LOGS/%A_%a.out\n",
    "#SBATCH -e /n/home05/haehn/Projects/CP/SLURMS/Figure1/Figure1_From_Scratch/%A_%a.err\n",
    "\n",
    "# Print this sub-job's task ID\n",
    "echo \"My SLURM_ARRAY_TASK_ID: \" $SLURM_ARRAY_TASK_ID\n",
    "\n",
    "source new-modules.sh\n",
    "\n",
    "module load Anaconda/5.0.1-fasrc01\n",
    "\n",
    "cd /n/home05/haehn/Projects/CP/EXP/\n",
    "\n",
    "source activate CP\n",
    "\n",
    "python run_regression_from_scratch.py $experiment $dataset $classifier $noise $SLURM_ARRAY_TASK_ID\n",
    "\n",
    "# end\n",
    "exit 0;\n",
    "''')"
   ]
  },
  {
   "cell_type": "code",
   "execution_count": 5,
   "metadata": {
    "scrolled": false
   },
   "outputs": [],
   "source": [
    "Experiments = {\n",
    "  'C.Figure1.position_common_scale': range(3),\n",
    "  'C.Figure1.position_non_aligned_scale': range(4),\n",
    "  'C.Figure1.length': range(4),\n",
    "  'C.Figure1.direction': range(3),\n",
    "  'C.Figure1.angle': range(3), \n",
    "  'C.Figure1.area': range(3),\n",
    "  'C.Figure1.volume': range(3),\n",
    "  'C.Figure1.curvature': range(4),\n",
    "  'C.Figure1.shading': range(3)\n",
    "}\n",
    "\n",
    "Classifiers = {\n",
    "#   'MLP': '8000',\n",
    "#   'LeNet': '8000',\n",
    "  'VGG19': '20000',\n",
    "  'XCEPTION': '32000'\n",
    "}\n",
    "\n",
    "Noise = ['True']#, 'False']\n",
    "\n",
    "for e in Experiments:\n",
    "  Datasets = Experiments[e]\n",
    "  for d in Datasets:\n",
    "    for c in Classifiers:\n",
    "      m = Classifiers[c]\n",
    "      for n in Noise:\n",
    "        \n",
    "        new_slurm = SLURM_TEMPLATE.substitute(experiment=e, memory=m, dataset=str(d), classifier=c, noise=n, SLURM_ARRAY_TASK_ID='$SLURM_ARRAY_TASK_ID')\n",
    "        with open(os.path.join(SLURM_DIR, e+'_'+str(d)+'_'+c+'_'+n+'.sbatch'), 'w') as f:\n",
    "          f.write(new_slurm)\n",
    "          "
   ]
  },
  {
   "cell_type": "code",
   "execution_count": null,
   "metadata": {
    "collapsed": true
   },
   "outputs": [],
   "source": [
    "for f in *_True.sbatch; do sbatch $f; done"
   ]
  }
 ],
 "metadata": {
  "kernelspec": {
   "display_name": "Python 2",
   "language": "python",
   "name": "python2"
  },
  "language_info": {
   "codemirror_mode": {
    "name": "ipython",
    "version": 2
   },
   "file_extension": ".py",
   "mimetype": "text/x-python",
   "name": "python",
   "nbconvert_exporter": "python",
   "pygments_lexer": "ipython2",
   "version": "2.7.14"
  }
 },
 "nbformat": 4,
 "nbformat_minor": 2
}
