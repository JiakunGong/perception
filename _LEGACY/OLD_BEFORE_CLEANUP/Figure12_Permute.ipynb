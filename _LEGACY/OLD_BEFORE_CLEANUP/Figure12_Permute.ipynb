{
 "cells": [
  {
   "cell_type": "code",
   "execution_count": 1,
   "metadata": {
    "collapsed": true
   },
   "outputs": [],
   "source": [
    "Experiments = ['Figure12']\n",
    "Datasets = [1, 2, 3, 4]\n",
    "Classifiers = ['MLP', 'LeNet', 'VGG19', 'Xception', 'DenseNet201']\n",
    "Framed = ['Framed', 'NotFramed']"
   ]
  },
  {
   "cell_type": "code",
   "execution_count": 2,
   "metadata": {},
   "outputs": [
    {
     "name": "stdout",
     "output_type": "stream",
     "text": [
      "python bulk_experiments.py Figure12 1 MLP Framed\n",
      "python bulk_experiments.py Figure12 1 MLP NotFramed\n",
      "python bulk_experiments.py Figure12 1 LeNet Framed\n",
      "python bulk_experiments.py Figure12 1 LeNet NotFramed\n",
      "python bulk_experiments.py Figure12 1 VGG19 Framed\n",
      "python bulk_experiments.py Figure12 1 VGG19 NotFramed\n",
      "python bulk_experiments.py Figure12 1 Xception Framed\n",
      "python bulk_experiments.py Figure12 1 Xception NotFramed\n",
      "python bulk_experiments.py Figure12 1 DenseNet201 Framed\n",
      "python bulk_experiments.py Figure12 1 DenseNet201 NotFramed\n",
      "python bulk_experiments.py Figure12 2 MLP Framed\n",
      "python bulk_experiments.py Figure12 2 MLP NotFramed\n",
      "python bulk_experiments.py Figure12 2 LeNet Framed\n",
      "python bulk_experiments.py Figure12 2 LeNet NotFramed\n",
      "python bulk_experiments.py Figure12 2 VGG19 Framed\n",
      "python bulk_experiments.py Figure12 2 VGG19 NotFramed\n",
      "python bulk_experiments.py Figure12 2 Xception Framed\n",
      "python bulk_experiments.py Figure12 2 Xception NotFramed\n",
      "python bulk_experiments.py Figure12 2 DenseNet201 Framed\n",
      "python bulk_experiments.py Figure12 2 DenseNet201 NotFramed\n",
      "python bulk_experiments.py Figure12 3 MLP Framed\n",
      "python bulk_experiments.py Figure12 3 MLP NotFramed\n",
      "python bulk_experiments.py Figure12 3 LeNet Framed\n",
      "python bulk_experiments.py Figure12 3 LeNet NotFramed\n",
      "python bulk_experiments.py Figure12 3 VGG19 Framed\n",
      "python bulk_experiments.py Figure12 3 VGG19 NotFramed\n",
      "python bulk_experiments.py Figure12 3 Xception Framed\n",
      "python bulk_experiments.py Figure12 3 Xception NotFramed\n",
      "python bulk_experiments.py Figure12 3 DenseNet201 Framed\n",
      "python bulk_experiments.py Figure12 3 DenseNet201 NotFramed\n",
      "python bulk_experiments.py Figure12 4 MLP Framed\n",
      "python bulk_experiments.py Figure12 4 MLP NotFramed\n",
      "python bulk_experiments.py Figure12 4 LeNet Framed\n",
      "python bulk_experiments.py Figure12 4 LeNet NotFramed\n",
      "python bulk_experiments.py Figure12 4 VGG19 Framed\n",
      "python bulk_experiments.py Figure12 4 VGG19 NotFramed\n",
      "python bulk_experiments.py Figure12 4 Xception Framed\n",
      "python bulk_experiments.py Figure12 4 Xception NotFramed\n",
      "python bulk_experiments.py Figure12 4 DenseNet201 Framed\n",
      "python bulk_experiments.py Figure12 4 DenseNet201 NotFramed\n"
     ]
    }
   ],
   "source": [
    "for e in Experiments:\n",
    "  for d in Datasets:\n",
    "    for c in Classifiers:\n",
    "      for f in Framed:\n",
    "        \n",
    "        print 'python bulk_experiments.py', e, d, c, f"
   ]
  },
  {
   "cell_type": "code",
   "execution_count": null,
   "metadata": {
    "collapsed": true
   },
   "outputs": [],
   "source": []
  }
 ],
 "metadata": {
  "kernelspec": {
   "display_name": "Python 2",
   "language": "python",
   "name": "python2"
  },
  "language_info": {
   "codemirror_mode": {
    "name": "ipython",
    "version": 2
   },
   "file_extension": ".py",
   "mimetype": "text/x-python",
   "name": "python",
   "nbconvert_exporter": "python",
   "pygments_lexer": "ipython2",
   "version": "2.7.14"
  }
 },
 "nbformat": 4,
 "nbformat_minor": 2
}
