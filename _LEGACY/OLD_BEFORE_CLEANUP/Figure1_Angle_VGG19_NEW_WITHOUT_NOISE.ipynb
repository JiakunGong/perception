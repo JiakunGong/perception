{
 "cells": [
  {
   "cell_type": "code",
   "execution_count": 1,
   "metadata": {},
   "outputs": [
    {
     "name": "stdout",
     "output_type": "stream",
     "text": [
      "Populating the interactive namespace from numpy and matplotlib\n"
     ]
    }
   ],
   "source": [
    "%pylab inline\n",
    "%load_ext autoreload\n",
    "%autoreload 2\n",
    "\n",
    "from jupyterthemes import jtplot\n",
    "jtplot.style()"
   ]
  },
  {
   "cell_type": "code",
   "execution_count": 2,
   "metadata": {},
   "outputs": [
    {
     "data": {
      "text/plain": [
       "<module 'ClevelandMcGill' from '../EXP/ClevelandMcGill/__init__.pyc'>"
      ]
     },
     "execution_count": 2,
     "metadata": {},
     "output_type": "execute_result"
    }
   ],
   "source": [
    "import os, sys, time\n",
    "import cPickle as pickle\n",
    "sys.path.append('../EXP/')\n",
    "import ClevelandMcGill as C\n",
    "reload(C)"
   ]
  },
  {
   "cell_type": "code",
   "execution_count": 3,
   "metadata": {
    "collapsed": true
   },
   "outputs": [],
   "source": [
    "NOISE = False"
   ]
  },
  {
   "cell_type": "code",
   "execution_count": 101,
   "metadata": {},
   "outputs": [
    {
     "name": "stdout",
     "output_type": "stream",
     "text": [
      "Done 85.7276749611 seconds ( 499145 iterations)\n"
     ]
    }
   ],
   "source": [
    "train_target = 60000\n",
    "val_target = 20000\n",
    "test_target = 20000\n",
    "\n",
    "X_train = np.zeros((train_target, 100, 100), dtype=np.float32)\n",
    "y_train = np.zeros((train_target), dtype=np.float32)\n",
    "train_counter = 0\n",
    "\n",
    "X_val = np.zeros((val_target, 100, 100), dtype=np.float32)\n",
    "y_val = np.zeros((val_target), dtype=np.float32)\n",
    "val_counter = 0\n",
    "\n",
    "X_test = np.zeros((test_target, 100, 100), dtype=np.float32)\n",
    "y_test = np.zeros((test_target), dtype=np.float32)\n",
    "test_counter = 0\n",
    "\n",
    "t0 = time.time()\n",
    "\n",
    "all_counter = 0\n",
    "while train_counter < train_target or val_counter < val_target or test_counter < test_target:\n",
    "  \n",
    "  all_counter += 1\n",
    "  \n",
    "  sparse, image, label, parameters = C.Figure1.angle()\n",
    "  \n",
    "  if label == 0:\n",
    "    break\n",
    "  \n",
    "  # we need float\n",
    "  image = image.astype(np.float32)\n",
    "  \n",
    "  pot = np.random.choice(3, p=([.6,.2,.2]))\n",
    "\n",
    "  if pot == 0 and train_counter < train_target:\n",
    "    # a training candidate\n",
    "    if label in y_val or label in y_test:\n",
    "      # no thank you\n",
    "      continue\n",
    "      \n",
    "    # add noise?\n",
    "    if NOISE:\n",
    "      image += np.random.uniform(0, 0.05,(100,100))\n",
    "      \n",
    "    # safe to add to training\n",
    "    X_train[train_counter] = image\n",
    "    y_train[train_counter] = label\n",
    "    train_counter += 1\n",
    "    \n",
    "  elif pot == 1 and val_counter < val_target:\n",
    "    # a validation candidate\n",
    "    if label in y_train or label in y_test:\n",
    "      # no thank you\n",
    "      continue\n",
    "      \n",
    "    # add noise?\n",
    "    if NOISE:\n",
    "      image += np.random.uniform(0, 0.05,(100,100))\n",
    "      \n",
    "    # safe to add to validation\n",
    "    X_val[val_counter] = image\n",
    "    y_val[val_counter] = label\n",
    "    val_counter += 1\n",
    "  \n",
    "  elif pot == 2 and test_counter < test_target:\n",
    "    # a test candidate\n",
    "    if label in y_train or label in y_val:\n",
    "      # no thank you\n",
    "      continue\n",
    "      \n",
    "    # add noise?\n",
    "    if NOISE:\n",
    "      image += np.random.uniform(0, 0.05,(100,100))\n",
    "      \n",
    "    # safe to add to test\n",
    "    X_test[test_counter] = image\n",
    "    y_test[test_counter] = label\n",
    "    test_counter += 1\n",
    "  \n",
    "  \n",
    "  \n",
    "print 'Done', time.time()-t0, 'seconds (', all_counter, 'iterations)'"
   ]
  },
  {
   "cell_type": "code",
   "execution_count": null,
   "metadata": {
    "collapsed": true
   },
   "outputs": [],
   "source": []
  },
  {
   "cell_type": "code",
   "execution_count": 109,
   "metadata": {},
   "outputs": [
    {
     "name": "stdout",
     "output_type": "stream",
     "text": [
      "memory usage 4000.4 MB\n"
     ]
    }
   ],
   "source": [
    "X_min = min(X_train.min(), X_val.min(), X_test.min())\n",
    "X_max = max(X_train.max(), X_val.max(), X_test.max())\n",
    "y_min = min(y_train.min(), y_val.min(), y_test.min())\n",
    "y_max = max(y_train.max(), y_val.max(), y_test.max())\n",
    "\n",
    "# scale in place\n",
    "X_train -= X_min\n",
    "X_train /= (X_max - X_min)\n",
    "X_val -= X_min\n",
    "X_val /= (X_max - X_min)\n",
    "X_test -= X_min\n",
    "X_test /= (X_max - X_min)\n",
    "y_train -= y_min\n",
    "y_train /= (y_max - y_min)\n",
    "y_val -= y_min\n",
    "y_val /= (y_max - y_min)\n",
    "y_test -= y_min\n",
    "y_test /= (y_max - y_min)\n",
    "\n",
    "# normalize to -.5 .. .5\n",
    "X_train -= .5\n",
    "X_val -= .5\n",
    "X_test -= .5\n",
    "\n",
    "print 'memory usage', (X_train.nbytes + X_val.nbytes + X_test.nbytes + y_train.nbytes + y_val.nbytes + y_test.nbytes) / 1000000., 'MB'"
   ]
  },
  {
   "cell_type": "code",
   "execution_count": 110,
   "metadata": {},
   "outputs": [
    {
     "name": "stdout",
     "output_type": "stream",
     "text": [
      "memory usage 12000.0 MB\n"
     ]
    }
   ],
   "source": [
    "X_train_3D = np.stack((X_train,)*3, -1)\n",
    "X_val_3D = np.stack((X_val,)*3, -1)\n",
    "X_test_3D = np.stack((X_test,)*3, -1)\n",
    "print 'memory usage', (X_train_3D.nbytes + X_val_3D.nbytes + X_test_3D.nbytes) / 1000000., 'MB'"
   ]
  },
  {
   "cell_type": "code",
   "execution_count": 111,
   "metadata": {},
   "outputs": [
    {
     "name": "stderr",
     "output_type": "stream",
     "text": [
      "Using TensorFlow backend.\n"
     ]
    },
    {
     "name": "stdout",
     "output_type": "stream",
     "text": [
      "60000/60000 [==============================] - 163s 3ms/step\n",
      "20000/20000 [==============================] - 56s 3ms/step\n",
      "20000/20000 [==============================] - 57s 3ms/step\n",
      "VGG19 features done after 276.150902987\n",
      "memory usage 1843.2 MB\n"
     ]
    }
   ],
   "source": [
    "import keras.applications\n",
    "\n",
    "VGG19 = keras.applications.VGG19(include_top=False, weights='imagenet', input_shape=(100,100,3))\n",
    "\n",
    "t0 = time.time()\n",
    "X_train_3D_features = VGG19.predict(X_train_3D, verbose=True)\n",
    "X_val_3D_features = VGG19.predict(X_val_3D, verbose=True)\n",
    "X_test_3D_features = VGG19.predict(X_test_3D, verbose=True)\n",
    "print 'VGG19 features done after', time.time()-t0\n",
    "print 'memory usage', (X_train_3D_features.nbytes + X_val_3D_features.nbytes + X_test_3D_features.nbytes) / 1000000., 'MB'"
   ]
  },
  {
   "cell_type": "code",
   "execution_count": 112,
   "metadata": {
    "collapsed": true
   },
   "outputs": [],
   "source": [
    "feature_shape = X_train_3D_features.shape[1] * X_train_3D_features.shape[2] * X_train_3D_features.shape[3]"
   ]
  },
  {
   "cell_type": "code",
   "execution_count": 113,
   "metadata": {
    "collapsed": true
   },
   "outputs": [],
   "source": [
    "from keras import models\n",
    "from keras import layers\n",
    "from keras import optimizers\n",
    "import keras.applications\n",
    "from keras import backend as K\n",
    "from keras.utils.np_utils import to_categorical\n",
    "\n",
    "MLP = models.Sequential()\n",
    "\n",
    "MLP.add(layers.Dense(256, activation='relu', input_dim=feature_shape))\n",
    "MLP.add(layers.Dropout(0.5))\n",
    "MLP.add(layers.Dense(1, activation='linear')) # REGRESSION\n",
    "\n",
    "sgd = optimizers.SGD(lr=0.0001, decay=1e-6, momentum=0.9, nesterov=True)\n",
    "MLP.compile(loss='mean_squared_error', optimizer=sgd, metrics=['mse', 'mae']) # MSE for regression"
   ]
  },
  {
   "cell_type": "code",
   "execution_count": 114,
   "metadata": {},
   "outputs": [
    {
     "name": "stdout",
     "output_type": "stream",
     "text": [
      "Train on 60000 samples, validate on 20000 samples\n",
      "Epoch 1/1000\n",
      "60000/60000 [==============================] - 9s 150us/step - loss: 0.0487 - mean_squared_error: 0.0487 - mean_absolute_error: 0.1650 - val_loss: 0.0185 - val_mean_squared_error: 0.0185 - val_mean_absolute_error: 0.1041\n",
      "Epoch 2/1000\n",
      "60000/60000 [==============================] - 9s 146us/step - loss: 0.0227 - mean_squared_error: 0.0227 - mean_absolute_error: 0.1174 - val_loss: 0.0134 - val_mean_squared_error: 0.0134 - val_mean_absolute_error: 0.0865\n",
      "Epoch 3/1000\n",
      "60000/60000 [==============================] - 9s 146us/step - loss: 0.0174 - mean_squared_error: 0.0174 - mean_absolute_error: 0.1017 - val_loss: 0.0100 - val_mean_squared_error: 0.0100 - val_mean_absolute_error: 0.0736\n",
      "Epoch 4/1000\n",
      "60000/60000 [==============================] - 9s 145us/step - loss: 0.0147 - mean_squared_error: 0.0147 - mean_absolute_error: 0.0932 - val_loss: 0.0078 - val_mean_squared_error: 0.0078 - val_mean_absolute_error: 0.0646\n",
      "Epoch 5/1000\n",
      "60000/60000 [==============================] - 9s 147us/step - loss: 0.0128 - mean_squared_error: 0.0128 - mean_absolute_error: 0.0870 - val_loss: 0.0078 - val_mean_squared_error: 0.0078 - val_mean_absolute_error: 0.0641\n",
      "Epoch 6/1000\n",
      "60000/60000 [==============================] - 9s 147us/step - loss: 0.0115 - mean_squared_error: 0.0115 - mean_absolute_error: 0.0819 - val_loss: 0.0065 - val_mean_squared_error: 0.0065 - val_mean_absolute_error: 0.0586\n",
      "Epoch 7/1000\n",
      "60000/60000 [==============================] - 9s 146us/step - loss: 0.0105 - mean_squared_error: 0.0105 - mean_absolute_error: 0.0782 - val_loss: 0.0057 - val_mean_squared_error: 0.0057 - val_mean_absolute_error: 0.0562\n",
      "Epoch 8/1000\n",
      "60000/60000 [==============================] - 9s 147us/step - loss: 0.0098 - mean_squared_error: 0.0098 - mean_absolute_error: 0.0753 - val_loss: 0.0055 - val_mean_squared_error: 0.0055 - val_mean_absolute_error: 0.0538\n",
      "Epoch 9/1000\n",
      "60000/60000 [==============================] - 9s 146us/step - loss: 0.0091 - mean_squared_error: 0.0091 - mean_absolute_error: 0.0724 - val_loss: 0.0049 - val_mean_squared_error: 0.0049 - val_mean_absolute_error: 0.0511\n",
      "Epoch 10/1000\n",
      "60000/60000 [==============================] - 9s 146us/step - loss: 0.0086 - mean_squared_error: 0.0086 - mean_absolute_error: 0.0702 - val_loss: 0.0051 - val_mean_squared_error: 0.0051 - val_mean_absolute_error: 0.0520\n",
      "Epoch 11/1000\n",
      "60000/60000 [==============================] - 9s 146us/step - loss: 0.0082 - mean_squared_error: 0.0082 - mean_absolute_error: 0.0683 - val_loss: 0.0047 - val_mean_squared_error: 0.0047 - val_mean_absolute_error: 0.0495\n",
      "Epoch 12/1000\n",
      "60000/60000 [==============================] - 9s 146us/step - loss: 0.0078 - mean_squared_error: 0.0078 - mean_absolute_error: 0.0668 - val_loss: 0.0040 - val_mean_squared_error: 0.0040 - val_mean_absolute_error: 0.0463\n",
      "Epoch 13/1000\n",
      "60000/60000 [==============================] - 9s 147us/step - loss: 0.0074 - mean_squared_error: 0.0074 - mean_absolute_error: 0.0652 - val_loss: 0.0037 - val_mean_squared_error: 0.0037 - val_mean_absolute_error: 0.0445\n",
      "Epoch 14/1000\n",
      "60000/60000 [==============================] - 9s 147us/step - loss: 0.0072 - mean_squared_error: 0.0072 - mean_absolute_error: 0.0639 - val_loss: 0.0037 - val_mean_squared_error: 0.0037 - val_mean_absolute_error: 0.0444\n",
      "Epoch 15/1000\n",
      "60000/60000 [==============================] - 9s 147us/step - loss: 0.0070 - mean_squared_error: 0.0070 - mean_absolute_error: 0.0629 - val_loss: 0.0035 - val_mean_squared_error: 0.0035 - val_mean_absolute_error: 0.0431\n",
      "Epoch 16/1000\n",
      "60000/60000 [==============================] - 9s 147us/step - loss: 0.0067 - mean_squared_error: 0.0067 - mean_absolute_error: 0.0615 - val_loss: 0.0034 - val_mean_squared_error: 0.0034 - val_mean_absolute_error: 0.0430\n",
      "Epoch 17/1000\n",
      "60000/60000 [==============================] - 9s 147us/step - loss: 0.0065 - mean_squared_error: 0.0065 - mean_absolute_error: 0.0609 - val_loss: 0.0034 - val_mean_squared_error: 0.0034 - val_mean_absolute_error: 0.0429\n",
      "Epoch 18/1000\n",
      "60000/60000 [==============================] - 9s 146us/step - loss: 0.0063 - mean_squared_error: 0.0063 - mean_absolute_error: 0.0599 - val_loss: 0.0033 - val_mean_squared_error: 0.0033 - val_mean_absolute_error: 0.0422\n",
      "Epoch 19/1000\n",
      "60000/60000 [==============================] - 9s 146us/step - loss: 0.0062 - mean_squared_error: 0.0062 - mean_absolute_error: 0.0590 - val_loss: 0.0029 - val_mean_squared_error: 0.0029 - val_mean_absolute_error: 0.0396\n",
      "Epoch 20/1000\n",
      "60000/60000 [==============================] - 9s 147us/step - loss: 0.0060 - mean_squared_error: 0.0060 - mean_absolute_error: 0.0584 - val_loss: 0.0028 - val_mean_squared_error: 0.0028 - val_mean_absolute_error: 0.0387\n",
      "Epoch 21/1000\n",
      "60000/60000 [==============================] - 9s 146us/step - loss: 0.0058 - mean_squared_error: 0.0058 - mean_absolute_error: 0.0575 - val_loss: 0.0030 - val_mean_squared_error: 0.0030 - val_mean_absolute_error: 0.0396\n",
      "Epoch 22/1000\n",
      "60000/60000 [==============================] - 9s 146us/step - loss: 0.0057 - mean_squared_error: 0.0057 - mean_absolute_error: 0.0569 - val_loss: 0.0028 - val_mean_squared_error: 0.0028 - val_mean_absolute_error: 0.0397\n",
      "Epoch 23/1000\n",
      "60000/60000 [==============================] - 9s 147us/step - loss: 0.0056 - mean_squared_error: 0.0056 - mean_absolute_error: 0.0563 - val_loss: 0.0030 - val_mean_squared_error: 0.0030 - val_mean_absolute_error: 0.0400\n",
      "Epoch 24/1000\n",
      "60000/60000 [==============================] - 9s 147us/step - loss: 0.0055 - mean_squared_error: 0.0055 - mean_absolute_error: 0.0558 - val_loss: 0.0025 - val_mean_squared_error: 0.0025 - val_mean_absolute_error: 0.0370\n",
      "Epoch 25/1000\n",
      "60000/60000 [==============================] - 9s 147us/step - loss: 0.0054 - mean_squared_error: 0.0054 - mean_absolute_error: 0.0553 - val_loss: 0.0029 - val_mean_squared_error: 0.0029 - val_mean_absolute_error: 0.0399\n",
      "Epoch 26/1000\n",
      "60000/60000 [==============================] - 9s 146us/step - loss: 0.0054 - mean_squared_error: 0.0054 - mean_absolute_error: 0.0550 - val_loss: 0.0028 - val_mean_squared_error: 0.0028 - val_mean_absolute_error: 0.0383\n",
      "Epoch 27/1000\n",
      "60000/60000 [==============================] - 9s 147us/step - loss: 0.0053 - mean_squared_error: 0.0053 - mean_absolute_error: 0.0545 - val_loss: 0.0031 - val_mean_squared_error: 0.0031 - val_mean_absolute_error: 0.0407\n",
      "Epoch 28/1000\n",
      "60000/60000 [==============================] - 9s 145us/step - loss: 0.0052 - mean_squared_error: 0.0052 - mean_absolute_error: 0.0540 - val_loss: 0.0025 - val_mean_squared_error: 0.0025 - val_mean_absolute_error: 0.0365\n",
      "Epoch 29/1000\n",
      "60000/60000 [==============================] - 9s 146us/step - loss: 0.0051 - mean_squared_error: 0.0051 - mean_absolute_error: 0.0536 - val_loss: 0.0025 - val_mean_squared_error: 0.0025 - val_mean_absolute_error: 0.0367\n",
      "Epoch 30/1000\n",
      "60000/60000 [==============================] - 9s 146us/step - loss: 0.0051 - mean_squared_error: 0.0051 - mean_absolute_error: 0.0535 - val_loss: 0.0024 - val_mean_squared_error: 0.0024 - val_mean_absolute_error: 0.0362\n",
      "Epoch 31/1000\n",
      "60000/60000 [==============================] - 9s 146us/step - loss: 0.0050 - mean_squared_error: 0.0050 - mean_absolute_error: 0.0532 - val_loss: 0.0023 - val_mean_squared_error: 0.0023 - val_mean_absolute_error: 0.0350\n",
      "Epoch 32/1000\n",
      "60000/60000 [==============================] - 9s 147us/step - loss: 0.0049 - mean_squared_error: 0.0049 - mean_absolute_error: 0.0527 - val_loss: 0.0023 - val_mean_squared_error: 0.0023 - val_mean_absolute_error: 0.0358\n",
      "Epoch 33/1000\n",
      "60000/60000 [==============================] - 9s 147us/step - loss: 0.0049 - mean_squared_error: 0.0049 - mean_absolute_error: 0.0524 - val_loss: 0.0022 - val_mean_squared_error: 0.0022 - val_mean_absolute_error: 0.0343\n",
      "Epoch 34/1000\n",
      "60000/60000 [==============================] - 9s 147us/step - loss: 0.0048 - mean_squared_error: 0.0048 - mean_absolute_error: 0.0522 - val_loss: 0.0024 - val_mean_squared_error: 0.0024 - val_mean_absolute_error: 0.0360\n",
      "Epoch 35/1000\n",
      "60000/60000 [==============================] - 9s 146us/step - loss: 0.0048 - mean_squared_error: 0.0048 - mean_absolute_error: 0.0519 - val_loss: 0.0022 - val_mean_squared_error: 0.0022 - val_mean_absolute_error: 0.0352\n"
     ]
    },
    {
     "name": "stdout",
     "output_type": "stream",
     "text": [
      "Epoch 36/1000\n",
      "60000/60000 [==============================] - 9s 146us/step - loss: 0.0048 - mean_squared_error: 0.0048 - mean_absolute_error: 0.0517 - val_loss: 0.0023 - val_mean_squared_error: 0.0023 - val_mean_absolute_error: 0.0355\n",
      "Epoch 37/1000\n",
      "60000/60000 [==============================] - 9s 146us/step - loss: 0.0047 - mean_squared_error: 0.0047 - mean_absolute_error: 0.0517 - val_loss: 0.0019 - val_mean_squared_error: 0.0019 - val_mean_absolute_error: 0.0328\n",
      "Epoch 38/1000\n",
      "60000/60000 [==============================] - 9s 146us/step - loss: 0.0046 - mean_squared_error: 0.0046 - mean_absolute_error: 0.0511 - val_loss: 0.0021 - val_mean_squared_error: 0.0021 - val_mean_absolute_error: 0.0337\n",
      "Epoch 39/1000\n",
      "60000/60000 [==============================] - 9s 146us/step - loss: 0.0046 - mean_squared_error: 0.0046 - mean_absolute_error: 0.0508 - val_loss: 0.0021 - val_mean_squared_error: 0.0021 - val_mean_absolute_error: 0.0336\n",
      "Epoch 40/1000\n",
      "60000/60000 [==============================] - 9s 146us/step - loss: 0.0046 - mean_squared_error: 0.0046 - mean_absolute_error: 0.0509 - val_loss: 0.0022 - val_mean_squared_error: 0.0022 - val_mean_absolute_error: 0.0344\n",
      "Epoch 41/1000\n",
      "60000/60000 [==============================] - 9s 146us/step - loss: 0.0045 - mean_squared_error: 0.0045 - mean_absolute_error: 0.0504 - val_loss: 0.0019 - val_mean_squared_error: 0.0019 - val_mean_absolute_error: 0.0324\n",
      "Epoch 42/1000\n",
      "60000/60000 [==============================] - 9s 146us/step - loss: 0.0046 - mean_squared_error: 0.0046 - mean_absolute_error: 0.0505 - val_loss: 0.0021 - val_mean_squared_error: 0.0021 - val_mean_absolute_error: 0.0337\n",
      "Epoch 43/1000\n",
      "60000/60000 [==============================] - 9s 146us/step - loss: 0.0044 - mean_squared_error: 0.0044 - mean_absolute_error: 0.0500 - val_loss: 0.0020 - val_mean_squared_error: 0.0020 - val_mean_absolute_error: 0.0334\n",
      "Epoch 44/1000\n",
      "60000/60000 [==============================] - 9s 147us/step - loss: 0.0044 - mean_squared_error: 0.0044 - mean_absolute_error: 0.0496 - val_loss: 0.0019 - val_mean_squared_error: 0.0019 - val_mean_absolute_error: 0.0321\n",
      "Epoch 45/1000\n",
      "60000/60000 [==============================] - 9s 147us/step - loss: 0.0044 - mean_squared_error: 0.0044 - mean_absolute_error: 0.0495 - val_loss: 0.0019 - val_mean_squared_error: 0.0019 - val_mean_absolute_error: 0.0322\n",
      "Epoch 46/1000\n",
      "60000/60000 [==============================] - 9s 147us/step - loss: 0.0043 - mean_squared_error: 0.0043 - mean_absolute_error: 0.0495 - val_loss: 0.0019 - val_mean_squared_error: 0.0019 - val_mean_absolute_error: 0.0320\n",
      "Epoch 47/1000\n",
      "60000/60000 [==============================] - 9s 147us/step - loss: 0.0043 - mean_squared_error: 0.0043 - mean_absolute_error: 0.0494 - val_loss: 0.0018 - val_mean_squared_error: 0.0018 - val_mean_absolute_error: 0.0312\n",
      "Epoch 48/1000\n",
      "60000/60000 [==============================] - 9s 147us/step - loss: 0.0043 - mean_squared_error: 0.0043 - mean_absolute_error: 0.0492 - val_loss: 0.0019 - val_mean_squared_error: 0.0019 - val_mean_absolute_error: 0.0326\n",
      "Epoch 49/1000\n",
      "60000/60000 [==============================] - 9s 147us/step - loss: 0.0042 - mean_squared_error: 0.0042 - mean_absolute_error: 0.0489 - val_loss: 0.0018 - val_mean_squared_error: 0.0018 - val_mean_absolute_error: 0.0314\n",
      "Epoch 50/1000\n",
      "60000/60000 [==============================] - 9s 148us/step - loss: 0.0043 - mean_squared_error: 0.0043 - mean_absolute_error: 0.0489 - val_loss: 0.0018 - val_mean_squared_error: 0.0018 - val_mean_absolute_error: 0.0317\n",
      "Epoch 51/1000\n",
      "60000/60000 [==============================] - 9s 146us/step - loss: 0.0042 - mean_squared_error: 0.0042 - mean_absolute_error: 0.0487 - val_loss: 0.0016 - val_mean_squared_error: 0.0016 - val_mean_absolute_error: 0.0298\n",
      "Epoch 52/1000\n",
      "60000/60000 [==============================] - 9s 146us/step - loss: 0.0042 - mean_squared_error: 0.0042 - mean_absolute_error: 0.0487 - val_loss: 0.0018 - val_mean_squared_error: 0.0018 - val_mean_absolute_error: 0.0316\n",
      "Epoch 53/1000\n",
      "60000/60000 [==============================] - 9s 146us/step - loss: 0.0042 - mean_squared_error: 0.0042 - mean_absolute_error: 0.0487 - val_loss: 0.0017 - val_mean_squared_error: 0.0017 - val_mean_absolute_error: 0.0310\n",
      "Epoch 54/1000\n",
      "60000/60000 [==============================] - 9s 146us/step - loss: 0.0041 - mean_squared_error: 0.0041 - mean_absolute_error: 0.0482 - val_loss: 0.0017 - val_mean_squared_error: 0.0017 - val_mean_absolute_error: 0.0308\n",
      "Epoch 55/1000\n",
      "60000/60000 [==============================] - 9s 146us/step - loss: 0.0042 - mean_squared_error: 0.0042 - mean_absolute_error: 0.0484 - val_loss: 0.0019 - val_mean_squared_error: 0.0019 - val_mean_absolute_error: 0.0330\n",
      "Epoch 56/1000\n",
      "60000/60000 [==============================] - 9s 145us/step - loss: 0.0041 - mean_squared_error: 0.0041 - mean_absolute_error: 0.0478 - val_loss: 0.0018 - val_mean_squared_error: 0.0018 - val_mean_absolute_error: 0.0316\n",
      "Epoch 57/1000\n",
      "60000/60000 [==============================] - 9s 146us/step - loss: 0.0040 - mean_squared_error: 0.0040 - mean_absolute_error: 0.0477 - val_loss: 0.0016 - val_mean_squared_error: 0.0016 - val_mean_absolute_error: 0.0302\n",
      "Epoch 58/1000\n",
      "60000/60000 [==============================] - 9s 145us/step - loss: 0.0041 - mean_squared_error: 0.0041 - mean_absolute_error: 0.0478 - val_loss: 0.0016 - val_mean_squared_error: 0.0016 - val_mean_absolute_error: 0.0297\n",
      "Epoch 59/1000\n",
      "60000/60000 [==============================] - 9s 145us/step - loss: 0.0041 - mean_squared_error: 0.0041 - mean_absolute_error: 0.0477 - val_loss: 0.0017 - val_mean_squared_error: 0.0017 - val_mean_absolute_error: 0.0304\n",
      "Epoch 60/1000\n",
      "60000/60000 [==============================] - 9s 145us/step - loss: 0.0041 - mean_squared_error: 0.0041 - mean_absolute_error: 0.0477 - val_loss: 0.0015 - val_mean_squared_error: 0.0015 - val_mean_absolute_error: 0.0290\n",
      "Epoch 61/1000\n",
      "60000/60000 [==============================] - 9s 145us/step - loss: 0.0040 - mean_squared_error: 0.0040 - mean_absolute_error: 0.0476 - val_loss: 0.0015 - val_mean_squared_error: 0.0015 - val_mean_absolute_error: 0.0287\n",
      "Epoch 62/1000\n",
      "60000/60000 [==============================] - 9s 146us/step - loss: 0.0040 - mean_squared_error: 0.0040 - mean_absolute_error: 0.0473 - val_loss: 0.0016 - val_mean_squared_error: 0.0016 - val_mean_absolute_error: 0.0299\n",
      "Epoch 63/1000\n",
      "60000/60000 [==============================] - 9s 147us/step - loss: 0.0040 - mean_squared_error: 0.0040 - mean_absolute_error: 0.0475 - val_loss: 0.0017 - val_mean_squared_error: 0.0017 - val_mean_absolute_error: 0.0305\n",
      "Epoch 64/1000\n",
      "60000/60000 [==============================] - 9s 146us/step - loss: 0.0040 - mean_squared_error: 0.0040 - mean_absolute_error: 0.0472 - val_loss: 0.0016 - val_mean_squared_error: 0.0016 - val_mean_absolute_error: 0.0304\n",
      "Epoch 65/1000\n",
      "60000/60000 [==============================] - 9s 145us/step - loss: 0.0040 - mean_squared_error: 0.0040 - mean_absolute_error: 0.0471 - val_loss: 0.0015 - val_mean_squared_error: 0.0015 - val_mean_absolute_error: 0.0294\n",
      "Epoch 66/1000\n",
      "60000/60000 [==============================] - 9s 145us/step - loss: 0.0039 - mean_squared_error: 0.0039 - mean_absolute_error: 0.0469 - val_loss: 0.0017 - val_mean_squared_error: 0.0017 - val_mean_absolute_error: 0.0307\n",
      "Epoch 67/1000\n",
      "60000/60000 [==============================] - 9s 146us/step - loss: 0.0039 - mean_squared_error: 0.0039 - mean_absolute_error: 0.0469 - val_loss: 0.0015 - val_mean_squared_error: 0.0015 - val_mean_absolute_error: 0.0292\n",
      "Epoch 68/1000\n",
      "60000/60000 [==============================] - 9s 145us/step - loss: 0.0039 - mean_squared_error: 0.0039 - mean_absolute_error: 0.0467 - val_loss: 0.0018 - val_mean_squared_error: 0.0018 - val_mean_absolute_error: 0.0312\n",
      "Epoch 69/1000\n",
      "60000/60000 [==============================] - 9s 145us/step - loss: 0.0039 - mean_squared_error: 0.0039 - mean_absolute_error: 0.0467 - val_loss: 0.0016 - val_mean_squared_error: 0.0016 - val_mean_absolute_error: 0.0295\n",
      "Epoch 70/1000\n",
      "60000/60000 [==============================] - 9s 145us/step - loss: 0.0039 - mean_squared_error: 0.0039 - mean_absolute_error: 0.0466 - val_loss: 0.0020 - val_mean_squared_error: 0.0020 - val_mean_absolute_error: 0.0329\n"
     ]
    },
    {
     "name": "stdout",
     "output_type": "stream",
     "text": [
      "Epoch 71/1000\n",
      "60000/60000 [==============================] - 9s 145us/step - loss: 0.0039 - mean_squared_error: 0.0039 - mean_absolute_error: 0.0467 - val_loss: 0.0015 - val_mean_squared_error: 0.0015 - val_mean_absolute_error: 0.0295\n",
      "Epoch 72/1000\n",
      "60000/60000 [==============================] - 9s 145us/step - loss: 0.0039 - mean_squared_error: 0.0039 - mean_absolute_error: 0.0466 - val_loss: 0.0017 - val_mean_squared_error: 0.0017 - val_mean_absolute_error: 0.0302\n",
      "Epoch 73/1000\n",
      "60000/60000 [==============================] - 9s 146us/step - loss: 0.0038 - mean_squared_error: 0.0038 - mean_absolute_error: 0.0464 - val_loss: 0.0015 - val_mean_squared_error: 0.0015 - val_mean_absolute_error: 0.0291\n",
      "Epoch 74/1000\n",
      "60000/60000 [==============================] - 9s 145us/step - loss: 0.0038 - mean_squared_error: 0.0038 - mean_absolute_error: 0.0463 - val_loss: 0.0014 - val_mean_squared_error: 0.0014 - val_mean_absolute_error: 0.0282\n",
      "Epoch 75/1000\n",
      "60000/60000 [==============================] - 9s 145us/step - loss: 0.0038 - mean_squared_error: 0.0038 - mean_absolute_error: 0.0462 - val_loss: 0.0014 - val_mean_squared_error: 0.0014 - val_mean_absolute_error: 0.0291\n",
      "Epoch 76/1000\n",
      "60000/60000 [==============================] - 9s 145us/step - loss: 0.0038 - mean_squared_error: 0.0038 - mean_absolute_error: 0.0459 - val_loss: 0.0016 - val_mean_squared_error: 0.0016 - val_mean_absolute_error: 0.0306\n",
      "Epoch 77/1000\n",
      "60000/60000 [==============================] - 9s 145us/step - loss: 0.0038 - mean_squared_error: 0.0038 - mean_absolute_error: 0.0460 - val_loss: 0.0014 - val_mean_squared_error: 0.0014 - val_mean_absolute_error: 0.0279\n",
      "Epoch 78/1000\n",
      "60000/60000 [==============================] - 9s 144us/step - loss: 0.0038 - mean_squared_error: 0.0038 - mean_absolute_error: 0.0457 - val_loss: 0.0014 - val_mean_squared_error: 0.0014 - val_mean_absolute_error: 0.0279\n",
      "Epoch 79/1000\n",
      "60000/60000 [==============================] - 9s 146us/step - loss: 0.0038 - mean_squared_error: 0.0038 - mean_absolute_error: 0.0457 - val_loss: 0.0013 - val_mean_squared_error: 0.0013 - val_mean_absolute_error: 0.0273\n",
      "Epoch 80/1000\n",
      "60000/60000 [==============================] - 9s 145us/step - loss: 0.0037 - mean_squared_error: 0.0037 - mean_absolute_error: 0.0456 - val_loss: 0.0014 - val_mean_squared_error: 0.0014 - val_mean_absolute_error: 0.0281\n",
      "Epoch 81/1000\n",
      "60000/60000 [==============================] - 9s 147us/step - loss: 0.0038 - mean_squared_error: 0.0038 - mean_absolute_error: 0.0458 - val_loss: 0.0015 - val_mean_squared_error: 0.0015 - val_mean_absolute_error: 0.0299\n",
      "Epoch 82/1000\n",
      "60000/60000 [==============================] - 9s 146us/step - loss: 0.0038 - mean_squared_error: 0.0038 - mean_absolute_error: 0.0459 - val_loss: 0.0014 - val_mean_squared_error: 0.0014 - val_mean_absolute_error: 0.0278\n",
      "Epoch 83/1000\n",
      "60000/60000 [==============================] - 9s 145us/step - loss: 0.0037 - mean_squared_error: 0.0037 - mean_absolute_error: 0.0456 - val_loss: 0.0016 - val_mean_squared_error: 0.0016 - val_mean_absolute_error: 0.0301\n",
      "Epoch 84/1000\n",
      "60000/60000 [==============================] - 9s 145us/step - loss: 0.0037 - mean_squared_error: 0.0037 - mean_absolute_error: 0.0456 - val_loss: 0.0013 - val_mean_squared_error: 0.0013 - val_mean_absolute_error: 0.0268\n",
      "Epoch 85/1000\n",
      "60000/60000 [==============================] - 9s 146us/step - loss: 0.0037 - mean_squared_error: 0.0037 - mean_absolute_error: 0.0452 - val_loss: 0.0015 - val_mean_squared_error: 0.0015 - val_mean_absolute_error: 0.0288\n",
      "Epoch 86/1000\n",
      "60000/60000 [==============================] - 9s 145us/step - loss: 0.0037 - mean_squared_error: 0.0037 - mean_absolute_error: 0.0452 - val_loss: 0.0015 - val_mean_squared_error: 0.0015 - val_mean_absolute_error: 0.0293\n",
      "Epoch 87/1000\n",
      "60000/60000 [==============================] - 9s 145us/step - loss: 0.0037 - mean_squared_error: 0.0037 - mean_absolute_error: 0.0451 - val_loss: 0.0013 - val_mean_squared_error: 0.0013 - val_mean_absolute_error: 0.0269\n",
      "Epoch 88/1000\n",
      "60000/60000 [==============================] - 9s 145us/step - loss: 0.0037 - mean_squared_error: 0.0037 - mean_absolute_error: 0.0453 - val_loss: 0.0014 - val_mean_squared_error: 0.0014 - val_mean_absolute_error: 0.0282\n",
      "Epoch 89/1000\n",
      "60000/60000 [==============================] - 9s 145us/step - loss: 0.0037 - mean_squared_error: 0.0037 - mean_absolute_error: 0.0453 - val_loss: 0.0015 - val_mean_squared_error: 0.0015 - val_mean_absolute_error: 0.0296\n",
      "Epoch 90/1000\n",
      "60000/60000 [==============================] - 9s 147us/step - loss: 0.0037 - mean_squared_error: 0.0037 - mean_absolute_error: 0.0455 - val_loss: 0.0014 - val_mean_squared_error: 0.0014 - val_mean_absolute_error: 0.0284\n",
      "Epoch 91/1000\n",
      "60000/60000 [==============================] - 9s 148us/step - loss: 0.0036 - mean_squared_error: 0.0036 - mean_absolute_error: 0.0447 - val_loss: 0.0013 - val_mean_squared_error: 0.0013 - val_mean_absolute_error: 0.0276\n",
      "Epoch 92/1000\n",
      "60000/60000 [==============================] - 9s 147us/step - loss: 0.0036 - mean_squared_error: 0.0036 - mean_absolute_error: 0.0448 - val_loss: 0.0013 - val_mean_squared_error: 0.0013 - val_mean_absolute_error: 0.0272\n",
      "Epoch 93/1000\n",
      "60000/60000 [==============================] - 9s 147us/step - loss: 0.0036 - mean_squared_error: 0.0036 - mean_absolute_error: 0.0451 - val_loss: 0.0013 - val_mean_squared_error: 0.0013 - val_mean_absolute_error: 0.0268\n",
      "Epoch 94/1000\n",
      "60000/60000 [==============================] - 9s 147us/step - loss: 0.0036 - mean_squared_error: 0.0036 - mean_absolute_error: 0.0449 - val_loss: 0.0014 - val_mean_squared_error: 0.0014 - val_mean_absolute_error: 0.0282\n",
      "Epoch 95/1000\n",
      "60000/60000 [==============================] - 9s 145us/step - loss: 0.0036 - mean_squared_error: 0.0036 - mean_absolute_error: 0.0449 - val_loss: 0.0014 - val_mean_squared_error: 0.0014 - val_mean_absolute_error: 0.0283\n",
      "Epoch 96/1000\n",
      "60000/60000 [==============================] - 9s 146us/step - loss: 0.0036 - mean_squared_error: 0.0036 - mean_absolute_error: 0.0450 - val_loss: 0.0014 - val_mean_squared_error: 0.0014 - val_mean_absolute_error: 0.0278\n",
      "Epoch 97/1000\n",
      "60000/60000 [==============================] - 9s 146us/step - loss: 0.0036 - mean_squared_error: 0.0036 - mean_absolute_error: 0.0447 - val_loss: 0.0013 - val_mean_squared_error: 0.0013 - val_mean_absolute_error: 0.0275\n",
      "Epoch 98/1000\n",
      "60000/60000 [==============================] - 9s 146us/step - loss: 0.0036 - mean_squared_error: 0.0036 - mean_absolute_error: 0.0448 - val_loss: 0.0014 - val_mean_squared_error: 0.0014 - val_mean_absolute_error: 0.0276\n",
      "Epoch 99/1000\n",
      "60000/60000 [==============================] - 9s 146us/step - loss: 0.0036 - mean_squared_error: 0.0036 - mean_absolute_error: 0.0446 - val_loss: 0.0015 - val_mean_squared_error: 0.0015 - val_mean_absolute_error: 0.0289\n",
      "Epoch 100/1000\n",
      "60000/60000 [==============================] - 9s 147us/step - loss: 0.0036 - mean_squared_error: 0.0036 - mean_absolute_error: 0.0446 - val_loss: 0.0012 - val_mean_squared_error: 0.0012 - val_mean_absolute_error: 0.0268\n",
      "Epoch 101/1000\n",
      "60000/60000 [==============================] - 9s 145us/step - loss: 0.0035 - mean_squared_error: 0.0035 - mean_absolute_error: 0.0440 - val_loss: 0.0015 - val_mean_squared_error: 0.0015 - val_mean_absolute_error: 0.0287\n",
      "Epoch 102/1000\n",
      "60000/60000 [==============================] - 9s 146us/step - loss: 0.0035 - mean_squared_error: 0.0035 - mean_absolute_error: 0.0442 - val_loss: 0.0012 - val_mean_squared_error: 0.0012 - val_mean_absolute_error: 0.0269\n",
      "Epoch 103/1000\n",
      "60000/60000 [==============================] - 9s 146us/step - loss: 0.0036 - mean_squared_error: 0.0036 - mean_absolute_error: 0.0446 - val_loss: 0.0013 - val_mean_squared_error: 0.0013 - val_mean_absolute_error: 0.0275\n",
      "Epoch 104/1000\n",
      "60000/60000 [==============================] - 9s 144us/step - loss: 0.0035 - mean_squared_error: 0.0035 - mean_absolute_error: 0.0443 - val_loss: 0.0013 - val_mean_squared_error: 0.0013 - val_mean_absolute_error: 0.0274\n",
      "Epoch 105/1000\n",
      "60000/60000 [==============================] - 9s 144us/step - loss: 0.0035 - mean_squared_error: 0.0035 - mean_absolute_error: 0.0443 - val_loss: 0.0013 - val_mean_squared_error: 0.0013 - val_mean_absolute_error: 0.0280\n"
     ]
    },
    {
     "name": "stdout",
     "output_type": "stream",
     "text": [
      "Epoch 106/1000\n",
      "60000/60000 [==============================] - 9s 145us/step - loss: 0.0035 - mean_squared_error: 0.0035 - mean_absolute_error: 0.0442 - val_loss: 0.0015 - val_mean_squared_error: 0.0015 - val_mean_absolute_error: 0.0285\n",
      "Epoch 107/1000\n",
      "60000/60000 [==============================] - 9s 145us/step - loss: 0.0034 - mean_squared_error: 0.0034 - mean_absolute_error: 0.0438 - val_loss: 0.0013 - val_mean_squared_error: 0.0013 - val_mean_absolute_error: 0.0268\n",
      "Epoch 108/1000\n",
      "60000/60000 [==============================] - 9s 145us/step - loss: 0.0035 - mean_squared_error: 0.0035 - mean_absolute_error: 0.0440 - val_loss: 0.0016 - val_mean_squared_error: 0.0016 - val_mean_absolute_error: 0.0315\n",
      "Epoch 109/1000\n",
      "60000/60000 [==============================] - 9s 145us/step - loss: 0.0035 - mean_squared_error: 0.0035 - mean_absolute_error: 0.0439 - val_loss: 0.0012 - val_mean_squared_error: 0.0012 - val_mean_absolute_error: 0.0259\n",
      "Epoch 110/1000\n",
      "60000/60000 [==============================] - 9s 144us/step - loss: 0.0035 - mean_squared_error: 0.0035 - mean_absolute_error: 0.0441 - val_loss: 0.0013 - val_mean_squared_error: 0.0013 - val_mean_absolute_error: 0.0267\n",
      "Epoch 111/1000\n",
      "60000/60000 [==============================] - 9s 144us/step - loss: 0.0035 - mean_squared_error: 0.0035 - mean_absolute_error: 0.0439 - val_loss: 0.0012 - val_mean_squared_error: 0.0012 - val_mean_absolute_error: 0.0264\n",
      "Epoch 112/1000\n",
      "60000/60000 [==============================] - 9s 145us/step - loss: 0.0034 - mean_squared_error: 0.0034 - mean_absolute_error: 0.0438 - val_loss: 0.0013 - val_mean_squared_error: 0.0013 - val_mean_absolute_error: 0.0270\n",
      "Epoch 113/1000\n",
      "60000/60000 [==============================] - 9s 145us/step - loss: 0.0035 - mean_squared_error: 0.0035 - mean_absolute_error: 0.0440 - val_loss: 0.0013 - val_mean_squared_error: 0.0013 - val_mean_absolute_error: 0.0274\n",
      "Epoch 114/1000\n",
      "60000/60000 [==============================] - 9s 144us/step - loss: 0.0035 - mean_squared_error: 0.0035 - mean_absolute_error: 0.0440 - val_loss: 0.0013 - val_mean_squared_error: 0.0013 - val_mean_absolute_error: 0.0268\n",
      "Epoch 115/1000\n",
      "60000/60000 [==============================] - 9s 146us/step - loss: 0.0035 - mean_squared_error: 0.0035 - mean_absolute_error: 0.0438 - val_loss: 0.0013 - val_mean_squared_error: 0.0013 - val_mean_absolute_error: 0.0275\n",
      "Epoch 116/1000\n",
      "60000/60000 [==============================] - 9s 145us/step - loss: 0.0035 - mean_squared_error: 0.0035 - mean_absolute_error: 0.0441 - val_loss: 0.0012 - val_mean_squared_error: 0.0012 - val_mean_absolute_error: 0.0267\n",
      "Epoch 117/1000\n",
      "60000/60000 [==============================] - 9s 145us/step - loss: 0.0035 - mean_squared_error: 0.0035 - mean_absolute_error: 0.0439 - val_loss: 0.0012 - val_mean_squared_error: 0.0012 - val_mean_absolute_error: 0.0265\n",
      "Epoch 118/1000\n",
      "60000/60000 [==============================] - 9s 145us/step - loss: 0.0034 - mean_squared_error: 0.0034 - mean_absolute_error: 0.0437 - val_loss: 0.0012 - val_mean_squared_error: 0.0012 - val_mean_absolute_error: 0.0263\n",
      "Epoch 119/1000\n",
      "60000/60000 [==============================] - 9s 145us/step - loss: 0.0034 - mean_squared_error: 0.0034 - mean_absolute_error: 0.0436 - val_loss: 0.0011 - val_mean_squared_error: 0.0011 - val_mean_absolute_error: 0.0258\n",
      "Epoch 120/1000\n",
      "60000/60000 [==============================] - 9s 144us/step - loss: 0.0034 - mean_squared_error: 0.0034 - mean_absolute_error: 0.0435 - val_loss: 0.0011 - val_mean_squared_error: 0.0011 - val_mean_absolute_error: 0.0251\n",
      "Epoch 121/1000\n",
      "60000/60000 [==============================] - 9s 145us/step - loss: 0.0034 - mean_squared_error: 0.0034 - mean_absolute_error: 0.0435 - val_loss: 0.0011 - val_mean_squared_error: 0.0011 - val_mean_absolute_error: 0.0253\n",
      "Epoch 122/1000\n",
      "60000/60000 [==============================] - 9s 145us/step - loss: 0.0034 - mean_squared_error: 0.0034 - mean_absolute_error: 0.0434 - val_loss: 0.0012 - val_mean_squared_error: 0.0012 - val_mean_absolute_error: 0.0259\n",
      "Epoch 123/1000\n",
      "60000/60000 [==============================] - 9s 146us/step - loss: 0.0034 - mean_squared_error: 0.0034 - mean_absolute_error: 0.0435 - val_loss: 0.0011 - val_mean_squared_error: 0.0011 - val_mean_absolute_error: 0.0258\n",
      "Epoch 124/1000\n",
      "60000/60000 [==============================] - 9s 145us/step - loss: 0.0033 - mean_squared_error: 0.0033 - mean_absolute_error: 0.0431 - val_loss: 0.0013 - val_mean_squared_error: 0.0013 - val_mean_absolute_error: 0.0273\n",
      "Epoch 125/1000\n",
      "60000/60000 [==============================] - 9s 145us/step - loss: 0.0034 - mean_squared_error: 0.0034 - mean_absolute_error: 0.0435 - val_loss: 0.0011 - val_mean_squared_error: 0.0011 - val_mean_absolute_error: 0.0249\n",
      "Epoch 126/1000\n",
      "60000/60000 [==============================] - 9s 146us/step - loss: 0.0034 - mean_squared_error: 0.0034 - mean_absolute_error: 0.0431 - val_loss: 0.0012 - val_mean_squared_error: 0.0012 - val_mean_absolute_error: 0.0266\n",
      "Epoch 127/1000\n",
      "60000/60000 [==============================] - 9s 146us/step - loss: 0.0034 - mean_squared_error: 0.0034 - mean_absolute_error: 0.0432 - val_loss: 0.0011 - val_mean_squared_error: 0.0011 - val_mean_absolute_error: 0.0257\n",
      "Epoch 128/1000\n",
      "60000/60000 [==============================] - 9s 146us/step - loss: 0.0033 - mean_squared_error: 0.0033 - mean_absolute_error: 0.0432 - val_loss: 0.0012 - val_mean_squared_error: 0.0012 - val_mean_absolute_error: 0.0271\n",
      "Epoch 129/1000\n",
      "60000/60000 [==============================] - 9s 143us/step - loss: 0.0033 - mean_squared_error: 0.0033 - mean_absolute_error: 0.0430 - val_loss: 0.0011 - val_mean_squared_error: 0.0011 - val_mean_absolute_error: 0.0254\n",
      "Epoch 130/1000\n",
      "60000/60000 [==============================] - 9s 144us/step - loss: 0.0033 - mean_squared_error: 0.0033 - mean_absolute_error: 0.0429 - val_loss: 0.0011 - val_mean_squared_error: 0.0011 - val_mean_absolute_error: 0.0255\n",
      "Epoch 131/1000\n",
      "60000/60000 [==============================] - 9s 145us/step - loss: 0.0033 - mean_squared_error: 0.0033 - mean_absolute_error: 0.0431 - val_loss: 0.0012 - val_mean_squared_error: 0.0012 - val_mean_absolute_error: 0.0261\n",
      "Epoch 132/1000\n",
      "60000/60000 [==============================] - 9s 145us/step - loss: 0.0033 - mean_squared_error: 0.0033 - mean_absolute_error: 0.0432 - val_loss: 0.0011 - val_mean_squared_error: 0.0011 - val_mean_absolute_error: 0.0257\n",
      "Epoch 133/1000\n",
      "60000/60000 [==============================] - 9s 144us/step - loss: 0.0033 - mean_squared_error: 0.0033 - mean_absolute_error: 0.0430 - val_loss: 0.0014 - val_mean_squared_error: 0.0014 - val_mean_absolute_error: 0.0278\n",
      "Epoch 134/1000\n",
      "60000/60000 [==============================] - 9s 145us/step - loss: 0.0033 - mean_squared_error: 0.0033 - mean_absolute_error: 0.0430 - val_loss: 0.0013 - val_mean_squared_error: 0.0013 - val_mean_absolute_error: 0.0276\n",
      "Epoch 135/1000\n",
      "60000/60000 [==============================] - 9s 145us/step - loss: 0.0033 - mean_squared_error: 0.0033 - mean_absolute_error: 0.0430 - val_loss: 0.0012 - val_mean_squared_error: 0.0012 - val_mean_absolute_error: 0.0263\n",
      "Fitting done 1181.52025509\n"
     ]
    }
   ],
   "source": [
    "t0 = time.time()\n",
    "callbacks = [keras.callbacks.EarlyStopping(monitor='val_loss', min_delta=0, patience=10, verbose=0, mode='auto')]\n",
    "\n",
    "history = MLP.fit(X_train_3D_features.reshape(X_train_3D_features.shape[0], feature_shape), \\\n",
    "                  y_train, \\\n",
    "                  epochs=1000, \\\n",
    "                  batch_size=32, \\\n",
    "                  validation_data=(X_val_3D_features.reshape(X_val_3D_features.shape[0], feature_shape), y_val),\n",
    "                  callbacks=callbacks,\n",
    "                  verbose=True)\n",
    "print 'Fitting done', time.time()-t0"
   ]
  },
  {
   "cell_type": "code",
   "execution_count": 115,
   "metadata": {
    "collapsed": true
   },
   "outputs": [],
   "source": [
    "y_pred = MLP.predict(X_test_3D_features.reshape(X_test_3D_features.shape[0], feature_shape))"
   ]
  },
  {
   "cell_type": "code",
   "execution_count": 116,
   "metadata": {},
   "outputs": [
    {
     "data": {
      "text/plain": [
       "1.2652587762723027"
      ]
     },
     "execution_count": 116,
     "metadata": {},
     "output_type": "execute_result"
    }
   ],
   "source": [
    "import sklearn.metrics\n",
    "np.log2(sklearn.metrics.mean_absolute_error(y_pred*100, y_test*100)+.125)"
   ]
  },
  {
   "cell_type": "code",
   "execution_count": null,
   "metadata": {
    "collapsed": true
   },
   "outputs": [],
   "source": []
  },
  {
   "cell_type": "code",
   "execution_count": null,
   "metadata": {
    "collapsed": true
   },
   "outputs": [],
   "source": []
  },
  {
   "cell_type": "code",
   "execution_count": null,
   "metadata": {
    "collapsed": true
   },
   "outputs": [],
   "source": []
  },
  {
   "cell_type": "code",
   "execution_count": 102,
   "metadata": {},
   "outputs": [
    {
     "data": {
      "text/plain": [
       "array([  2.,   3.,   5.,   6.,  12.,  16.,  17.,  19.,  20.,  21.,  22.,\n",
       "        23.,  24.,  26.,  28.,  29.,  30.,  31.,  32.,  33.,  34.,  36.,\n",
       "        39.,  40.,  41.,  43.,  45.,  47.,  48.,  50.,  51.,  54.,  55.,\n",
       "        56.,  57.,  58.,  61.,  64.,  65.,  66.,  71.,  73.,  76.,  77.,\n",
       "        79.,  80.,  82.,  84.,  85.,  86.,  87.,  89.,  90.], dtype=float32)"
      ]
     },
     "execution_count": 102,
     "metadata": {},
     "output_type": "execute_result"
    }
   ],
   "source": [
    "np.unique(y_train)"
   ]
  },
  {
   "cell_type": "code",
   "execution_count": 103,
   "metadata": {},
   "outputs": [
    {
     "data": {
      "text/plain": [
       "array([  1.,   7.,   8.,  10.,  13.,  25.,  37.,  38.,  46.,  49.,  52.,\n",
       "        59.,  63.,  67.,  68.,  70.,  74.,  78.,  88.], dtype=float32)"
      ]
     },
     "execution_count": 103,
     "metadata": {},
     "output_type": "execute_result"
    }
   ],
   "source": [
    "np.unique(y_val)"
   ]
  },
  {
   "cell_type": "code",
   "execution_count": 104,
   "metadata": {},
   "outputs": [
    {
     "data": {
      "text/plain": [
       "array([  4.,   9.,  11.,  14.,  15.,  18.,  27.,  35.,  42.,  44.,  53.,\n",
       "        60.,  62.,  69.,  72.,  75.,  81.,  83.], dtype=float32)"
      ]
     },
     "execution_count": 104,
     "metadata": {},
     "output_type": "execute_result"
    }
   ],
   "source": [
    "np.unique(y_test)"
   ]
  },
  {
   "cell_type": "code",
   "execution_count": 105,
   "metadata": {},
   "outputs": [
    {
     "data": {
      "image/png": "[encoded data removed]",
      "text/plain": [
       "<matplotlib.figure.Figure at 0x7f6bdd16e210>"
      ]
     },
     "metadata": {},
     "output_type": "display_data"
    },
    {
     "data": {
      "image/png": "[encoded data removed]",
      "text/plain": [
       "<matplotlib.figure.Figure at 0x7f6be045a990>"
      ]
     },
     "metadata": {},
     "output_type": "display_data"
    },
    {
     "data": {
      "image/png": "[encoded data removed]",
      "text/plain": [
       "<matplotlib.figure.Figure at 0x7f6be0322210>"
      ]
     },
     "metadata": {},
     "output_type": "display_data"
    }
   ],
   "source": [
    "for whichone in [y_train, y_val, y_test]:\n",
    "\n",
    "  data = []\n",
    "  for i in range(90):\n",
    "    data.append(len(np.where(whichone==i)[0]))\n",
    "  plt.figure()\n",
    "  plt.bar(range(90), data)"
   ]
  },
  {
   "cell_type": "code",
   "execution_count": null,
   "metadata": {
    "collapsed": true
   },
   "outputs": [],
   "source": []
  }
 ],
 "metadata": {
  "kernelspec": {
   "display_name": "Python 2",
   "language": "python",
   "name": "python2"
  },
  "language_info": {
   "codemirror_mode": {
    "name": "ipython",
    "version": 2
   },
   "file_extension": ".py",
   "mimetype": "text/x-python",
   "name": "python",
   "nbconvert_exporter": "python",
   "pygments_lexer": "ipython2",
   "version": "2.7.14"
  }
 },
 "nbformat": 4,
 "nbformat_minor": 2
}
