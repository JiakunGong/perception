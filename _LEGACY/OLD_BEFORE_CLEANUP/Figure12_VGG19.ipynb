{
 "cells": [
  {
   "cell_type": "code",
   "execution_count": 2,
   "metadata": {},
   "outputs": [
    {
     "name": "stdout",
     "output_type": "stream",
     "text": [
      "Populating the interactive namespace from numpy and matplotlib\n"
     ]
    }
   ],
   "source": [
    "%pylab inline\n",
    "%load_ext autoreload\n",
    "%autoreload 2\n",
    "\n",
    "from jupyterthemes import jtplot\n",
    "jtplot.style()"
   ]
  },
  {
   "cell_type": "code",
   "execution_count": 24,
   "metadata": {},
   "outputs": [
    {
     "data": {
      "text/plain": [
       "<module 'ClevelandMcGill' from '../EXP/ClevelandMcGill/__init__.pyc'>"
      ]
     },
     "execution_count": 24,
     "metadata": {},
     "output_type": "execute_result"
    }
   ],
   "source": [
    "sys.path.append('../EXP/')\n",
    "import ClevelandMcGill as C\n",
    "reload(C)"
   ]
  },
  {
   "cell_type": "markdown",
   "metadata": {},
   "source": [
    "# Load Figure 12 Dataset 1\n",
    "This means only the height is variable."
   ]
  },
  {
   "cell_type": "code",
   "execution_count": 4,
   "metadata": {},
   "outputs": [
    {
     "name": "stdout",
     "output_type": "stream",
     "text": [
      "Datapoint 21963\n",
      "Label True\n"
     ]
    },
    {
     "data": {
      "image/png": "[encoded data removed]",
      "text/plain": [
       "<matplotlib.figure.Figure at 0x7f85b9075c10>"
      ]
     },
     "metadata": {},
     "output_type": "display_data"
    },
    {
     "data": {
      "image/png": "[encoded data removed]",
      "text/plain": [
       "<matplotlib.figure.Figure at 0x7f85b8ae7ed0>"
      ]
     },
     "metadata": {},
     "output_type": "display_data"
    }
   ],
   "source": [
    "images, framed_images, labels = C.Figure12.load(dataset=1)"
   ]
  },
  {
   "cell_type": "markdown",
   "metadata": {},
   "source": [
    "# Configure the VGG19 + MLP Classifier"
   ]
  },
  {
   "cell_type": "code",
   "execution_count": 28,
   "metadata": {},
   "outputs": [],
   "source": [
    "from vgg19 import VGG19"
   ]
  },
  {
   "cell_type": "code",
   "execution_count": 6,
   "metadata": {},
   "outputs": [
    {
     "name": "stdout",
     "output_type": "stream",
     "text": [
      "Configured VGG19 (imagenet weights) and a MLP..\n"
     ]
    }
   ],
   "source": [
    "classifier = VGG19()\n",
    "classifier.setup()"
   ]
  },
  {
   "cell_type": "code",
   "execution_count": 7,
   "metadata": {
    "collapsed": true
   },
   "outputs": [],
   "source": [
    "#\n",
    "# Setup the experiment\n",
    "#\n",
    "stacked_images = np.stack((images,)*3, -1) # we need RGB channels\n",
    "\n",
    "X_train = stacked_images[0:80000]\n",
    "y_train = labels[0:80000]\n",
    "X_test = stacked_images[80000:]\n",
    "y_test = labels[80000:]"
   ]
  },
  {
   "cell_type": "code",
   "execution_count": 8,
   "metadata": {},
   "outputs": [
    {
     "name": "stdout",
     "output_type": "stream",
     "text": [
      "Generating features for X_train using VGG19..\n",
      "80000/80000 [==============================] - 220s 3ms/step\n",
      "Fitting the MLP..\n",
      "Train on 60000 samples, validate on 20000 samples\n",
      "Epoch 1/1\n",
      "60000/60000 [==============================] - 11s 188us/step - loss: 0.0924 - acc: 0.9714 - val_loss: 0.0015 - val_acc: 1.0000\n"
     ]
    }
   ],
   "source": [
    "classifier.train(X_train, y_train)"
   ]
  },
  {
   "cell_type": "code",
   "execution_count": 9,
   "metadata": {},
   "outputs": [
    {
     "name": "stdout",
     "output_type": "stream",
     "text": [
      "Generating features for X_test using VGG19..\n",
      "20000/20000 [==============================] - 55s 3ms/step\n",
      "Predict using the MLP..\n",
      "20000/20000 [==============================] - 1s 51us/step\n",
      "             precision    recall  f1-score   support\n",
      "\n",
      "      False       1.00      1.00      1.00      9929\n",
      "       True       1.00      1.00      1.00     10071\n",
      "\n",
      "avg / total       1.00      1.00      1.00     20000\n",
      "\n"
     ]
    }
   ],
   "source": [
    "y_pred = classifier.test(X_test, y_test)"
   ]
  },
  {
   "cell_type": "markdown",
   "metadata": {},
   "source": [
    "### The second experiment (framed)"
   ]
  },
  {
   "cell_type": "code",
   "execution_count": 10,
   "metadata": {},
   "outputs": [
    {
     "name": "stdout",
     "output_type": "stream",
     "text": [
      "Configured VGG19 (imagenet weights) and a MLP..\n"
     ]
    }
   ],
   "source": [
    "framed_classifier = VGG19()\n",
    "framed_classifier.setup()"
   ]
  },
  {
   "cell_type": "code",
   "execution_count": 11,
   "metadata": {
    "collapsed": true
   },
   "outputs": [],
   "source": [
    "#\n",
    "# Setup the experiment\n",
    "#\n",
    "stacked_framed_images = np.stack((framed_images,)*3, -1) # we need RGB channels\n",
    "\n",
    "X_train_framed = stacked_framed_images[0:80000]\n",
    "y_train_framed = labels[0:80000]\n",
    "X_test_framed = stacked_framed_images[80000:]\n",
    "y_test_framed = labels[80000:]"
   ]
  },
  {
   "cell_type": "code",
   "execution_count": 12,
   "metadata": {},
   "outputs": [
    {
     "name": "stdout",
     "output_type": "stream",
     "text": [
      "Generating features for X_train using VGG19..\n",
      "80000/80000 [==============================] - 227s 3ms/step\n",
      "Fitting the MLP..\n",
      "Train on 60000 samples, validate on 20000 samples\n",
      "Epoch 1/1\n",
      "60000/60000 [==============================] - 11s 187us/step - loss: 0.1077 - acc: 0.9634 - val_loss: 0.0111 - val_acc: 1.0000\n"
     ]
    }
   ],
   "source": [
    "framed_classifier.train(X_train_framed, y_train_framed)"
   ]
  },
  {
   "cell_type": "code",
   "execution_count": 13,
   "metadata": {},
   "outputs": [
    {
     "name": "stdout",
     "output_type": "stream",
     "text": [
      "Generating features for X_test using VGG19..\n",
      "20000/20000 [==============================] - 56s 3ms/step\n",
      "Predict using the MLP..\n",
      "20000/20000 [==============================] - 1s 52us/step\n",
      "             precision    recall  f1-score   support\n",
      "\n",
      "      False       0.90      0.90      0.90      9929\n",
      "       True       0.90      0.90      0.90     10071\n",
      "\n",
      "avg / total       0.90      0.90      0.90     20000\n",
      "\n"
     ]
    }
   ],
   "source": [
    "y_pred_framed = classifier.test(X_test_framed, y_test_framed)"
   ]
  },
  {
   "cell_type": "code",
   "execution_count": null,
   "metadata": {
    "collapsed": true
   },
   "outputs": [],
   "source": []
  },
  {
   "cell_type": "markdown",
   "metadata": {},
   "source": [
    "### k-Fold Cross Validation"
   ]
  },
  {
   "cell_type": "code",
   "execution_count": 36,
   "metadata": {},
   "outputs": [
    {
     "name": "stdout",
     "output_type": "stream",
     "text": [
      "Configured VGG19 (imagenet weights) and a MLP..\n"
     ]
    }
   ],
   "source": [
    "classifier = VGG19()\n",
    "classifier.setup()"
   ]
  },
  {
   "cell_type": "code",
   "execution_count": 23,
   "metadata": {
    "collapsed": true
   },
   "outputs": [],
   "source": [
    "stacked_images = np.stack((images,)*3, -1) # we need RGB channels"
   ]
  },
  {
   "cell_type": "code",
   "execution_count": 50,
   "metadata": {},
   "outputs": [
    {
     "name": "stdout",
     "output_type": "stream",
     "text": [
      "Train on 37500 samples, validate on 12500 samples\n",
      "Epoch 1/2\n",
      "37500/37500 [==============================] - 15s 400us/step - loss: 0.6932 - acc: 0.5013 - val_loss: 0.6932 - val_acc: 0.5001\n",
      "Epoch 2/2\n",
      "37500/37500 [==============================] - 9s 235us/step - loss: 0.6932 - acc: 0.4989 - val_loss: 0.6931 - val_acc: 0.4999\n",
      "50000/50000 [==============================] - 5s 96us/step\n",
      "Train on 37500 samples, validate on 12500 samples\n",
      "Epoch 1/2\n",
      "37500/37500 [==============================] - 15s 389us/step - loss: 0.6933 - acc: 0.4970 - val_loss: 0.6931 - val_acc: 0.5001\n",
      "Epoch 2/2\n",
      "37500/37500 [==============================] - 9s 236us/step - loss: 0.6932 - acc: 0.4982 - val_loss: 0.6932 - val_acc: 0.4999\n",
      "50000/50000 [==============================] - 5s 96us/step\n"
     ]
    },
    {
     "data": {
      "text/plain": [
       "[{'acc': [0.50125333332379662, 0.49890666666984557],\n",
       "  'loss': [0.69318321080525713, 0.69316005741755171],\n",
       "  'test_acc': 0.49856,\n",
       "  'test_loss': 0.69315467636108397,\n",
       "  'val_acc': [0.50008000003814701, 0.49992000000953674],\n",
       "  'val_loss': [0.6931679552078247, 0.6931494001960754]},\n",
       " {'acc': [0.49701333333651226, 0.49821333333333334],\n",
       "  'loss': [0.69331321245193478, 0.69318439405441279],\n",
       "  'test_acc': 0.50144,\n",
       "  'test_loss': 0.69314300857543942,\n",
       "  'val_acc': [0.50007999996185304, 0.49991999999046327],\n",
       "  'val_loss': [0.69314717300415041, 0.69315144306182863]}]"
      ]
     },
     "execution_count": 50,
     "metadata": {},
     "output_type": "execute_result"
    }
   ],
   "source": [
    "classifier.run_kfold(stacked_images, labels, n_splits=2, n_repeats=1, verbose=True, epochs=2)"
   ]
  },
  {
   "cell_type": "code",
   "execution_count": 51,
   "metadata": {},
   "outputs": [
    {
     "name": "stdout",
     "output_type": "stream",
     "text": [
      "_________________________________________________________________\n",
      "Layer (type)                 Output Shape              Param #   \n",
      "=================================================================\n",
      "input_7 (InputLayer)         (None, 100, 100, 3)       0         \n",
      "_________________________________________________________________\n",
      "block1_conv1 (Conv2D)        (None, 100, 100, 64)      1792      \n",
      "_________________________________________________________________\n",
      "block1_conv2 (Conv2D)        (None, 100, 100, 64)      36928     \n",
      "_________________________________________________________________\n",
      "block1_pool (MaxPooling2D)   (None, 50, 50, 64)        0         \n",
      "_________________________________________________________________\n",
      "block2_conv1 (Conv2D)        (None, 50, 50, 128)       73856     \n",
      "_________________________________________________________________\n",
      "block2_conv2 (Conv2D)        (None, 50, 50, 128)       147584    \n",
      "_________________________________________________________________\n",
      "block2_pool (MaxPooling2D)   (None, 25, 25, 128)       0         \n",
      "_________________________________________________________________\n",
      "block3_conv1 (Conv2D)        (None, 25, 25, 256)       295168    \n",
      "_________________________________________________________________\n",
      "block3_conv2 (Conv2D)        (None, 25, 25, 256)       590080    \n",
      "_________________________________________________________________\n",
      "block3_conv3 (Conv2D)        (None, 25, 25, 256)       590080    \n",
      "_________________________________________________________________\n",
      "block3_conv4 (Conv2D)        (None, 25, 25, 256)       590080    \n",
      "_________________________________________________________________\n",
      "block3_pool (MaxPooling2D)   (None, 12, 12, 256)       0         \n",
      "_________________________________________________________________\n",
      "block4_conv1 (Conv2D)        (None, 12, 12, 512)       1180160   \n",
      "_________________________________________________________________\n",
      "block4_conv2 (Conv2D)        (None, 12, 12, 512)       2359808   \n",
      "_________________________________________________________________\n",
      "block4_conv3 (Conv2D)        (None, 12, 12, 512)       2359808   \n",
      "_________________________________________________________________\n",
      "block4_conv4 (Conv2D)        (None, 12, 12, 512)       2359808   \n",
      "_________________________________________________________________\n",
      "block4_pool (MaxPooling2D)   (None, 6, 6, 512)         0         \n",
      "_________________________________________________________________\n",
      "block5_conv1 (Conv2D)        (None, 6, 6, 512)         2359808   \n",
      "_________________________________________________________________\n",
      "block5_conv2 (Conv2D)        (None, 6, 6, 512)         2359808   \n",
      "_________________________________________________________________\n",
      "block5_conv3 (Conv2D)        (None, 6, 6, 512)         2359808   \n",
      "_________________________________________________________________\n",
      "block5_conv4 (Conv2D)        (None, 6, 6, 512)         2359808   \n",
      "_________________________________________________________________\n",
      "block5_pool (MaxPooling2D)   (None, 3, 3, 512)         0         \n",
      "=================================================================\n",
      "Total params: 20,024,384\n",
      "Trainable params: 20,024,384\n",
      "Non-trainable params: 0\n",
      "_________________________________________________________________\n",
      "_________________________________________________________________\n",
      "Layer (type)                 Output Shape              Param #   \n",
      "=================================================================\n",
      "dense_215 (Dense)            (None, 256)               1179904   \n",
      "_________________________________________________________________\n",
      "dropout_108 (Dropout)        (None, 256)               0         \n",
      "_________________________________________________________________\n",
      "dense_216 (Dense)            (None, 2)                 514       \n",
      "=================================================================\n",
      "Total params: 1,180,418\n",
      "Trainable params: 1,180,418\n",
      "Non-trainable params: 0\n",
      "_________________________________________________________________\n"
     ]
    }
   ],
   "source": [
    "classifier.show()"
   ]
  },
  {
   "cell_type": "code",
   "execution_count": 52,
   "metadata": {
    "collapsed": true
   },
   "outputs": [],
   "source": [
    "from keras import models\n",
    "from keras import layers\n",
    "from keras import optimizers\n",
    "from keras.utils.np_utils import to_categorical\n",
    "import keras.applications.vgg19"
   ]
  },
  {
   "cell_type": "code",
   "execution_count": 54,
   "metadata": {},
   "outputs": [],
   "source": [
    "MLP = models.Sequential()\n",
    "MLP.add(layers.Dense(256, activation='relu', input_dim=3 * 3 * 512))\n",
    "MLP.add(layers.Dropout(0.5))\n",
    "MLP.add(layers.Dense(2, activation='softmax'))\n",
    "\n",
    "# MLP.compile(loss='categorical_crossentropy', optimizer='adam', metrics=['acc'])\n",
    "\n",
    "# history = MLP.fit(X[train], \\\n",
    "#                   to_categorical(y[train]), \\\n",
    "#                   epochs=epochs, \\\n",
    "#                   batch_size=batch_size, \\\n",
    "#                   validation_split=0.25,\n",
    "#                   verbose=verbose)"
   ]
  },
  {
   "cell_type": "code",
   "execution_count": 55,
   "metadata": {},
   "outputs": [
    {
     "name": "stdout",
     "output_type": "stream",
     "text": [
      "_________________________________________________________________\n",
      "Layer (type)                 Output Shape              Param #   \n",
      "=================================================================\n",
      "dense_355 (Dense)            (None, 256)               1179904   \n",
      "_________________________________________________________________\n",
      "dropout_179 (Dropout)        (None, 256)               0         \n",
      "_________________________________________________________________\n",
      "dense_356 (Dense)            (None, 2)                 514       \n",
      "=================================================================\n",
      "Total params: 1,180,418\n",
      "Trainable params: 1,180,418\n",
      "Non-trainable params: 0\n",
      "_________________________________________________________________\n"
     ]
    }
   ],
   "source": [
    "MLP.summary()"
   ]
  },
  {
   "cell_type": "code",
   "execution_count": null,
   "metadata": {
    "collapsed": true
   },
   "outputs": [],
   "source": []
  }
 ],
 "metadata": {
  "kernelspec": {
   "display_name": "Python 2",
   "language": "python",
   "name": "python2"
  },
  "language_info": {
   "codemirror_mode": {
    "name": "ipython",
    "version": 2
   },
   "file_extension": ".py",
   "mimetype": "text/x-python",
   "name": "python",
   "nbconvert_exporter": "python",
   "pygments_lexer": "ipython2",
   "version": "2.7.14"
  }
 },
 "nbformat": 4,
 "nbformat_minor": 2
}
