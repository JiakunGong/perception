{
 "cells": [
  {
   "cell_type": "code",
   "execution_count": 26,
   "metadata": {
    "collapsed": true
   },
   "outputs": [],
   "source": [
    "import os\n",
    "from string import Template"
   ]
  },
  {
   "cell_type": "code",
   "execution_count": 38,
   "metadata": {},
   "outputs": [
    {
     "ename": "OSError",
     "evalue": "[Errno 17] File exists: '../SLURMS2/'",
     "output_type": "error",
     "traceback": [
      "\u001b[0;31m---------------------------------------------------------------------------\u001b[0m",
      "\u001b[0;31mOSError\u001b[0m                                   Traceback (most recent call last)",
      "\u001b[0;32m<ipython-input-38-ec238d367e5d>\u001b[0m in \u001b[0;36m<module>\u001b[0;34m()\u001b[0m\n\u001b[1;32m      1\u001b[0m \u001b[0mSLURM_DIR\u001b[0m \u001b[0;34m=\u001b[0m \u001b[0;34m'../SLURMS2/'\u001b[0m\u001b[0;34m\u001b[0m\u001b[0m\n\u001b[0;32m----> 2\u001b[0;31m \u001b[0mos\u001b[0m\u001b[0;34m.\u001b[0m\u001b[0mmakedirs\u001b[0m\u001b[0;34m(\u001b[0m\u001b[0mSLURM_DIR\u001b[0m\u001b[0;34m)\u001b[0m\u001b[0;34m\u001b[0m\u001b[0m\n\u001b[0m",
      "\u001b[0;32m/home/d/anaconda2/envs/CP/lib/python2.7/os.pyc\u001b[0m in \u001b[0;36mmakedirs\u001b[0;34m(name, mode)\u001b[0m\n\u001b[1;32m    155\u001b[0m         \u001b[0;32mif\u001b[0m \u001b[0mtail\u001b[0m \u001b[0;34m==\u001b[0m \u001b[0mcurdir\u001b[0m\u001b[0;34m:\u001b[0m           \u001b[0;31m# xxx/newdir/. exists if xxx/newdir exists\u001b[0m\u001b[0;34m\u001b[0m\u001b[0m\n\u001b[1;32m    156\u001b[0m             \u001b[0;32mreturn\u001b[0m\u001b[0;34m\u001b[0m\u001b[0m\n\u001b[0;32m--> 157\u001b[0;31m     \u001b[0mmkdir\u001b[0m\u001b[0;34m(\u001b[0m\u001b[0mname\u001b[0m\u001b[0;34m,\u001b[0m \u001b[0mmode\u001b[0m\u001b[0;34m)\u001b[0m\u001b[0;34m\u001b[0m\u001b[0m\n\u001b[0m\u001b[1;32m    158\u001b[0m \u001b[0;34m\u001b[0m\u001b[0m\n\u001b[1;32m    159\u001b[0m \u001b[0;32mdef\u001b[0m \u001b[0mremovedirs\u001b[0m\u001b[0;34m(\u001b[0m\u001b[0mname\u001b[0m\u001b[0;34m)\u001b[0m\u001b[0;34m:\u001b[0m\u001b[0;34m\u001b[0m\u001b[0m\n",
      "\u001b[0;31mOSError\u001b[0m: [Errno 17] File exists: '../SLURMS2/'"
     ]
    }
   ],
   "source": [
    "SLURM_DIR = '../SLURMS2/'\n",
    "os.makedirs(SLURM_DIR)"
   ]
  },
  {
   "cell_type": "code",
   "execution_count": 39,
   "metadata": {
    "collapsed": true
   },
   "outputs": [],
   "source": [
    "SLURM_TEMPLATE = Template('''#!/bin/bash\n",
    "#SBATCH -p cox\n",
    "#SBATCH -n 1 # Number of cores\n",
    "#SBATCH -N 1 # Ensure that all cores are on one machine\n",
    "#SBATCH --gres=gpu\n",
    "#SBATCH --mem=128000\n",
    "#SBATCH -t 3-12:00\n",
    "#SBATCH --mail-type=ALL\n",
    "#SBATCH --mail-user=haehn@seas.harvard.edu\n",
    "#SBATCH -o /n/home05/haehn/Projects/CP/SLURMS/$experiment/LOGS/%N.%j.out\n",
    "#SBATCH -e /n/home05/haehn/Projects/CP/SLURMS/$experiment/LOGS/%N.%j.err\n",
    "\n",
    "source new-modules.sh\n",
    "\n",
    "module load Anaconda/5.0.1-fasrc01\n",
    "\n",
    "cd /n/home05/haehn/Projects/CP/EXP/\n",
    "\n",
    "source activate CP\n",
    "\n",
    "python bulk_experiments.py $experiment $dataset $classifier $framed\n",
    "\n",
    "# end\n",
    "exit 0;\n",
    "''')"
   ]
  },
  {
   "cell_type": "code",
   "execution_count": 40,
   "metadata": {
    "scrolled": false
   },
   "outputs": [],
   "source": [
    "Experiments = ['Figure12']\n",
    "Datasets = [1, 2, 3, 4]\n",
    "#Classifiers = ['MLP', 'LeNet', 'VGG19', 'Xception']\n",
    "Classifiers = ['MLP', 'LeNet', 'Xception']\n",
    "Framed = ['Framed', 'NotFramed']\n",
    "\n",
    "for e in Experiments:\n",
    "  for d in Datasets:\n",
    "    for c in Classifiers:\n",
    "      for f in Framed:\n",
    "        \n",
    "        new_slurm = SLURM_TEMPLATE.substitute(experiment=e, dataset=str(d), classifier=c, framed=f)\n",
    "        with open(os.path.join(SLURM_DIR, e, str(d)+'_'+c+'_'+f+'.sbatch'), 'w') as f:\n",
    "          f.write(new_slurm)\n",
    "          "
   ]
  },
  {
   "cell_type": "code",
   "execution_count": null,
   "metadata": {
    "collapsed": true
   },
   "outputs": [],
   "source": []
  }
 ],
 "metadata": {
  "kernelspec": {
   "display_name": "Python 2",
   "language": "python",
   "name": "python2"
  },
  "language_info": {
   "codemirror_mode": {
    "name": "ipython",
    "version": 2
   },
   "file_extension": ".py",
   "mimetype": "text/x-python",
   "name": "python",
   "nbconvert_exporter": "python",
   "pygments_lexer": "ipython2",
   "version": "2.7.14"
  }
 },
 "nbformat": 4,
 "nbformat_minor": 2
}
