{
 "cells": [
  {
   "cell_type": "code",
   "execution_count": 49,
   "metadata": {},
   "outputs": [
    {
     "name": "stdout",
     "output_type": "stream",
     "text": [
      "Running Figure12 on dataset 4 Framed with RandomForest\n"
     ]
    }
   ],
   "source": [
    "from sklearn.model_selection import RepeatedStratifiedKFold \n",
    "from keras import models\n",
    "from keras import layers\n",
    "from keras import optimizers\n",
    "import keras.applications\n",
    "from keras.utils.np_utils import to_categorical\n",
    "\n",
    "import cPickle as pickle\n",
    "import numpy as np\n",
    "import os\n",
    "import sys\n",
    "import time\n",
    "\n",
    "sys.path.append('../EXP/')\n",
    "import ClevelandMcGill as C\n",
    "\n",
    "\n",
    "EXPERIMENT = 'Figure12'\n",
    "DATASET = 4\n",
    "FEATUREGENERATOR = 'RandomForest'\n",
    "FRAMED = 'Framed'\n",
    "\n",
    "#\n",
    "#\n",
    "#\n",
    "print 'Running', EXPERIMENT, 'on dataset', DATASET, FRAMED, 'with', FEATUREGENERATOR\n",
    "\n",
    "\n",
    "EPOCHS = 10\n",
    "FRAMED_BOOL = (FRAMED == 'Framed')\n",
    "NO_SPLITS = 10\n",
    "NO_REPEATS = 4\n",
    "BATCH_SIZE = 32\n",
    "\n",
    "FEATUREGENERATORS = {'RandomForestSparse': 'RandomForestSparse',\n",
    "                     'RandomForest': 'RandomForest',\n",
    "                     'MLP': 'Just MLP',\n",
    "                     'LeNet': 'LeNet',\n",
    "                     'VGG19': keras.applications.VGG19,\n",
    "                     'Xception': keras.applications.Xception,\n",
    "                     'DenseNet201': keras.applications.DenseNet201}\n",
    "\n",
    "\n",
    "#\n",
    "#\n",
    "# We store now a folder structure:\n",
    "#   RESULTS/Experiment/Dataset/FeatureGenerator/Framed/EPOCHS_NOSPLITS_NOREPEATS_INDEX.p\n",
    "#\n",
    "# INDEX is the index of the current run\n",
    "#\n",
    "OUTPUT_DIRECTORY = os.path.join('../RESULTS_NEW/', EXPERIMENT, str(DATASET), FEATUREGENERATOR, FRAMED)\n",
    "if not os.path.exists(OUTPUT_DIRECTORY):\n",
    "  os.makedirs(OUTPUT_DIRECTORY)\n",
    "\n",
    "\n",
    "#\n",
    "#\n",
    "# LOAD DATA\n",
    "#\n",
    "#\n",
    "if EXPERIMENT == 'Figure12':\n",
    "  if FEATUREGENERATOR == 'RandomForestSparse':\n",
    "    X, y = C.Figure12.load(dataset=int(DATASET),preview=False, images=False)\n",
    "  else:\n",
    "    images, framed_images, labels = C.Figure12.load(dataset=int(DATASET),preview=False)\n",
    "\n",
    "    if FRAMED_BOOL:\n",
    "      X = framed_images\n",
    "    else:\n",
    "      X = images\n",
    "\n",
    "    if FEATUREGENERATOR != 'RandomForest':\n",
    "      X = np.stack((X,)*3, -1) # make sure we have RGB\n",
    "      \n",
    "    X = X.astype(np.float32)-.5 # normalize\n",
    "    y = labels\n"
   ]
  },
  {
   "cell_type": "code",
   "execution_count": 51,
   "metadata": {},
   "outputs": [
    {
     "data": {
      "text/plain": [
       "(100000, 100, 100)"
      ]
     },
     "execution_count": 51,
     "metadata": {},
     "output_type": "execute_result"
    }
   ],
   "source": [
    "X.shape"
   ]
  },
  {
   "cell_type": "code",
   "execution_count": 52,
   "metadata": {},
   "outputs": [],
   "source": [
    "# MLP case.. no feature generation here!\n",
    "oshape = X.shape\n",
    "# we now need to flatten the data\n",
    "X = X.reshape(X.shape[0], oshape[1]*oshape[2])"
   ]
  },
  {
   "cell_type": "code",
   "execution_count": 46,
   "metadata": {},
   "outputs": [
    {
     "data": {
      "text/plain": [
       "(array([[-0.5, -0.5, -0.5, ..., -0.5, -0.5, -0.5],\n",
       "        [-0.5, -0.5, -0.5, ..., -0.5, -0.5, -0.5],\n",
       "        [-0.5, -0.5, -0.5, ..., -0.5, -0.5, -0.5],\n",
       "        ..., \n",
       "        [-0.5, -0.5, -0.5, ..., -0.5, -0.5, -0.5],\n",
       "        [-0.5, -0.5, -0.5, ..., -0.5, -0.5, -0.5],\n",
       "        [-0.5, -0.5, -0.5, ..., -0.5, -0.5, -0.5]], dtype=float32), False)"
      ]
     },
     "execution_count": 46,
     "metadata": {},
     "output_type": "execute_result"
    }
   ],
   "source": [
    "X[0], y[0]"
   ]
  },
  {
   "cell_type": "code",
   "execution_count": 18,
   "metadata": {},
   "outputs": [],
   "source": [
    "from sklearn.ensemble import RandomForestClassifier"
   ]
  },
  {
   "cell_type": "code",
   "execution_count": 47,
   "metadata": {
    "collapsed": true
   },
   "outputs": [],
   "source": [
    "classifier = RandomForestClassifier(n_estimators=128)"
   ]
  },
  {
   "cell_type": "code",
   "execution_count": 53,
   "metadata": {},
   "outputs": [
    {
     "data": {
      "text/plain": [
       "RandomForestClassifier(bootstrap=True, class_weight=None, criterion='gini',\n",
       "            max_depth=None, max_features='auto', max_leaf_nodes=None,\n",
       "            min_impurity_decrease=0.0, min_impurity_split=None,\n",
       "            min_samples_leaf=1, min_samples_split=2,\n",
       "            min_weight_fraction_leaf=0.0, n_estimators=128, n_jobs=1,\n",
       "            oob_score=False, random_state=None, verbose=0,\n",
       "            warm_start=False)"
      ]
     },
     "execution_count": 53,
     "metadata": {},
     "output_type": "execute_result"
    }
   ],
   "source": [
    "classifier.fit(X[:67499],y[:67499])"
   ]
  },
  {
   "cell_type": "code",
   "execution_count": 54,
   "metadata": {},
   "outputs": [],
   "source": [
    "aaaa = classifier.predict(X[68000:])"
   ]
  },
  {
   "cell_type": "code",
   "execution_count": 55,
   "metadata": {},
   "outputs": [
    {
     "data": {
      "text/plain": [
       "False"
      ]
     },
     "execution_count": 55,
     "metadata": {},
     "output_type": "execute_result"
    }
   ],
   "source": [
    "np.array_equal(aaaa, y[68000:])"
   ]
  },
  {
   "cell_type": "code",
   "execution_count": 58,
   "metadata": {},
   "outputs": [
    {
     "data": {
      "text/plain": [
       "array([False,  True,  True,  True,  True,  True,  True,  True,  True,\n",
       "       False, False,  True,  True,  True,  True, False,  True, False,\n",
       "        True,  True], dtype=bool)"
      ]
     },
     "execution_count": 58,
     "metadata": {},
     "output_type": "execute_result"
    }
   ],
   "source": [
    "aaaa[0:20]"
   ]
  },
  {
   "cell_type": "code",
   "execution_count": 59,
   "metadata": {},
   "outputs": [
    {
     "data": {
      "text/plain": [
       "array([False,  True,  True,  True,  True,  True,  True,  True,  True,\n",
       "       False, False,  True,  True,  True,  True, False,  True, False,\n",
       "        True,  True], dtype=bool)"
      ]
     },
     "execution_count": 59,
     "metadata": {},
     "output_type": "execute_result"
    }
   ],
   "source": [
    "y[68000:][0:20]"
   ]
  },
  {
   "cell_type": "code",
   "execution_count": 62,
   "metadata": {},
   "outputs": [
    {
     "data": {
      "text/plain": [
       "603"
      ]
     },
     "execution_count": 62,
     "metadata": {},
     "output_type": "execute_result"
    }
   ],
   "source": [
    "len(np.where(aaaa != y[68000:])[0])"
   ]
  },
  {
   "cell_type": "code",
   "execution_count": 64,
   "metadata": {},
   "outputs": [
    {
     "data": {
      "text/plain": [
       "0.01884375"
      ]
     },
     "execution_count": 64,
     "metadata": {},
     "output_type": "execute_result"
    }
   ],
   "source": [
    "603/32000."
   ]
  },
  {
   "cell_type": "code",
   "execution_count": null,
   "metadata": {
    "collapsed": true
   },
   "outputs": [],
   "source": []
  }
 ],
 "metadata": {
  "kernelspec": {
   "display_name": "Python 2",
   "language": "python",
   "name": "python2"
  },
  "language_info": {
   "codemirror_mode": {
    "name": "ipython",
    "version": 2
   },
   "file_extension": ".py",
   "mimetype": "text/x-python",
   "name": "python",
   "nbconvert_exporter": "python",
   "pygments_lexer": "ipython2",
   "version": "2.7.14"
  }
 },
 "nbformat": 4,
 "nbformat_minor": 2
}
