{
 "cells": [
  {
   "cell_type": "code",
   "execution_count": 1,
   "metadata": {},
   "outputs": [
    {
     "name": "stdout",
     "output_type": "stream",
     "text": [
      "Populating the interactive namespace from numpy and matplotlib\n"
     ]
    }
   ],
   "source": [
    "%pylab inline\n",
    "%load_ext autoreload\n",
    "%autoreload 2\n",
    "\n",
    "from jupyterthemes import jtplot\n",
    "jtplot.style()"
   ]
  },
  {
   "cell_type": "code",
   "execution_count": 2,
   "metadata": {},
   "outputs": [
    {
     "data": {
      "text/plain": [
       "<module 'ClevelandMcGill' from '../EXP/ClevelandMcGill/__init__.pyc'>"
      ]
     },
     "execution_count": 2,
     "metadata": {},
     "output_type": "execute_result"
    }
   ],
   "source": [
    "import os, sys, time\n",
    "import cPickle as pickle\n",
    "sys.path.append('../EXP/')\n",
    "import ClevelandMcGill as C\n",
    "reload(C)"
   ]
  },
  {
   "cell_type": "code",
   "execution_count": 3,
   "metadata": {
    "collapsed": true
   },
   "outputs": [],
   "source": [
    "N = 100000\n",
    "images = np.zeros((N,100,100), dtype=np.bool)\n",
    "labels = np.zeros((N), dtype=np.float32)\n",
    "\n",
    "for n in range(N):\n",
    "  \n",
    "  sparse, image, label, parameters = C.Figure1.angle([True, True])\n",
    "  \n",
    "  images[n] = image\n",
    "  labels[n] = label\n",
    "  "
   ]
  },
  {
   "cell_type": "code",
   "execution_count": 14,
   "metadata": {},
   "outputs": [
    {
     "name": "stdout",
     "output_type": "stream",
     "text": [
      "memory usage 4000.4 MB\n"
     ]
    }
   ],
   "source": [
    "X = images.astype(np.float32) - .5\n",
    "y = (labels-np.min(labels))/(np.max(labels)-np.min(labels))\n",
    "print 'memory usage', (X.nbytes + y.nbytes) / 1000000., 'MB'"
   ]
  },
  {
   "cell_type": "code",
   "execution_count": 19,
   "metadata": {},
   "outputs": [
    {
     "name": "stdout",
     "output_type": "stream",
     "text": [
      "memory usage 12000.4 MB\n"
     ]
    }
   ],
   "source": [
    "X3D = np.stack((X,)*3, -1)\n",
    "print 'memory usage', (X3D.nbytes + y.nbytes) / 1000000., 'MB'"
   ]
  },
  {
   "cell_type": "code",
   "execution_count": 20,
   "metadata": {},
   "outputs": [
    {
     "name": "stdout",
     "output_type": "stream",
     "text": [
      "100000/100000 [==============================] - 281s 3ms/step\n",
      "VGG19 features done after 280.728364944\n"
     ]
    }
   ],
   "source": [
    "import keras.applications\n",
    "\n",
    "VGG19 = keras.applications.VGG19(include_top=False, weights='imagenet', input_shape=(100,100,3))\n",
    "\n",
    "t0 = time.time()\n",
    "features = VGG19.predict(X3D, verbose=True)\n",
    "print 'VGG19 features done after', time.time()-t0"
   ]
  },
  {
   "cell_type": "code",
   "execution_count": 22,
   "metadata": {},
   "outputs": [
    {
     "name": "stdout",
     "output_type": "stream",
     "text": [
      "features shape (100000, 3, 3, 512)\n",
      "memory usage 1843.6 MB\n"
     ]
    }
   ],
   "source": [
    "oshape = features.shape\n",
    "print 'features shape', oshape\n",
    "print 'memory usage', (features.nbytes + y.nbytes) / 1000000., 'MB'"
   ]
  },
  {
   "cell_type": "code",
   "execution_count": 24,
   "metadata": {},
   "outputs": [],
   "source": [
    "from keras import models\n",
    "from keras import layers\n",
    "from keras import optimizers\n",
    "import keras.applications\n",
    "from keras import backend as K\n",
    "from keras.utils.np_utils import to_categorical\n",
    "\n",
    "MLP = models.Sequential()\n",
    "\n",
    "MLP.add(layers.Dense(256, activation='relu', input_dim=oshape[1]*oshape[2]*oshape[3]))\n",
    "MLP.add(layers.Dropout(0.5))\n",
    "MLP.add(layers.Dense(1, activation='linear')) # REGRESSION\n",
    "\n",
    "sgd = optimizers.SGD(lr=0.0001, decay=1e-6, momentum=0.9, nesterov=True)\n",
    "MLP.compile(loss='mean_squared_error', optimizer=sgd, metrics=['mse', 'mae']) # MSE for regression"
   ]
  },
  {
   "cell_type": "code",
   "execution_count": 45,
   "metadata": {},
   "outputs": [
    {
     "name": "stdout",
     "output_type": "stream",
     "text": [
      "Train on 45000 samples, validate on 15000 samples\n",
      "Epoch 1/1000\n",
      "45000/45000 [==============================] - 7s 146us/step - loss: 0.0136 - mean_squared_error: 0.0136 - mean_absolute_error: 0.0898 - val_loss: 0.0091 - val_mean_squared_error: 0.0091 - val_mean_absolute_error: 0.0728\n",
      "Epoch 2/1000\n",
      "45000/45000 [==============================] - 7s 145us/step - loss: 0.0134 - mean_squared_error: 0.0134 - mean_absolute_error: 0.0890 - val_loss: 0.0090 - val_mean_squared_error: 0.0090 - val_mean_absolute_error: 0.0716\n",
      "Epoch 3/1000\n",
      "45000/45000 [==============================] - 7s 146us/step - loss: 0.0133 - mean_squared_error: 0.0133 - mean_absolute_error: 0.0889 - val_loss: 0.0086 - val_mean_squared_error: 0.0086 - val_mean_absolute_error: 0.0699\n",
      "Epoch 4/1000\n",
      "45000/45000 [==============================] - 7s 146us/step - loss: 0.0132 - mean_squared_error: 0.0132 - mean_absolute_error: 0.0882 - val_loss: 0.0086 - val_mean_squared_error: 0.0086 - val_mean_absolute_error: 0.0705\n",
      "Epoch 5/1000\n",
      "45000/45000 [==============================] - 7s 145us/step - loss: 0.0130 - mean_squared_error: 0.0130 - mean_absolute_error: 0.0878 - val_loss: 0.0085 - val_mean_squared_error: 0.0085 - val_mean_absolute_error: 0.0696\n",
      "Epoch 6/1000\n",
      "45000/45000 [==============================] - 7s 145us/step - loss: 0.0131 - mean_squared_error: 0.0131 - mean_absolute_error: 0.0879 - val_loss: 0.0082 - val_mean_squared_error: 0.0082 - val_mean_absolute_error: 0.0690\n",
      "Epoch 7/1000\n",
      "45000/45000 [==============================] - 7s 146us/step - loss: 0.0128 - mean_squared_error: 0.0128 - mean_absolute_error: 0.0871 - val_loss: 0.0085 - val_mean_squared_error: 0.0085 - val_mean_absolute_error: 0.0696\n",
      "Epoch 8/1000\n",
      "45000/45000 [==============================] - 7s 146us/step - loss: 0.0126 - mean_squared_error: 0.0126 - mean_absolute_error: 0.0863 - val_loss: 0.0084 - val_mean_squared_error: 0.0084 - val_mean_absolute_error: 0.0691\n",
      "Epoch 9/1000\n",
      "45000/45000 [==============================] - 7s 145us/step - loss: 0.0126 - mean_squared_error: 0.0126 - mean_absolute_error: 0.0862 - val_loss: 0.0084 - val_mean_squared_error: 0.0084 - val_mean_absolute_error: 0.0698\n",
      "Epoch 10/1000\n",
      "45000/45000 [==============================] - 7s 146us/step - loss: 0.0125 - mean_squared_error: 0.0125 - mean_absolute_error: 0.0861 - val_loss: 0.0079 - val_mean_squared_error: 0.0079 - val_mean_absolute_error: 0.0673\n",
      "Epoch 11/1000\n",
      "45000/45000 [==============================] - 7s 146us/step - loss: 0.0125 - mean_squared_error: 0.0125 - mean_absolute_error: 0.0857 - val_loss: 0.0079 - val_mean_squared_error: 0.0079 - val_mean_absolute_error: 0.0674\n",
      "Epoch 12/1000\n",
      "45000/45000 [==============================] - 7s 146us/step - loss: 0.0124 - mean_squared_error: 0.0124 - mean_absolute_error: 0.0856 - val_loss: 0.0083 - val_mean_squared_error: 0.0083 - val_mean_absolute_error: 0.0697\n",
      "Epoch 13/1000\n",
      "45000/45000 [==============================] - 7s 146us/step - loss: 0.0122 - mean_squared_error: 0.0122 - mean_absolute_error: 0.0847 - val_loss: 0.0077 - val_mean_squared_error: 0.0077 - val_mean_absolute_error: 0.0664\n",
      "Epoch 14/1000\n",
      "45000/45000 [==============================] - 7s 146us/step - loss: 0.0120 - mean_squared_error: 0.0120 - mean_absolute_error: 0.0845 - val_loss: 0.0076 - val_mean_squared_error: 0.0076 - val_mean_absolute_error: 0.0661\n",
      "Epoch 15/1000\n",
      "45000/45000 [==============================] - 7s 146us/step - loss: 0.0120 - mean_squared_error: 0.0120 - mean_absolute_error: 0.0841 - val_loss: 0.0081 - val_mean_squared_error: 0.0081 - val_mean_absolute_error: 0.0678\n",
      "Epoch 16/1000\n",
      "45000/45000 [==============================] - 7s 146us/step - loss: 0.0119 - mean_squared_error: 0.0119 - mean_absolute_error: 0.0839 - val_loss: 0.0077 - val_mean_squared_error: 0.0077 - val_mean_absolute_error: 0.0665\n",
      "Epoch 17/1000\n",
      "45000/45000 [==============================] - 7s 146us/step - loss: 0.0119 - mean_squared_error: 0.0119 - mean_absolute_error: 0.0838 - val_loss: 0.0074 - val_mean_squared_error: 0.0074 - val_mean_absolute_error: 0.0651\n",
      "Epoch 18/1000\n",
      "45000/45000 [==============================] - 7s 146us/step - loss: 0.0118 - mean_squared_error: 0.0118 - mean_absolute_error: 0.0836 - val_loss: 0.0075 - val_mean_squared_error: 0.0075 - val_mean_absolute_error: 0.0651\n",
      "Epoch 19/1000\n",
      "45000/45000 [==============================] - 7s 146us/step - loss: 0.0117 - mean_squared_error: 0.0117 - mean_absolute_error: 0.0833 - val_loss: 0.0073 - val_mean_squared_error: 0.0073 - val_mean_absolute_error: 0.0647\n",
      "Epoch 20/1000\n",
      "45000/45000 [==============================] - 7s 146us/step - loss: 0.0116 - mean_squared_error: 0.0116 - mean_absolute_error: 0.0826 - val_loss: 0.0071 - val_mean_squared_error: 0.0071 - val_mean_absolute_error: 0.0638\n",
      "Epoch 21/1000\n",
      "45000/45000 [==============================] - 7s 147us/step - loss: 0.0116 - mean_squared_error: 0.0116 - mean_absolute_error: 0.0827 - val_loss: 0.0076 - val_mean_squared_error: 0.0076 - val_mean_absolute_error: 0.0657\n",
      "Epoch 22/1000\n",
      "45000/45000 [==============================] - 7s 146us/step - loss: 0.0114 - mean_squared_error: 0.0114 - mean_absolute_error: 0.0819 - val_loss: 0.0074 - val_mean_squared_error: 0.0074 - val_mean_absolute_error: 0.0652\n",
      "Epoch 23/1000\n",
      "45000/45000 [==============================] - 7s 147us/step - loss: 0.0114 - mean_squared_error: 0.0114 - mean_absolute_error: 0.0819 - val_loss: 0.0075 - val_mean_squared_error: 0.0075 - val_mean_absolute_error: 0.0655\n",
      "Epoch 24/1000\n",
      "45000/45000 [==============================] - 7s 146us/step - loss: 0.0113 - mean_squared_error: 0.0113 - mean_absolute_error: 0.0815 - val_loss: 0.0072 - val_mean_squared_error: 0.0072 - val_mean_absolute_error: 0.0641\n",
      "Epoch 25/1000\n",
      "45000/45000 [==============================] - 7s 146us/step - loss: 0.0113 - mean_squared_error: 0.0113 - mean_absolute_error: 0.0816 - val_loss: 0.0069 - val_mean_squared_error: 0.0069 - val_mean_absolute_error: 0.0629\n",
      "Epoch 26/1000\n",
      "45000/45000 [==============================] - 7s 146us/step - loss: 0.0112 - mean_squared_error: 0.0112 - mean_absolute_error: 0.0812 - val_loss: 0.0072 - val_mean_squared_error: 0.0072 - val_mean_absolute_error: 0.0644\n",
      "Epoch 27/1000\n",
      "45000/45000 [==============================] - 7s 146us/step - loss: 0.0111 - mean_squared_error: 0.0111 - mean_absolute_error: 0.0808 - val_loss: 0.0079 - val_mean_squared_error: 0.0079 - val_mean_absolute_error: 0.0669\n",
      "Epoch 28/1000\n",
      "45000/45000 [==============================] - 7s 146us/step - loss: 0.0110 - mean_squared_error: 0.0110 - mean_absolute_error: 0.0807 - val_loss: 0.0069 - val_mean_squared_error: 0.0069 - val_mean_absolute_error: 0.0624\n",
      "Epoch 29/1000\n",
      "45000/45000 [==============================] - 7s 146us/step - loss: 0.0109 - mean_squared_error: 0.0109 - mean_absolute_error: 0.0801 - val_loss: 0.0072 - val_mean_squared_error: 0.0072 - val_mean_absolute_error: 0.0639\n",
      "Epoch 30/1000\n",
      "45000/45000 [==============================] - 7s 146us/step - loss: 0.0109 - mean_squared_error: 0.0109 - mean_absolute_error: 0.0803 - val_loss: 0.0069 - val_mean_squared_error: 0.0069 - val_mean_absolute_error: 0.0625\n",
      "Epoch 31/1000\n",
      "45000/45000 [==============================] - 7s 145us/step - loss: 0.0109 - mean_squared_error: 0.0109 - mean_absolute_error: 0.0800 - val_loss: 0.0073 - val_mean_squared_error: 0.0073 - val_mean_absolute_error: 0.0649\n",
      "Epoch 32/1000\n",
      "45000/45000 [==============================] - 7s 146us/step - loss: 0.0108 - mean_squared_error: 0.0108 - mean_absolute_error: 0.0796 - val_loss: 0.0066 - val_mean_squared_error: 0.0066 - val_mean_absolute_error: 0.0613\n",
      "Epoch 33/1000\n",
      "45000/45000 [==============================] - 7s 146us/step - loss: 0.0107 - mean_squared_error: 0.0107 - mean_absolute_error: 0.0793 - val_loss: 0.0067 - val_mean_squared_error: 0.0067 - val_mean_absolute_error: 0.0618\n",
      "Epoch 34/1000\n",
      "45000/45000 [==============================] - 7s 146us/step - loss: 0.0107 - mean_squared_error: 0.0107 - mean_absolute_error: 0.0794 - val_loss: 0.0066 - val_mean_squared_error: 0.0066 - val_mean_absolute_error: 0.0613\n",
      "Epoch 35/1000\n",
      "45000/45000 [==============================] - 7s 146us/step - loss: 0.0106 - mean_squared_error: 0.0106 - mean_absolute_error: 0.0790 - val_loss: 0.0069 - val_mean_squared_error: 0.0069 - val_mean_absolute_error: 0.0631\n"
     ]
    },
    {
     "name": "stdout",
     "output_type": "stream",
     "text": [
      "Epoch 36/1000\n",
      "45000/45000 [==============================] - 7s 146us/step - loss: 0.0107 - mean_squared_error: 0.0107 - mean_absolute_error: 0.0794 - val_loss: 0.0067 - val_mean_squared_error: 0.0067 - val_mean_absolute_error: 0.0618\n",
      "Epoch 37/1000\n",
      "45000/45000 [==============================] - 7s 145us/step - loss: 0.0105 - mean_squared_error: 0.0105 - mean_absolute_error: 0.0789 - val_loss: 0.0064 - val_mean_squared_error: 0.0064 - val_mean_absolute_error: 0.0601\n",
      "Epoch 38/1000\n",
      "45000/45000 [==============================] - 7s 147us/step - loss: 0.0104 - mean_squared_error: 0.0104 - mean_absolute_error: 0.0784 - val_loss: 0.0070 - val_mean_squared_error: 0.0070 - val_mean_absolute_error: 0.0629\n",
      "Epoch 39/1000\n",
      "45000/45000 [==============================] - 7s 146us/step - loss: 0.0103 - mean_squared_error: 0.0103 - mean_absolute_error: 0.0780 - val_loss: 0.0064 - val_mean_squared_error: 0.0064 - val_mean_absolute_error: 0.0605\n",
      "Epoch 40/1000\n",
      "45000/45000 [==============================] - 7s 146us/step - loss: 0.0104 - mean_squared_error: 0.0104 - mean_absolute_error: 0.0782 - val_loss: 0.0067 - val_mean_squared_error: 0.0067 - val_mean_absolute_error: 0.0617\n",
      "Epoch 41/1000\n",
      "45000/45000 [==============================] - 7s 146us/step - loss: 0.0103 - mean_squared_error: 0.0103 - mean_absolute_error: 0.0780 - val_loss: 0.0066 - val_mean_squared_error: 0.0066 - val_mean_absolute_error: 0.0616\n",
      "Epoch 42/1000\n",
      "45000/45000 [==============================] - 7s 145us/step - loss: 0.0104 - mean_squared_error: 0.0104 - mean_absolute_error: 0.0783 - val_loss: 0.0063 - val_mean_squared_error: 0.0063 - val_mean_absolute_error: 0.0599\n",
      "Epoch 43/1000\n",
      "45000/45000 [==============================] - 7s 146us/step - loss: 0.0102 - mean_squared_error: 0.0102 - mean_absolute_error: 0.0776 - val_loss: 0.0062 - val_mean_squared_error: 0.0062 - val_mean_absolute_error: 0.0596\n",
      "Epoch 44/1000\n",
      "45000/45000 [==============================] - 7s 146us/step - loss: 0.0102 - mean_squared_error: 0.0102 - mean_absolute_error: 0.0776 - val_loss: 0.0064 - val_mean_squared_error: 0.0064 - val_mean_absolute_error: 0.0603\n",
      "Epoch 45/1000\n",
      "45000/45000 [==============================] - 7s 146us/step - loss: 0.0101 - mean_squared_error: 0.0101 - mean_absolute_error: 0.0771 - val_loss: 0.0065 - val_mean_squared_error: 0.0065 - val_mean_absolute_error: 0.0609\n",
      "Epoch 46/1000\n",
      "45000/45000 [==============================] - 7s 146us/step - loss: 0.0100 - mean_squared_error: 0.0100 - mean_absolute_error: 0.0770 - val_loss: 0.0062 - val_mean_squared_error: 0.0062 - val_mean_absolute_error: 0.0595\n",
      "Epoch 47/1000\n",
      "45000/45000 [==============================] - 7s 146us/step - loss: 0.0100 - mean_squared_error: 0.0100 - mean_absolute_error: 0.0771 - val_loss: 0.0063 - val_mean_squared_error: 0.0063 - val_mean_absolute_error: 0.0605\n",
      "Epoch 48/1000\n",
      "45000/45000 [==============================] - 7s 146us/step - loss: 0.0100 - mean_squared_error: 0.0100 - mean_absolute_error: 0.0767 - val_loss: 0.0059 - val_mean_squared_error: 0.0059 - val_mean_absolute_error: 0.0584\n",
      "Epoch 49/1000\n",
      "45000/45000 [==============================] - 7s 145us/step - loss: 0.0099 - mean_squared_error: 0.0099 - mean_absolute_error: 0.0765 - val_loss: 0.0061 - val_mean_squared_error: 0.0061 - val_mean_absolute_error: 0.0588\n",
      "Epoch 50/1000\n",
      "45000/45000 [==============================] - 7s 147us/step - loss: 0.0099 - mean_squared_error: 0.0099 - mean_absolute_error: 0.0764 - val_loss: 0.0061 - val_mean_squared_error: 0.0061 - val_mean_absolute_error: 0.0587\n",
      "Epoch 51/1000\n",
      "45000/45000 [==============================] - 7s 145us/step - loss: 0.0099 - mean_squared_error: 0.0099 - mean_absolute_error: 0.0762 - val_loss: 0.0064 - val_mean_squared_error: 0.0064 - val_mean_absolute_error: 0.0609\n",
      "Epoch 52/1000\n",
      "45000/45000 [==============================] - 7s 146us/step - loss: 0.0099 - mean_squared_error: 0.0099 - mean_absolute_error: 0.0764 - val_loss: 0.0059 - val_mean_squared_error: 0.0059 - val_mean_absolute_error: 0.0581\n",
      "Epoch 53/1000\n",
      "45000/45000 [==============================] - 7s 146us/step - loss: 0.0098 - mean_squared_error: 0.0098 - mean_absolute_error: 0.0760 - val_loss: 0.0059 - val_mean_squared_error: 0.0059 - val_mean_absolute_error: 0.0578\n",
      "Epoch 54/1000\n",
      "45000/45000 [==============================] - 7s 145us/step - loss: 0.0097 - mean_squared_error: 0.0097 - mean_absolute_error: 0.0755 - val_loss: 0.0059 - val_mean_squared_error: 0.0059 - val_mean_absolute_error: 0.0580\n",
      "Epoch 55/1000\n",
      "45000/45000 [==============================] - 7s 146us/step - loss: 0.0098 - mean_squared_error: 0.0098 - mean_absolute_error: 0.0758 - val_loss: 0.0060 - val_mean_squared_error: 0.0060 - val_mean_absolute_error: 0.0589\n",
      "Epoch 56/1000\n",
      "45000/45000 [==============================] - 7s 146us/step - loss: 0.0098 - mean_squared_error: 0.0098 - mean_absolute_error: 0.0759 - val_loss: 0.0057 - val_mean_squared_error: 0.0057 - val_mean_absolute_error: 0.0571\n",
      "Epoch 57/1000\n",
      "45000/45000 [==============================] - 7s 145us/step - loss: 0.0096 - mean_squared_error: 0.0096 - mean_absolute_error: 0.0751 - val_loss: 0.0059 - val_mean_squared_error: 0.0059 - val_mean_absolute_error: 0.0582\n",
      "Epoch 58/1000\n",
      "45000/45000 [==============================] - 7s 146us/step - loss: 0.0095 - mean_squared_error: 0.0095 - mean_absolute_error: 0.0749 - val_loss: 0.0057 - val_mean_squared_error: 0.0057 - val_mean_absolute_error: 0.0569\n",
      "Epoch 59/1000\n",
      "45000/45000 [==============================] - 6s 144us/step - loss: 0.0096 - mean_squared_error: 0.0096 - mean_absolute_error: 0.0754 - val_loss: 0.0060 - val_mean_squared_error: 0.0060 - val_mean_absolute_error: 0.0585\n",
      "Epoch 60/1000\n",
      "45000/45000 [==============================] - 7s 145us/step - loss: 0.0095 - mean_squared_error: 0.0095 - mean_absolute_error: 0.0746 - val_loss: 0.0060 - val_mean_squared_error: 0.0060 - val_mean_absolute_error: 0.0583\n",
      "Epoch 61/1000\n",
      "45000/45000 [==============================] - 7s 145us/step - loss: 0.0096 - mean_squared_error: 0.0096 - mean_absolute_error: 0.0751 - val_loss: 0.0058 - val_mean_squared_error: 0.0058 - val_mean_absolute_error: 0.0581\n",
      "Epoch 62/1000\n",
      "45000/45000 [==============================] - 7s 146us/step - loss: 0.0095 - mean_squared_error: 0.0095 - mean_absolute_error: 0.0747 - val_loss: 0.0060 - val_mean_squared_error: 0.0060 - val_mean_absolute_error: 0.0589\n",
      "Epoch 63/1000\n",
      "45000/45000 [==============================] - 7s 146us/step - loss: 0.0095 - mean_squared_error: 0.0095 - mean_absolute_error: 0.0751 - val_loss: 0.0056 - val_mean_squared_error: 0.0056 - val_mean_absolute_error: 0.0564\n",
      "Epoch 64/1000\n",
      "45000/45000 [==============================] - 7s 147us/step - loss: 0.0094 - mean_squared_error: 0.0094 - mean_absolute_error: 0.0744 - val_loss: 0.0058 - val_mean_squared_error: 0.0058 - val_mean_absolute_error: 0.0573\n",
      "Epoch 65/1000\n",
      "45000/45000 [==============================] - 7s 147us/step - loss: 0.0093 - mean_squared_error: 0.0093 - mean_absolute_error: 0.0740 - val_loss: 0.0061 - val_mean_squared_error: 0.0061 - val_mean_absolute_error: 0.0585\n",
      "Epoch 66/1000\n",
      "45000/45000 [==============================] - 7s 146us/step - loss: 0.0093 - mean_squared_error: 0.0093 - mean_absolute_error: 0.0741 - val_loss: 0.0055 - val_mean_squared_error: 0.0055 - val_mean_absolute_error: 0.0562\n",
      "Epoch 67/1000\n",
      "45000/45000 [==============================] - 6s 144us/step - loss: 0.0093 - mean_squared_error: 0.0093 - mean_absolute_error: 0.0741 - val_loss: 0.0057 - val_mean_squared_error: 0.0057 - val_mean_absolute_error: 0.0568\n",
      "Epoch 68/1000\n",
      "45000/45000 [==============================] - 7s 144us/step - loss: 0.0092 - mean_squared_error: 0.0092 - mean_absolute_error: 0.0739 - val_loss: 0.0059 - val_mean_squared_error: 0.0059 - val_mean_absolute_error: 0.0585\n",
      "Epoch 69/1000\n",
      "45000/45000 [==============================] - 7s 145us/step - loss: 0.0092 - mean_squared_error: 0.0092 - mean_absolute_error: 0.0738 - val_loss: 0.0056 - val_mean_squared_error: 0.0056 - val_mean_absolute_error: 0.0562\n",
      "Epoch 70/1000\n",
      "45000/45000 [==============================] - 7s 145us/step - loss: 0.0092 - mean_squared_error: 0.0092 - mean_absolute_error: 0.0736 - val_loss: 0.0054 - val_mean_squared_error: 0.0054 - val_mean_absolute_error: 0.0552\n"
     ]
    },
    {
     "name": "stdout",
     "output_type": "stream",
     "text": [
      "Epoch 71/1000\n",
      "45000/45000 [==============================] - 7s 145us/step - loss: 0.0092 - mean_squared_error: 0.0092 - mean_absolute_error: 0.0735 - val_loss: 0.0059 - val_mean_squared_error: 0.0059 - val_mean_absolute_error: 0.0575\n",
      "Epoch 72/1000\n",
      "45000/45000 [==============================] - 6s 144us/step - loss: 0.0091 - mean_squared_error: 0.0091 - mean_absolute_error: 0.0733 - val_loss: 0.0055 - val_mean_squared_error: 0.0055 - val_mean_absolute_error: 0.0558\n",
      "Epoch 73/1000\n",
      "45000/45000 [==============================] - 6s 144us/step - loss: 0.0091 - mean_squared_error: 0.0091 - mean_absolute_error: 0.0731 - val_loss: 0.0054 - val_mean_squared_error: 0.0054 - val_mean_absolute_error: 0.0552\n",
      "Epoch 74/1000\n",
      "45000/45000 [==============================] - 7s 146us/step - loss: 0.0090 - mean_squared_error: 0.0090 - mean_absolute_error: 0.0730 - val_loss: 0.0057 - val_mean_squared_error: 0.0057 - val_mean_absolute_error: 0.0570\n",
      "Epoch 75/1000\n",
      "45000/45000 [==============================] - 7s 145us/step - loss: 0.0090 - mean_squared_error: 0.0090 - mean_absolute_error: 0.0728 - val_loss: 0.0053 - val_mean_squared_error: 0.0053 - val_mean_absolute_error: 0.0550\n",
      "Epoch 76/1000\n",
      "45000/45000 [==============================] - 6s 143us/step - loss: 0.0091 - mean_squared_error: 0.0091 - mean_absolute_error: 0.0732 - val_loss: 0.0057 - val_mean_squared_error: 0.0057 - val_mean_absolute_error: 0.0569\n",
      "Epoch 77/1000\n",
      "45000/45000 [==============================] - 7s 145us/step - loss: 0.0089 - mean_squared_error: 0.0089 - mean_absolute_error: 0.0727 - val_loss: 0.0054 - val_mean_squared_error: 0.0054 - val_mean_absolute_error: 0.0556\n",
      "Epoch 78/1000\n",
      "45000/45000 [==============================] - 7s 145us/step - loss: 0.0089 - mean_squared_error: 0.0089 - mean_absolute_error: 0.0726 - val_loss: 0.0052 - val_mean_squared_error: 0.0052 - val_mean_absolute_error: 0.0545\n",
      "Epoch 79/1000\n",
      "45000/45000 [==============================] - 7s 146us/step - loss: 0.0089 - mean_squared_error: 0.0089 - mean_absolute_error: 0.0723 - val_loss: 0.0057 - val_mean_squared_error: 0.0057 - val_mean_absolute_error: 0.0568\n",
      "Epoch 80/1000\n",
      "45000/45000 [==============================] - 7s 146us/step - loss: 0.0089 - mean_squared_error: 0.0089 - mean_absolute_error: 0.0723 - val_loss: 0.0059 - val_mean_squared_error: 0.0059 - val_mean_absolute_error: 0.0584\n",
      "Epoch 81/1000\n",
      "45000/45000 [==============================] - 7s 146us/step - loss: 0.0090 - mean_squared_error: 0.0090 - mean_absolute_error: 0.0728 - val_loss: 0.0052 - val_mean_squared_error: 0.0052 - val_mean_absolute_error: 0.0545\n",
      "Epoch 82/1000\n",
      "45000/45000 [==============================] - 7s 145us/step - loss: 0.0088 - mean_squared_error: 0.0088 - mean_absolute_error: 0.0717 - val_loss: 0.0052 - val_mean_squared_error: 0.0052 - val_mean_absolute_error: 0.0543\n",
      "Epoch 83/1000\n",
      "45000/45000 [==============================] - 7s 146us/step - loss: 0.0088 - mean_squared_error: 0.0088 - mean_absolute_error: 0.0721 - val_loss: 0.0055 - val_mean_squared_error: 0.0055 - val_mean_absolute_error: 0.0558\n",
      "Epoch 84/1000\n",
      "45000/45000 [==============================] - 7s 146us/step - loss: 0.0089 - mean_squared_error: 0.0089 - mean_absolute_error: 0.0721 - val_loss: 0.0050 - val_mean_squared_error: 0.0050 - val_mean_absolute_error: 0.0536\n",
      "Epoch 85/1000\n",
      "45000/45000 [==============================] - 7s 146us/step - loss: 0.0087 - mean_squared_error: 0.0087 - mean_absolute_error: 0.0716 - val_loss: 0.0051 - val_mean_squared_error: 0.0051 - val_mean_absolute_error: 0.0540\n",
      "Epoch 86/1000\n",
      "45000/45000 [==============================] - 7s 146us/step - loss: 0.0088 - mean_squared_error: 0.0088 - mean_absolute_error: 0.0720 - val_loss: 0.0052 - val_mean_squared_error: 0.0052 - val_mean_absolute_error: 0.0545\n",
      "Epoch 87/1000\n",
      "45000/45000 [==============================] - 7s 145us/step - loss: 0.0088 - mean_squared_error: 0.0088 - mean_absolute_error: 0.0720 - val_loss: 0.0051 - val_mean_squared_error: 0.0051 - val_mean_absolute_error: 0.0538\n",
      "Epoch 88/1000\n",
      "45000/45000 [==============================] - 7s 146us/step - loss: 0.0087 - mean_squared_error: 0.0087 - mean_absolute_error: 0.0717 - val_loss: 0.0051 - val_mean_squared_error: 0.0051 - val_mean_absolute_error: 0.0540\n",
      "Epoch 89/1000\n",
      "45000/45000 [==============================] - 7s 145us/step - loss: 0.0088 - mean_squared_error: 0.0088 - mean_absolute_error: 0.0718 - val_loss: 0.0050 - val_mean_squared_error: 0.0050 - val_mean_absolute_error: 0.0536\n",
      "Epoch 90/1000\n",
      "45000/45000 [==============================] - 7s 145us/step - loss: 0.0086 - mean_squared_error: 0.0086 - mean_absolute_error: 0.0713 - val_loss: 0.0054 - val_mean_squared_error: 0.0054 - val_mean_absolute_error: 0.0555\n",
      "Epoch 91/1000\n",
      "45000/45000 [==============================] - 7s 145us/step - loss: 0.0087 - mean_squared_error: 0.0087 - mean_absolute_error: 0.0714 - val_loss: 0.0051 - val_mean_squared_error: 0.0051 - val_mean_absolute_error: 0.0537\n",
      "Epoch 92/1000\n",
      "45000/45000 [==============================] - 7s 145us/step - loss: 0.0087 - mean_squared_error: 0.0087 - mean_absolute_error: 0.0714 - val_loss: 0.0050 - val_mean_squared_error: 0.0050 - val_mean_absolute_error: 0.0535\n",
      "Epoch 93/1000\n",
      "45000/45000 [==============================] - 7s 145us/step - loss: 0.0087 - mean_squared_error: 0.0087 - mean_absolute_error: 0.0714 - val_loss: 0.0051 - val_mean_squared_error: 0.0051 - val_mean_absolute_error: 0.0538\n",
      "Epoch 94/1000\n",
      "45000/45000 [==============================] - 7s 145us/step - loss: 0.0086 - mean_squared_error: 0.0086 - mean_absolute_error: 0.0710 - val_loss: 0.0056 - val_mean_squared_error: 0.0056 - val_mean_absolute_error: 0.0567\n",
      "Epoch 95/1000\n",
      "45000/45000 [==============================] - 7s 146us/step - loss: 0.0085 - mean_squared_error: 0.0085 - mean_absolute_error: 0.0708 - val_loss: 0.0050 - val_mean_squared_error: 0.0050 - val_mean_absolute_error: 0.0536\n",
      "Epoch 96/1000\n",
      "45000/45000 [==============================] - 7s 147us/step - loss: 0.0085 - mean_squared_error: 0.0085 - mean_absolute_error: 0.0709 - val_loss: 0.0057 - val_mean_squared_error: 0.0057 - val_mean_absolute_error: 0.0564\n",
      "Epoch 97/1000\n",
      "45000/45000 [==============================] - 7s 145us/step - loss: 0.0086 - mean_squared_error: 0.0086 - mean_absolute_error: 0.0711 - val_loss: 0.0047 - val_mean_squared_error: 0.0047 - val_mean_absolute_error: 0.0521\n",
      "Epoch 98/1000\n",
      "45000/45000 [==============================] - 7s 147us/step - loss: 0.0085 - mean_squared_error: 0.0085 - mean_absolute_error: 0.0707 - val_loss: 0.0050 - val_mean_squared_error: 0.0050 - val_mean_absolute_error: 0.0531\n",
      "Epoch 99/1000\n",
      "45000/45000 [==============================] - 7s 146us/step - loss: 0.0086 - mean_squared_error: 0.0086 - mean_absolute_error: 0.0712 - val_loss: 0.0052 - val_mean_squared_error: 0.0052 - val_mean_absolute_error: 0.0547\n",
      "Epoch 100/1000\n",
      "45000/45000 [==============================] - 7s 145us/step - loss: 0.0085 - mean_squared_error: 0.0085 - mean_absolute_error: 0.0709 - val_loss: 0.0055 - val_mean_squared_error: 0.0055 - val_mean_absolute_error: 0.0564\n",
      "Epoch 101/1000\n",
      "45000/45000 [==============================] - 7s 147us/step - loss: 0.0084 - mean_squared_error: 0.0084 - mean_absolute_error: 0.0702 - val_loss: 0.0050 - val_mean_squared_error: 0.0050 - val_mean_absolute_error: 0.0538\n",
      "Epoch 102/1000\n",
      "45000/45000 [==============================] - 7s 147us/step - loss: 0.0085 - mean_squared_error: 0.0085 - mean_absolute_error: 0.0705 - val_loss: 0.0050 - val_mean_squared_error: 0.0050 - val_mean_absolute_error: 0.0533\n",
      "Epoch 103/1000\n",
      "45000/45000 [==============================] - 7s 145us/step - loss: 0.0084 - mean_squared_error: 0.0084 - mean_absolute_error: 0.0703 - val_loss: 0.0052 - val_mean_squared_error: 0.0052 - val_mean_absolute_error: 0.0541\n",
      "Epoch 104/1000\n",
      "45000/45000 [==============================] - 7s 146us/step - loss: 0.0084 - mean_squared_error: 0.0084 - mean_absolute_error: 0.0703 - val_loss: 0.0054 - val_mean_squared_error: 0.0054 - val_mean_absolute_error: 0.0550\n",
      "Epoch 105/1000\n",
      "45000/45000 [==============================] - 6s 144us/step - loss: 0.0085 - mean_squared_error: 0.0085 - mean_absolute_error: 0.0703 - val_loss: 0.0050 - val_mean_squared_error: 0.0050 - val_mean_absolute_error: 0.0535\n"
     ]
    },
    {
     "name": "stdout",
     "output_type": "stream",
     "text": [
      "Epoch 106/1000\n",
      "45000/45000 [==============================] - 7s 145us/step - loss: 0.0085 - mean_squared_error: 0.0085 - mean_absolute_error: 0.0703 - val_loss: 0.0047 - val_mean_squared_error: 0.0047 - val_mean_absolute_error: 0.0519\n",
      "Epoch 107/1000\n",
      "45000/45000 [==============================] - 7s 145us/step - loss: 0.0084 - mean_squared_error: 0.0084 - mean_absolute_error: 0.0700 - val_loss: 0.0049 - val_mean_squared_error: 0.0049 - val_mean_absolute_error: 0.0524\n",
      "Fitting done 701.590909958\n"
     ]
    }
   ],
   "source": [
    "t0 = time.time()\n",
    "callbacks = [keras.callbacks.EarlyStopping(monitor='val_loss', min_delta=0, patience=10, verbose=0, mode='auto')]\n",
    "\n",
    "history = MLP.fit(features[0:60000].reshape(60000, oshape[1]*oshape[2]*oshape[3]), \\\n",
    "                  y[0:60000], \\\n",
    "                  epochs=1000, \\\n",
    "                  batch_size=32, \\\n",
    "                  validation_split=0.25,\n",
    "                  callbacks=callbacks,\n",
    "                  verbose=True)\n",
    "print 'Fitting done', time.time()-t0"
   ]
  },
  {
   "cell_type": "code",
   "execution_count": 46,
   "metadata": {},
   "outputs": [],
   "source": [
    "y_pred = MLP.predict(features[60000:].reshape(40000, oshape[1]*oshape[2]*oshape[3]))"
   ]
  },
  {
   "cell_type": "code",
   "execution_count": 48,
   "metadata": {},
   "outputs": [
    {
     "data": {
      "text/plain": [
       "2.4146402076526385"
      ]
     },
     "execution_count": 48,
     "metadata": {},
     "output_type": "execute_result"
    }
   ],
   "source": [
    "import sklearn.metrics\n",
    "y_test = y[60000:]\n",
    "np.log2(sklearn.metrics.mean_absolute_error(y_pred*100, y_test*100)+.125)"
   ]
  },
  {
   "cell_type": "code",
   "execution_count": null,
   "metadata": {
    "collapsed": true
   },
   "outputs": [],
   "source": []
  }
 ],
 "metadata": {
  "kernelspec": {
   "display_name": "Python 2",
   "language": "python",
   "name": "python2"
  },
  "language_info": {
   "codemirror_mode": {
    "name": "ipython",
    "version": 2
   },
   "file_extension": ".py",
   "mimetype": "text/x-python",
   "name": "python",
   "nbconvert_exporter": "python",
   "pygments_lexer": "ipython2",
   "version": "2.7.14"
  }
 },
 "nbformat": 4,
 "nbformat_minor": 2
}
