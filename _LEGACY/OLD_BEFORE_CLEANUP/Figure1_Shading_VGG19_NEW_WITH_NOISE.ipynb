{
 "cells": [
  {
   "cell_type": "code",
   "execution_count": 1,
   "metadata": {},
   "outputs": [
    {
     "name": "stdout",
     "output_type": "stream",
     "text": [
      "Populating the interactive namespace from numpy and matplotlib\n"
     ]
    }
   ],
   "source": [
    "%pylab inline\n",
    "%load_ext autoreload\n",
    "%autoreload 2\n",
    "\n",
    "from jupyterthemes import jtplot\n",
    "jtplot.style()"
   ]
  },
  {
   "cell_type": "code",
   "execution_count": 2,
   "metadata": {},
   "outputs": [
    {
     "data": {
      "text/plain": [
       "<module 'ClevelandMcGill' from '../EXP/ClevelandMcGill/__init__.pyc'>"
      ]
     },
     "execution_count": 2,
     "metadata": {},
     "output_type": "execute_result"
    }
   ],
   "source": [
    "import os, sys, time\n",
    "import cPickle as pickle\n",
    "sys.path.append('../EXP/')\n",
    "import ClevelandMcGill as C\n",
    "reload(C)"
   ]
  },
  {
   "cell_type": "code",
   "execution_count": 3,
   "metadata": {
    "collapsed": true
   },
   "outputs": [],
   "source": [
    "NOISE = True"
   ]
  },
  {
   "cell_type": "code",
   "execution_count": 6,
   "metadata": {},
   "outputs": [
    {
     "name": "stdout",
     "output_type": "stream",
     "text": [
      "Done 140.554594994 seconds ( 56144 iterations)\n"
     ]
    }
   ],
   "source": [
    "train_target = 6000\n",
    "val_target = 2000\n",
    "test_target = 2000\n",
    "\n",
    "X_train = np.zeros((train_target, 100, 100), dtype=np.float32)\n",
    "y_train = np.zeros((train_target), dtype=np.float32)\n",
    "train_counter = 0\n",
    "\n",
    "X_val = np.zeros((val_target, 100, 100), dtype=np.float32)\n",
    "y_val = np.zeros((val_target), dtype=np.float32)\n",
    "val_counter = 0\n",
    "\n",
    "X_test = np.zeros((test_target, 100, 100), dtype=np.float32)\n",
    "y_test = np.zeros((test_target), dtype=np.float32)\n",
    "test_counter = 0\n",
    "\n",
    "t0 = time.time()\n",
    "\n",
    "all_counter = 0\n",
    "while train_counter < train_target or val_counter < val_target or test_counter < test_target:\n",
    "  \n",
    "  all_counter += 1\n",
    "  \n",
    "  sparse, image, label, parameters = C.Figure1.shading()\n",
    "  \n",
    "  if label == 0:\n",
    "    break\n",
    "  \n",
    "  # we need float\n",
    "  image = image.astype(np.float32)\n",
    "  \n",
    "  pot = np.random.choice(3, p=([.6,.2,.2]))\n",
    "\n",
    "  if pot == 0 and train_counter < train_target:\n",
    "    # a training candidate\n",
    "    if label in y_val or label in y_test:\n",
    "      # no thank you\n",
    "      continue\n",
    "      \n",
    "    # add noise?\n",
    "    if NOISE:\n",
    "      image += np.random.uniform(0, 0.05,(100,100))\n",
    "      \n",
    "    # safe to add to training\n",
    "    X_train[train_counter] = image\n",
    "    y_train[train_counter] = label\n",
    "    train_counter += 1\n",
    "    \n",
    "  elif pot == 1 and val_counter < val_target:\n",
    "    # a validation candidate\n",
    "    if label in y_train or label in y_test:\n",
    "      # no thank you\n",
    "      continue\n",
    "      \n",
    "    # add noise?\n",
    "    if NOISE:\n",
    "      image += np.random.uniform(0, 0.05,(100,100))\n",
    "      \n",
    "    # safe to add to validation\n",
    "    X_val[val_counter] = image\n",
    "    y_val[val_counter] = label\n",
    "    val_counter += 1\n",
    "  \n",
    "  elif pot == 2 and test_counter < test_target:\n",
    "    # a test candidate\n",
    "    if label in y_train or label in y_val:\n",
    "      # no thank you\n",
    "      continue\n",
    "      \n",
    "    # add noise?\n",
    "    if NOISE:\n",
    "      image += np.random.uniform(0, 0.05,(100,100))\n",
    "      \n",
    "    # safe to add to test\n",
    "    X_test[test_counter] = image\n",
    "    y_test[test_counter] = label\n",
    "    test_counter += 1\n",
    "  \n",
    "  \n",
    "  \n",
    "print 'Done', time.time()-t0, 'seconds (', all_counter, 'iterations)'"
   ]
  },
  {
   "cell_type": "code",
   "execution_count": 5,
   "metadata": {},
   "outputs": [
    {
     "name": "stdout",
     "output_type": "stream",
     "text": [
      "memory usage 4000.4 MB\n"
     ]
    }
   ],
   "source": [
    "X_min = min(X_train.min(), X_val.min(), X_test.min())\n",
    "X_max = max(X_train.max(), X_val.max(), X_test.max())\n",
    "y_min = min(y_train.min(), y_val.min(), y_test.min())\n",
    "y_max = max(y_train.max(), y_val.max(), y_test.max())\n",
    "\n",
    "# scale in place\n",
    "X_train -= X_min\n",
    "X_train /= (X_max - X_min)\n",
    "X_val -= X_min\n",
    "X_val /= (X_max - X_min)\n",
    "X_test -= X_min\n",
    "X_test /= (X_max - X_min)\n",
    "y_train -= y_min\n",
    "y_train /= (y_max - y_min)\n",
    "y_val -= y_min\n",
    "y_val /= (y_max - y_min)\n",
    "y_test -= y_min\n",
    "y_test /= (y_max - y_min)\n",
    "\n",
    "# normalize to -.5 .. .5\n",
    "X_train -= .5\n",
    "X_val -= .5\n",
    "X_test -= .5\n",
    "\n",
    "print 'memory usage', (X_train.nbytes + X_val.nbytes + X_test.nbytes + y_train.nbytes + y_val.nbytes + y_test.nbytes) / 1000000., 'MB'"
   ]
  },
  {
   "cell_type": "code",
   "execution_count": 6,
   "metadata": {},
   "outputs": [
    {
     "name": "stdout",
     "output_type": "stream",
     "text": [
      "memory usage 12000.0 MB\n"
     ]
    }
   ],
   "source": [
    "X_train_3D = np.stack((X_train,)*3, -1)\n",
    "X_val_3D = np.stack((X_val,)*3, -1)\n",
    "X_test_3D = np.stack((X_test,)*3, -1)\n",
    "print 'memory usage', (X_train_3D.nbytes + X_val_3D.nbytes + X_test_3D.nbytes) / 1000000., 'MB'"
   ]
  },
  {
   "cell_type": "code",
   "execution_count": 7,
   "metadata": {},
   "outputs": [
    {
     "name": "stderr",
     "output_type": "stream",
     "text": [
      "Using TensorFlow backend.\n"
     ]
    },
    {
     "name": "stdout",
     "output_type": "stream",
     "text": [
      "60000/60000 [==============================] - 165s 3ms/step\n",
      "20000/20000 [==============================] - 56s 3ms/step\n",
      "20000/20000 [==============================] - 57s 3ms/step\n",
      "VGG19 features done after 277.631000996\n",
      "memory usage 1843.2 MB\n"
     ]
    }
   ],
   "source": [
    "import keras.applications\n",
    "\n",
    "VGG19 = keras.applications.VGG19(include_top=False, weights='imagenet', input_shape=(100,100,3))\n",
    "\n",
    "t0 = time.time()\n",
    "X_train_3D_features = VGG19.predict(X_train_3D, verbose=True)\n",
    "X_val_3D_features = VGG19.predict(X_val_3D, verbose=True)\n",
    "X_test_3D_features = VGG19.predict(X_test_3D, verbose=True)\n",
    "print 'VGG19 features done after', time.time()-t0\n",
    "print 'memory usage', (X_train_3D_features.nbytes + X_val_3D_features.nbytes + X_test_3D_features.nbytes) / 1000000., 'MB'"
   ]
  },
  {
   "cell_type": "code",
   "execution_count": 8,
   "metadata": {
    "collapsed": true
   },
   "outputs": [],
   "source": [
    "feature_shape = X_train_3D_features.shape[1] * X_train_3D_features.shape[2] * X_train_3D_features.shape[3]"
   ]
  },
  {
   "cell_type": "code",
   "execution_count": 9,
   "metadata": {
    "collapsed": true
   },
   "outputs": [],
   "source": [
    "from keras import models\n",
    "from keras import layers\n",
    "from keras import optimizers\n",
    "import keras.applications\n",
    "from keras import backend as K\n",
    "from keras.utils.np_utils import to_categorical\n",
    "\n",
    "MLP = models.Sequential()\n",
    "\n",
    "MLP.add(layers.Dense(256, activation='relu', input_dim=feature_shape))\n",
    "MLP.add(layers.Dropout(0.5))\n",
    "MLP.add(layers.Dense(1, activation='linear')) # REGRESSION\n",
    "\n",
    "sgd = optimizers.SGD(lr=0.0001, decay=1e-6, momentum=0.9, nesterov=True)\n",
    "MLP.compile(loss='mean_squared_error', optimizer=sgd, metrics=['mse', 'mae']) # MSE for regression"
   ]
  },
  {
   "cell_type": "code",
   "execution_count": 10,
   "metadata": {},
   "outputs": [
    {
     "name": "stdout",
     "output_type": "stream",
     "text": [
      "Train on 60000 samples, validate on 20000 samples\n",
      "Epoch 1/1000\n",
      "60000/60000 [==============================] - 9s 152us/step - loss: 0.0531 - mean_squared_error: 0.0531 - mean_absolute_error: 0.1732 - val_loss: 0.0174 - val_mean_squared_error: 0.0174 - val_mean_absolute_error: 0.0984\n",
      "Epoch 2/1000\n",
      "60000/60000 [==============================] - 9s 148us/step - loss: 0.0257 - mean_squared_error: 0.0257 - mean_absolute_error: 0.1244 - val_loss: 0.0116 - val_mean_squared_error: 0.0116 - val_mean_absolute_error: 0.0798\n",
      "Epoch 3/1000\n",
      "60000/60000 [==============================] - 9s 147us/step - loss: 0.0202 - mean_squared_error: 0.0202 - mean_absolute_error: 0.1094 - val_loss: 0.0089 - val_mean_squared_error: 0.0089 - val_mean_absolute_error: 0.0694\n",
      "Epoch 4/1000\n",
      "60000/60000 [==============================] - 9s 147us/step - loss: 0.0174 - mean_squared_error: 0.0174 - mean_absolute_error: 0.1009 - val_loss: 0.0073 - val_mean_squared_error: 0.0073 - val_mean_absolute_error: 0.0611\n",
      "Epoch 5/1000\n",
      "60000/60000 [==============================] - 9s 149us/step - loss: 0.0152 - mean_squared_error: 0.0152 - mean_absolute_error: 0.0937 - val_loss: 0.0063 - val_mean_squared_error: 0.0063 - val_mean_absolute_error: 0.0568\n",
      "Epoch 6/1000\n",
      "60000/60000 [==============================] - 9s 148us/step - loss: 0.0136 - mean_squared_error: 0.0136 - mean_absolute_error: 0.0887 - val_loss: 0.0060 - val_mean_squared_error: 0.0060 - val_mean_absolute_error: 0.0560\n",
      "Epoch 7/1000\n",
      "60000/60000 [==============================] - 9s 148us/step - loss: 0.0123 - mean_squared_error: 0.0123 - mean_absolute_error: 0.0840 - val_loss: 0.0050 - val_mean_squared_error: 0.0050 - val_mean_absolute_error: 0.0504\n",
      "Epoch 8/1000\n",
      "60000/60000 [==============================] - 9s 149us/step - loss: 0.0114 - mean_squared_error: 0.0114 - mean_absolute_error: 0.0812 - val_loss: 0.0044 - val_mean_squared_error: 0.0044 - val_mean_absolute_error: 0.0477\n",
      "Epoch 9/1000\n",
      "60000/60000 [==============================] - 9s 148us/step - loss: 0.0106 - mean_squared_error: 0.0106 - mean_absolute_error: 0.0783 - val_loss: 0.0037 - val_mean_squared_error: 0.0037 - val_mean_absolute_error: 0.0448\n",
      "Epoch 10/1000\n",
      "60000/60000 [==============================] - 9s 148us/step - loss: 0.0100 - mean_squared_error: 0.0100 - mean_absolute_error: 0.0757 - val_loss: 0.0035 - val_mean_squared_error: 0.0035 - val_mean_absolute_error: 0.0439\n",
      "Epoch 11/1000\n",
      "60000/60000 [==============================] - 9s 148us/step - loss: 0.0094 - mean_squared_error: 0.0094 - mean_absolute_error: 0.0736 - val_loss: 0.0032 - val_mean_squared_error: 0.0032 - val_mean_absolute_error: 0.0414\n",
      "Epoch 12/1000\n",
      "60000/60000 [==============================] - 9s 147us/step - loss: 0.0090 - mean_squared_error: 0.0090 - mean_absolute_error: 0.0719 - val_loss: 0.0030 - val_mean_squared_error: 0.0030 - val_mean_absolute_error: 0.0405\n",
      "Epoch 13/1000\n",
      "60000/60000 [==============================] - 9s 147us/step - loss: 0.0087 - mean_squared_error: 0.0087 - mean_absolute_error: 0.0708 - val_loss: 0.0030 - val_mean_squared_error: 0.0030 - val_mean_absolute_error: 0.0407\n",
      "Epoch 14/1000\n",
      "60000/60000 [==============================] - 9s 148us/step - loss: 0.0084 - mean_squared_error: 0.0084 - mean_absolute_error: 0.0694 - val_loss: 0.0032 - val_mean_squared_error: 0.0032 - val_mean_absolute_error: 0.0417\n",
      "Epoch 15/1000\n",
      "60000/60000 [==============================] - 9s 147us/step - loss: 0.0080 - mean_squared_error: 0.0080 - mean_absolute_error: 0.0679 - val_loss: 0.0026 - val_mean_squared_error: 0.0026 - val_mean_absolute_error: 0.0380\n",
      "Epoch 16/1000\n",
      "60000/60000 [==============================] - 9s 146us/step - loss: 0.0078 - mean_squared_error: 0.0078 - mean_absolute_error: 0.0669 - val_loss: 0.0028 - val_mean_squared_error: 0.0028 - val_mean_absolute_error: 0.0399\n",
      "Epoch 17/1000\n",
      "60000/60000 [==============================] - 9s 147us/step - loss: 0.0076 - mean_squared_error: 0.0076 - mean_absolute_error: 0.0659 - val_loss: 0.0024 - val_mean_squared_error: 0.0024 - val_mean_absolute_error: 0.0363\n",
      "Epoch 18/1000\n",
      "60000/60000 [==============================] - 9s 147us/step - loss: 0.0074 - mean_squared_error: 0.0074 - mean_absolute_error: 0.0651 - val_loss: 0.0024 - val_mean_squared_error: 0.0024 - val_mean_absolute_error: 0.0371\n",
      "Epoch 19/1000\n",
      "60000/60000 [==============================] - 9s 146us/step - loss: 0.0072 - mean_squared_error: 0.0072 - mean_absolute_error: 0.0642 - val_loss: 0.0022 - val_mean_squared_error: 0.0022 - val_mean_absolute_error: 0.0353\n",
      "Epoch 20/1000\n",
      "60000/60000 [==============================] - 9s 147us/step - loss: 0.0070 - mean_squared_error: 0.0070 - mean_absolute_error: 0.0635 - val_loss: 0.0024 - val_mean_squared_error: 0.0024 - val_mean_absolute_error: 0.0370\n",
      "Epoch 21/1000\n",
      "60000/60000 [==============================] - 9s 147us/step - loss: 0.0069 - mean_squared_error: 0.0069 - mean_absolute_error: 0.0629 - val_loss: 0.0021 - val_mean_squared_error: 0.0021 - val_mean_absolute_error: 0.0344\n",
      "Epoch 22/1000\n",
      "60000/60000 [==============================] - 9s 147us/step - loss: 0.0068 - mean_squared_error: 0.0068 - mean_absolute_error: 0.0621 - val_loss: 0.0020 - val_mean_squared_error: 0.0020 - val_mean_absolute_error: 0.0339\n",
      "Epoch 23/1000\n",
      "60000/60000 [==============================] - 9s 147us/step - loss: 0.0067 - mean_squared_error: 0.0067 - mean_absolute_error: 0.0617 - val_loss: 0.0021 - val_mean_squared_error: 0.0021 - val_mean_absolute_error: 0.0347\n",
      "Epoch 24/1000\n",
      "60000/60000 [==============================] - 9s 147us/step - loss: 0.0065 - mean_squared_error: 0.0065 - mean_absolute_error: 0.0611 - val_loss: 0.0020 - val_mean_squared_error: 0.0020 - val_mean_absolute_error: 0.0341\n",
      "Epoch 25/1000\n",
      "60000/60000 [==============================] - 9s 147us/step - loss: 0.0064 - mean_squared_error: 0.0064 - mean_absolute_error: 0.0607 - val_loss: 0.0020 - val_mean_squared_error: 0.0020 - val_mean_absolute_error: 0.0341\n",
      "Epoch 26/1000\n",
      "60000/60000 [==============================] - 9s 147us/step - loss: 0.0063 - mean_squared_error: 0.0063 - mean_absolute_error: 0.0599 - val_loss: 0.0020 - val_mean_squared_error: 0.0020 - val_mean_absolute_error: 0.0335\n",
      "Epoch 27/1000\n",
      "60000/60000 [==============================] - 9s 146us/step - loss: 0.0063 - mean_squared_error: 0.0063 - mean_absolute_error: 0.0598 - val_loss: 0.0018 - val_mean_squared_error: 0.0018 - val_mean_absolute_error: 0.0325\n",
      "Epoch 28/1000\n",
      "60000/60000 [==============================] - 9s 147us/step - loss: 0.0062 - mean_squared_error: 0.0062 - mean_absolute_error: 0.0593 - val_loss: 0.0019 - val_mean_squared_error: 0.0019 - val_mean_absolute_error: 0.0331\n",
      "Epoch 29/1000\n",
      "60000/60000 [==============================] - 9s 147us/step - loss: 0.0060 - mean_squared_error: 0.0060 - mean_absolute_error: 0.0588 - val_loss: 0.0019 - val_mean_squared_error: 0.0019 - val_mean_absolute_error: 0.0330\n",
      "Epoch 30/1000\n",
      "60000/60000 [==============================] - 9s 147us/step - loss: 0.0060 - mean_squared_error: 0.0060 - mean_absolute_error: 0.0584 - val_loss: 0.0018 - val_mean_squared_error: 0.0018 - val_mean_absolute_error: 0.0323\n",
      "Epoch 31/1000\n",
      "60000/60000 [==============================] - 9s 147us/step - loss: 0.0059 - mean_squared_error: 0.0059 - mean_absolute_error: 0.0582 - val_loss: 0.0017 - val_mean_squared_error: 0.0017 - val_mean_absolute_error: 0.0312\n",
      "Epoch 32/1000\n",
      "60000/60000 [==============================] - 9s 147us/step - loss: 0.0059 - mean_squared_error: 0.0059 - mean_absolute_error: 0.0580 - val_loss: 0.0017 - val_mean_squared_error: 0.0017 - val_mean_absolute_error: 0.0314\n",
      "Epoch 33/1000\n",
      "60000/60000 [==============================] - 9s 146us/step - loss: 0.0059 - mean_squared_error: 0.0059 - mean_absolute_error: 0.0578 - val_loss: 0.0018 - val_mean_squared_error: 0.0018 - val_mean_absolute_error: 0.0322\n",
      "Epoch 34/1000\n",
      "60000/60000 [==============================] - 9s 146us/step - loss: 0.0057 - mean_squared_error: 0.0057 - mean_absolute_error: 0.0573 - val_loss: 0.0017 - val_mean_squared_error: 0.0017 - val_mean_absolute_error: 0.0313\n",
      "Epoch 35/1000\n",
      "60000/60000 [==============================] - 9s 147us/step - loss: 0.0057 - mean_squared_error: 0.0057 - mean_absolute_error: 0.0571 - val_loss: 0.0018 - val_mean_squared_error: 0.0018 - val_mean_absolute_error: 0.0328\n"
     ]
    },
    {
     "name": "stdout",
     "output_type": "stream",
     "text": [
      "Epoch 36/1000\n",
      "60000/60000 [==============================] - 9s 146us/step - loss: 0.0057 - mean_squared_error: 0.0057 - mean_absolute_error: 0.0569 - val_loss: 0.0016 - val_mean_squared_error: 0.0016 - val_mean_absolute_error: 0.0307\n",
      "Epoch 37/1000\n",
      "60000/60000 [==============================] - 9s 147us/step - loss: 0.0056 - mean_squared_error: 0.0056 - mean_absolute_error: 0.0564 - val_loss: 0.0015 - val_mean_squared_error: 0.0015 - val_mean_absolute_error: 0.0300\n",
      "Epoch 38/1000\n",
      "60000/60000 [==============================] - 9s 146us/step - loss: 0.0055 - mean_squared_error: 0.0055 - mean_absolute_error: 0.0561 - val_loss: 0.0015 - val_mean_squared_error: 0.0015 - val_mean_absolute_error: 0.0294\n",
      "Epoch 39/1000\n",
      "60000/60000 [==============================] - 9s 146us/step - loss: 0.0054 - mean_squared_error: 0.0054 - mean_absolute_error: 0.0558 - val_loss: 0.0020 - val_mean_squared_error: 0.0020 - val_mean_absolute_error: 0.0345\n",
      "Epoch 40/1000\n",
      "60000/60000 [==============================] - 9s 146us/step - loss: 0.0055 - mean_squared_error: 0.0055 - mean_absolute_error: 0.0558 - val_loss: 0.0015 - val_mean_squared_error: 0.0015 - val_mean_absolute_error: 0.0297\n",
      "Epoch 41/1000\n",
      "60000/60000 [==============================] - 9s 146us/step - loss: 0.0054 - mean_squared_error: 0.0054 - mean_absolute_error: 0.0557 - val_loss: 0.0017 - val_mean_squared_error: 0.0017 - val_mean_absolute_error: 0.0313\n",
      "Epoch 42/1000\n",
      "60000/60000 [==============================] - 9s 146us/step - loss: 0.0053 - mean_squared_error: 0.0053 - mean_absolute_error: 0.0553 - val_loss: 0.0015 - val_mean_squared_error: 0.0015 - val_mean_absolute_error: 0.0297\n",
      "Epoch 43/1000\n",
      "60000/60000 [==============================] - 9s 145us/step - loss: 0.0053 - mean_squared_error: 0.0053 - mean_absolute_error: 0.0550 - val_loss: 0.0015 - val_mean_squared_error: 0.0015 - val_mean_absolute_error: 0.0300\n",
      "Epoch 44/1000\n",
      "60000/60000 [==============================] - 9s 147us/step - loss: 0.0053 - mean_squared_error: 0.0053 - mean_absolute_error: 0.0549 - val_loss: 0.0015 - val_mean_squared_error: 0.0015 - val_mean_absolute_error: 0.0296\n",
      "Epoch 45/1000\n",
      "60000/60000 [==============================] - 9s 148us/step - loss: 0.0052 - mean_squared_error: 0.0052 - mean_absolute_error: 0.0547 - val_loss: 0.0015 - val_mean_squared_error: 0.0015 - val_mean_absolute_error: 0.0290\n",
      "Epoch 46/1000\n",
      "60000/60000 [==============================] - 9s 145us/step - loss: 0.0052 - mean_squared_error: 0.0052 - mean_absolute_error: 0.0544 - val_loss: 0.0014 - val_mean_squared_error: 0.0014 - val_mean_absolute_error: 0.0293\n",
      "Epoch 47/1000\n",
      "60000/60000 [==============================] - 9s 147us/step - loss: 0.0052 - mean_squared_error: 0.0052 - mean_absolute_error: 0.0543 - val_loss: 0.0015 - val_mean_squared_error: 0.0015 - val_mean_absolute_error: 0.0297\n",
      "Epoch 48/1000\n",
      "60000/60000 [==============================] - 9s 147us/step - loss: 0.0052 - mean_squared_error: 0.0052 - mean_absolute_error: 0.0544 - val_loss: 0.0016 - val_mean_squared_error: 0.0016 - val_mean_absolute_error: 0.0307\n",
      "Epoch 49/1000\n",
      "60000/60000 [==============================] - 9s 147us/step - loss: 0.0051 - mean_squared_error: 0.0051 - mean_absolute_error: 0.0539 - val_loss: 0.0013 - val_mean_squared_error: 0.0013 - val_mean_absolute_error: 0.0281\n",
      "Epoch 50/1000\n",
      "60000/60000 [==============================] - 9s 147us/step - loss: 0.0050 - mean_squared_error: 0.0050 - mean_absolute_error: 0.0536 - val_loss: 0.0014 - val_mean_squared_error: 0.0014 - val_mean_absolute_error: 0.0291\n",
      "Epoch 51/1000\n",
      "60000/60000 [==============================] - 9s 148us/step - loss: 0.0050 - mean_squared_error: 0.0050 - mean_absolute_error: 0.0534 - val_loss: 0.0015 - val_mean_squared_error: 0.0015 - val_mean_absolute_error: 0.0296\n",
      "Epoch 52/1000\n",
      "60000/60000 [==============================] - 9s 147us/step - loss: 0.0050 - mean_squared_error: 0.0050 - mean_absolute_error: 0.0536 - val_loss: 0.0014 - val_mean_squared_error: 0.0014 - val_mean_absolute_error: 0.0295\n",
      "Epoch 53/1000\n",
      "60000/60000 [==============================] - 9s 146us/step - loss: 0.0050 - mean_squared_error: 0.0050 - mean_absolute_error: 0.0535 - val_loss: 0.0013 - val_mean_squared_error: 0.0013 - val_mean_absolute_error: 0.0278\n",
      "Epoch 54/1000\n",
      "60000/60000 [==============================] - 9s 146us/step - loss: 0.0049 - mean_squared_error: 0.0049 - mean_absolute_error: 0.0531 - val_loss: 0.0017 - val_mean_squared_error: 0.0017 - val_mean_absolute_error: 0.0320\n",
      "Epoch 55/1000\n",
      "60000/60000 [==============================] - 9s 147us/step - loss: 0.0049 - mean_squared_error: 0.0049 - mean_absolute_error: 0.0532 - val_loss: 0.0014 - val_mean_squared_error: 0.0014 - val_mean_absolute_error: 0.0296\n",
      "Epoch 56/1000\n",
      "60000/60000 [==============================] - 9s 147us/step - loss: 0.0049 - mean_squared_error: 0.0049 - mean_absolute_error: 0.0530 - val_loss: 0.0013 - val_mean_squared_error: 0.0013 - val_mean_absolute_error: 0.0277\n",
      "Epoch 57/1000\n",
      "60000/60000 [==============================] - 9s 147us/step - loss: 0.0049 - mean_squared_error: 0.0049 - mean_absolute_error: 0.0529 - val_loss: 0.0013 - val_mean_squared_error: 0.0013 - val_mean_absolute_error: 0.0276\n",
      "Epoch 58/1000\n",
      "60000/60000 [==============================] - 9s 147us/step - loss: 0.0049 - mean_squared_error: 0.0049 - mean_absolute_error: 0.0527 - val_loss: 0.0014 - val_mean_squared_error: 0.0014 - val_mean_absolute_error: 0.0284\n",
      "Epoch 59/1000\n",
      "60000/60000 [==============================] - 9s 147us/step - loss: 0.0049 - mean_squared_error: 0.0049 - mean_absolute_error: 0.0528 - val_loss: 0.0014 - val_mean_squared_error: 0.0014 - val_mean_absolute_error: 0.0284\n",
      "Epoch 60/1000\n",
      "60000/60000 [==============================] - 9s 147us/step - loss: 0.0048 - mean_squared_error: 0.0048 - mean_absolute_error: 0.0525 - val_loss: 0.0014 - val_mean_squared_error: 0.0014 - val_mean_absolute_error: 0.0291\n",
      "Epoch 61/1000\n",
      "60000/60000 [==============================] - 9s 146us/step - loss: 0.0048 - mean_squared_error: 0.0048 - mean_absolute_error: 0.0523 - val_loss: 0.0013 - val_mean_squared_error: 0.0013 - val_mean_absolute_error: 0.0282\n",
      "Epoch 62/1000\n",
      "60000/60000 [==============================] - 9s 146us/step - loss: 0.0048 - mean_squared_error: 0.0048 - mean_absolute_error: 0.0522 - val_loss: 0.0014 - val_mean_squared_error: 0.0014 - val_mean_absolute_error: 0.0291\n",
      "Epoch 63/1000\n",
      "60000/60000 [==============================] - 9s 146us/step - loss: 0.0047 - mean_squared_error: 0.0047 - mean_absolute_error: 0.0518 - val_loss: 0.0012 - val_mean_squared_error: 0.0012 - val_mean_absolute_error: 0.0271\n",
      "Epoch 64/1000\n",
      "60000/60000 [==============================] - 9s 145us/step - loss: 0.0047 - mean_squared_error: 0.0047 - mean_absolute_error: 0.0517 - val_loss: 0.0015 - val_mean_squared_error: 0.0015 - val_mean_absolute_error: 0.0296\n",
      "Epoch 65/1000\n",
      "60000/60000 [==============================] - 9s 146us/step - loss: 0.0047 - mean_squared_error: 0.0047 - mean_absolute_error: 0.0519 - val_loss: 0.0016 - val_mean_squared_error: 0.0016 - val_mean_absolute_error: 0.0311\n",
      "Epoch 66/1000\n",
      "60000/60000 [==============================] - 9s 145us/step - loss: 0.0047 - mean_squared_error: 0.0047 - mean_absolute_error: 0.0518 - val_loss: 0.0013 - val_mean_squared_error: 0.0013 - val_mean_absolute_error: 0.0274\n",
      "Epoch 67/1000\n",
      "60000/60000 [==============================] - 9s 146us/step - loss: 0.0047 - mean_squared_error: 0.0047 - mean_absolute_error: 0.0518 - val_loss: 0.0012 - val_mean_squared_error: 0.0012 - val_mean_absolute_error: 0.0274\n",
      "Epoch 68/1000\n",
      "60000/60000 [==============================] - 9s 146us/step - loss: 0.0047 - mean_squared_error: 0.0047 - mean_absolute_error: 0.0517 - val_loss: 0.0014 - val_mean_squared_error: 0.0014 - val_mean_absolute_error: 0.0289\n",
      "Epoch 69/1000\n",
      "60000/60000 [==============================] - 9s 146us/step - loss: 0.0045 - mean_squared_error: 0.0045 - mean_absolute_error: 0.0509 - val_loss: 0.0012 - val_mean_squared_error: 0.0012 - val_mean_absolute_error: 0.0265\n",
      "Epoch 70/1000\n",
      "60000/60000 [==============================] - 9s 146us/step - loss: 0.0047 - mean_squared_error: 0.0047 - mean_absolute_error: 0.0515 - val_loss: 0.0012 - val_mean_squared_error: 0.0012 - val_mean_absolute_error: 0.0268\n"
     ]
    },
    {
     "name": "stdout",
     "output_type": "stream",
     "text": [
      "Epoch 71/1000\n",
      "60000/60000 [==============================] - 9s 147us/step - loss: 0.0046 - mean_squared_error: 0.0046 - mean_absolute_error: 0.0512 - val_loss: 0.0013 - val_mean_squared_error: 0.0013 - val_mean_absolute_error: 0.0274\n",
      "Epoch 72/1000\n",
      "60000/60000 [==============================] - 9s 146us/step - loss: 0.0046 - mean_squared_error: 0.0046 - mean_absolute_error: 0.0511 - val_loss: 0.0015 - val_mean_squared_error: 0.0015 - val_mean_absolute_error: 0.0302\n",
      "Epoch 73/1000\n",
      "60000/60000 [==============================] - 9s 147us/step - loss: 0.0046 - mean_squared_error: 0.0046 - mean_absolute_error: 0.0510 - val_loss: 0.0012 - val_mean_squared_error: 0.0012 - val_mean_absolute_error: 0.0267\n",
      "Epoch 74/1000\n",
      "60000/60000 [==============================] - 9s 146us/step - loss: 0.0046 - mean_squared_error: 0.0046 - mean_absolute_error: 0.0512 - val_loss: 0.0013 - val_mean_squared_error: 0.0013 - val_mean_absolute_error: 0.0273\n",
      "Epoch 75/1000\n",
      "60000/60000 [==============================] - 9s 147us/step - loss: 0.0045 - mean_squared_error: 0.0045 - mean_absolute_error: 0.0510 - val_loss: 0.0013 - val_mean_squared_error: 0.0013 - val_mean_absolute_error: 0.0279\n",
      "Epoch 76/1000\n",
      "60000/60000 [==============================] - 9s 145us/step - loss: 0.0045 - mean_squared_error: 0.0045 - mean_absolute_error: 0.0507 - val_loss: 0.0011 - val_mean_squared_error: 0.0011 - val_mean_absolute_error: 0.0261\n",
      "Epoch 77/1000\n",
      "60000/60000 [==============================] - 9s 146us/step - loss: 0.0045 - mean_squared_error: 0.0045 - mean_absolute_error: 0.0508 - val_loss: 0.0012 - val_mean_squared_error: 0.0012 - val_mean_absolute_error: 0.0266\n",
      "Epoch 78/1000\n",
      "60000/60000 [==============================] - 9s 146us/step - loss: 0.0045 - mean_squared_error: 0.0045 - mean_absolute_error: 0.0507 - val_loss: 0.0012 - val_mean_squared_error: 0.0012 - val_mean_absolute_error: 0.0268\n",
      "Epoch 79/1000\n",
      "60000/60000 [==============================] - 9s 146us/step - loss: 0.0045 - mean_squared_error: 0.0045 - mean_absolute_error: 0.0507 - val_loss: 0.0012 - val_mean_squared_error: 0.0012 - val_mean_absolute_error: 0.0272\n",
      "Epoch 80/1000\n",
      "60000/60000 [==============================] - 9s 146us/step - loss: 0.0045 - mean_squared_error: 0.0045 - mean_absolute_error: 0.0506 - val_loss: 0.0011 - val_mean_squared_error: 0.0011 - val_mean_absolute_error: 0.0259\n",
      "Epoch 81/1000\n",
      "60000/60000 [==============================] - 9s 146us/step - loss: 0.0045 - mean_squared_error: 0.0045 - mean_absolute_error: 0.0505 - val_loss: 0.0012 - val_mean_squared_error: 0.0012 - val_mean_absolute_error: 0.0268\n",
      "Epoch 82/1000\n",
      "60000/60000 [==============================] - 9s 146us/step - loss: 0.0044 - mean_squared_error: 0.0044 - mean_absolute_error: 0.0504 - val_loss: 0.0013 - val_mean_squared_error: 0.0013 - val_mean_absolute_error: 0.0280\n",
      "Epoch 83/1000\n",
      "60000/60000 [==============================] - 9s 147us/step - loss: 0.0045 - mean_squared_error: 0.0045 - mean_absolute_error: 0.0505 - val_loss: 0.0013 - val_mean_squared_error: 0.0013 - val_mean_absolute_error: 0.0280\n",
      "Epoch 84/1000\n",
      "60000/60000 [==============================] - 9s 147us/step - loss: 0.0045 - mean_squared_error: 0.0045 - mean_absolute_error: 0.0503 - val_loss: 0.0012 - val_mean_squared_error: 0.0012 - val_mean_absolute_error: 0.0272\n",
      "Epoch 85/1000\n",
      "60000/60000 [==============================] - 9s 146us/step - loss: 0.0044 - mean_squared_error: 0.0044 - mean_absolute_error: 0.0501 - val_loss: 0.0011 - val_mean_squared_error: 0.0011 - val_mean_absolute_error: 0.0261\n",
      "Epoch 86/1000\n",
      "60000/60000 [==============================] - 9s 147us/step - loss: 0.0044 - mean_squared_error: 0.0044 - mean_absolute_error: 0.0498 - val_loss: 0.0012 - val_mean_squared_error: 0.0012 - val_mean_absolute_error: 0.0263\n",
      "Epoch 87/1000\n",
      "60000/60000 [==============================] - 9s 146us/step - loss: 0.0044 - mean_squared_error: 0.0044 - mean_absolute_error: 0.0499 - val_loss: 0.0013 - val_mean_squared_error: 0.0013 - val_mean_absolute_error: 0.0281\n",
      "Epoch 88/1000\n",
      "60000/60000 [==============================] - 9s 146us/step - loss: 0.0044 - mean_squared_error: 0.0044 - mean_absolute_error: 0.0498 - val_loss: 0.0011 - val_mean_squared_error: 0.0011 - val_mean_absolute_error: 0.0258\n",
      "Epoch 89/1000\n",
      "60000/60000 [==============================] - 9s 147us/step - loss: 0.0044 - mean_squared_error: 0.0044 - mean_absolute_error: 0.0498 - val_loss: 0.0012 - val_mean_squared_error: 0.0012 - val_mean_absolute_error: 0.0269\n",
      "Epoch 90/1000\n",
      "60000/60000 [==============================] - 9s 147us/step - loss: 0.0043 - mean_squared_error: 0.0043 - mean_absolute_error: 0.0496 - val_loss: 0.0012 - val_mean_squared_error: 0.0012 - val_mean_absolute_error: 0.0275\n",
      "Epoch 91/1000\n",
      "60000/60000 [==============================] - 9s 146us/step - loss: 0.0044 - mean_squared_error: 0.0044 - mean_absolute_error: 0.0499 - val_loss: 0.0012 - val_mean_squared_error: 0.0012 - val_mean_absolute_error: 0.0266\n",
      "Epoch 92/1000\n",
      "60000/60000 [==============================] - 9s 146us/step - loss: 0.0043 - mean_squared_error: 0.0043 - mean_absolute_error: 0.0495 - val_loss: 0.0011 - val_mean_squared_error: 0.0011 - val_mean_absolute_error: 0.0262\n",
      "Epoch 93/1000\n",
      "60000/60000 [==============================] - 9s 146us/step - loss: 0.0043 - mean_squared_error: 0.0043 - mean_absolute_error: 0.0495 - val_loss: 0.0011 - val_mean_squared_error: 0.0011 - val_mean_absolute_error: 0.0255\n",
      "Epoch 94/1000\n",
      "60000/60000 [==============================] - 9s 147us/step - loss: 0.0043 - mean_squared_error: 0.0043 - mean_absolute_error: 0.0495 - val_loss: 0.0011 - val_mean_squared_error: 0.0011 - val_mean_absolute_error: 0.0258\n",
      "Epoch 95/1000\n",
      "60000/60000 [==============================] - 9s 146us/step - loss: 0.0043 - mean_squared_error: 0.0043 - mean_absolute_error: 0.0494 - val_loss: 0.0011 - val_mean_squared_error: 0.0011 - val_mean_absolute_error: 0.0260\n",
      "Epoch 96/1000\n",
      "60000/60000 [==============================] - 9s 146us/step - loss: 0.0043 - mean_squared_error: 0.0043 - mean_absolute_error: 0.0493 - val_loss: 0.0010 - val_mean_squared_error: 0.0010 - val_mean_absolute_error: 0.0250\n",
      "Epoch 97/1000\n",
      "60000/60000 [==============================] - 9s 146us/step - loss: 0.0043 - mean_squared_error: 0.0043 - mean_absolute_error: 0.0492 - val_loss: 0.0011 - val_mean_squared_error: 0.0011 - val_mean_absolute_error: 0.0255\n",
      "Epoch 98/1000\n",
      "60000/60000 [==============================] - 9s 147us/step - loss: 0.0042 - mean_squared_error: 0.0042 - mean_absolute_error: 0.0492 - val_loss: 0.0011 - val_mean_squared_error: 0.0011 - val_mean_absolute_error: 0.0258\n",
      "Epoch 99/1000\n",
      "60000/60000 [==============================] - 9s 146us/step - loss: 0.0042 - mean_squared_error: 0.0042 - mean_absolute_error: 0.0491 - val_loss: 0.0011 - val_mean_squared_error: 0.0011 - val_mean_absolute_error: 0.0254\n",
      "Epoch 100/1000\n",
      "60000/60000 [==============================] - 9s 146us/step - loss: 0.0043 - mean_squared_error: 0.0043 - mean_absolute_error: 0.0494 - val_loss: 0.0010 - val_mean_squared_error: 0.0010 - val_mean_absolute_error: 0.0248\n",
      "Epoch 101/1000\n",
      "60000/60000 [==============================] - 9s 147us/step - loss: 0.0042 - mean_squared_error: 0.0042 - mean_absolute_error: 0.0491 - val_loss: 0.0011 - val_mean_squared_error: 0.0011 - val_mean_absolute_error: 0.0251\n",
      "Epoch 102/1000\n",
      "60000/60000 [==============================] - 9s 146us/step - loss: 0.0042 - mean_squared_error: 0.0042 - mean_absolute_error: 0.0491 - val_loss: 0.0012 - val_mean_squared_error: 0.0012 - val_mean_absolute_error: 0.0263\n",
      "Epoch 103/1000\n",
      "60000/60000 [==============================] - 9s 147us/step - loss: 0.0042 - mean_squared_error: 0.0042 - mean_absolute_error: 0.0489 - val_loss: 0.0011 - val_mean_squared_error: 0.0011 - val_mean_absolute_error: 0.0251\n",
      "Epoch 104/1000\n",
      "60000/60000 [==============================] - 9s 147us/step - loss: 0.0042 - mean_squared_error: 0.0042 - mean_absolute_error: 0.0490 - val_loss: 9.8766e-04 - val_mean_squared_error: 9.8766e-04 - val_mean_absolute_error: 0.0244\n",
      "Epoch 105/1000\n",
      "60000/60000 [==============================] - 9s 147us/step - loss: 0.0042 - mean_squared_error: 0.0042 - mean_absolute_error: 0.0488 - val_loss: 0.0012 - val_mean_squared_error: 0.0012 - val_mean_absolute_error: 0.0265\n"
     ]
    },
    {
     "name": "stdout",
     "output_type": "stream",
     "text": [
      "Epoch 106/1000\n",
      "60000/60000 [==============================] - 9s 147us/step - loss: 0.0042 - mean_squared_error: 0.0042 - mean_absolute_error: 0.0490 - val_loss: 0.0010 - val_mean_squared_error: 0.0010 - val_mean_absolute_error: 0.0248\n",
      "Epoch 107/1000\n",
      "60000/60000 [==============================] - 9s 146us/step - loss: 0.0042 - mean_squared_error: 0.0042 - mean_absolute_error: 0.0489 - val_loss: 9.9739e-04 - val_mean_squared_error: 9.9739e-04 - val_mean_absolute_error: 0.0245\n",
      "Epoch 108/1000\n",
      "60000/60000 [==============================] - 9s 147us/step - loss: 0.0042 - mean_squared_error: 0.0042 - mean_absolute_error: 0.0487 - val_loss: 0.0011 - val_mean_squared_error: 0.0011 - val_mean_absolute_error: 0.0254\n",
      "Epoch 109/1000\n",
      "60000/60000 [==============================] - 9s 144us/step - loss: 0.0042 - mean_squared_error: 0.0042 - mean_absolute_error: 0.0485 - val_loss: 0.0011 - val_mean_squared_error: 0.0011 - val_mean_absolute_error: 0.0250\n",
      "Epoch 110/1000\n",
      "60000/60000 [==============================] - 9s 146us/step - loss: 0.0041 - mean_squared_error: 0.0041 - mean_absolute_error: 0.0484 - val_loss: 0.0012 - val_mean_squared_error: 0.0012 - val_mean_absolute_error: 0.0270\n",
      "Epoch 111/1000\n",
      "60000/60000 [==============================] - 9s 146us/step - loss: 0.0041 - mean_squared_error: 0.0041 - mean_absolute_error: 0.0484 - val_loss: 0.0012 - val_mean_squared_error: 0.0012 - val_mean_absolute_error: 0.0273\n",
      "Epoch 112/1000\n",
      "60000/60000 [==============================] - 9s 145us/step - loss: 0.0041 - mean_squared_error: 0.0041 - mean_absolute_error: 0.0482 - val_loss: 0.0012 - val_mean_squared_error: 0.0012 - val_mean_absolute_error: 0.0271\n",
      "Epoch 113/1000\n",
      "60000/60000 [==============================] - 9s 145us/step - loss: 0.0041 - mean_squared_error: 0.0041 - mean_absolute_error: 0.0484 - val_loss: 0.0014 - val_mean_squared_error: 0.0014 - val_mean_absolute_error: 0.0287\n",
      "Epoch 114/1000\n",
      "60000/60000 [==============================] - 9s 146us/step - loss: 0.0041 - mean_squared_error: 0.0041 - mean_absolute_error: 0.0481 - val_loss: 0.0011 - val_mean_squared_error: 0.0011 - val_mean_absolute_error: 0.0261\n",
      "Fitting done 1003.39046001\n"
     ]
    }
   ],
   "source": [
    "t0 = time.time()\n",
    "callbacks = [keras.callbacks.EarlyStopping(monitor='val_loss', min_delta=0, patience=10, verbose=0, mode='auto')]\n",
    "\n",
    "history = MLP.fit(X_train_3D_features.reshape(X_train_3D_features.shape[0], feature_shape), \\\n",
    "                  y_train, \\\n",
    "                  epochs=1000, \\\n",
    "                  batch_size=32, \\\n",
    "                  validation_data=(X_val_3D_features.reshape(X_val_3D_features.shape[0], feature_shape), y_val),\n",
    "                  callbacks=callbacks,\n",
    "                  verbose=True)\n",
    "print 'Fitting done', time.time()-t0"
   ]
  },
  {
   "cell_type": "code",
   "execution_count": 11,
   "metadata": {
    "collapsed": true
   },
   "outputs": [],
   "source": [
    "y_pred = MLP.predict(X_test_3D_features.reshape(X_test_3D_features.shape[0], feature_shape))"
   ]
  },
  {
   "cell_type": "code",
   "execution_count": 12,
   "metadata": {},
   "outputs": [
    {
     "data": {
      "text/plain": [
       "1.5910425575862956"
      ]
     },
     "execution_count": 12,
     "metadata": {},
     "output_type": "execute_result"
    }
   ],
   "source": [
    "import sklearn.metrics\n",
    "np.log2(sklearn.metrics.mean_absolute_error(y_pred*100, y_test*100)+.125)"
   ]
  },
  {
   "cell_type": "code",
   "execution_count": 13,
   "metadata": {},
   "outputs": [
    {
     "data": {
      "text/plain": [
       "array([[ 0.22938162],\n",
       "       [ 0.14699593],\n",
       "       [ 0.6785295 ],\n",
       "       ..., \n",
       "       [ 0.71962476],\n",
       "       [ 0.86336124],\n",
       "       [ 0.2867682 ]], dtype=float32)"
      ]
     },
     "execution_count": 13,
     "metadata": {},
     "output_type": "execute_result"
    }
   ],
   "source": [
    "y_pred"
   ]
  },
  {
   "cell_type": "code",
   "execution_count": 14,
   "metadata": {},
   "outputs": [
    {
     "data": {
      "text/plain": [
       "array([ 0.25842696,  0.14606741,  0.75280899, ...,  0.75280899,\n",
       "        0.86516851,  0.29213482], dtype=float32)"
      ]
     },
     "execution_count": 14,
     "metadata": {},
     "output_type": "execute_result"
    }
   ],
   "source": [
    "y_test"
   ]
  },
  {
   "cell_type": "code",
   "execution_count": 15,
   "metadata": {},
   "outputs": [
    {
     "data": {
      "text/plain": [
       "2.8876698"
      ]
     },
     "execution_count": 15,
     "metadata": {},
     "output_type": "execute_result"
    }
   ],
   "source": [
    "sklearn.metrics.mean_absolute_error(y_pred*100, y_test*100)"
   ]
  },
  {
   "cell_type": "code",
   "execution_count": null,
   "metadata": {
    "collapsed": true
   },
   "outputs": [],
   "source": []
  }
 ],
 "metadata": {
  "kernelspec": {
   "display_name": "Python 2",
   "language": "python",
   "name": "python2"
  },
  "language_info": {
   "codemirror_mode": {
    "name": "ipython",
    "version": 2
   },
   "file_extension": ".py",
   "mimetype": "text/x-python",
   "name": "python",
   "nbconvert_exporter": "python",
   "pygments_lexer": "ipython2",
   "version": "2.7.14"
  }
 },
 "nbformat": 4,
 "nbformat_minor": 2
}
