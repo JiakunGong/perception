{
 "cells": [
  {
   "cell_type": "code",
   "execution_count": 1,
   "metadata": {},
   "outputs": [
    {
     "name": "stdout",
     "output_type": "stream",
     "text": [
      "Populating the interactive namespace from numpy and matplotlib\n"
     ]
    }
   ],
   "source": [
    "%pylab inline\n",
    "import time"
   ]
  },
  {
   "cell_type": "code",
   "execution_count": 2,
   "metadata": {
    "collapsed": true
   },
   "outputs": [],
   "source": [
    "#\n",
    "# Cleveland and McGill: Graphical Perception, 1984\n",
    "# Figure 12\n",
    "#\n",
    "# Weber's Law: differences in encoded numerical quantities\n",
    "#"
   ]
  },
  {
   "cell_type": "code",
   "execution_count": 3,
   "metadata": {
    "collapsed": true
   },
   "outputs": [],
   "source": [
    "def create_rectangles(framed=False, size=(100,100)):\n",
    "    '''\n",
    "    '''\n",
    "    image, A_y, B_y, A_height, B_height = draw_rectangles(framed, size)\n",
    "\n",
    "    while (np.abs(A_y - B_y) < 10) or (np.abs(A_height - B_height) < 1):\n",
    "        image, A_y, B_y, A_height, B_height = draw_rectangles(framed, size)        \n",
    "    \n",
    "    if A_height > B_height:\n",
    "        label = 0\n",
    "    elif A_height < B_height:\n",
    "        label = 1\n",
    "    \n",
    "    return image, label\n",
    "    \n",
    "\n",
    "def draw_rectangles(framed, size):\n",
    "    '''\n",
    "    '''\n",
    "    image = np.zeros(size, dtype=np.int8)\n",
    "    \n",
    "    max_height = 65\n",
    "    delta = 5\n",
    "    width = 20\n",
    "    \n",
    "    A_x = 20\n",
    "    A_y = np.random.randint(size[0] - max_height)\n",
    "    A_height = np.random.randint(max_height-delta, max_height)\n",
    "    image[A_y:A_y+max_height,A_x:A_x+1] = 2\n",
    "    image[A_y:A_y+max_height,A_x+width:A_x+width+1] = 2\n",
    "    image[A_y:A_y+1,A_x:A_x+width] = 2\n",
    "    image[A_y+max_height:A_y+max_height+1,A_x:A_x+width+1] = 2\n",
    "    image[A_y+max_height-A_height:A_y+max_height+1,A_x:A_x+width+1] = 1\n",
    "    \n",
    "    B_x = 60\n",
    "    B_y = np.random.randint(size[0] - max_height)\n",
    "    B_height = np.random.randint(max_height-delta, max_height)\n",
    "    image[B_y:B_y+max_height,B_x:B_x+1] = 2\n",
    "    image[B_y:B_y+max_height,B_x+width:B_x+width+1] = 2\n",
    "    image[B_y:B_y+1,B_x:B_x+width] = 2\n",
    "    image[B_y+max_height:B_y+max_height+1,B_x:B_x+width+1] = 2    \n",
    "    image[B_y+max_height-B_height:B_y+max_height+1,B_x:B_x+width+1] = 1    \n",
    "    \n",
    "    if not framed:\n",
    "        image[image == 2] = 0\n",
    "    \n",
    "    return image, A_y, B_y, A_height, B_height\n"
   ]
  },
  {
   "cell_type": "code",
   "execution_count": 4,
   "metadata": {},
   "outputs": [
    {
     "name": "stdout",
     "output_type": "stream",
     "text": [
      "0\n"
     ]
    },
    {
     "data": {
      "text/plain": [
       "<matplotlib.image.AxesImage at 0x7ff843478310>"
      ]
     },
     "execution_count": 4,
     "metadata": {},
     "output_type": "execute_result"
    },
    {
     "data": {
      "image/png": "[encoded data removed]",
      "text/plain": [
       "<matplotlib.figure.Figure at 0x7ff843478590>"
      ]
     },
     "metadata": {},
     "output_type": "display_data"
    }
   ],
   "source": [
    "plt.figure(figsize=(10,10))\n",
    "image, label = create_rectangles(True)\n",
    "print label\n",
    "imshow(image, interpolation='nearest')"
   ]
  },
  {
   "cell_type": "code",
   "execution_count": 5,
   "metadata": {
    "collapsed": true
   },
   "outputs": [],
   "source": [
    "#\n",
    "# let's create a bunch of samples\n",
    "#\n",
    "N = 100\n",
    "\n",
    "images = np.zeros((N, 100, 100), dtype=np.bool)\n",
    "framed_images = np.zeros((N, 100, 100), dtype=np.bool)\n",
    "labels = np.zeros((N), dtype=np.bool)\n",
    "\n",
    "for n in range(N):\n",
    "    \n",
    "    framed_image, label = create_rectangles(True) # create framed image\n",
    "    # remove frame\n",
    "    image = framed_image.copy()\n",
    "    image[image == 2] = 0\n",
    "    images[n] = image.astype(np.bool)\n",
    "    \n",
    "    # harden frame\n",
    "    framed_image[framed_image == 2] = 1\n",
    "    framed_images[n] = framed_image.astype(np.bool)\n",
    "    \n",
    "    labels[n] = label\n",
    "    "
   ]
  },
  {
   "cell_type": "code",
   "execution_count": 6,
   "metadata": {},
   "outputs": [
    {
     "name": "stdout",
     "output_type": "stream",
     "text": [
      "LABEL 0\n"
     ]
    },
    {
     "data": {
      "image/png": "[encoded data removed]",
      "text/plain": [
       "<matplotlib.figure.Figure at 0x7ff84346efd0>"
      ]
     },
     "metadata": {},
     "output_type": "display_data"
    },
    {
     "data": {
      "image/png": "[encoded data removed]",
      "text/plain": [
       "<matplotlib.figure.Figure at 0x7ff84346ee50>"
      ]
     },
     "metadata": {},
     "output_type": "display_data"
    }
   ],
   "source": [
    "INDEX = 6\n",
    "imshow(framed_images[INDEX])\n",
    "plt.figure()\n",
    "imshow(images[INDEX])\n",
    "print 'LABEL', int(labels[INDEX])"
   ]
  },
  {
   "cell_type": "code",
   "execution_count": 7,
   "metadata": {},
   "outputs": [
    {
     "name": "stdout",
     "output_type": "stream",
     "text": [
      "Done after 11.2108490467 seconds\n",
      "Label 0 50073\n",
      "Label 1 49927\n"
     ]
    }
   ],
   "source": [
    "#\n",
    "# let's create a bunch of samples\n",
    "#\n",
    "N = 100000\n",
    "\n",
    "t0 = time.time()\n",
    "\n",
    "images = np.zeros((N, 100, 100), dtype=np.bool)\n",
    "framed_images = np.zeros((N, 100, 100), dtype=np.bool)\n",
    "labels = np.zeros((N), dtype=np.bool)\n",
    "\n",
    "for n in range(N):\n",
    "    \n",
    "    framed_image, label = create_rectangles(True) # create framed image\n",
    "    # remove frame\n",
    "    image = framed_image.copy()\n",
    "    image[image == 2] = 0\n",
    "    images[n] = image.astype(np.bool)\n",
    "    \n",
    "    # harden frame\n",
    "    framed_image[framed_image == 2] = 1\n",
    "    framed_images[n] = framed_image.astype(np.bool)\n",
    "    \n",
    "    labels[n] = label\n",
    "    \n",
    "print 'Done after', time.time()-t0, 'seconds'\n",
    "print 'Label 0', len(np.where(labels == 0)[0])\n",
    "print 'Label 1', len(np.where(labels == 1)[0])"
   ]
  },
  {
   "cell_type": "code",
   "execution_count": 8,
   "metadata": {},
   "outputs": [
    {
     "name": "stdout",
     "output_type": "stream",
     "text": [
      "LABEL 1\n"
     ]
    },
    {
     "data": {
      "image/png": "[encoded data removed]",
      "text/plain": [
       "<matplotlib.figure.Figure at 0x7ff83c226ed0>"
      ]
     },
     "metadata": {},
     "output_type": "display_data"
    },
    {
     "data": {
      "image/png": "[encoded data removed]",
      "text/plain": [
       "<matplotlib.figure.Figure at 0x7ff83c226b50>"
      ]
     },
     "metadata": {},
     "output_type": "display_data"
    }
   ],
   "source": [
    "INDEX = 2\n",
    "imshow(framed_images[INDEX])\n",
    "plt.figure()\n",
    "imshow(images[INDEX])\n",
    "print 'LABEL', int(labels[INDEX])"
   ]
  },
  {
   "cell_type": "code",
   "execution_count": 9,
   "metadata": {},
   "outputs": [
    {
     "name": "stderr",
     "output_type": "stream",
     "text": [
      "Using TensorFlow backend.\n"
     ]
    },
    {
     "name": "stdout",
     "output_type": "stream",
     "text": [
      "Train on 60000 samples, validate on 20000 samples\n",
      "Epoch 1/10\n",
      "60000/60000 [==============================] - 9s 143us/step - loss: 0.6523 - acc: 0.6853 - val_loss: 0.5965 - val_acc: 0.8182\n",
      "Epoch 2/10\n",
      "60000/60000 [==============================] - 9s 143us/step - loss: 0.4981 - acc: 0.9057 - val_loss: 0.3807 - val_acc: 0.9609\n",
      "Epoch 3/10\n",
      "60000/60000 [==============================] - 8s 142us/step - loss: 0.2683 - acc: 0.9863 - val_loss: 0.1763 - val_acc: 0.9996\n",
      "Epoch 4/10\n",
      "60000/60000 [==============================] - 9s 143us/step - loss: 0.1282 - acc: 0.9997 - val_loss: 0.0916 - val_acc: 1.0000\n",
      "Epoch 5/10\n",
      "60000/60000 [==============================] - 8s 141us/step - loss: 0.0715 - acc: 1.0000 - val_loss: 0.0563 - val_acc: 1.0000\n",
      "Epoch 6/10\n",
      "60000/60000 [==============================] - 9s 143us/step - loss: 0.0452 - acc: 1.0000 - val_loss: 0.0372 - val_acc: 1.0000\n",
      "Epoch 7/10\n",
      "60000/60000 [==============================] - 8s 140us/step - loss: 0.0312 - acc: 1.0000 - val_loss: 0.0262 - val_acc: 1.0000\n",
      "Epoch 8/10\n",
      "60000/60000 [==============================] - 8s 139us/step - loss: 0.0225 - acc: 1.0000 - val_loss: 0.0194 - val_acc: 1.0000\n",
      "Epoch 9/10\n",
      "60000/60000 [==============================] - 9s 142us/step - loss: 0.0172 - acc: 1.0000 - val_loss: 0.0153 - val_acc: 1.0000\n",
      "Epoch 10/10\n",
      "60000/60000 [==============================] - 8s 141us/step - loss: 0.0137 - acc: 1.0000 - val_loss: 0.0124 - val_acc: 1.0000\n",
      "20000/20000 [==============================] - 1s 60us/step\n"
     ]
    },
    {
     "data": {
      "text/plain": [
       "[0.012521193953603507, 1.0]"
      ]
     },
     "execution_count": 9,
     "metadata": {},
     "output_type": "execute_result"
    }
   ],
   "source": [
    "#\n",
    "# NN without frames\n",
    "#\n",
    "from keras import optimizers\n",
    "from keras.models import Sequential\n",
    "from keras.layers import Dense\n",
    "\n",
    "\n",
    "model = Sequential()\n",
    "model.add(Dense(12, input_dim=100*100, activation='relu'))\n",
    "model.add(Dense(8, activation='relu'))\n",
    "model.add(Dense(1, activation='sigmoid'))\n",
    "\n",
    "sgd = optimizers.SGD(lr=0.0001, decay=1e-6, momentum=0.9, nesterov=True)\n",
    "model.compile(loss='binary_crossentropy', optimizer=sgd, metrics=['accuracy'])\n",
    "\n",
    "model.fit(images[0:80000].reshape(80000,100*100), labels[0:80000], epochs=10, validation_split=0.25)\n",
    "model.evaluate(images[80000:].reshape(20000,100*100), labels[80000:])"
   ]
  },
  {
   "cell_type": "code",
   "execution_count": 10,
   "metadata": {},
   "outputs": [
    {
     "name": "stdout",
     "output_type": "stream",
     "text": [
      "Train on 60000 samples, validate on 20000 samples\n",
      "Epoch 1/10\n",
      "60000/60000 [==============================] - 8s 141us/step - loss: 0.6438 - acc: 0.6199 - val_loss: 0.5542 - val_acc: 0.9150\n",
      "Epoch 2/10\n",
      "60000/60000 [==============================] - 8s 142us/step - loss: 0.4047 - acc: 0.9354 - val_loss: 0.2475 - val_acc: 0.9970\n",
      "Epoch 3/10\n",
      "60000/60000 [==============================] - 8s 141us/step - loss: 0.1667 - acc: 0.9993 - val_loss: 0.1095 - val_acc: 1.0000\n",
      "Epoch 4/10\n",
      "60000/60000 [==============================] - 9s 143us/step - loss: 0.0816 - acc: 1.0000 - val_loss: 0.0620 - val_acc: 1.0000\n",
      "Epoch 5/10\n",
      "60000/60000 [==============================] - 8s 141us/step - loss: 0.0480 - acc: 1.0000 - val_loss: 0.0393 - val_acc: 1.0000\n",
      "Epoch 6/10\n",
      "60000/60000 [==============================] - 9s 143us/step - loss: 0.0321 - acc: 1.0000 - val_loss: 0.0267 - val_acc: 1.0000\n",
      "Epoch 7/10\n",
      "60000/60000 [==============================] - 9s 142us/step - loss: 0.0231 - acc: 1.0000 - val_loss: 0.0199 - val_acc: 1.0000\n",
      "Epoch 8/10\n",
      "60000/60000 [==============================] - 9s 142us/step - loss: 0.0176 - acc: 1.0000 - val_loss: 0.0156 - val_acc: 1.0000\n",
      "Epoch 9/10\n",
      "60000/60000 [==============================] - 9s 142us/step - loss: 0.0139 - acc: 1.0000 - val_loss: 0.0126 - val_acc: 1.0000\n",
      "Epoch 10/10\n",
      "60000/60000 [==============================] - 8s 140us/step - loss: 0.0114 - acc: 1.0000 - val_loss: 0.0104 - val_acc: 1.0000\n",
      "20000/20000 [==============================] - 1s 60us/step\n"
     ]
    },
    {
     "data": {
      "text/plain": [
       "[0.010413902670890093, 1.0]"
      ]
     },
     "execution_count": 10,
     "metadata": {},
     "output_type": "execute_result"
    }
   ],
   "source": [
    "#\n",
    "# NN with frames\n",
    "#\n",
    "from keras import optimizers\n",
    "from keras.models import Sequential\n",
    "from keras.layers import Dense\n",
    "\n",
    "\n",
    "model = Sequential()\n",
    "model.add(Dense(12, input_dim=100*100, activation='relu'))\n",
    "model.add(Dense(8, activation='relu'))\n",
    "model.add(Dense(1, activation='sigmoid'))\n",
    "\n",
    "sgd = optimizers.SGD(lr=0.0001, decay=1e-6, momentum=0.9, nesterov=True)\n",
    "model.compile(loss='binary_crossentropy', optimizer=sgd, metrics=['accuracy'])\n",
    "\n",
    "model.fit(framed_images[0:80000].reshape(80000,100*100), labels[0:80000], epochs=10, validation_split=0.25)\n",
    "model.evaluate(framed_images[80000:].reshape(20000,100*100), labels[80000:])"
   ]
  },
  {
   "cell_type": "code",
   "execution_count": null,
   "metadata": {
    "collapsed": true
   },
   "outputs": [],
   "source": []
  }
 ],
 "metadata": {
  "kernelspec": {
   "display_name": "Python 2",
   "language": "python",
   "name": "python2"
  },
  "language_info": {
   "codemirror_mode": {
    "name": "ipython",
    "version": 2
   },
   "file_extension": ".py",
   "mimetype": "text/x-python",
   "name": "python",
   "nbconvert_exporter": "python",
   "pygments_lexer": "ipython2",
   "version": "2.7.14"
  }
 },
 "nbformat": 4,
 "nbformat_minor": 2
}
